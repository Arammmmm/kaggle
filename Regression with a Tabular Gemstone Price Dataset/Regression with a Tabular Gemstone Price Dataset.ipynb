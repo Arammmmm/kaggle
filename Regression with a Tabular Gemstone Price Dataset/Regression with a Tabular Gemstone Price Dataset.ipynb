{
 "cells": [
  {
   "cell_type": "markdown",
   "id": "8f79a378",
   "metadata": {
    "papermill": {
     "duration": 0.006326,
     "end_time": "2023-03-07T01:37:25.571929",
     "exception": false,
     "start_time": "2023-03-07T01:37:25.565603",
     "status": "completed"
    },
    "tags": []
   },
   "source": [
    "Nice to meet you, I'm about to publish my notebook and this is my first attempt, so I hope you will be kind.I would appreciate it if you could tell me what I can do to improve it.\n",
    "I basically followed @tetsu2131 notebook, so I'll elaborate on the differences.\n",
    "https://www.kaggle.com/code/tetsutani/ps3e8-xgb-lgbm-cat-ensemble-baseline\n",
    "Thanks for @tetsu2131.\n",
    "\n",
    "I got a big shake down this time. If anyone can tell me why, I'd be glad to hear from you."
   ]
  },
  {
   "cell_type": "code",
   "execution_count": 1,
   "id": "f8be60d4",
   "metadata": {
    "execution": {
     "iopub.execute_input": "2023-03-07T01:37:25.584719Z",
     "iopub.status.busy": "2023-03-07T01:37:25.583839Z",
     "iopub.status.idle": "2023-03-07T01:37:28.526034Z",
     "shell.execute_reply": "2023-03-07T01:37:28.525070Z"
    },
    "papermill": {
     "duration": 2.951492,
     "end_time": "2023-03-07T01:37:28.528713",
     "exception": false,
     "start_time": "2023-03-07T01:37:25.577221",
     "status": "completed"
    },
    "tags": []
   },
   "outputs": [],
   "source": [
    "# Import necessary libraries\n",
    "import numpy as np\n",
    "import pandas as pd\n",
    "import matplotlib.pyplot as plt\n",
    "import seaborn as sns\n",
    "import random\n",
    "import os\n",
    "from copy import deepcopy\n",
    "from functools import partial\n",
    "from itertools import combinations\n",
    "\n",
    "# Import sklearn classes for model selection, cross validation, and performance evaluation\n",
    "from sklearn.base import BaseEstimator, TransformerMixin\n",
    "from sklearn.model_selection import train_test_split\n",
    "from sklearn.model_selection import StratifiedKFold, KFold\n",
    "from sklearn.metrics import roc_auc_score, accuracy_score, mean_squared_error\n",
    "from sklearn.preprocessing import StandardScaler\n",
    "import seaborn as sns\n",
    "from category_encoders import OneHotEncoder, OrdinalEncoder, CountEncoder\n",
    "\n",
    "# Import libraries for Hypertuning\n",
    "import optuna\n",
    "\n",
    "# Import libraries for gradient boosting\n",
    "import xgboost as xgb\n",
    "import lightgbm as lgb\n",
    "from sklearn.ensemble import RandomForestClassifier\n",
    "from catboost import CatBoost, CatBoostRegressor, CatBoostClassifier\n",
    "from catboost import Pool\n",
    "\n",
    "# Suppress warnings\n",
    "import warnings\n",
    "warnings.filterwarnings(\"ignore\", category=UserWarning)"
   ]
  },
  {
   "cell_type": "markdown",
   "id": "23964d18",
   "metadata": {
    "papermill": {
     "duration": 0.005039,
     "end_time": "2023-03-07T01:37:28.539317",
     "exception": false,
     "start_time": "2023-03-07T01:37:28.534278",
     "status": "completed"
    },
    "tags": []
   },
   "source": [
    "### Load Data"
   ]
  },
  {
   "cell_type": "code",
   "execution_count": 2,
   "id": "33df4d34",
   "metadata": {
    "execution": {
     "iopub.execute_input": "2023-03-07T01:37:28.552230Z",
     "iopub.status.busy": "2023-03-07T01:37:28.550760Z",
     "iopub.status.idle": "2023-03-07T01:37:29.060391Z",
     "shell.execute_reply": "2023-03-07T01:37:29.059345Z"
    },
    "papermill": {
     "duration": 0.519531,
     "end_time": "2023-03-07T01:37:29.064017",
     "exception": false,
     "start_time": "2023-03-07T01:37:28.544486",
     "status": "completed"
    },
    "tags": []
   },
   "outputs": [
    {
     "name": "stdout",
     "output_type": "stream",
     "text": [
      "carat             0.51\n",
      "cut            Premium\n",
      "color                G\n",
      "clarity            VS2\n",
      "depth             61.8\n",
      "table             58.0\n",
      "x                  5.2\n",
      "y                 5.13\n",
      "z                 31.3\n",
      "price             1447\n",
      "is_original      False\n",
      "Name: 167044, dtype: object\n",
      "carat           0.51\n",
      "cut            Ideal\n",
      "color              G\n",
      "clarity          VS2\n",
      "depth           61.6\n",
      "table           54.0\n",
      "x               5.15\n",
      "y               5.17\n",
      "z               31.8\n",
      "is_original    False\n",
      "Name: 204824, dtype: object\n",
      "carat           1.07\n",
      "cut            Ideal\n",
      "color              H\n",
      "clarity          SI1\n",
      "depth           61.3\n",
      "table           57.0\n",
      "x               6.57\n",
      "y               6.62\n",
      "z               1.05\n",
      "price           5125\n",
      "is_original    False\n",
      "Name: 83284, dtype: object\n",
      "carat             2.01\n",
      "cut            Premium\n",
      "color                I\n",
      "clarity            VS1\n",
      "depth             59.1\n",
      "table             60.0\n",
      "x                 8.28\n",
      "y                 8.21\n",
      "z                 8.18\n",
      "price            17640\n",
      "is_original      False\n",
      "Name: 17041, dtype: object\n",
      "carat              2.1\n",
      "cut            Premium\n",
      "color                H\n",
      "clarity             I1\n",
      "depth             61.1\n",
      "table             57.0\n",
      "x                 8.42\n",
      "y                 8.28\n",
      "z                 8.35\n",
      "price            12512\n",
      "is_original      False\n",
      "Name: 94237, dtype: object\n",
      "carat           2.22\n",
      "cut            Ideal\n",
      "color              G\n",
      "clarity          VS2\n",
      "depth           61.8\n",
      "table           57.0\n",
      "x               8.36\n",
      "y               8.32\n",
      "z                8.4\n",
      "price          18736\n",
      "is_original    False\n",
      "Name: 127668, dtype: object\n",
      "carat           2.02\n",
      "cut            Ideal\n",
      "color              F\n",
      "clarity           I1\n",
      "depth           60.7\n",
      "table           54.0\n",
      "x               8.16\n",
      "y               8.05\n",
      "z               8.11\n",
      "is_original    False\n",
      "Name: 219059, dtype: object\n"
     ]
    }
   ],
   "source": [
    "df_train = pd.read_csv('data/train.csv',index_col='id')\n",
    "df_train['is_original']= False\n",
    "df_test = pd.read_csv('data/test.csv',index_col='id')\n",
    "df_test['is_original']= False\n",
    "\n",
    "print(df_train.loc[167044,])\n",
    "df_train.loc[167044,'z']=3.13\n",
    "print(df_test.loc[204824,])\n",
    "df_test.loc[204824,'z']=3.18\n",
    "print(df_train.loc[83284,])\n",
    "df_train.loc[83284,'z']=4.04\n",
    "print(df_train.loc[17041,])\n",
    "df_train.loc[17041,'z']=4.87\n",
    "print(df_train.loc[94237,])\n",
    "df_train.loc[94237,'z']=5.1\n",
    "print(df_train.loc[127668,])\n",
    "df_train.loc[127668,'z']=5.15\n",
    "print(df_test.loc[219059,])\n",
    "df_test.loc[219059,'z']=4.91\n",
    "\n"
   ]
  },
  {
   "cell_type": "markdown",
   "id": "c4dfbeac",
   "metadata": {
    "papermill": {
     "duration": 0.005273,
     "end_time": "2023-03-07T01:37:29.075240",
     "exception": false,
     "start_time": "2023-03-07T01:37:29.069967",
     "status": "completed"
    },
    "tags": []
   },
   "source": [
    "I have retyped the values that are considered to be typos based on the estimated depth(2*z/(x+y)) error. However, this in turn made the PB results worse."
   ]
  },
  {
   "cell_type": "code",
   "execution_count": 3,
   "id": "309757c8",
   "metadata": {
    "execution": {
     "iopub.execute_input": "2023-03-07T01:37:29.087940Z",
     "iopub.status.busy": "2023-03-07T01:37:29.087629Z",
     "iopub.status.idle": "2023-03-07T01:37:29.333375Z",
     "shell.execute_reply": "2023-03-07T01:37:29.332376Z"
    },
    "papermill": {
     "duration": 0.255013,
     "end_time": "2023-03-07T01:37:29.335782",
     "exception": false,
     "start_time": "2023-03-07T01:37:29.080769",
     "status": "completed"
    },
    "tags": []
   },
   "outputs": [],
   "source": [
    "original = pd.read_csv('data/cubic_zirconia.csv',index_col=[0])\n",
    "\n",
    "# depth has missing values\n",
    "original = original[-original.depth.isna()]\n",
    "df_train = pd.concat([df_train, original]).drop_duplicates()"
   ]
  },
  {
   "cell_type": "code",
   "execution_count": 4,
   "id": "16ce2fa0",
   "metadata": {
    "execution": {
     "iopub.execute_input": "2023-03-07T01:37:29.348874Z",
     "iopub.status.busy": "2023-03-07T01:37:29.348214Z",
     "iopub.status.idle": "2023-03-07T01:37:29.389552Z",
     "shell.execute_reply": "2023-03-07T01:37:29.388356Z"
    },
    "papermill": {
     "duration": 0.05058,
     "end_time": "2023-03-07T01:37:29.392102",
     "exception": false,
     "start_time": "2023-03-07T01:37:29.341522",
     "status": "completed"
    },
    "tags": []
   },
   "outputs": [
    {
     "name": "stdout",
     "output_type": "stream",
     "text": [
      "X_train shape :(219809, 10) , y_train shape :(219809,)\n",
      "X_test shape :(129050, 10)\n"
     ]
    }
   ],
   "source": [
    "# Drop the columns 'price' and 'id' from the training data\n",
    "target_col = 'price'\n",
    "X_train = df_train.drop([f'{target_col}'],axis=1).reset_index(drop=True)\n",
    "y_train = df_train[f'{target_col}'].reset_index(drop=True)\n",
    "X_test = df_test.reset_index(drop=True)\n",
    "\n",
    "print(f\"X_train shape :{X_train.shape} , y_train shape :{y_train.shape}\")\n",
    "print(f\"X_test shape :{X_test.shape}\")\n",
    "\n",
    "del df_train, df_test"
   ]
  },
  {
   "cell_type": "markdown",
   "id": "4bec6f51",
   "metadata": {
    "papermill": {
     "duration": 0.005272,
     "end_time": "2023-03-07T01:37:29.402974",
     "exception": false,
     "start_time": "2023-03-07T01:37:29.397702",
     "status": "completed"
    },
    "tags": []
   },
   "source": [
    "### Aggregate Featrues"
   ]
  },
  {
   "cell_type": "code",
   "execution_count": 5,
   "id": "d202e1b5",
   "metadata": {
    "execution": {
     "iopub.execute_input": "2023-03-07T01:37:29.415182Z",
     "iopub.status.busy": "2023-03-07T01:37:29.414847Z",
     "iopub.status.idle": "2023-03-07T01:37:29.424711Z",
     "shell.execute_reply": "2023-03-07T01:37:29.423783Z"
    },
    "papermill": {
     "duration": 0.018309,
     "end_time": "2023-03-07T01:37:29.426728",
     "exception": false,
     "start_time": "2023-03-07T01:37:29.408419",
     "status": "completed"
    },
    "tags": []
   },
   "outputs": [],
   "source": [
    "class AggFeatureExtractor(BaseEstimator, TransformerMixin):\n",
    "    \n",
    "    def __init__(self, group_col, agg_col, agg_func):\n",
    "        self.group_col = group_col\n",
    "        self.group_col_name = ''\n",
    "        for col in group_col:\n",
    "            self.group_col_name += col\n",
    "        self.agg_col = agg_col\n",
    "        self.agg_func = agg_func\n",
    "        self.agg_df = None\n",
    "        self.medians = None\n",
    "        \n",
    "    def fit(self, X, y=None):\n",
    "        group_col = self.group_col\n",
    "        agg_col = self.agg_col\n",
    "        agg_func = self.agg_func\n",
    "        \n",
    "        self.agg_df = X.groupby(group_col)[agg_col].agg(agg_func)\n",
    "        self.agg_df.columns = [f'{self.group_col_name}_{agg}_{_agg_col}' for _agg_col in agg_col for agg in agg_func]\n",
    "        self.medians = X[agg_col].median()\n",
    "        \n",
    "        return self\n",
    "    \n",
    "    def transform(self, X):\n",
    "        group_col = self.group_col\n",
    "        agg_col = self.agg_col\n",
    "        agg_func = self.agg_func\n",
    "        agg_df = self.agg_df\n",
    "        medians = self.medians\n",
    "        \n",
    "        X_merged = pd.merge(X, agg_df, left_on=group_col, right_index=True, how='left')\n",
    "        X_merged.fillna(medians, inplace=True)\n",
    "        X_agg = X_merged.loc[:, [f'{self.group_col_name}_{agg}_{_agg_col}' for _agg_col in agg_col for agg in agg_func]]\n",
    "        \n",
    "        return X_agg\n",
    "    \n",
    "    def fit_transform(self, X, y=None):\n",
    "        self.fit(X, y)\n",
    "        X_agg = self.transform(X)\n",
    "        return X_agg"
   ]
  },
  {
   "cell_type": "code",
   "execution_count": 6,
   "id": "aef3ac9b",
   "metadata": {
    "execution": {
     "iopub.execute_input": "2023-03-07T01:37:29.439893Z",
     "iopub.status.busy": "2023-03-07T01:37:29.439302Z",
     "iopub.status.idle": "2023-03-07T01:37:29.459619Z",
     "shell.execute_reply": "2023-03-07T01:37:29.458768Z"
    },
    "papermill": {
     "duration": 0.029165,
     "end_time": "2023-03-07T01:37:29.461595",
     "exception": false,
     "start_time": "2023-03-07T01:37:29.432430",
     "status": "completed"
    },
    "tags": []
   },
   "outputs": [],
   "source": [
    "class Preprocessor:\n",
    "    def __init__(self, agg_col, agg_func, group_cols, comb_cat_cols, oh_cat_cols, ce_cat_cols):\n",
    "        self.agg_col = agg_col\n",
    "        self.agg_func = agg_func\n",
    "        self.group_cols = group_cols\n",
    "        self.comb_cat_cols = comb_cat_cols\n",
    "        self.oh_cat_cols = oh_cat_cols\n",
    "        self.ce_cat_cols = ce_cat_cols\n",
    "        \n",
    "    def preprocess(self, X_train, X_test):\n",
    "        X_train = self.create_feature(X_train)\n",
    "        X_test = self.create_feature(X_test)\n",
    "        \n",
    "        agg_train, agg_test = [], []\n",
    "        for group_col in self.group_cols:\n",
    "            agg_extractor = AggFeatureExtractor(group_col=group_col, agg_col=self.agg_col, agg_func=self.agg_func)\n",
    "            agg_extractor.fit(pd.concat([X_train, X_test], axis=0))\n",
    "            agg_train.append(agg_extractor.transform(X_train))\n",
    "            agg_test.append(agg_extractor.transform(X_test))\n",
    "        X_train = pd.concat([X_train] + agg_train, axis=1)\n",
    "        X_test = pd.concat([X_test] + agg_test, axis=1)\n",
    "\n",
    "        # create_categorical_combinations\n",
    "        X_train, _ = self.create_categorical_combinations(X_train, self.comb_cat_cols)\n",
    "        X_test, _ = self.create_categorical_combinations(X_test, self.comb_cat_cols)\n",
    "        \n",
    "        # OneHotEncoder\n",
    "        onehot_train, onehot_test = self.encode_categorical_features(X_train, X_test, self.oh_cat_cols, encoder_type='onehot')\n",
    "\n",
    "        # CountEncoder\n",
    "        count_train, count_test = self.encode_categorical_features(X_train, X_test, self.ce_cat_cols, encoder_type='count')\n",
    "\n",
    "        X_train = pd.concat([X_train, onehot_train, count_train], axis=1).drop(self.ce_cat_cols, axis=1)\n",
    "        X_test = pd.concat([X_test, onehot_test, count_test], axis=1).drop(self.ce_cat_cols, axis=1)\n",
    "        \n",
    "        return X_train, X_test\n",
    "        \n",
    "    def create_feature(self, df):\n",
    "        df.loc[(df['z']==0)&(df['x']!=0)&(df['y']!=0),'z']=df.loc[df['z']==0,'carat']/(0.0061*df.loc[df['z']==0,'x']*df.loc[df['z']==0,'y'])\n",
    "        df.loc[(df['x']==0)&(df['y']!=0),'x']=6.792\n",
    "        df.loc[(df['x']==0)&(df['y']!=0),'z']=2.548\n",
    "        df=df.replace(0,np.nan)\n",
    "        \n",
    "        cut_map = {'Premium':4, 'Ideal':3, 'Very Good':2, 'Good':1, 'Fair':0}\n",
    "        color_map = {'D':6, 'E':5, 'F':4, 'G':3, 'H':2, 'I':1, 'J':0}\n",
    "        clarity_map = {'IF':9, 'VVS1':8, 'VVS2':7, 'VS1':6, 'VS2':5, 'SI1':4, 'SI2': 3, 'I1':2} \n",
    "\n",
    "        df['cut'] = df['cut'].map(cut_map)\n",
    "        df['color'] = df['color'].map(color_map)\n",
    "        df['clarity'] = df['clarity'].map(clarity_map)\n",
    "        \n",
    "        \n",
    "        df['carat_e']=np.floor(4*df['carat'])/4\n",
    "        print(df['carat_e'].describe())\n",
    "        df['carat_e']=10*(df['carat']-df['carat_e'])/11+df['carat_e']\n",
    "        df=df.drop(columns=['carat'])\n",
    "        \n",
    "        return df\n",
    "\n",
    "    def create_categorical_combinations(self, df, categorical_columns, max_pattern=3):\n",
    "        cols = []\n",
    "        for comb in range(len(categorical_columns)):\n",
    "            for col in combinations(categorical_columns, comb+1):\n",
    "                if len(list(col)) > max_pattern:\n",
    "                    break\n",
    "                if len(list(col)) > 1:\n",
    "                    col_names = list(col)\n",
    "                    new_col = '_'.join(col_names)\n",
    "                    df[new_col] = df[col_names[0]].astype(str)\n",
    "                    for c in col_names[1:]:\n",
    "                        df[new_col] = df[new_col] + '_' + df[c].astype(str)\n",
    "                cols.append('_'.join(col))\n",
    "        return df, cols\n",
    "    \n",
    "    def encode_categorical_features(self, X_train, X_test, categorical_columns, encoder_type):\n",
    "        if encoder_type == 'onehot':\n",
    "            encoder = OneHotEncoder(cols=categorical_columns)\n",
    "            train_encoder = encoder.fit_transform(X_train[categorical_columns]).add_suffix('_ohe')\n",
    "            test_encoder = encoder.transform(X_test[categorical_columns]).add_suffix('_ohe')\n",
    "        elif encoder_type == 'count':\n",
    "            encoder = CountEncoder(cols=categorical_columns)\n",
    "            train_encoder = encoder.fit_transform(X_train[categorical_columns]).add_suffix('_count')\n",
    "            test_encoder = encoder.transform(X_test[categorical_columns]).add_suffix('_count')\n",
    "        else:\n",
    "            raise ValueError(\"Unsupported encoder type. Available options: 'onehot', 'count'\")\n",
    "\n",
    "        return train_encoder, test_encoder"
   ]
  },
  {
   "cell_type": "markdown",
   "id": "60af4901",
   "metadata": {
    "papermill": {
     "duration": 0.005244,
     "end_time": "2023-03-07T01:37:29.472238",
     "exception": false,
     "start_time": "2023-03-07T01:37:29.466994",
     "status": "completed"
    },
    "tags": []
   },
   "source": [
    "Zeros in x,y,x were taken as missing values.\n",
    "For train, if y is 0, x and z are also 0. If x is 0, z is 0.\n",
    "For test, if x is 0, then y and z are also 0. If y is 0, then x and z are also 0.Therefore, I decided to fill in only the ones that can be calculated from the carat and depth.This improved LB considerably.\n",
    "\n",
    "Next is the introduction of carat_e. This is a feature of the carat, which represents the tendency of the value to increase by about 20% for every 0.25. This has improved the LB.\n",
    "\n",
    "Increasing the number of features did not improve the score very much."
   ]
  },
  {
   "cell_type": "code",
   "execution_count": 7,
   "id": "20c05e6a",
   "metadata": {
    "execution": {
     "iopub.execute_input": "2023-03-07T01:37:29.484506Z",
     "iopub.status.busy": "2023-03-07T01:37:29.483890Z",
     "iopub.status.idle": "2023-03-07T01:37:37.178449Z",
     "shell.execute_reply": "2023-03-07T01:37:37.176352Z"
    },
    "papermill": {
     "duration": 7.703203,
     "end_time": "2023-03-07T01:37:37.180790",
     "exception": false,
     "start_time": "2023-03-07T01:37:29.477587",
     "status": "completed"
    },
    "tags": []
   },
   "outputs": [
    {
     "name": "stdout",
     "output_type": "stream",
     "text": [
      "count    219809.000000\n",
      "mean          0.700438\n",
      "std           0.476778\n",
      "min           0.000000\n",
      "25%           0.250000\n",
      "50%           0.500000\n",
      "75%           1.000000\n",
      "max           4.500000\n",
      "Name: carat_e, dtype: float64\n",
      "count    129050.000000\n",
      "mean          0.698514\n",
      "std           0.475203\n",
      "min           0.000000\n",
      "25%           0.250000\n",
      "50%           0.500000\n",
      "75%           1.000000\n",
      "max           4.500000\n",
      "Name: carat_e, dtype: float64\n"
     ]
    },
    {
     "name": "stderr",
     "output_type": "stream",
     "text": [
      "C:\\Users\\USER\\AppData\\Local\\Temp\\ipykernel_17148\\455741824.py:17: FutureWarning: Behavior when concatenating bool-dtype and numeric-dtype arrays is deprecated; in a future version these will cast to object dtype (instead of coercing bools to numeric values). To retain the old behavior, explicitly cast bool-dtype arrays to numeric dtype.\n",
      "  agg_extractor.fit(pd.concat([X_train, X_test], axis=0))\n",
      "C:\\Users\\USER\\AppData\\Local\\Temp\\ipykernel_17148\\455741824.py:17: FutureWarning: Behavior when concatenating bool-dtype and numeric-dtype arrays is deprecated; in a future version these will cast to object dtype (instead of coercing bools to numeric values). To retain the old behavior, explicitly cast bool-dtype arrays to numeric dtype.\n",
      "  agg_extractor.fit(pd.concat([X_train, X_test], axis=0))\n",
      "C:\\Users\\USER\\AppData\\Local\\Temp\\ipykernel_17148\\455741824.py:17: FutureWarning: Behavior when concatenating bool-dtype and numeric-dtype arrays is deprecated; in a future version these will cast to object dtype (instead of coercing bools to numeric values). To retain the old behavior, explicitly cast bool-dtype arrays to numeric dtype.\n",
      "  agg_extractor.fit(pd.concat([X_train, X_test], axis=0))\n",
      "C:\\Users\\USER\\AppData\\Local\\Temp\\ipykernel_17148\\455741824.py:17: FutureWarning: Behavior when concatenating bool-dtype and numeric-dtype arrays is deprecated; in a future version these will cast to object dtype (instead of coercing bools to numeric values). To retain the old behavior, explicitly cast bool-dtype arrays to numeric dtype.\n",
      "  agg_extractor.fit(pd.concat([X_train, X_test], axis=0))\n",
      "C:\\Users\\USER\\AppData\\Local\\Temp\\ipykernel_17148\\455741824.py:17: FutureWarning: Behavior when concatenating bool-dtype and numeric-dtype arrays is deprecated; in a future version these will cast to object dtype (instead of coercing bools to numeric values). To retain the old behavior, explicitly cast bool-dtype arrays to numeric dtype.\n",
      "  agg_extractor.fit(pd.concat([X_train, X_test], axis=0))\n",
      "C:\\Users\\USER\\AppData\\Local\\Temp\\ipykernel_17148\\455741824.py:17: FutureWarning: Behavior when concatenating bool-dtype and numeric-dtype arrays is deprecated; in a future version these will cast to object dtype (instead of coercing bools to numeric values). To retain the old behavior, explicitly cast bool-dtype arrays to numeric dtype.\n",
      "  agg_extractor.fit(pd.concat([X_train, X_test], axis=0))\n",
      "C:\\Users\\USER\\AppData\\Local\\Temp\\ipykernel_17148\\455741824.py:17: FutureWarning: Behavior when concatenating bool-dtype and numeric-dtype arrays is deprecated; in a future version these will cast to object dtype (instead of coercing bools to numeric values). To retain the old behavior, explicitly cast bool-dtype arrays to numeric dtype.\n",
      "  agg_extractor.fit(pd.concat([X_train, X_test], axis=0))\n"
     ]
    },
    {
     "name": "stdout",
     "output_type": "stream",
     "text": [
      "X_train shape :(219809, 49) , y_train shape :(219809,)\n",
      "X_test shape :(129050, 49)\n",
      "CPU times: total: 4.66 s\n",
      "Wall time: 4.96 s\n"
     ]
    }
   ],
   "source": [
    "%%time\n",
    "agg_col = ['carat_e']#['area_carat'], 'volume', 'density', 'depth_per_volume', 'depth_per_density', 'depth_per_table']\n",
    "agg_func = ['mean', 'std']\n",
    "group_cols = [['cut'], ['color'], ['clarity'], ['cut', 'color'], ['cut', 'clarity'], ['color', 'clarity'], ['cut', 'color', 'clarity']]\n",
    "comb_categorical_columns = ['cut', 'color', 'clarity']\n",
    "oh_categorical_columns = ['cut', 'color', 'clarity', 'is_original']\n",
    "ce_categorical_columns = ['cut', 'color', 'clarity', 'is_original', 'cut_color', 'cut_clarity', 'color_clarity', 'cut_color_clarity']\n",
    "\n",
    "pp = Preprocessor(agg_col, agg_func, group_cols, comb_categorical_columns, oh_categorical_columns, ce_categorical_columns)\n",
    "X_train, X_test = pp.preprocess(X_train, X_test)\n",
    "\n",
    "print(f\"X_train shape :{X_train.shape} , y_train shape :{y_train.shape}\")\n",
    "print(f\"X_test shape :{X_test.shape}\")"
   ]
  },
  {
   "cell_type": "markdown",
   "id": "33eba835",
   "metadata": {
    "papermill": {
     "duration": 0.005307,
     "end_time": "2023-03-07T01:37:37.191914",
     "exception": false,
     "start_time": "2023-03-07T01:37:37.186607",
     "status": "completed"
    },
    "tags": []
   },
   "source": [
    "Many people put many things in agg_col, but I think only carat_e was the best. If anyone has a better method, please let me know."
   ]
  },
  {
   "cell_type": "markdown",
   "id": "270a8946",
   "metadata": {
    "papermill": {
     "duration": 0.00522,
     "end_time": "2023-03-07T01:37:37.202566",
     "exception": false,
     "start_time": "2023-03-07T01:37:37.197346",
     "status": "completed"
    },
    "tags": []
   },
   "source": [
    "### Split Data"
   ]
  },
  {
   "cell_type": "code",
   "execution_count": 17,
   "id": "c472fa11",
   "metadata": {
    "execution": {
     "iopub.execute_input": "2023-03-07T01:37:37.214820Z",
     "iopub.status.busy": "2023-03-07T01:37:37.214529Z",
     "iopub.status.idle": "2023-03-07T01:37:37.222753Z",
     "shell.execute_reply": "2023-03-07T01:37:37.221725Z"
    },
    "papermill": {
     "duration": 0.016783,
     "end_time": "2023-03-07T01:37:37.224778",
     "exception": false,
     "start_time": "2023-03-07T01:37:37.207995",
     "status": "completed"
    },
    "tags": []
   },
   "outputs": [],
   "source": [
    "class Splitter:\n",
    "    def __init__(self, test_size=0.2, kfold=True, n_splits=3):\n",
    "        self.test_size = test_size\n",
    "        self.kfold = kfold\n",
    "        self.n_splits = n_splits\n",
    "\n",
    "    def split_data(self, X, y, random_state_list):\n",
    "        if self.kfold:\n",
    "            for random_state in random_state_list:\n",
    "                kf = KFold(n_splits=self.n_splits, random_state=random_state, shuffle=True)\n",
    "                for train_index, val_index in kf.split(X, y):\n",
    "                    X_train, X_val = X.iloc[train_index], X.iloc[val_index]\n",
    "                    y_train, y_val = y.iloc[train_index], y.iloc[val_index]\n",
    "                    yield X_train, X_val, y_train, y_val\n",
    "        else:\n",
    "            for random_state in random_state_list:\n",
    "                X_train, X_val, y_train, y_val = train_test_split(X, y, test_size=self.test_size, random_state=random_state)\n",
    "                yield X_train, X_val, y_train, y_val\n",
    "\n",
    "kfold = True\n",
    "n_splits = 5\n",
    "random_state = 2023\n",
    "random_state_list = [42, 71, 25] # split_data\n",
    "\n",
    "splitter = Splitter(kfold=kfold, n_splits=n_splits)"
   ]
  },
  {
   "cell_type": "markdown",
   "id": "0b602992",
   "metadata": {
    "papermill": {
     "duration": 0.005207,
     "end_time": "2023-03-07T01:37:37.235314",
     "exception": false,
     "start_time": "2023-03-07T01:37:37.230107",
     "status": "completed"
    },
    "tags": []
   },
   "source": [
    "### Set Hyperparameters"
   ]
  },
  {
   "cell_type": "code",
   "execution_count": 20,
   "id": "2ba71be9",
   "metadata": {
    "execution": {
     "iopub.execute_input": "2023-03-07T01:37:37.247245Z",
     "iopub.status.busy": "2023-03-07T01:37:37.246967Z",
     "iopub.status.idle": "2023-03-07T01:37:37.252822Z",
     "shell.execute_reply": "2023-03-07T01:37:37.251868Z"
    },
    "papermill": {
     "duration": 0.013992,
     "end_time": "2023-03-07T01:37:37.254731",
     "exception": false,
     "start_time": "2023-03-07T01:37:37.240739",
     "status": "completed"
    },
    "tags": []
   },
   "outputs": [],
   "source": [
    "# Hyperparameters\n",
    "n_estimators = 9999\n",
    "device = \"cpu\"\n",
    "\n",
    "xgb_params = {\n",
    "    'n_estimators': n_estimators,\n",
    "    'learning_rate': 0.05,\n",
    "    'max_depth': 10,\n",
    "    'subsample': 0.8,\n",
    "    'colsample_bytree': 0.8,\n",
    "    'objective': 'reg:squarederror'\n",
    "    \n",
    "}\n",
    "\n",
    "lgb_params = {\n",
    "    'n_estimators': n_estimators,\n",
    "    'learning_rate': 0.05,\n",
    "    'max_depth': 10,\n",
    "    'subsample_for_bin': 20000,\n",
    "    'subsample': 0.8,\n",
    "    'colsample_bytree': 0.8,\n",
    "    'objective': 'regression',\n",
    "    'device': device\n",
    "}\n",
    "\n",
    "cb_params = {\n",
    "    'n_estimators': n_estimators,\n",
    "    'learning_rate': 0.05,\n",
    "    'max_depth': 8,\n",
    "    'loss_function': 'RMSE',\n",
    "    'task_type': device.upper()\n",
    "}"
   ]
  },
  {
   "cell_type": "markdown",
   "id": "e3a46117",
   "metadata": {
    "papermill": {
     "duration": 0.005201,
     "end_time": "2023-03-07T01:37:37.265275",
     "exception": false,
     "start_time": "2023-03-07T01:37:37.260074",
     "status": "completed"
    },
    "tags": []
   },
   "source": [
    "### Model"
   ]
  },
  {
   "cell_type": "code",
   "execution_count": 10,
   "id": "9db7e8a8",
   "metadata": {
    "execution": {
     "iopub.execute_input": "2023-03-07T01:37:37.277665Z",
     "iopub.status.busy": "2023-03-07T01:37:37.276922Z",
     "iopub.status.idle": "2023-03-07T01:37:37.282807Z",
     "shell.execute_reply": "2023-03-07T01:37:37.281901Z"
    },
    "papermill": {
     "duration": 0.013965,
     "end_time": "2023-03-07T01:37:37.284747",
     "exception": false,
     "start_time": "2023-03-07T01:37:37.270782",
     "status": "completed"
    },
    "tags": []
   },
   "outputs": [],
   "source": [
    "def train_regressor(regressor, X_train, y_train, X_val, y_val, regressor_params, early_stopping_rounds=100, random_state=42):\n",
    "    regressor = regressor(**regressor_params, random_state=random_state)\n",
    "    eval_set = [(X_val, y_val)]\n",
    "    regressor.fit(X_train, y_train, early_stopping_rounds=early_stopping_rounds, eval_set=eval_set, verbose=False)\n",
    "    val_preds = regressor.predict(X_val)\n",
    "    rmse = np.sqrt(mean_squared_error(y_val, val_preds))\n",
    "    return regressor, rmse"
   ]
  },
  {
   "cell_type": "code",
   "execution_count": 21,
   "id": "7a274c0b",
   "metadata": {
    "execution": {
     "iopub.execute_input": "2023-03-07T01:37:37.296967Z",
     "iopub.status.busy": "2023-03-07T01:37:37.296168Z",
     "iopub.status.idle": "2023-03-07T02:25:25.702130Z",
     "shell.execute_reply": "2023-03-07T02:25:25.701184Z"
    },
    "papermill": {
     "duration": 2868.422621,
     "end_time": "2023-03-07T02:25:25.712694",
     "exception": false,
     "start_time": "2023-03-07T01:37:37.290073",
     "status": "completed"
    },
    "tags": []
   },
   "outputs": [
    {
     "name": "stderr",
     "output_type": "stream",
     "text": [
      "15it [11:37, 46.50s/it]\n"
     ]
    }
   ],
   "source": [
    "from tqdm import tqdm\n",
    "import time\n",
    "xgb_models, lgb_models, cb_models = [], [], []\n",
    "xgb_scores, lgb_scores, cb_scores = [], [], []\n",
    "for X_train_, X_val, y_train_, y_val in tqdm(splitter.split_data(X_train, y_train, random_state_list=random_state_list)):\n",
    "    xgb_model, xgb_rmse = train_regressor(xgb.XGBRegressor, X_train_, y_train_, X_val, y_val, xgb_params)\n",
    "    lgb_model, lgb_rmse = train_regressor(lgb.LGBMRegressor, X_train_, y_train_, X_val, y_val, lgb_params)\n",
    "    cb_model, cb_rmse = train_regressor(CatBoostRegressor, X_train_, y_train_, X_val, y_val, cb_params)\n",
    "    xgb_models.append(deepcopy(xgb_model)), lgb_models.append(deepcopy(lgb_model)), cb_models.append(deepcopy(cb_model))\n",
    "    xgb_scores.append(xgb_rmse), lgb_scores.append(lgb_rmse), cb_scores.append(cb_rmse)"
   ]
  },
  {
   "cell_type": "markdown",
   "id": "272453ca",
   "metadata": {
    "papermill": {
     "duration": 0.006266,
     "end_time": "2023-03-07T02:25:25.725882",
     "exception": false,
     "start_time": "2023-03-07T02:25:25.719616",
     "status": "completed"
    },
    "tags": []
   },
   "source": [
    "### Ensemble"
   ]
  },
  {
   "cell_type": "code",
   "execution_count": 12,
   "id": "64f972ba",
   "metadata": {
    "execution": {
     "iopub.execute_input": "2023-03-07T02:25:25.740275Z",
     "iopub.status.busy": "2023-03-07T02:25:25.739945Z",
     "iopub.status.idle": "2023-03-07T02:25:25.750550Z",
     "shell.execute_reply": "2023-03-07T02:25:25.749687Z"
    },
    "papermill": {
     "duration": 0.020307,
     "end_time": "2023-03-07T02:25:25.752614",
     "exception": false,
     "start_time": "2023-03-07T02:25:25.732307",
     "status": "completed"
    },
    "tags": []
   },
   "outputs": [],
   "source": [
    "class OptunaWeights:\n",
    "    def __init__(self, random_state):\n",
    "        self.study = None\n",
    "        self.weights = None\n",
    "        self.random_state = random_state\n",
    "\n",
    "    def _objective(self, trial, y_true, y_preds):\n",
    "        # Define the weights for the predictions from each model\n",
    "        weights = [trial.suggest_float(f\"weight{n}\", 0, 1) for n in range(len(y_preds))]\n",
    "\n",
    "        # Calculate the weighted prediction\n",
    "        weighted_pred = np.average(np.array(y_preds).T, axis=1, weights=weights)\n",
    "\n",
    "        # Calculate the ROC AUC score for the weighted prediction\n",
    "        score = np.sqrt(mean_squared_error(y_true, weighted_pred))\n",
    "        return score\n",
    "\n",
    "    def fit(self, y_true, y_preds, n_trials=300):\n",
    "        optuna.logging.set_verbosity(optuna.logging.ERROR)\n",
    "        sampler = optuna.samplers.CmaEsSampler(seed=self.random_state)\n",
    "        self.study = optuna.create_study(sampler=sampler, study_name=\"OptunaWeights\", direction='minimize')\n",
    "        objective_partial = partial(self._objective, y_true=y_true, y_preds=y_preds)\n",
    "        self.study.optimize(objective_partial, n_trials=n_trials)\n",
    "        self.weights = [self.study.best_params[f\"weight{n}\"] for n in range(len(y_preds))]\n",
    "\n",
    "    def predict(self, y_preds):\n",
    "        assert self.weights is not None, 'OptunaWeights error, must be fitted before predict'\n",
    "        weighted_pred = np.average(np.array(y_preds).T, axis=1, weights=self.weights)\n",
    "        return weighted_pred\n",
    "\n",
    "    def fit_predict(self, y_true, y_preds, n_trials=300):\n",
    "        self.fit(y_true, y_preds, n_trials=n_trials)\n",
    "        return self.predict(y_preds)\n",
    "    \n",
    "    def weights(self):\n",
    "        return self.weights"
   ]
  },
  {
   "cell_type": "code",
   "execution_count": 22,
   "id": "a2f21548",
   "metadata": {
    "execution": {
     "iopub.execute_input": "2023-03-07T02:25:25.766796Z",
     "iopub.status.busy": "2023-03-07T02:25:25.766543Z",
     "iopub.status.idle": "2023-03-07T02:26:23.727294Z",
     "shell.execute_reply": "2023-03-07T02:26:23.726223Z"
    },
    "papermill": {
     "duration": 57.970524,
     "end_time": "2023-03-07T02:26:23.729756",
     "exception": false,
     "start_time": "2023-03-07T02:25:25.759232",
     "status": "completed"
    },
    "tags": []
   },
   "outputs": [
    {
     "name": "stdout",
     "output_type": "stream",
     "text": [
      "[FOLD-0 SEED-42] RMSE score 564.88471\n",
      "[FOLD-1 SEED-42] RMSE score 564.15259\n",
      "[FOLD-2 SEED-42] RMSE score 567.56445\n",
      "[FOLD-3 SEED-42] RMSE score 563.47919\n",
      "[FOLD-4 SEED-42] RMSE score 579.13788\n",
      "[FOLD-0 SEED-71] RMSE score 562.85857\n",
      "[FOLD-1 SEED-71] RMSE score 572.12926\n",
      "[FOLD-2 SEED-71] RMSE score 566.79173\n",
      "[FOLD-3 SEED-71] RMSE score 569.72559\n",
      "[FOLD-4 SEED-71] RMSE score 564.75288\n",
      "[FOLD-0 SEED-25] RMSE score 561.33192\n",
      "[FOLD-1 SEED-25] RMSE score 569.07155\n",
      "[FOLD-2 SEED-25] RMSE score 562.75171\n",
      "[FOLD-3 SEED-25] RMSE score 560.53025\n",
      "[FOLD-4 SEED-25] RMSE score 584.34516\n",
      "Ensemble RMSE score 567.56716 ± 6.43408\n",
      "--- Model Weights ---\n",
      "XGBoost 0.39533 ± 0.15268\n",
      "LightGBM 0.55332 ± 0.14740\n",
      "CatBoost 0.64085 ± 0.10151\n"
     ]
    }
   ],
   "source": [
    "models = np.array([xgb_models, lgb_models, cb_models]).T.tolist()\n",
    "names = ['XGBoost', 'LightGBM', 'CatBoost']\n",
    "\n",
    "# Initialize variables\n",
    "test_predss = np.zeros(X_test.shape[0])\n",
    "ensemble_score = []\n",
    "weights = []\n",
    "\n",
    "# Loop through the folds\n",
    "i = 0\n",
    "for _model, (X_train_, X_val, y_train_, y_val) in zip(models, splitter.split_data(X_train, y_train, random_state_list=random_state_list)):\n",
    "    n = i % n_splits\n",
    "    m = i // n_splits\n",
    "    val_preds, test_preds, zero_test_preds = [], [], []\n",
    "    for model in _model:\n",
    "        oof_pred = model.predict(X_val.values)\n",
    "        test_pred = model.predict(X_test.values)\n",
    "        val_preds.append(oof_pred)\n",
    "        test_preds.append(test_pred)\n",
    "        \n",
    "    # Use Optuna to find the best ensemble weights\n",
    "    optweights = OptunaWeights(random_state=random_state)\n",
    "    val_pred = optweights.fit_predict(y_val.values, val_preds)\n",
    "    score = np.sqrt(mean_squared_error(y_val, val_pred))\n",
    "    print(f'[FOLD-{n} SEED-{random_state_list[m]}] RMSE score {score:.5f}')\n",
    "    ensemble_score.append(score)\n",
    "    weights.append(optweights.weights)\n",
    "    \n",
    "    # Predict on the test set using the optimized ensemble weights\n",
    "    test_predss += optweights.predict(test_preds) / (n_splits * len(random_state_list))\n",
    "    i += 1\n",
    "    \n",
    "# Calculate the mean AUC score of the ensemble\n",
    "mean_score = np.mean(ensemble_score)\n",
    "std_score = np.std(ensemble_score)\n",
    "print(f'Ensemble RMSE score {mean_score:.5f} ± {std_score:.5f}')\n",
    "\n",
    "# Print the mean and standard deviation of the ensemble weights for each model\n",
    "print('--- Model Weights ---')\n",
    "mean_weights = np.mean(weights, axis=0)\n",
    "std_weights = np.std(weights, axis=0)\n",
    "for name, mean_weight, std_weight in zip(names, mean_weights, std_weights):\n",
    "    print(f'{name} {mean_weight:.5f} ± {std_weight:.5f}')"
   ]
  },
  {
   "cell_type": "markdown",
   "id": "0a3a5c1f",
   "metadata": {
    "papermill": {
     "duration": 0.007171,
     "end_time": "2023-03-07T02:26:23.744627",
     "exception": false,
     "start_time": "2023-03-07T02:26:23.737456",
     "status": "completed"
    },
    "tags": []
   },
   "source": [
    "### Make Submission"
   ]
  },
  {
   "cell_type": "code",
   "execution_count": 23,
   "id": "fa36d1d5",
   "metadata": {
    "execution": {
     "iopub.execute_input": "2023-03-07T02:26:23.760895Z",
     "iopub.status.busy": "2023-03-07T02:26:23.760042Z",
     "iopub.status.idle": "2023-03-07T02:26:24.079536Z",
     "shell.execute_reply": "2023-03-07T02:26:24.078521Z"
    },
    "papermill": {
     "duration": 0.32998,
     "end_time": "2023-03-07T02:26:24.081819",
     "exception": false,
     "start_time": "2023-03-07T02:26:23.751839",
     "status": "completed"
    },
    "tags": []
   },
   "outputs": [],
   "source": [
    "submission_df = pd.read_csv(\"data/sample_submission.csv\", index_col='id')\n",
    "submission_df['price'] = test_predss\n",
    "submission_df.to_csv('submission.csv')"
   ]
  },
  {
   "cell_type": "code",
   "execution_count": 24,
   "id": "cef3a47e",
   "metadata": {
    "execution": {
     "iopub.execute_input": "2023-03-07T02:26:24.099166Z",
     "iopub.status.busy": "2023-03-07T02:26:24.097705Z",
     "iopub.status.idle": "2023-03-07T02:26:24.589185Z",
     "shell.execute_reply": "2023-03-07T02:26:24.588215Z"
    },
    "papermill": {
     "duration": 0.501889,
     "end_time": "2023-03-07T02:26:24.591226",
     "exception": false,
     "start_time": "2023-03-07T02:26:24.089337",
     "status": "completed"
    },
    "tags": []
   },
   "outputs": [
    {
     "data": {
      "text/plain": [
       "<Axes: xlabel='price', ylabel='Count'>"
      ]
     },
     "execution_count": 24,
     "metadata": {},
     "output_type": "execute_result"
    },
    {
     "data": {
      "image/png": "[encoded data removed]",
      "text/plain": [
       "<Figure size 640x480 with 1 Axes>"
      ]
     },
     "metadata": {},
     "output_type": "display_data"
    }
   ],
   "source": [
    "sns.histplot(submission_df.price)"
   ]
  },
  {
   "cell_type": "markdown",
   "id": "d643fc11",
   "metadata": {
    "papermill": {
     "duration": 0.009379,
     "end_time": "2023-03-07T02:26:24.608405",
     "exception": false,
     "start_time": "2023-03-07T02:26:24.599026",
     "status": "completed"
    },
    "tags": []
   },
   "source": [
    "Thanks for reading. If you have any questions or comments, please contact me!"
   ]
  }
 ],
 "metadata": {
  "kernelspec": {
   "display_name": "Python 3 (ipykernel)",
   "language": "python",
   "name": "python3"
  },
  "language_info": {
   "codemirror_mode": {
    "name": "ipython",
    "version": 3
   },
   "file_extension": ".py",
   "mimetype": "text/x-python",
   "name": "python",
   "nbconvert_exporter": "python",
   "pygments_lexer": "ipython3",
   "version": "3.9.16"
  },
  "papermill": {
   "default_parameters": {},
   "duration": 2947.720383,
   "end_time": "2023-03-07T02:26:25.751405",
   "environment_variables": {},
   "exception": null,
   "input_path": "__notebook__.ipynb",
   "output_path": "__notebook__.ipynb",
   "parameters": {},
   "start_time": "2023-03-07T01:37:18.031022",
   "version": "2.3.4"
  }
 },
 "nbformat": 4,
 "nbformat_minor": 5
}
