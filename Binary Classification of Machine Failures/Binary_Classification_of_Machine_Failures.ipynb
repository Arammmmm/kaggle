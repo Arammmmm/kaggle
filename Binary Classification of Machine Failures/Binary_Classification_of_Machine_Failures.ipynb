{
  "nbformat": 4,
  "nbformat_minor": 0,
  "metadata": {
    "colab": {
      "provenance": [],
      "gpuType": "T4"
    },
    "kernelspec": {
      "name": "python3",
      "display_name": "Python 3"
    },
    "language_info": {
      "name": "python"
    },
    "accelerator": "GPU",
    "widgets": {
      "application/vnd.jupyter.widget-state+json": {
        "802a5965bc9947e7907555862a8c71dd": {
          "model_module": "catboost-widget",
          "model_name": "CatboostWidgetModel",
          "model_module_version": "^1.0.0",
          "state": {
            "_dom_classes": [],
            "_model_module": "catboost-widget",
            "_model_module_version": "^1.0.0",
            "_model_name": "CatboostWidgetModel",
            "_view_count": null,
            "_view_module": "catboost-widget",
            "_view_module_version": "^1.0.0",
            "_view_name": "CatboostWidgetView",
            "data": {
              "catboost_info": {
                "path": "catboost_info",
                "name": "catboost_info",
                "content": {
                  "passed_iterations": 999,
                  "total_iterations": 1000,
                  "data": {
                    "iterations": [
                      {
                        "learn": [
                          0.4332513585
                        ],
                        "iteration": 0,
                        "passed_time": 0.1641056376,
                        "remaining_time": 163.941532,
                        "test": [
                          0.4332240614
                        ]
                      },
                      {
                        "learn": [
                          0.2783688413
                        ],
                        "iteration": 1,
                        "passed_time": 0.2432492143,
                        "remaining_time": 121.3813579,
                        "test": [
                          0.2783786917
                        ]
                      },
                      {
                        "learn": [
                          0.1850152962
                        ],
                        "iteration": 2,
                        "passed_time": 0.2981530455,
                        "remaining_time": 99.08619544,
                        "test": [
                          0.185085326
                        ]
                      },
                      {
                        "learn": [
                          0.1256106904
                        ],
                        "iteration": 3,
                        "passed_time": 0.3273776594,
                        "remaining_time": 81.5170372,
                        "test": [
                          0.1257100725
                        ]
                      },
                      {
                        "learn": [
                          0.0900646231
                        ],
                        "iteration": 4,
                        "passed_time": 0.3533747748,
                        "remaining_time": 70.32158018,
                        "test": [
                          0.09016267755
                        ]
                      },
                      {
                        "learn": [
                          0.06944458954
                        ],
                        "iteration": 5,
                        "passed_time": 0.3736708843,
                        "remaining_time": 61.90480983,
                        "test": [
                          0.06952276948
                        ]
                      },
                      {
                        "learn": [
                          0.0548321405
                        ],
                        "iteration": 6,
                        "passed_time": 0.4135599173,
                        "remaining_time": 58.66642826,
                        "test": [
                          0.05489892435
                        ]
                      },
                      {
                        "learn": [
                          0.04446924984
                        ],
                        "iteration": 7,
                        "passed_time": 0.4591414969,
                        "remaining_time": 56.93354562,
                        "test": [
                          0.04452559614
                        ]
                      },
                      {
                        "learn": [
                          0.03824983551
                        ],
                        "iteration": 8,
                        "passed_time": 0.4902793432,
                        "remaining_time": 53.98520323,
                        "test": [
                          0.03829594853
                        ]
                      },
                      {
                        "learn": [
                          0.03384726577
                        ],
                        "iteration": 9,
                        "passed_time": 0.5195110531,
                        "remaining_time": 51.43159426,
                        "test": [
                          0.03388592545
                        ]
                      },
                      {
                        "learn": [
                          0.03067846497
                        ],
                        "iteration": 10,
                        "passed_time": 0.5493901763,
                        "remaining_time": 49.3951713,
                        "test": [
                          0.03071108921
                        ]
                      },
                      {
                        "learn": [
                          0.0284801671
                        ],
                        "iteration": 11,
                        "passed_time": 0.5845586712,
                        "remaining_time": 48.12866393,
                        "test": [
                          0.02850842282
                        ]
                      },
                      {
                        "learn": [
                          0.0267994612
                        ],
                        "iteration": 12,
                        "passed_time": 0.6138745217,
                        "remaining_time": 46.60724253,
                        "test": [
                          0.02682367289
                        ]
                      },
                      {
                        "learn": [
                          0.02569685706
                        ],
                        "iteration": 13,
                        "passed_time": 0.6439435387,
                        "remaining_time": 45.35202351,
                        "test": [
                          0.02571810165
                        ]
                      },
                      {
                        "learn": [
                          0.02455661794
                        ],
                        "iteration": 14,
                        "passed_time": 0.6740270668,
                        "remaining_time": 44.26111072,
                        "test": [
                          0.02457632196
                        ]
                      },
                      {
                        "learn": [
                          0.02377148495
                        ],
                        "iteration": 15,
                        "passed_time": 0.7114357862,
                        "remaining_time": 43.75330085,
                        "test": [
                          0.02378952456
                        ]
                      },
                      {
                        "learn": [
                          0.02324828462
                        ],
                        "iteration": 16,
                        "passed_time": 0.7404882804,
                        "remaining_time": 42.81764586,
                        "test": [
                          0.02326431955
                        ]
                      },
                      {
                        "learn": [
                          0.02284561483
                        ],
                        "iteration": 17,
                        "passed_time": 0.7687496114,
                        "remaining_time": 41.93956213,
                        "test": [
                          0.0228604567
                        ]
                      },
                      {
                        "learn": [
                          0.02248679598
                        ],
                        "iteration": 18,
                        "passed_time": 0.7969415269,
                        "remaining_time": 41.14734936,
                        "test": [
                          0.02250119469
                        ]
                      },
                      {
                        "learn": [
                          0.02210971443
                        ],
                        "iteration": 19,
                        "passed_time": 0.8257613075,
                        "remaining_time": 40.46230407,
                        "test": [
                          0.02212243787
                        ]
                      },
                      {
                        "learn": [
                          0.02192730603
                        ],
                        "iteration": 20,
                        "passed_time": 0.8718088022,
                        "remaining_time": 40.64289606,
                        "test": [
                          0.0219394569
                        ]
                      },
                      {
                        "learn": [
                          0.02174013517
                        ],
                        "iteration": 21,
                        "passed_time": 0.9040420465,
                        "remaining_time": 40.18877825,
                        "test": [
                          0.02175198408
                        ]
                      },
                      {
                        "learn": [
                          0.02145839229
                        ],
                        "iteration": 22,
                        "passed_time": 0.9367060188,
                        "remaining_time": 39.78964262,
                        "test": [
                          0.02146972236
                        ]
                      },
                      {
                        "learn": [
                          0.02127134577
                        ],
                        "iteration": 23,
                        "passed_time": 0.9655658166,
                        "remaining_time": 39.26634321,
                        "test": [
                          0.02128268306
                        ]
                      },
                      {
                        "learn": [
                          0.02118538131
                        ],
                        "iteration": 24,
                        "passed_time": 0.9944908752,
                        "remaining_time": 38.78514413,
                        "test": [
                          0.02119639855
                        ]
                      },
                      {
                        "learn": [
                          0.02106813159
                        ],
                        "iteration": 25,
                        "passed_time": 1.025204682,
                        "remaining_time": 38.40574461,
                        "test": [
                          0.02107885366
                        ]
                      },
                      {
                        "learn": [
                          0.0209407441
                        ],
                        "iteration": 26,
                        "passed_time": 1.067672717,
                        "remaining_time": 38.47576124,
                        "test": [
                          0.02095108734
                        ]
                      },
                      {
                        "learn": [
                          0.02086653431
                        ],
                        "iteration": 27,
                        "passed_time": 1.096506766,
                        "remaining_time": 38.06444916,
                        "test": [
                          0.02087681163
                        ]
                      },
                      {
                        "learn": [
                          0.02079707322
                        ],
                        "iteration": 28,
                        "passed_time": 1.126244355,
                        "remaining_time": 37.70976789,
                        "test": [
                          0.0208070372
                        ]
                      },
                      {
                        "learn": [
                          0.02072464168
                        ],
                        "iteration": 29,
                        "passed_time": 1.15696,
                        "remaining_time": 37.40837335,
                        "test": [
                          0.02073426346
                        ]
                      },
                      {
                        "learn": [
                          0.02064842366
                        ],
                        "iteration": 30,
                        "passed_time": 1.191953957,
                        "remaining_time": 37.2581737,
                        "test": [
                          0.02065790337
                        ]
                      },
                      {
                        "learn": [
                          0.02055328985
                        ],
                        "iteration": 31,
                        "passed_time": 1.223155283,
                        "remaining_time": 37.0004473,
                        "test": [
                          0.02056251782
                        ]
                      },
                      {
                        "learn": [
                          0.02044642316
                        ],
                        "iteration": 32,
                        "passed_time": 1.254634659,
                        "remaining_time": 36.76459743,
                        "test": [
                          0.0204552653
                        ]
                      },
                      {
                        "learn": [
                          0.02039860204
                        ],
                        "iteration": 33,
                        "passed_time": 1.284598028,
                        "remaining_time": 36.4976969,
                        "test": [
                          0.02040734276
                        ]
                      },
                      {
                        "learn": [
                          0.0203095779
                        ],
                        "iteration": 34,
                        "passed_time": 1.315301698,
                        "remaining_time": 36.26474681,
                        "test": [
                          0.02031817198
                        ]
                      },
                      {
                        "learn": [
                          0.02024609785
                        ],
                        "iteration": 35,
                        "passed_time": 1.382289252,
                        "remaining_time": 37.01463441,
                        "test": [
                          0.02025459883
                        ]
                      },
                      {
                        "learn": [
                          0.02020850323
                        ],
                        "iteration": 36,
                        "passed_time": 1.456264388,
                        "remaining_time": 37.90223259,
                        "test": [
                          0.02021695748
                        ]
                      },
                      {
                        "learn": [
                          0.02017088415
                        ],
                        "iteration": 37,
                        "passed_time": 1.537301744,
                        "remaining_time": 38.91800731,
                        "test": [
                          0.02017926575
                        ]
                      },
                      {
                        "learn": [
                          0.02011246558
                        ],
                        "iteration": 38,
                        "passed_time": 1.618077721,
                        "remaining_time": 39.87109461,
                        "test": [
                          0.02012078544
                        ]
                      },
                      {
                        "learn": [
                          0.02006174215
                        ],
                        "iteration": 39,
                        "passed_time": 1.664855602,
                        "remaining_time": 39.95653444,
                        "test": [
                          0.02007003141
                        ]
                      },
                      {
                        "learn": [
                          0.02001469985
                        ],
                        "iteration": 40,
                        "passed_time": 1.707839272,
                        "remaining_time": 39.94677712,
                        "test": [
                          0.02002288272
                        ]
                      },
                      {
                        "learn": [
                          0.0199522754
                        ],
                        "iteration": 41,
                        "passed_time": 1.73830012,
                        "remaining_time": 39.64979798,
                        "test": [
                          0.01996045531
                        ]
                      },
                      {
                        "learn": [
                          0.01991033029
                        ],
                        "iteration": 42,
                        "passed_time": 1.767764471,
                        "remaining_time": 39.34303717,
                        "test": [
                          0.01991843287
                        ]
                      },
                      {
                        "learn": [
                          0.01985752857
                        ],
                        "iteration": 43,
                        "passed_time": 1.803359365,
                        "remaining_time": 39.18208076,
                        "test": [
                          0.01986558513
                        ]
                      },
                      {
                        "learn": [
                          0.01981018176
                        ],
                        "iteration": 44,
                        "passed_time": 1.835084964,
                        "remaining_time": 38.94458091,
                        "test": [
                          0.01981819545
                        ]
                      },
                      {
                        "learn": [
                          0.01977940468
                        ],
                        "iteration": 45,
                        "passed_time": 1.864378127,
                        "remaining_time": 38.66558116,
                        "test": [
                          0.01978737229
                        ]
                      },
                      {
                        "learn": [
                          0.01974239626
                        ],
                        "iteration": 46,
                        "passed_time": 1.893857561,
                        "remaining_time": 38.40098415,
                        "test": [
                          0.01975036563
                        ]
                      },
                      {
                        "learn": [
                          0.01971913319
                        ],
                        "iteration": 47,
                        "passed_time": 1.923129377,
                        "remaining_time": 38.14206597,
                        "test": [
                          0.01972704299
                        ]
                      },
                      {
                        "learn": [
                          0.01968869497
                        ],
                        "iteration": 48,
                        "passed_time": 1.951686781,
                        "remaining_time": 37.87865568,
                        "test": [
                          0.01969652803
                        ]
                      },
                      {
                        "learn": [
                          0.01965029203
                        ],
                        "iteration": 49,
                        "passed_time": 1.980085778,
                        "remaining_time": 37.62162979,
                        "test": [
                          0.01965816822
                        ]
                      },
                      {
                        "learn": [
                          0.01963274662
                        ],
                        "iteration": 50,
                        "passed_time": 2.016738178,
                        "remaining_time": 37.52714766,
                        "test": [
                          0.01964061441
                        ]
                      },
                      {
                        "learn": [
                          0.0195860984
                        ],
                        "iteration": 51,
                        "passed_time": 2.045426181,
                        "remaining_time": 37.28969269,
                        "test": [
                          0.01959392514
                        ]
                      },
                      {
                        "learn": [
                          0.01955509362
                        ],
                        "iteration": 52,
                        "passed_time": 2.077217766,
                        "remaining_time": 37.11557027,
                        "test": [
                          0.01956292362
                        ]
                      },
                      {
                        "learn": [
                          0.01953093518
                        ],
                        "iteration": 53,
                        "passed_time": 2.107821689,
                        "remaining_time": 36.92591329,
                        "test": [
                          0.01953873009
                        ]
                      },
                      {
                        "learn": [
                          0.01950920853
                        ],
                        "iteration": 54,
                        "passed_time": 2.138613954,
                        "remaining_time": 36.74527611,
                        "test": [
                          0.01951698994
                        ]
                      },
                      {
                        "learn": [
                          0.01949424144
                        ],
                        "iteration": 55,
                        "passed_time": 2.173737158,
                        "remaining_time": 36.6429978,
                        "test": [
                          0.01950201374
                        ]
                      },
                      {
                        "learn": [
                          0.01946351749
                        ],
                        "iteration": 56,
                        "passed_time": 2.204552479,
                        "remaining_time": 36.4718068,
                        "test": [
                          0.01947129765
                        ]
                      },
                      {
                        "learn": [
                          0.01943537
                        ],
                        "iteration": 57,
                        "passed_time": 2.233990723,
                        "remaining_time": 36.2830907,
                        "test": [
                          0.01944315892
                        ]
                      },
                      {
                        "learn": [
                          0.01940252027
                        ],
                        "iteration": 58,
                        "passed_time": 2.266791951,
                        "remaining_time": 36.1534106,
                        "test": [
                          0.01941027996
                        ]
                      },
                      {
                        "learn": [
                          0.01937844315
                        ],
                        "iteration": 59,
                        "passed_time": 2.298880445,
                        "remaining_time": 36.01579364,
                        "test": [
                          0.01938615705
                        ]
                      },
                      {
                        "learn": [
                          0.01935399111
                        ],
                        "iteration": 60,
                        "passed_time": 2.328931105,
                        "remaining_time": 35.85026734,
                        "test": [
                          0.01936172746
                        ]
                      },
                      {
                        "learn": [
                          0.01932833763
                        ],
                        "iteration": 61,
                        "passed_time": 2.359063689,
                        "remaining_time": 35.69035065,
                        "test": [
                          0.01933608382
                        ]
                      },
                      {
                        "learn": [
                          0.01930481847
                        ],
                        "iteration": 62,
                        "passed_time": 2.388721523,
                        "remaining_time": 35.52749312,
                        "test": [
                          0.01931254042
                        ]
                      },
                      {
                        "learn": [
                          0.01928558036
                        ],
                        "iteration": 63,
                        "passed_time": 2.420419042,
                        "remaining_time": 35.39862849,
                        "test": [
                          0.01929329268
                        ]
                      },
                      {
                        "learn": [
                          0.01925888283
                        ],
                        "iteration": 64,
                        "passed_time": 2.45511744,
                        "remaining_time": 35.3159201,
                        "test": [
                          0.01926657995
                        ]
                      },
                      {
                        "learn": [
                          0.01924665404
                        ],
                        "iteration": 65,
                        "passed_time": 2.501802863,
                        "remaining_time": 35.40430113,
                        "test": [
                          0.01925432452
                        ]
                      },
                      {
                        "learn": [
                          0.01922274263
                        ],
                        "iteration": 66,
                        "passed_time": 2.532103586,
                        "remaining_time": 35.26048724,
                        "test": [
                          0.01923043415
                        ]
                      },
                      {
                        "learn": [
                          0.01916682678
                        ],
                        "iteration": 67,
                        "passed_time": 2.568764576,
                        "remaining_time": 35.20718507,
                        "test": [
                          0.01917449604
                        ]
                      },
                      {
                        "learn": [
                          0.01914393558
                        ],
                        "iteration": 68,
                        "passed_time": 2.632517545,
                        "remaining_time": 35.51991064,
                        "test": [
                          0.01915159919
                        ]
                      },
                      {
                        "learn": [
                          0.01912134065
                        ],
                        "iteration": 69,
                        "passed_time": 2.721404133,
                        "remaining_time": 36.15579777,
                        "test": [
                          0.0191289946
                        ]
                      },
                      {
                        "learn": [
                          0.01907884703
                        ],
                        "iteration": 70,
                        "passed_time": 2.802216195,
                        "remaining_time": 36.66561754,
                        "test": [
                          0.01908648872
                        ]
                      },
                      {
                        "learn": [
                          0.01904210278
                        ],
                        "iteration": 71,
                        "passed_time": 2.875775795,
                        "remaining_time": 37.06555469,
                        "test": [
                          0.01904979413
                        ]
                      },
                      {
                        "learn": [
                          0.01901435824
                        ],
                        "iteration": 72,
                        "passed_time": 2.950044685,
                        "remaining_time": 37.46152635,
                        "test": [
                          0.01902197372
                        ]
                      },
                      {
                        "learn": [
                          0.01900182367
                        ],
                        "iteration": 73,
                        "passed_time": 3.017959587,
                        "remaining_time": 37.76527808,
                        "test": [
                          0.01900946979
                        ]
                      },
                      {
                        "learn": [
                          0.01896336491
                        ],
                        "iteration": 74,
                        "passed_time": 3.091919646,
                        "remaining_time": 38.13367564,
                        "test": [
                          0.01897101866
                        ]
                      },
                      {
                        "learn": [
                          0.01894791343
                        ],
                        "iteration": 75,
                        "passed_time": 3.160284512,
                        "remaining_time": 38.42240644,
                        "test": [
                          0.01895556105
                        ]
                      },
                      {
                        "learn": [
                          0.01893477014
                        ],
                        "iteration": 76,
                        "passed_time": 3.225719052,
                        "remaining_time": 38.66673617,
                        "test": [
                          0.01894242544
                        ]
                      },
                      {
                        "learn": [
                          0.01891314336
                        ],
                        "iteration": 77,
                        "passed_time": 3.319086811,
                        "remaining_time": 39.2333082,
                        "test": [
                          0.01892077414
                        ]
                      },
                      {
                        "learn": [
                          0.01889972719
                        ],
                        "iteration": 78,
                        "passed_time": 3.460844214,
                        "remaining_time": 40.34731039,
                        "test": [
                          0.01890737863
                        ]
                      },
                      {
                        "learn": [
                          0.01887184086
                        ],
                        "iteration": 79,
                        "passed_time": 3.562786619,
                        "remaining_time": 40.97204612,
                        "test": [
                          0.01887945656
                        ]
                      },
                      {
                        "learn": [
                          0.01885289788
                        ],
                        "iteration": 80,
                        "passed_time": 3.689562864,
                        "remaining_time": 41.86059595,
                        "test": [
                          0.01886049848
                        ]
                      },
                      {
                        "learn": [
                          0.01883279299
                        ],
                        "iteration": 81,
                        "passed_time": 3.825627972,
                        "remaining_time": 42.82837168,
                        "test": [
                          0.01884043599
                        ]
                      },
                      {
                        "learn": [
                          0.01881309825
                        ],
                        "iteration": 82,
                        "passed_time": 3.925202982,
                        "remaining_time": 43.36639921,
                        "test": [
                          0.01882072068
                        ]
                      },
                      {
                        "learn": [
                          0.01875884793
                        ],
                        "iteration": 83,
                        "passed_time": 4.00849583,
                        "remaining_time": 43.71169263,
                        "test": [
                          0.01876646127
                        ]
                      },
                      {
                        "learn": [
                          0.01874916229
                        ],
                        "iteration": 84,
                        "passed_time": 4.105865046,
                        "remaining_time": 44.19842961,
                        "test": [
                          0.01875678674
                        ]
                      },
                      {
                        "learn": [
                          0.01874071966
                        ],
                        "iteration": 85,
                        "passed_time": 4.236704644,
                        "remaining_time": 45.02730285,
                        "test": [
                          0.0187483318
                        ]
                      },
                      {
                        "learn": [
                          0.01870365997
                        ],
                        "iteration": 86,
                        "passed_time": 4.333275486,
                        "remaining_time": 45.47448872,
                        "test": [
                          0.01871126916
                        ]
                      },
                      {
                        "learn": [
                          0.01868748793
                        ],
                        "iteration": 87,
                        "passed_time": 4.442829162,
                        "remaining_time": 46.04386587,
                        "test": [
                          0.01869507618
                        ]
                      },
                      {
                        "learn": [
                          0.01867006911
                        ],
                        "iteration": 88,
                        "passed_time": 4.554604254,
                        "remaining_time": 46.62072444,
                        "test": [
                          0.01867764808
                        ]
                      },
                      {
                        "learn": [
                          0.01866370121
                        ],
                        "iteration": 89,
                        "passed_time": 4.650318436,
                        "remaining_time": 47.01988641,
                        "test": [
                          0.01867127444
                        ]
                      },
                      {
                        "learn": [
                          0.01864202927
                        ],
                        "iteration": 90,
                        "passed_time": 4.778219584,
                        "remaining_time": 47.72968793,
                        "test": [
                          0.01864960452
                        ]
                      },
                      {
                        "learn": [
                          0.01860274714
                        ],
                        "iteration": 91,
                        "passed_time": 4.873615539,
                        "remaining_time": 48.10046641,
                        "test": [
                          0.01861033034
                        ]
                      },
                      {
                        "learn": [
                          0.01858416009
                        ],
                        "iteration": 92,
                        "passed_time": 5.00805801,
                        "remaining_time": 48.84202812,
                        "test": [
                          0.01859175326
                        ]
                      },
                      {
                        "learn": [
                          0.01855937657
                        ],
                        "iteration": 93,
                        "passed_time": 5.090169976,
                        "remaining_time": 49.06057445,
                        "test": [
                          0.01856698646
                        ]
                      },
                      {
                        "learn": [
                          0.01852587955
                        ],
                        "iteration": 94,
                        "passed_time": 5.181413074,
                        "remaining_time": 49.35977717,
                        "test": [
                          0.01853347481
                        ]
                      },
                      {
                        "learn": [
                          0.01850658576
                        ],
                        "iteration": 95,
                        "passed_time": 5.288466234,
                        "remaining_time": 49.79972371,
                        "test": [
                          0.01851418005
                        ]
                      },
                      {
                        "learn": [
                          0.01848171049
                        ],
                        "iteration": 96,
                        "passed_time": 5.362481375,
                        "remaining_time": 49.92083177,
                        "test": [
                          0.01848925632
                        ]
                      },
                      {
                        "learn": [
                          0.01845928154
                        ],
                        "iteration": 97,
                        "passed_time": 5.418969491,
                        "remaining_time": 49.87663756,
                        "test": [
                          0.01846684364
                        ]
                      },
                      {
                        "learn": [
                          0.01842333961
                        ],
                        "iteration": 98,
                        "passed_time": 5.484838425,
                        "remaining_time": 49.91756991,
                        "test": [
                          0.0184308902
                        ]
                      },
                      {
                        "learn": [
                          0.01840684186
                        ],
                        "iteration": 99,
                        "passed_time": 5.551420556,
                        "remaining_time": 49.962785,
                        "test": [
                          0.01841440323
                        ]
                      },
                      {
                        "learn": [
                          0.01837516178
                        ],
                        "iteration": 100,
                        "passed_time": 5.620203696,
                        "remaining_time": 50.02537745,
                        "test": [
                          0.01838269835
                        ]
                      },
                      {
                        "learn": [
                          0.01835575351
                        ],
                        "iteration": 101,
                        "passed_time": 5.691530715,
                        "remaining_time": 50.10779002,
                        "test": [
                          0.01836329434
                        ]
                      },
                      {
                        "learn": [
                          0.01834431911
                        ],
                        "iteration": 102,
                        "passed_time": 5.764424815,
                        "remaining_time": 50.20086465,
                        "test": [
                          0.01835183606
                        ]
                      },
                      {
                        "learn": [
                          0.01832996638
                        ],
                        "iteration": 103,
                        "passed_time": 5.79932918,
                        "remaining_time": 49.9634514,
                        "test": [
                          0.01833749108
                        ]
                      },
                      {
                        "learn": [
                          0.01832062102
                        ],
                        "iteration": 104,
                        "passed_time": 5.834952496,
                        "remaining_time": 49.73602365,
                        "test": [
                          0.0183281767
                        ]
                      },
                      {
                        "learn": [
                          0.01830338244
                        ],
                        "iteration": 105,
                        "passed_time": 5.945499876,
                        "remaining_time": 50.1441216,
                        "test": [
                          0.01831091909
                        ]
                      },
                      {
                        "learn": [
                          0.0182911206
                        ],
                        "iteration": 106,
                        "passed_time": 6.016536905,
                        "remaining_time": 50.21277997,
                        "test": [
                          0.01829864305
                        ]
                      },
                      {
                        "learn": [
                          0.01827680913
                        ],
                        "iteration": 107,
                        "passed_time": 6.082058668,
                        "remaining_time": 50.23329937,
                        "test": [
                          0.01828433959
                        ]
                      },
                      {
                        "learn": [
                          0.01826850876
                        ],
                        "iteration": 108,
                        "passed_time": 6.164410091,
                        "remaining_time": 50.38981093,
                        "test": [
                          0.01827604838
                        ]
                      },
                      {
                        "learn": [
                          0.01825040705
                        ],
                        "iteration": 109,
                        "passed_time": 6.274003566,
                        "remaining_time": 50.76239248,
                        "test": [
                          0.01825792848
                        ]
                      },
                      {
                        "learn": [
                          0.01824110851
                        ],
                        "iteration": 110,
                        "passed_time": 6.341038986,
                        "remaining_time": 50.78543836,
                        "test": [
                          0.0182486256
                        ]
                      },
                      {
                        "learn": [
                          0.01822479826
                        ],
                        "iteration": 111,
                        "passed_time": 6.434476592,
                        "remaining_time": 51.01620726,
                        "test": [
                          0.018232284
                        ]
                      },
                      {
                        "learn": [
                          0.01820182899
                        ],
                        "iteration": 112,
                        "passed_time": 6.518303229,
                        "remaining_time": 51.16579614,
                        "test": [
                          0.01820935218
                        ]
                      },
                      {
                        "learn": [
                          0.01819535056
                        ],
                        "iteration": 113,
                        "passed_time": 6.586871577,
                        "remaining_time": 51.19270366,
                        "test": [
                          0.0182028515
                        ]
                      },
                      {
                        "learn": [
                          0.01819230151
                        ],
                        "iteration": 114,
                        "passed_time": 6.655919108,
                        "remaining_time": 51.22163835,
                        "test": [
                          0.01819981168
                        ]
                      },
                      {
                        "learn": [
                          0.01816954854
                        ],
                        "iteration": 115,
                        "passed_time": 6.733537949,
                        "remaining_time": 51.31420299,
                        "test": [
                          0.01817703733
                        ]
                      },
                      {
                        "learn": [
                          0.01816649944
                        ],
                        "iteration": 116,
                        "passed_time": 6.820421199,
                        "remaining_time": 51.47377708,
                        "test": [
                          0.01817398533
                        ]
                      },
                      {
                        "learn": [
                          0.01815863045
                        ],
                        "iteration": 117,
                        "passed_time": 6.927722812,
                        "remaining_time": 51.78179254,
                        "test": [
                          0.01816612981
                        ]
                      },
                      {
                        "learn": [
                          0.01815541899
                        ],
                        "iteration": 118,
                        "passed_time": 7.020030429,
                        "remaining_time": 51.97182192,
                        "test": [
                          0.01816290566
                        ]
                      },
                      {
                        "learn": [
                          0.01814350459
                        ],
                        "iteration": 119,
                        "passed_time": 7.09642073,
                        "remaining_time": 52.04041869,
                        "test": [
                          0.0181510266
                        ]
                      },
                      {
                        "learn": [
                          0.01812615638
                        ],
                        "iteration": 120,
                        "passed_time": 7.175676628,
                        "remaining_time": 52.127436,
                        "test": [
                          0.0181336548
                        ]
                      },
                      {
                        "learn": [
                          0.01810349597
                        ],
                        "iteration": 121,
                        "passed_time": 7.246356555,
                        "remaining_time": 52.15000865,
                        "test": [
                          0.01811102451
                        ]
                      },
                      {
                        "learn": [
                          0.01807962022
                        ],
                        "iteration": 122,
                        "passed_time": 7.317188539,
                        "remaining_time": 52.17214918,
                        "test": [
                          0.01808712573
                        ]
                      },
                      {
                        "learn": [
                          0.01806804658
                        ],
                        "iteration": 123,
                        "passed_time": 7.460024586,
                        "remaining_time": 52.70146401,
                        "test": [
                          0.01807555246
                        ]
                      },
                      {
                        "learn": [
                          0.01806357501
                        ],
                        "iteration": 124,
                        "passed_time": 7.555489098,
                        "remaining_time": 52.88842369,
                        "test": [
                          0.0180711091
                        ]
                      },
                      {
                        "learn": [
                          0.01804425769
                        ],
                        "iteration": 125,
                        "passed_time": 7.641561473,
                        "remaining_time": 53.0057518,
                        "test": [
                          0.01805178525
                        ]
                      },
                      {
                        "learn": [
                          0.01803896947
                        ],
                        "iteration": 126,
                        "passed_time": 7.72042441,
                        "remaining_time": 53.07031897,
                        "test": [
                          0.01804649413
                        ]
                      },
                      {
                        "learn": [
                          0.01801276729
                        ],
                        "iteration": 127,
                        "passed_time": 7.803925999,
                        "remaining_time": 53.16424587,
                        "test": [
                          0.01802028609
                        ]
                      },
                      {
                        "learn": [
                          0.01799496729
                        ],
                        "iteration": 128,
                        "passed_time": 7.914759969,
                        "remaining_time": 53.43996847,
                        "test": [
                          0.01800245314
                        ]
                      },
                      {
                        "learn": [
                          0.01797930601
                        ],
                        "iteration": 129,
                        "passed_time": 8.00461412,
                        "remaining_time": 53.56934065,
                        "test": [
                          0.01798678584
                        ]
                      },
                      {
                        "learn": [
                          0.01797118371
                        ],
                        "iteration": 130,
                        "passed_time": 8.065413178,
                        "remaining_time": 53.50262635,
                        "test": [
                          0.01797866939
                        ]
                      },
                      {
                        "learn": [
                          0.01796684127
                        ],
                        "iteration": 131,
                        "passed_time": 8.133738094,
                        "remaining_time": 53.48548989,
                        "test": [
                          0.01797433068
                        ]
                      },
                      {
                        "learn": [
                          0.01795739123
                        ],
                        "iteration": 132,
                        "passed_time": 8.225496488,
                        "remaining_time": 53.62034177,
                        "test": [
                          0.01796488128
                        ]
                      },
                      {
                        "learn": [
                          0.0179519955
                        ],
                        "iteration": 133,
                        "passed_time": 8.304441956,
                        "remaining_time": 53.66900548,
                        "test": [
                          0.01795948302
                        ]
                      },
                      {
                        "learn": [
                          0.01794461828
                        ],
                        "iteration": 134,
                        "passed_time": 8.39577235,
                        "remaining_time": 53.79513394,
                        "test": [
                          0.01795210907
                        ]
                      },
                      {
                        "learn": [
                          0.01793840362
                        ],
                        "iteration": 135,
                        "passed_time": 8.490633595,
                        "remaining_time": 53.94049578,
                        "test": [
                          0.01794591801
                        ]
                      },
                      {
                        "learn": [
                          0.01793337849
                        ],
                        "iteration": 136,
                        "passed_time": 8.613861433,
                        "remaining_time": 54.26103953,
                        "test": [
                          0.01794087576
                        ]
                      },
                      {
                        "learn": [
                          0.01790013665
                        ],
                        "iteration": 137,
                        "passed_time": 8.732690704,
                        "remaining_time": 54.54767672,
                        "test": [
                          0.01790764867
                        ]
                      },
                      {
                        "learn": [
                          0.01789170546
                        ],
                        "iteration": 138,
                        "passed_time": 8.825728255,
                        "remaining_time": 54.66871962,
                        "test": [
                          0.0178992117
                        ]
                      },
                      {
                        "learn": [
                          0.01787933517
                        ],
                        "iteration": 139,
                        "passed_time": 8.930504259,
                        "remaining_time": 54.85881188,
                        "test": [
                          0.0178868286
                        ]
                      },
                      {
                        "learn": [
                          0.01787751366
                        ],
                        "iteration": 140,
                        "passed_time": 9.050161662,
                        "remaining_time": 55.13538204,
                        "test": [
                          0.01788502423
                        ]
                      },
                      {
                        "learn": [
                          0.01787585529
                        ],
                        "iteration": 141,
                        "passed_time": 9.143920482,
                        "remaining_time": 55.24988573,
                        "test": [
                          0.01788336287
                        ]
                      },
                      {
                        "learn": [
                          0.01784227217
                        ],
                        "iteration": 142,
                        "passed_time": 9.199141076,
                        "remaining_time": 55.1305168,
                        "test": [
                          0.01784976928
                        ]
                      },
                      {
                        "learn": [
                          0.01782324072
                        ],
                        "iteration": 143,
                        "passed_time": 9.266354318,
                        "remaining_time": 55.08332845,
                        "test": [
                          0.0178307365
                        ]
                      },
                      {
                        "learn": [
                          0.01779829577
                        ],
                        "iteration": 144,
                        "passed_time": 9.344216049,
                        "remaining_time": 55.09865325,
                        "test": [
                          0.01780579406
                        ]
                      },
                      {
                        "learn": [
                          0.01777811906
                        ],
                        "iteration": 145,
                        "passed_time": 9.450213065,
                        "remaining_time": 55.27727368,
                        "test": [
                          0.01778559555
                        ]
                      },
                      {
                        "learn": [
                          0.01777006332
                        ],
                        "iteration": 146,
                        "passed_time": 9.582070197,
                        "remaining_time": 55.6020808,
                        "test": [
                          0.01777753548
                        ]
                      },
                      {
                        "learn": [
                          0.01775153754
                        ],
                        "iteration": 147,
                        "passed_time": 9.706749291,
                        "remaining_time": 55.87939457,
                        "test": [
                          0.01775900027
                        ]
                      },
                      {
                        "learn": [
                          0.01772669831
                        ],
                        "iteration": 148,
                        "passed_time": 9.8459537,
                        "remaining_time": 56.23427248,
                        "test": [
                          0.01773414086
                        ]
                      },
                      {
                        "learn": [
                          0.01771714951
                        ],
                        "iteration": 149,
                        "passed_time": 9.928775443,
                        "remaining_time": 56.26306084,
                        "test": [
                          0.01772460489
                        ]
                      },
                      {
                        "learn": [
                          0.0177156985
                        ],
                        "iteration": 150,
                        "passed_time": 9.969751404,
                        "remaining_time": 56.05509233,
                        "test": [
                          0.01772317021
                        ]
                      },
                      {
                        "learn": [
                          0.01770103119
                        ],
                        "iteration": 151,
                        "passed_time": 10.00759793,
                        "remaining_time": 55.83186213,
                        "test": [
                          0.01770846747
                        ]
                      },
                      {
                        "learn": [
                          0.01767680632
                        ],
                        "iteration": 152,
                        "passed_time": 10.06592579,
                        "remaining_time": 55.72443887,
                        "test": [
                          0.01768425905
                        ]
                      },
                      {
                        "learn": [
                          0.01765549753
                        ],
                        "iteration": 153,
                        "passed_time": 10.1447044,
                        "remaining_time": 55.72999951,
                        "test": [
                          0.01766293348
                        ]
                      },
                      {
                        "learn": [
                          0.01764611593
                        ],
                        "iteration": 154,
                        "passed_time": 10.22104643,
                        "remaining_time": 55.72118862,
                        "test": [
                          0.01765355139
                        ]
                      },
                      {
                        "learn": [
                          0.01764172705
                        ],
                        "iteration": 155,
                        "passed_time": 10.30929316,
                        "remaining_time": 55.77591941,
                        "test": [
                          0.01764916869
                        ]
                      },
                      {
                        "learn": [
                          0.0176158122
                        ],
                        "iteration": 156,
                        "passed_time": 10.38345347,
                        "remaining_time": 55.75319281,
                        "test": [
                          0.0176232536
                        ]
                      },
                      {
                        "learn": [
                          0.01760669396
                        ],
                        "iteration": 157,
                        "passed_time": 10.45211399,
                        "remaining_time": 55.70050618,
                        "test": [
                          0.01761412273
                        ]
                      },
                      {
                        "learn": [
                          0.01758606541
                        ],
                        "iteration": 158,
                        "passed_time": 10.52963536,
                        "remaining_time": 55.69448638,
                        "test": [
                          0.01759349434
                        ]
                      },
                      {
                        "learn": [
                          0.01758132065
                        ],
                        "iteration": 159,
                        "passed_time": 10.60327258,
                        "remaining_time": 55.66718103,
                        "test": [
                          0.01758874014
                        ]
                      },
                      {
                        "learn": [
                          0.0175652873
                        ],
                        "iteration": 160,
                        "passed_time": 10.68281101,
                        "remaining_time": 55.67005242,
                        "test": [
                          0.01757273551
                        ]
                      },
                      {
                        "learn": [
                          0.01754808617
                        ],
                        "iteration": 161,
                        "passed_time": 10.82736661,
                        "remaining_time": 56.00822973,
                        "test": [
                          0.01755550784
                        ]
                      },
                      {
                        "learn": [
                          0.01752382375
                        ],
                        "iteration": 162,
                        "passed_time": 10.92709523,
                        "remaining_time": 56.11029884,
                        "test": [
                          0.01753123906
                        ]
                      },
                      {
                        "learn": [
                          0.01751754973
                        ],
                        "iteration": 163,
                        "passed_time": 10.9732347,
                        "remaining_time": 55.93673296,
                        "test": [
                          0.01752496137
                        ]
                      },
                      {
                        "learn": [
                          0.01750346269
                        ],
                        "iteration": 164,
                        "passed_time": 11.01147364,
                        "remaining_time": 55.72473022,
                        "test": [
                          0.01751087893
                        ]
                      },
                      {
                        "learn": [
                          0.01748997751
                        ],
                        "iteration": 165,
                        "passed_time": 11.07045235,
                        "remaining_time": 55.61901965,
                        "test": [
                          0.01749738419
                        ]
                      },
                      {
                        "learn": [
                          0.01746918849
                        ],
                        "iteration": 166,
                        "passed_time": 11.17624466,
                        "remaining_time": 55.74737608,
                        "test": [
                          0.0174765962
                        ]
                      },
                      {
                        "learn": [
                          0.01744927733
                        ],
                        "iteration": 167,
                        "passed_time": 11.29954724,
                        "remaining_time": 55.95966253,
                        "test": [
                          0.01745665597
                        ]
                      },
                      {
                        "learn": [
                          0.01743801474
                        ],
                        "iteration": 168,
                        "passed_time": 11.38518321,
                        "remaining_time": 55.9827648,
                        "test": [
                          0.01744537303
                        ]
                      },
                      {
                        "learn": [
                          0.01742904279
                        ],
                        "iteration": 169,
                        "passed_time": 11.47531346,
                        "remaining_time": 56.02653042,
                        "test": [
                          0.01743642927
                        ]
                      },
                      {
                        "learn": [
                          0.01742616179
                        ],
                        "iteration": 170,
                        "passed_time": 11.56538374,
                        "remaining_time": 56.06843931,
                        "test": [
                          0.01743353065
                        ]
                      },
                      {
                        "learn": [
                          0.01740148315
                        ],
                        "iteration": 171,
                        "passed_time": 11.64580231,
                        "remaining_time": 56.06235066,
                        "test": [
                          0.0174088694
                        ]
                      },
                      {
                        "learn": [
                          0.01738130853
                        ],
                        "iteration": 172,
                        "passed_time": 11.69150925,
                        "remaining_time": 55.88946906,
                        "test": [
                          0.01738869363
                        ]
                      },
                      {
                        "learn": [
                          0.01736711213
                        ],
                        "iteration": 173,
                        "passed_time": 11.73378106,
                        "remaining_time": 55.70174228,
                        "test": [
                          0.01737452653
                        ]
                      },
                      {
                        "learn": [
                          0.01736060536
                        ],
                        "iteration": 174,
                        "passed_time": 11.78695985,
                        "remaining_time": 55.56709643,
                        "test": [
                          0.01736799781
                        ]
                      },
                      {
                        "learn": [
                          0.01735860617
                        ],
                        "iteration": 175,
                        "passed_time": 11.85284744,
                        "remaining_time": 55.49287667,
                        "test": [
                          0.01736599595
                        ]
                      },
                      {
                        "learn": [
                          0.01734249424
                        ],
                        "iteration": 176,
                        "passed_time": 11.89315948,
                        "remaining_time": 55.29983194,
                        "test": [
                          0.0173498762
                        ]
                      },
                      {
                        "learn": [
                          0.01733021117
                        ],
                        "iteration": 177,
                        "passed_time": 11.99658153,
                        "remaining_time": 55.39994394,
                        "test": [
                          0.01733759056
                        ]
                      },
                      {
                        "learn": [
                          0.01731980656
                        ],
                        "iteration": 178,
                        "passed_time": 12.06213138,
                        "remaining_time": 55.32407747,
                        "test": [
                          0.01732717505
                        ]
                      },
                      {
                        "learn": [
                          0.0173017775
                        ],
                        "iteration": 179,
                        "passed_time": 12.10843626,
                        "remaining_time": 55.16065409,
                        "test": [
                          0.01730915377
                        ]
                      },
                      {
                        "learn": [
                          0.01729097947
                        ],
                        "iteration": 180,
                        "passed_time": 12.15867486,
                        "remaining_time": 55.01632437,
                        "test": [
                          0.01729833005
                        ]
                      },
                      {
                        "learn": [
                          0.01729005087
                        ],
                        "iteration": 181,
                        "passed_time": 12.20558319,
                        "remaining_time": 54.85806069,
                        "test": [
                          0.01729741969
                        ]
                      },
                      {
                        "learn": [
                          0.01727158573
                        ],
                        "iteration": 182,
                        "passed_time": 12.25370927,
                        "remaining_time": 54.70645068,
                        "test": [
                          0.01727894897
                        ]
                      },
                      {
                        "learn": [
                          0.01725819236
                        ],
                        "iteration": 183,
                        "passed_time": 12.32855232,
                        "remaining_time": 54.67444941,
                        "test": [
                          0.01726558129
                        ]
                      },
                      {
                        "learn": [
                          0.01724165784
                        ],
                        "iteration": 184,
                        "passed_time": 12.38188644,
                        "remaining_time": 54.54722943,
                        "test": [
                          0.01724900194
                        ]
                      },
                      {
                        "learn": [
                          0.01721597977
                        ],
                        "iteration": 185,
                        "passed_time": 12.48807592,
                        "remaining_time": 54.65211718,
                        "test": [
                          0.01722332102
                        ]
                      },
                      {
                        "learn": [
                          0.01721241608
                        ],
                        "iteration": 186,
                        "passed_time": 12.58866965,
                        "remaining_time": 54.73041937,
                        "test": [
                          0.01721976095
                        ]
                      },
                      {
                        "learn": [
                          0.01720189802
                        ],
                        "iteration": 187,
                        "passed_time": 12.65966295,
                        "remaining_time": 54.67896976,
                        "test": [
                          0.01720922902
                        ]
                      },
                      {
                        "learn": [
                          0.01717969948
                        ],
                        "iteration": 188,
                        "passed_time": 12.73034253,
                        "remaining_time": 54.62596717,
                        "test": [
                          0.01718704969
                        ]
                      },
                      {
                        "learn": [
                          0.01717094801
                        ],
                        "iteration": 189,
                        "passed_time": 12.81195074,
                        "remaining_time": 54.61936894,
                        "test": [
                          0.01717828143
                        ]
                      },
                      {
                        "learn": [
                          0.01716421767
                        ],
                        "iteration": 190,
                        "passed_time": 12.88257516,
                        "remaining_time": 54.56546233,
                        "test": [
                          0.01717154577
                        ]
                      },
                      {
                        "learn": [
                          0.01715330302
                        ],
                        "iteration": 191,
                        "passed_time": 12.96783052,
                        "remaining_time": 54.57295345,
                        "test": [
                          0.01716063595
                        ]
                      },
                      {
                        "learn": [
                          0.01713224493
                        ],
                        "iteration": 192,
                        "passed_time": 13.05219639,
                        "remaining_time": 54.57576416,
                        "test": [
                          0.01713958177
                        ]
                      },
                      {
                        "learn": [
                          0.01712179908
                        ],
                        "iteration": 193,
                        "passed_time": 13.12954884,
                        "remaining_time": 54.54853796,
                        "test": [
                          0.01712912828
                        ]
                      },
                      {
                        "learn": [
                          0.01711296011
                        ],
                        "iteration": 194,
                        "passed_time": 13.20530412,
                        "remaining_time": 54.51420417,
                        "test": [
                          0.01712030585
                        ]
                      },
                      {
                        "learn": [
                          0.01710844601
                        ],
                        "iteration": 195,
                        "passed_time": 13.27170722,
                        "remaining_time": 54.44108471,
                        "test": [
                          0.01711578338
                        ]
                      },
                      {
                        "learn": [
                          0.0170988221
                        ],
                        "iteration": 196,
                        "passed_time": 13.32058408,
                        "remaining_time": 54.29659399,
                        "test": [
                          0.0171061659
                        ]
                      },
                      {
                        "learn": [
                          0.01708165386
                        ],
                        "iteration": 197,
                        "passed_time": 13.36792536,
                        "remaining_time": 54.1468492,
                        "test": [
                          0.01708897327
                        ]
                      },
                      {
                        "learn": [
                          0.01706456243
                        ],
                        "iteration": 198,
                        "passed_time": 13.4378785,
                        "remaining_time": 54.08914913,
                        "test": [
                          0.01707189496
                        ]
                      },
                      {
                        "learn": [
                          0.01705622094
                        ],
                        "iteration": 199,
                        "passed_time": 13.5003416,
                        "remaining_time": 54.0013664,
                        "test": [
                          0.01706353246
                        ]
                      },
                      {
                        "learn": [
                          0.01703789623
                        ],
                        "iteration": 200,
                        "passed_time": 13.58297616,
                        "remaining_time": 53.99401967,
                        "test": [
                          0.01704521028
                        ]
                      },
                      {
                        "learn": [
                          0.01702727997
                        ],
                        "iteration": 201,
                        "passed_time": 13.65890347,
                        "remaining_time": 53.95943055,
                        "test": [
                          0.01703458706
                        ]
                      },
                      {
                        "learn": [
                          0.01700246488
                        ],
                        "iteration": 202,
                        "passed_time": 13.76196803,
                        "remaining_time": 54.03097791,
                        "test": [
                          0.01700976896
                        ]
                      },
                      {
                        "learn": [
                          0.01699427799
                        ],
                        "iteration": 203,
                        "passed_time": 13.89275387,
                        "remaining_time": 54.2089808,
                        "test": [
                          0.01700156292
                        ]
                      },
                      {
                        "learn": [
                          0.01697842194
                        ],
                        "iteration": 204,
                        "passed_time": 14.02078427,
                        "remaining_time": 54.37328535,
                        "test": [
                          0.0169857168
                        ]
                      },
                      {
                        "learn": [
                          0.01697477982
                        ],
                        "iteration": 205,
                        "passed_time": 14.0943757,
                        "remaining_time": 54.3249238,
                        "test": [
                          0.01698205818
                        ]
                      },
                      {
                        "learn": [
                          0.01695913198
                        ],
                        "iteration": 206,
                        "passed_time": 14.17518697,
                        "remaining_time": 54.30397714,
                        "test": [
                          0.01696643807
                        ]
                      },
                      {
                        "learn": [
                          0.01693845674
                        ],
                        "iteration": 207,
                        "passed_time": 14.25566926,
                        "remaining_time": 54.2812022,
                        "test": [
                          0.01694575077
                        ]
                      },
                      {
                        "learn": [
                          0.01692519049
                        ],
                        "iteration": 208,
                        "passed_time": 14.38169482,
                        "remaining_time": 54.4302421,
                        "test": [
                          0.0169324716
                        ]
                      },
                      {
                        "learn": [
                          0.01690916012
                        ],
                        "iteration": 209,
                        "passed_time": 14.47524867,
                        "remaining_time": 54.4545069,
                        "test": [
                          0.01691643638
                        ]
                      },
                      {
                        "learn": [
                          0.01687787377
                        ],
                        "iteration": 210,
                        "passed_time": 14.54683637,
                        "remaining_time": 54.39551611,
                        "test": [
                          0.01688513643
                        ]
                      },
                      {
                        "learn": [
                          0.01686823921
                        ],
                        "iteration": 211,
                        "passed_time": 14.63912,
                        "remaining_time": 54.41333281,
                        "test": [
                          0.01687549894
                        ]
                      },
                      {
                        "learn": [
                          0.01686603507
                        ],
                        "iteration": 212,
                        "passed_time": 14.71653492,
                        "remaining_time": 54.37517833,
                        "test": [
                          0.01687330836
                        ]
                      },
                      {
                        "learn": [
                          0.01685786037
                        ],
                        "iteration": 213,
                        "passed_time": 14.83363032,
                        "remaining_time": 54.48239921,
                        "test": [
                          0.01686512329
                        ]
                      },
                      {
                        "learn": [
                          0.01683876603
                        ],
                        "iteration": 214,
                        "passed_time": 14.9550278,
                        "remaining_time": 54.60324104,
                        "test": [
                          0.01684604236
                        ]
                      },
                      {
                        "learn": [
                          0.01682691058
                        ],
                        "iteration": 215,
                        "passed_time": 15.06462477,
                        "remaining_time": 54.67900843,
                        "test": [
                          0.01683420659
                        ]
                      },
                      {
                        "learn": [
                          0.01681187324
                        ],
                        "iteration": 216,
                        "passed_time": 15.13948157,
                        "remaining_time": 54.62771461,
                        "test": [
                          0.01681915922
                        ]
                      },
                      {
                        "learn": [
                          0.0168034382
                        ],
                        "iteration": 217,
                        "passed_time": 15.23131963,
                        "remaining_time": 54.63711904,
                        "test": [
                          0.01681071618
                        ]
                      },
                      {
                        "learn": [
                          0.01679126592
                        ],
                        "iteration": 218,
                        "passed_time": 15.32269123,
                        "remaining_time": 54.64393541,
                        "test": [
                          0.01679855427
                        ]
                      },
                      {
                        "learn": [
                          0.01678273785
                        ],
                        "iteration": 219,
                        "passed_time": 15.44920787,
                        "remaining_time": 54.77446428,
                        "test": [
                          0.01679001779
                        ]
                      },
                      {
                        "learn": [
                          0.01676911707
                        ],
                        "iteration": 220,
                        "passed_time": 15.52437355,
                        "remaining_time": 54.72166061,
                        "test": [
                          0.01677638533
                        ]
                      },
                      {
                        "learn": [
                          0.01676151537
                        ],
                        "iteration": 221,
                        "passed_time": 15.66341853,
                        "remaining_time": 54.89252081,
                        "test": [
                          0.01676876597
                        ]
                      },
                      {
                        "learn": [
                          0.01675257727
                        ],
                        "iteration": 222,
                        "passed_time": 15.79070074,
                        "remaining_time": 55.01961649,
                        "test": [
                          0.01675984789
                        ]
                      },
                      {
                        "learn": [
                          0.016730355
                        ],
                        "iteration": 223,
                        "passed_time": 15.8930486,
                        "remaining_time": 55.05806121,
                        "test": [
                          0.01673761555
                        ]
                      },
                      {
                        "learn": [
                          0.01671886956
                        ],
                        "iteration": 224,
                        "passed_time": 16.02337953,
                        "remaining_time": 55.19164062,
                        "test": [
                          0.01672613734
                        ]
                      },
                      {
                        "learn": [
                          0.0167030779
                        ],
                        "iteration": 225,
                        "passed_time": 16.16499108,
                        "remaining_time": 55.36151813,
                        "test": [
                          0.01671034369
                        ]
                      },
                      {
                        "learn": [
                          0.01667651125
                        ],
                        "iteration": 226,
                        "passed_time": 16.29555015,
                        "remaining_time": 55.49101438,
                        "test": [
                          0.01668376817
                        ]
                      },
                      {
                        "learn": [
                          0.01665604378
                        ],
                        "iteration": 227,
                        "passed_time": 16.42103051,
                        "remaining_time": 55.60103312,
                        "test": [
                          0.01666330861
                        ]
                      },
                      {
                        "learn": [
                          0.01664929223
                        ],
                        "iteration": 228,
                        "passed_time": 16.56157081,
                        "remaining_time": 55.75969912,
                        "test": [
                          0.0166565552
                        ]
                      },
                      {
                        "learn": [
                          0.01663076052
                        ],
                        "iteration": 229,
                        "passed_time": 16.68695144,
                        "remaining_time": 55.86501133,
                        "test": [
                          0.0166380192
                        ]
                      },
                      {
                        "learn": [
                          0.01660676568
                        ],
                        "iteration": 230,
                        "passed_time": 16.76836848,
                        "remaining_time": 55.82197125,
                        "test": [
                          0.01661400572
                        ]
                      },
                      {
                        "learn": [
                          0.01660180669
                        ],
                        "iteration": 231,
                        "passed_time": 16.95858345,
                        "remaining_time": 56.13875899,
                        "test": [
                          0.01660905345
                        ]
                      },
                      {
                        "learn": [
                          0.01659151527
                        ],
                        "iteration": 232,
                        "passed_time": 17.10904865,
                        "remaining_time": 56.32034469,
                        "test": [
                          0.01659875655
                        ]
                      },
                      {
                        "learn": [
                          0.01658249019
                        ],
                        "iteration": 233,
                        "passed_time": 17.28615416,
                        "remaining_time": 56.58629952,
                        "test": [
                          0.01658973855
                        ]
                      },
                      {
                        "learn": [
                          0.0165753278
                        ],
                        "iteration": 234,
                        "passed_time": 17.45890456,
                        "remaining_time": 56.83430634,
                        "test": [
                          0.01658257788
                        ]
                      },
                      {
                        "learn": [
                          0.01656308622
                        ],
                        "iteration": 235,
                        "passed_time": 17.56976508,
                        "remaining_time": 56.87839205,
                        "test": [
                          0.01657033253
                        ]
                      },
                      {
                        "learn": [
                          0.01655535695
                        ],
                        "iteration": 236,
                        "passed_time": 17.68933685,
                        "remaining_time": 56.94921527,
                        "test": [
                          0.01656259975
                        ]
                      },
                      {
                        "learn": [
                          0.0165515467
                        ],
                        "iteration": 237,
                        "passed_time": 17.79828647,
                        "remaining_time": 56.98442978,
                        "test": [
                          0.01655880761
                        ]
                      },
                      {
                        "learn": [
                          0.01654509664
                        ],
                        "iteration": 238,
                        "passed_time": 17.93714858,
                        "remaining_time": 57.11368231,
                        "test": [
                          0.01655235294
                        ]
                      },
                      {
                        "learn": [
                          0.01653881425
                        ],
                        "iteration": 239,
                        "passed_time": 18.05785687,
                        "remaining_time": 57.18321341,
                        "test": [
                          0.01654606732
                        ]
                      },
                      {
                        "learn": [
                          0.01652502649
                        ],
                        "iteration": 240,
                        "passed_time": 18.14330337,
                        "remaining_time": 57.14011312,
                        "test": [
                          0.01653228074
                        ]
                      },
                      {
                        "learn": [
                          0.01651138284
                        ],
                        "iteration": 241,
                        "passed_time": 18.20323323,
                        "remaining_time": 57.01673881,
                        "test": [
                          0.01651862772
                        ]
                      },
                      {
                        "learn": [
                          0.0164768234
                        ],
                        "iteration": 242,
                        "passed_time": 18.25074099,
                        "remaining_time": 56.85518902,
                        "test": [
                          0.01648407073
                        ]
                      },
                      {
                        "learn": [
                          0.01646218344
                        ],
                        "iteration": 243,
                        "passed_time": 18.29377056,
                        "remaining_time": 56.68069894,
                        "test": [
                          0.01646939869
                        ]
                      },
                      {
                        "learn": [
                          0.0164489899
                        ],
                        "iteration": 244,
                        "passed_time": 18.3376714,
                        "remaining_time": 56.50996698,
                        "test": [
                          0.01645622303
                        ]
                      },
                      {
                        "learn": [
                          0.01644150671
                        ],
                        "iteration": 245,
                        "passed_time": 18.39169383,
                        "remaining_time": 56.37128921,
                        "test": [
                          0.01644872117
                        ]
                      },
                      {
                        "learn": [
                          0.01643387149
                        ],
                        "iteration": 246,
                        "passed_time": 18.45923,
                        "remaining_time": 56.2744947,
                        "test": [
                          0.01644108932
                        ]
                      },
                      {
                        "learn": [
                          0.01642105527
                        ],
                        "iteration": 247,
                        "passed_time": 18.51660971,
                        "remaining_time": 56.14713912,
                        "test": [
                          0.01642827451
                        ]
                      },
                      {
                        "learn": [
                          0.01640310976
                        ],
                        "iteration": 248,
                        "passed_time": 18.60083143,
                        "remaining_time": 56.10130282,
                        "test": [
                          0.01641033037
                        ]
                      },
                      {
                        "learn": [
                          0.0163897068
                        ],
                        "iteration": 249,
                        "passed_time": 18.64901299,
                        "remaining_time": 55.94703897,
                        "test": [
                          0.0163969275
                        ]
                      },
                      {
                        "learn": [
                          0.01638119351
                        ],
                        "iteration": 250,
                        "passed_time": 18.7085361,
                        "remaining_time": 55.82746431,
                        "test": [
                          0.01638840496
                        ]
                      },
                      {
                        "learn": [
                          0.01637055339
                        ],
                        "iteration": 251,
                        "passed_time": 18.78497678,
                        "remaining_time": 55.75858186,
                        "test": [
                          0.01637777881
                        ]
                      },
                      {
                        "learn": [
                          0.01635866706
                        ],
                        "iteration": 252,
                        "passed_time": 18.86658446,
                        "remaining_time": 55.70489562,
                        "test": [
                          0.01636588989
                        ]
                      },
                      {
                        "learn": [
                          0.0163380836
                        ],
                        "iteration": 253,
                        "passed_time": 18.93635493,
                        "remaining_time": 55.61622354,
                        "test": [
                          0.01634529978
                        ]
                      },
                      {
                        "learn": [
                          0.01632885744
                        ],
                        "iteration": 254,
                        "passed_time": 19.02707783,
                        "remaining_time": 55.58891366,
                        "test": [
                          0.01633607875
                        ]
                      },
                      {
                        "learn": [
                          0.01632298799
                        ],
                        "iteration": 255,
                        "passed_time": 19.08793405,
                        "remaining_time": 55.47430833,
                        "test": [
                          0.01633020042
                        ]
                      },
                      {
                        "learn": [
                          0.01631227013
                        ],
                        "iteration": 256,
                        "passed_time": 19.12479628,
                        "remaining_time": 55.29075344,
                        "test": [
                          0.01631948734
                        ]
                      },
                      {
                        "learn": [
                          0.01629523575
                        ],
                        "iteration": 257,
                        "passed_time": 19.19552925,
                        "remaining_time": 55.2057469,
                        "test": [
                          0.01630242753
                        ]
                      },
                      {
                        "learn": [
                          0.01628940341
                        ],
                        "iteration": 258,
                        "passed_time": 19.27041939,
                        "remaining_time": 55.13274429,
                        "test": [
                          0.01629660228
                        ]
                      },
                      {
                        "learn": [
                          0.01627556784
                        ],
                        "iteration": 259,
                        "passed_time": 19.3115273,
                        "remaining_time": 54.9635777,
                        "test": [
                          0.0162827835
                        ]
                      },
                      {
                        "learn": [
                          0.01626076202
                        ],
                        "iteration": 260,
                        "passed_time": 19.40360118,
                        "remaining_time": 54.93969837,
                        "test": [
                          0.01626796986
                        ]
                      },
                      {
                        "learn": [
                          0.01625326457
                        ],
                        "iteration": 261,
                        "passed_time": 19.4896733,
                        "remaining_time": 54.89839272,
                        "test": [
                          0.016260479
                        ]
                      },
                      {
                        "learn": [
                          0.01624493222
                        ],
                        "iteration": 262,
                        "passed_time": 19.54889295,
                        "remaining_time": 54.78149849,
                        "test": [
                          0.01625213091
                        ]
                      },
                      {
                        "learn": [
                          0.01621302818
                        ],
                        "iteration": 263,
                        "passed_time": 19.62548437,
                        "remaining_time": 54.71347158,
                        "test": [
                          0.01622024356
                        ]
                      },
                      {
                        "learn": [
                          0.0162023182
                        ],
                        "iteration": 264,
                        "passed_time": 19.7002095,
                        "remaining_time": 54.64020371,
                        "test": [
                          0.01620952792
                        ]
                      },
                      {
                        "learn": [
                          0.01618602094
                        ],
                        "iteration": 265,
                        "passed_time": 19.74236162,
                        "remaining_time": 54.47704296,
                        "test": [
                          0.01619323519
                        ]
                      },
                      {
                        "learn": [
                          0.01617100199
                        ],
                        "iteration": 266,
                        "passed_time": 19.78233396,
                        "remaining_time": 54.30880447,
                        "test": [
                          0.01617820619
                        ]
                      },
                      {
                        "learn": [
                          0.01615791298
                        ],
                        "iteration": 267,
                        "passed_time": 19.81791226,
                        "remaining_time": 54.12952153,
                        "test": [
                          0.01616510393
                        ]
                      },
                      {
                        "learn": [
                          0.01613128585
                        ],
                        "iteration": 268,
                        "passed_time": 19.8554295,
                        "remaining_time": 53.95657609,
                        "test": [
                          0.01613846584
                        ]
                      },
                      {
                        "learn": [
                          0.01611642997
                        ],
                        "iteration": 269,
                        "passed_time": 19.8931493,
                        "remaining_time": 53.78518144,
                        "test": [
                          0.01612358636
                        ]
                      },
                      {
                        "learn": [
                          0.01610711679
                        ],
                        "iteration": 270,
                        "passed_time": 19.94001332,
                        "remaining_time": 53.63937162,
                        "test": [
                          0.01611430597
                        ]
                      },
                      {
                        "learn": [
                          0.01606119314
                        ],
                        "iteration": 271,
                        "passed_time": 20.05484976,
                        "remaining_time": 53.67621553,
                        "test": [
                          0.01606835584
                        ]
                      },
                      {
                        "learn": [
                          0.01604400154
                        ],
                        "iteration": 272,
                        "passed_time": 20.12713904,
                        "remaining_time": 53.59864498,
                        "test": [
                          0.01605115486
                        ]
                      },
                      {
                        "learn": [
                          0.0160395352
                        ],
                        "iteration": 273,
                        "passed_time": 20.19288616,
                        "remaining_time": 53.50377865,
                        "test": [
                          0.01604669313
                        ]
                      },
                      {
                        "learn": [
                          0.01603517255
                        ],
                        "iteration": 274,
                        "passed_time": 20.25715871,
                        "remaining_time": 53.4052366,
                        "test": [
                          0.01604233876
                        ]
                      },
                      {
                        "learn": [
                          0.01603276475
                        ],
                        "iteration": 275,
                        "passed_time": 20.36910859,
                        "remaining_time": 53.4320095,
                        "test": [
                          0.01603993292
                        ]
                      },
                      {
                        "learn": [
                          0.01602784998
                        ],
                        "iteration": 276,
                        "passed_time": 20.46047578,
                        "remaining_time": 53.40405772,
                        "test": [
                          0.01603503187
                        ]
                      },
                      {
                        "learn": [
                          0.01601364312
                        ],
                        "iteration": 277,
                        "passed_time": 20.53061179,
                        "remaining_time": 53.32050976,
                        "test": [
                          0.01602080618
                        ]
                      },
                      {
                        "learn": [
                          0.01600711965
                        ],
                        "iteration": 278,
                        "passed_time": 20.66534564,
                        "remaining_time": 53.40399356,
                        "test": [
                          0.01601429124
                        ]
                      },
                      {
                        "learn": [
                          0.01599164866
                        ],
                        "iteration": 279,
                        "passed_time": 20.76212722,
                        "remaining_time": 53.38832714,
                        "test": [
                          0.01599882864
                        ]
                      },
                      {
                        "learn": [
                          0.01598199278
                        ],
                        "iteration": 280,
                        "passed_time": 20.83273977,
                        "remaining_time": 53.30512418,
                        "test": [
                          0.0159891841
                        ]
                      },
                      {
                        "learn": [
                          0.01597212918
                        ],
                        "iteration": 281,
                        "passed_time": 20.89772243,
                        "remaining_time": 53.20767625,
                        "test": [
                          0.0159793179
                        ]
                      },
                      {
                        "learn": [
                          0.01594404355
                        ],
                        "iteration": 282,
                        "passed_time": 20.9639548,
                        "remaining_time": 53.113624,
                        "test": [
                          0.01595120211
                        ]
                      },
                      {
                        "learn": [
                          0.01592183179
                        ],
                        "iteration": 283,
                        "passed_time": 21.06296002,
                        "remaining_time": 53.10239217,
                        "test": [
                          0.01592898651
                        ]
                      },
                      {
                        "learn": [
                          0.01591082672
                        ],
                        "iteration": 284,
                        "passed_time": 21.15904809,
                        "remaining_time": 53.08322591,
                        "test": [
                          0.0159179834
                        ]
                      },
                      {
                        "learn": [
                          0.01588874056
                        ],
                        "iteration": 285,
                        "passed_time": 21.23996636,
                        "remaining_time": 53.02565027,
                        "test": [
                          0.01589590835
                        ]
                      },
                      {
                        "learn": [
                          0.01587772692
                        ],
                        "iteration": 286,
                        "passed_time": 21.29050519,
                        "remaining_time": 52.89243973,
                        "test": [
                          0.01588488511
                        ]
                      },
                      {
                        "learn": [
                          0.01585246128
                        ],
                        "iteration": 287,
                        "passed_time": 21.35305665,
                        "remaining_time": 52.78950116,
                        "test": [
                          0.01585962306
                        ]
                      },
                      {
                        "learn": [
                          0.01582920088
                        ],
                        "iteration": 288,
                        "passed_time": 21.42048435,
                        "remaining_time": 52.69883866,
                        "test": [
                          0.01583633523
                        ]
                      },
                      {
                        "learn": [
                          0.01581730688
                        ],
                        "iteration": 289,
                        "passed_time": 21.51482215,
                        "remaining_time": 52.67421974,
                        "test": [
                          0.01582444528
                        ]
                      },
                      {
                        "learn": [
                          0.01580403416
                        ],
                        "iteration": 290,
                        "passed_time": 21.61251281,
                        "remaining_time": 52.65729067,
                        "test": [
                          0.01581117347
                        ]
                      },
                      {
                        "learn": [
                          0.01579712538
                        ],
                        "iteration": 291,
                        "passed_time": 21.67945542,
                        "remaining_time": 52.56525493,
                        "test": [
                          0.01580429335
                        ]
                      },
                      {
                        "learn": [
                          0.01579324493
                        ],
                        "iteration": 292,
                        "passed_time": 21.78233891,
                        "remaining_time": 52.56011471,
                        "test": [
                          0.01580039678
                        ]
                      },
                      {
                        "learn": [
                          0.01577884439
                        ],
                        "iteration": 293,
                        "passed_time": 21.89813123,
                        "remaining_time": 52.58530833,
                        "test": [
                          0.01578598037
                        ]
                      },
                      {
                        "learn": [
                          0.01576125332
                        ],
                        "iteration": 294,
                        "passed_time": 21.9778899,
                        "remaining_time": 52.52343179,
                        "test": [
                          0.01576838088
                        ]
                      },
                      {
                        "learn": [
                          0.01575221032
                        ],
                        "iteration": 295,
                        "passed_time": 22.0633733,
                        "remaining_time": 52.47505001,
                        "test": [
                          0.01575934637
                        ]
                      },
                      {
                        "learn": [
                          0.0157391193
                        ],
                        "iteration": 296,
                        "passed_time": 22.15525223,
                        "remaining_time": 52.44155662,
                        "test": [
                          0.01574624372
                        ]
                      },
                      {
                        "learn": [
                          0.01571701469
                        ],
                        "iteration": 297,
                        "passed_time": 22.25943928,
                        "remaining_time": 52.43666568,
                        "test": [
                          0.01572413055
                        ]
                      },
                      {
                        "learn": [
                          0.01570955994
                        ],
                        "iteration": 298,
                        "passed_time": 22.33421223,
                        "remaining_time": 52.36214973,
                        "test": [
                          0.0157167049
                        ]
                      },
                      {
                        "learn": [
                          0.01570614578
                        ],
                        "iteration": 299,
                        "passed_time": 22.41823649,
                        "remaining_time": 52.30921848,
                        "test": [
                          0.01571326389
                        ]
                      },
                      {
                        "learn": [
                          0.01569916748
                        ],
                        "iteration": 300,
                        "passed_time": 22.49368894,
                        "remaining_time": 52.23617465,
                        "test": [
                          0.01570631499
                        ]
                      },
                      {
                        "learn": [
                          0.01566882205
                        ],
                        "iteration": 301,
                        "passed_time": 22.56758884,
                        "remaining_time": 52.15952652,
                        "test": [
                          0.01567594411
                        ]
                      },
                      {
                        "learn": [
                          0.01566266772
                        ],
                        "iteration": 302,
                        "passed_time": 22.63453768,
                        "remaining_time": 52.06690681,
                        "test": [
                          0.01566979554
                        ]
                      },
                      {
                        "learn": [
                          0.01565881307
                        ],
                        "iteration": 303,
                        "passed_time": 22.72775412,
                        "remaining_time": 52.03459495,
                        "test": [
                          0.01566595118
                        ]
                      },
                      {
                        "learn": [
                          0.01565202679
                        ],
                        "iteration": 304,
                        "passed_time": 22.81462822,
                        "remaining_time": 51.98743151,
                        "test": [
                          0.01565915385
                        ]
                      },
                      {
                        "learn": [
                          0.01562710281
                        ],
                        "iteration": 305,
                        "passed_time": 22.89148339,
                        "remaining_time": 51.91728587,
                        "test": [
                          0.01563422736
                        ]
                      },
                      {
                        "learn": [
                          0.01562203772
                        ],
                        "iteration": 306,
                        "passed_time": 22.97931511,
                        "remaining_time": 51.87187417,
                        "test": [
                          0.01562918157
                        ]
                      },
                      {
                        "learn": [
                          0.01560061172
                        ],
                        "iteration": 307,
                        "passed_time": 23.05757371,
                        "remaining_time": 51.80467859,
                        "test": [
                          0.01560771986
                        ]
                      },
                      {
                        "learn": [
                          0.01557984074
                        ],
                        "iteration": 308,
                        "passed_time": 23.14318418,
                        "remaining_time": 51.75385199,
                        "test": [
                          0.01558696336
                        ]
                      },
                      {
                        "learn": [
                          0.01557125236
                        ],
                        "iteration": 309,
                        "passed_time": 23.23376627,
                        "remaining_time": 51.71386686,
                        "test": [
                          0.01557836828
                        ]
                      },
                      {
                        "learn": [
                          0.01555068662
                        ],
                        "iteration": 310,
                        "passed_time": 23.27953728,
                        "remaining_time": 51.57428035,
                        "test": [
                          0.01555780654
                        ]
                      },
                      {
                        "learn": [
                          0.01554398002
                        ],
                        "iteration": 311,
                        "passed_time": 23.3459636,
                        "remaining_time": 51.48084281,
                        "test": [
                          0.0155511018
                        ]
                      },
                      {
                        "learn": [
                          0.01553052958
                        ],
                        "iteration": 312,
                        "passed_time": 23.39685237,
                        "remaining_time": 51.35347469,
                        "test": [
                          0.01553761889
                        ]
                      },
                      {
                        "learn": [
                          0.01552244374
                        ],
                        "iteration": 313,
                        "passed_time": 23.50937139,
                        "remaining_time": 51.36123813,
                        "test": [
                          0.01552954722
                        ]
                      },
                      {
                        "learn": [
                          0.01549866227
                        ],
                        "iteration": 314,
                        "passed_time": 23.55720365,
                        "remaining_time": 51.22756984,
                        "test": [
                          0.01550574975
                        ]
                      },
                      {
                        "learn": [
                          0.01549182488
                        ],
                        "iteration": 315,
                        "passed_time": 23.71771386,
                        "remaining_time": 51.33834266,
                        "test": [
                          0.01549892077
                        ]
                      },
                      {
                        "learn": [
                          0.01546772884
                        ],
                        "iteration": 316,
                        "passed_time": 23.81822614,
                        "remaining_time": 51.31813393,
                        "test": [
                          0.01547483174
                        ]
                      },
                      {
                        "learn": [
                          0.01545838965
                        ],
                        "iteration": 317,
                        "passed_time": 23.89627907,
                        "remaining_time": 51.2492526,
                        "test": [
                          0.01546548322
                        ]
                      },
                      {
                        "learn": [
                          0.01544569034
                        ],
                        "iteration": 318,
                        "passed_time": 23.96795389,
                        "remaining_time": 51.16669779,
                        "test": [
                          0.01545279396
                        ]
                      },
                      {
                        "learn": [
                          0.01543350646
                        ],
                        "iteration": 319,
                        "passed_time": 24.0637072,
                        "remaining_time": 51.13537779,
                        "test": [
                          0.01544058223
                        ]
                      },
                      {
                        "learn": [
                          0.01542866779
                        ],
                        "iteration": 320,
                        "passed_time": 24.14350746,
                        "remaining_time": 51.06991142,
                        "test": [
                          0.01543574857
                        ]
                      },
                      {
                        "learn": [
                          0.01542690036
                        ],
                        "iteration": 321,
                        "passed_time": 24.24117939,
                        "remaining_time": 51.04198641,
                        "test": [
                          0.01543399201
                        ]
                      },
                      {
                        "learn": [
                          0.01539845379
                        ],
                        "iteration": 322,
                        "passed_time": 24.2825053,
                        "remaining_time": 50.89552968,
                        "test": [
                          0.01540554016
                        ]
                      },
                      {
                        "learn": [
                          0.01538913666
                        ],
                        "iteration": 323,
                        "passed_time": 24.3213641,
                        "remaining_time": 50.74457448,
                        "test": [
                          0.01539621421
                        ]
                      },
                      {
                        "learn": [
                          0.01538734375
                        ],
                        "iteration": 324,
                        "passed_time": 24.37686628,
                        "remaining_time": 50.62887613,
                        "test": [
                          0.01539444449
                        ]
                      },
                      {
                        "learn": [
                          0.01537595569
                        ],
                        "iteration": 325,
                        "passed_time": 24.4203345,
                        "remaining_time": 50.48866704,
                        "test": [
                          0.01538305047
                        ]
                      },
                      {
                        "learn": [
                          0.01536723453
                        ],
                        "iteration": 326,
                        "passed_time": 24.45742841,
                        "remaining_time": 50.33593065,
                        "test": [
                          0.01537432629
                        ]
                      },
                      {
                        "learn": [
                          0.01534849468
                        ],
                        "iteration": 327,
                        "passed_time": 24.51546393,
                        "remaining_time": 50.22680414,
                        "test": [
                          0.01535558645
                        ]
                      },
                      {
                        "learn": [
                          0.0153315319
                        ],
                        "iteration": 328,
                        "passed_time": 24.59939453,
                        "remaining_time": 50.17080162,
                        "test": [
                          0.0153386088
                        ]
                      },
                      {
                        "learn": [
                          0.01532468367
                        ],
                        "iteration": 329,
                        "passed_time": 24.64210245,
                        "remaining_time": 50.03093527,
                        "test": [
                          0.0153317723
                        ]
                      },
                      {
                        "learn": [
                          0.01531978733
                        ],
                        "iteration": 330,
                        "passed_time": 24.6930909,
                        "remaining_time": 49.90839219,
                        "test": [
                          0.01532686953
                        ]
                      },
                      {
                        "learn": [
                          0.01528983204
                        ],
                        "iteration": 331,
                        "passed_time": 24.73303694,
                        "remaining_time": 49.76406228,
                        "test": [
                          0.01529688519
                        ]
                      },
                      {
                        "learn": [
                          0.01527516556
                        ],
                        "iteration": 332,
                        "passed_time": 24.77676649,
                        "remaining_time": 49.62793769,
                        "test": [
                          0.01528223572
                        ]
                      },
                      {
                        "learn": [
                          0.0152665601
                        ],
                        "iteration": 333,
                        "passed_time": 24.8722764,
                        "remaining_time": 49.59561701,
                        "test": [
                          0.0152736188
                        ]
                      },
                      {
                        "learn": [
                          0.0152618806
                        ],
                        "iteration": 334,
                        "passed_time": 24.95177914,
                        "remaining_time": 49.53114367,
                        "test": [
                          0.01526894989
                        ]
                      },
                      {
                        "learn": [
                          0.01525280645
                        ],
                        "iteration": 335,
                        "passed_time": 24.99232312,
                        "remaining_time": 49.38959093,
                        "test": [
                          0.01525986739
                        ]
                      },
                      {
                        "learn": [
                          0.01523287073
                        ],
                        "iteration": 336,
                        "passed_time": 25.05434126,
                        "remaining_time": 49.29088503,
                        "test": [
                          0.01523993094
                        ]
                      },
                      {
                        "learn": [
                          0.01521895734
                        ],
                        "iteration": 337,
                        "passed_time": 25.14021645,
                        "remaining_time": 49.23912216,
                        "test": [
                          0.01522598337
                        ]
                      },
                      {
                        "learn": [
                          0.01520322723
                        ],
                        "iteration": 338,
                        "passed_time": 25.22543247,
                        "remaining_time": 49.18587275,
                        "test": [
                          0.01521026475
                        ]
                      },
                      {
                        "learn": [
                          0.01518102957
                        ],
                        "iteration": 339,
                        "passed_time": 25.32729416,
                        "remaining_time": 49.16474748,
                        "test": [
                          0.01518807112
                        ]
                      },
                      {
                        "learn": [
                          0.01517560973
                        ],
                        "iteration": 340,
                        "passed_time": 25.42585265,
                        "remaining_time": 49.13676509,
                        "test": [
                          0.01518263968
                        ]
                      },
                      {
                        "learn": [
                          0.01516820292
                        ],
                        "iteration": 341,
                        "passed_time": 25.49968637,
                        "remaining_time": 49.06080009,
                        "test": [
                          0.01517524505
                        ]
                      },
                      {
                        "learn": [
                          0.01516394804
                        ],
                        "iteration": 342,
                        "passed_time": 25.59917592,
                        "remaining_time": 49.03399003,
                        "test": [
                          0.01517099872
                        ]
                      },
                      {
                        "learn": [
                          0.01515378343
                        ],
                        "iteration": 343,
                        "passed_time": 25.66622334,
                        "remaining_time": 48.94489103,
                        "test": [
                          0.01516083734
                        ]
                      },
                      {
                        "learn": [
                          0.0151346528
                        ],
                        "iteration": 344,
                        "passed_time": 25.73141999,
                        "remaining_time": 48.85240608,
                        "test": [
                          0.01514170034
                        ]
                      },
                      {
                        "learn": [
                          0.01510946296
                        ],
                        "iteration": 345,
                        "passed_time": 25.80709341,
                        "remaining_time": 48.77988176,
                        "test": [
                          0.01511649001
                        ]
                      },
                      {
                        "learn": [
                          0.01510477552
                        ],
                        "iteration": 346,
                        "passed_time": 25.88737035,
                        "remaining_time": 48.71600242,
                        "test": [
                          0.01511179326
                        ]
                      },
                      {
                        "learn": [
                          0.01509407541
                        ],
                        "iteration": 347,
                        "passed_time": 25.92967562,
                        "remaining_time": 48.58088651,
                        "test": [
                          0.01510109398
                        ]
                      },
                      {
                        "learn": [
                          0.01508539809
                        ],
                        "iteration": 348,
                        "passed_time": 25.99461004,
                        "remaining_time": 48.48851328,
                        "test": [
                          0.01509243445
                        ]
                      },
                      {
                        "learn": [
                          0.01506677453
                        ],
                        "iteration": 349,
                        "passed_time": 26.07421814,
                        "remaining_time": 48.42354798,
                        "test": [
                          0.01507381351
                        ]
                      },
                      {
                        "learn": [
                          0.01506193399
                        ],
                        "iteration": 350,
                        "passed_time": 26.13158567,
                        "remaining_time": 48.31737635,
                        "test": [
                          0.01506897198
                        ]
                      },
                      {
                        "learn": [
                          0.01505401266
                        ],
                        "iteration": 351,
                        "passed_time": 26.20357969,
                        "remaining_time": 48.23840806,
                        "test": [
                          0.01506104864
                        ]
                      },
                      {
                        "learn": [
                          0.01502925354
                        ],
                        "iteration": 352,
                        "passed_time": 26.32888488,
                        "remaining_time": 48.25719127,
                        "test": [
                          0.01503629627
                        ]
                      },
                      {
                        "learn": [
                          0.01501291836
                        ],
                        "iteration": 353,
                        "passed_time": 26.45541653,
                        "remaining_time": 48.27739852,
                        "test": [
                          0.01501994118
                        ]
                      },
                      {
                        "learn": [
                          0.01500316317
                        ],
                        "iteration": 354,
                        "passed_time": 26.53505102,
                        "remaining_time": 48.21157158,
                        "test": [
                          0.01501018843
                        ]
                      },
                      {
                        "learn": [
                          0.01499823172
                        ],
                        "iteration": 355,
                        "passed_time": 26.5818116,
                        "remaining_time": 48.08619851,
                        "test": [
                          0.01500525925
                        ]
                      },
                      {
                        "learn": [
                          0.01499469561
                        ],
                        "iteration": 356,
                        "passed_time": 26.65488237,
                        "remaining_time": 48.00865368,
                        "test": [
                          0.01500173817
                        ]
                      },
                      {
                        "learn": [
                          0.0149800226
                        ],
                        "iteration": 357,
                        "passed_time": 26.72807003,
                        "remaining_time": 47.93134345,
                        "test": [
                          0.01498704724
                        ]
                      },
                      {
                        "learn": [
                          0.01495891085
                        ],
                        "iteration": 358,
                        "passed_time": 26.80481605,
                        "remaining_time": 47.86040972,
                        "test": [
                          0.01496594268
                        ]
                      },
                      {
                        "learn": [
                          0.0149394957
                        ],
                        "iteration": 359,
                        "passed_time": 26.88726759,
                        "remaining_time": 47.79958683,
                        "test": [
                          0.01494651974
                        ]
                      },
                      {
                        "learn": [
                          0.0149243105
                        ],
                        "iteration": 360,
                        "passed_time": 26.95455299,
                        "remaining_time": 47.71179878,
                        "test": [
                          0.01493132512
                        ]
                      },
                      {
                        "learn": [
                          0.0149114609
                        ],
                        "iteration": 361,
                        "passed_time": 27.00021151,
                        "remaining_time": 47.58600812,
                        "test": [
                          0.01491849501
                        ]
                      },
                      {
                        "learn": [
                          0.01490442265
                        ],
                        "iteration": 362,
                        "passed_time": 27.03607368,
                        "remaining_time": 47.44346815,
                        "test": [
                          0.01491145329
                        ]
                      },
                      {
                        "learn": [
                          0.0148791329
                        ],
                        "iteration": 363,
                        "passed_time": 27.07703158,
                        "remaining_time": 47.31041782,
                        "test": [
                          0.01488616761
                        ]
                      },
                      {
                        "learn": [
                          0.01487104948
                        ],
                        "iteration": 364,
                        "passed_time": 27.12305007,
                        "remaining_time": 47.18667615,
                        "test": [
                          0.01487806648
                        ]
                      },
                      {
                        "learn": [
                          0.01484701779
                        ],
                        "iteration": 365,
                        "passed_time": 27.18956486,
                        "remaining_time": 47.09886372,
                        "test": [
                          0.01485402965
                        ]
                      },
                      {
                        "learn": [
                          0.01484568567
                        ],
                        "iteration": 366,
                        "passed_time": 27.22966898,
                        "remaining_time": 46.96561434,
                        "test": [
                          0.01485269219
                        ]
                      },
                      {
                        "learn": [
                          0.01482400834
                        ],
                        "iteration": 367,
                        "passed_time": 27.29846331,
                        "remaining_time": 46.8821435,
                        "test": [
                          0.01483101551
                        ]
                      },
                      {
                        "learn": [
                          0.01481991216
                        ],
                        "iteration": 368,
                        "passed_time": 27.39427144,
                        "remaining_time": 46.84494656,
                        "test": [
                          0.01482692336
                        ]
                      },
                      {
                        "learn": [
                          0.01479870274
                        ],
                        "iteration": 369,
                        "passed_time": 27.4584906,
                        "remaining_time": 46.75364616,
                        "test": [
                          0.01480572519
                        ]
                      },
                      {
                        "learn": [
                          0.01478623916
                        ],
                        "iteration": 370,
                        "passed_time": 27.54945654,
                        "remaining_time": 46.70783871,
                        "test": [
                          0.01479324014
                        ]
                      },
                      {
                        "learn": [
                          0.01477976166
                        ],
                        "iteration": 371,
                        "passed_time": 27.66418018,
                        "remaining_time": 46.70189557,
                        "test": [
                          0.01478678309
                        ]
                      },
                      {
                        "learn": [
                          0.01477330288
                        ],
                        "iteration": 372,
                        "passed_time": 27.76611679,
                        "remaining_time": 46.67387461,
                        "test": [
                          0.01478031642
                        ]
                      },
                      {
                        "learn": [
                          0.01476892354
                        ],
                        "iteration": 373,
                        "passed_time": 27.9020621,
                        "remaining_time": 46.70238202,
                        "test": [
                          0.01477593338
                        ]
                      },
                      {
                        "learn": [
                          0.01476531374
                        ],
                        "iteration": 374,
                        "passed_time": 28.02388922,
                        "remaining_time": 46.70648203,
                        "test": [
                          0.01477233996
                        ]
                      },
                      {
                        "learn": [
                          0.01474115836
                        ],
                        "iteration": 375,
                        "passed_time": 28.1514403,
                        "remaining_time": 46.71941156,
                        "test": [
                          0.01474815343
                        ]
                      },
                      {
                        "learn": [
                          0.01473727606
                        ],
                        "iteration": 376,
                        "passed_time": 28.37345676,
                        "remaining_time": 46.88770176,
                        "test": [
                          0.0147442635
                        ]
                      },
                      {
                        "learn": [
                          0.0147251346
                        ],
                        "iteration": 377,
                        "passed_time": 28.47860447,
                        "remaining_time": 46.86161899,
                        "test": [
                          0.01473213739
                        ]
                      },
                      {
                        "learn": [
                          0.01470803179
                        ],
                        "iteration": 378,
                        "passed_time": 28.57623249,
                        "remaining_time": 46.82279783,
                        "test": [
                          0.01471503525
                        ]
                      },
                      {
                        "learn": [
                          0.01469450872
                        ],
                        "iteration": 379,
                        "passed_time": 28.67683935,
                        "remaining_time": 46.78852737,
                        "test": [
                          0.01470149867
                        ]
                      },
                      {
                        "learn": [
                          0.01467005667
                        ],
                        "iteration": 380,
                        "passed_time": 28.79395328,
                        "remaining_time": 46.78072725,
                        "test": [
                          0.01467704359
                        ]
                      },
                      {
                        "learn": [
                          0.01466293301
                        ],
                        "iteration": 381,
                        "passed_time": 28.93455028,
                        "remaining_time": 46.81034574,
                        "test": [
                          0.01466991829
                        ]
                      },
                      {
                        "learn": [
                          0.0146459564
                        ],
                        "iteration": 382,
                        "passed_time": 29.07965503,
                        "remaining_time": 46.84633721,
                        "test": [
                          0.01465294781
                        ]
                      },
                      {
                        "learn": [
                          0.01463148971
                        ],
                        "iteration": 383,
                        "passed_time": 29.17798488,
                        "remaining_time": 46.80635074,
                        "test": [
                          0.01463848047
                        ]
                      },
                      {
                        "learn": [
                          0.01460960672
                        ],
                        "iteration": 384,
                        "passed_time": 29.29756662,
                        "remaining_time": 46.80000901,
                        "test": [
                          0.01461655637
                        ]
                      },
                      {
                        "learn": [
                          0.01459540475
                        ],
                        "iteration": 385,
                        "passed_time": 29.41079889,
                        "remaining_time": 46.78298062,
                        "test": [
                          0.01460237886
                        ]
                      },
                      {
                        "learn": [
                          0.01458166845
                        ],
                        "iteration": 386,
                        "passed_time": 29.52594291,
                        "remaining_time": 46.76848321,
                        "test": [
                          0.01458862261
                        ]
                      },
                      {
                        "learn": [
                          0.01457036179
                        ],
                        "iteration": 387,
                        "passed_time": 29.6166274,
                        "remaining_time": 46.71488652,
                        "test": [
                          0.01457731332
                        ]
                      },
                      {
                        "learn": [
                          0.0145475193
                        ],
                        "iteration": 388,
                        "passed_time": 29.69310823,
                        "remaining_time": 46.63878953,
                        "test": [
                          0.01455447476
                        ]
                      },
                      {
                        "learn": [
                          0.01453654499
                        ],
                        "iteration": 389,
                        "passed_time": 29.77770055,
                        "remaining_time": 46.57537778,
                        "test": [
                          0.01454349721
                        ]
                      },
                      {
                        "learn": [
                          0.01452551346
                        ],
                        "iteration": 390,
                        "passed_time": 29.84509234,
                        "remaining_time": 46.4850671,
                        "test": [
                          0.01453247893
                        ]
                      },
                      {
                        "learn": [
                          0.01452062496
                        ],
                        "iteration": 391,
                        "passed_time": 30.03048087,
                        "remaining_time": 46.5778887,
                        "test": [
                          0.01452758188
                        ]
                      },
                      {
                        "learn": [
                          0.01451649017
                        ],
                        "iteration": 392,
                        "passed_time": 30.20073616,
                        "remaining_time": 46.64592074,
                        "test": [
                          0.01452344158
                        ]
                      },
                      {
                        "learn": [
                          0.01451453708
                        ],
                        "iteration": 393,
                        "passed_time": 30.32152499,
                        "remaining_time": 46.63666027,
                        "test": [
                          0.01452149187
                        ]
                      },
                      {
                        "learn": [
                          0.01450768333
                        ],
                        "iteration": 394,
                        "passed_time": 30.418908,
                        "remaining_time": 46.59098567,
                        "test": [
                          0.01451464866
                        ]
                      },
                      {
                        "learn": [
                          0.01450426828
                        ],
                        "iteration": 395,
                        "passed_time": 30.55982687,
                        "remaining_time": 46.61145311,
                        "test": [
                          0.0145112395
                        ]
                      },
                      {
                        "learn": [
                          0.0144983185
                        ],
                        "iteration": 396,
                        "passed_time": 30.67615045,
                        "remaining_time": 46.59374993,
                        "test": [
                          0.01450527964
                        ]
                      },
                      {
                        "learn": [
                          0.01448722272
                        ],
                        "iteration": 397,
                        "passed_time": 30.8224721,
                        "remaining_time": 46.62092513,
                        "test": [
                          0.01449419428
                        ]
                      },
                      {
                        "learn": [
                          0.01447114303
                        ],
                        "iteration": 398,
                        "passed_time": 30.9604148,
                        "remaining_time": 46.63460976,
                        "test": [
                          0.01447809856
                        ]
                      },
                      {
                        "learn": [
                          0.01444895952
                        ],
                        "iteration": 399,
                        "passed_time": 31.0955324,
                        "remaining_time": 46.64329861,
                        "test": [
                          0.01445589867
                        ]
                      },
                      {
                        "learn": [
                          0.01444536082
                        ],
                        "iteration": 400,
                        "passed_time": 31.18160132,
                        "remaining_time": 46.57800296,
                        "test": [
                          0.01445231803
                        ]
                      },
                      {
                        "learn": [
                          0.01441995608
                        ],
                        "iteration": 401,
                        "passed_time": 31.31842034,
                        "remaining_time": 46.58809791,
                        "test": [
                          0.01442688321
                        ]
                      },
                      {
                        "learn": [
                          0.01441076479
                        ],
                        "iteration": 402,
                        "passed_time": 31.43359703,
                        "remaining_time": 46.56540305,
                        "test": [
                          0.0144176867
                        ]
                      },
                      {
                        "learn": [
                          0.01440564302
                        ],
                        "iteration": 403,
                        "passed_time": 31.52758496,
                        "remaining_time": 46.51099167,
                        "test": [
                          0.01441258027
                        ]
                      },
                      {
                        "learn": [
                          0.01440274409
                        ],
                        "iteration": 404,
                        "passed_time": 31.64281113,
                        "remaining_time": 46.48758672,
                        "test": [
                          0.01440968281
                        ]
                      },
                      {
                        "learn": [
                          0.01438876851
                        ],
                        "iteration": 405,
                        "passed_time": 31.73201428,
                        "remaining_time": 46.42565636,
                        "test": [
                          0.01439569973
                        ]
                      },
                      {
                        "learn": [
                          0.01438225832
                        ],
                        "iteration": 406,
                        "passed_time": 31.77507297,
                        "remaining_time": 46.29635939,
                        "test": [
                          0.0143891964
                        ]
                      },
                      {
                        "learn": [
                          0.01437335524
                        ],
                        "iteration": 407,
                        "passed_time": 31.86675113,
                        "remaining_time": 46.23803105,
                        "test": [
                          0.01438029914
                        ]
                      },
                      {
                        "learn": [
                          0.01436824856
                        ],
                        "iteration": 408,
                        "passed_time": 31.90794959,
                        "remaining_time": 46.10659709,
                        "test": [
                          0.01437518318
                        ]
                      },
                      {
                        "learn": [
                          0.01435556133
                        ],
                        "iteration": 409,
                        "passed_time": 31.96836929,
                        "remaining_time": 46.00326313,
                        "test": [
                          0.01436251229
                        ]
                      },
                      {
                        "learn": [
                          0.01434007421
                        ],
                        "iteration": 410,
                        "passed_time": 32.03335351,
                        "remaining_time": 45.90667936,
                        "test": [
                          0.01434699822
                        ]
                      },
                      {
                        "learn": [
                          0.01433539859
                        ],
                        "iteration": 411,
                        "passed_time": 32.13933145,
                        "remaining_time": 45.8687546,
                        "test": [
                          0.01434232117
                        ]
                      },
                      {
                        "learn": [
                          0.01432569466
                        ],
                        "iteration": 412,
                        "passed_time": 32.20216777,
                        "remaining_time": 45.76918277,
                        "test": [
                          0.01433262182
                        ]
                      },
                      {
                        "learn": [
                          0.01431583173
                        ],
                        "iteration": 413,
                        "passed_time": 32.28206308,
                        "remaining_time": 45.6939347,
                        "test": [
                          0.01432276124
                        ]
                      },
                      {
                        "learn": [
                          0.01431122198
                        ],
                        "iteration": 414,
                        "passed_time": 32.40184406,
                        "remaining_time": 45.67488862,
                        "test": [
                          0.01431814981
                        ]
                      },
                      {
                        "learn": [
                          0.01430229949
                        ],
                        "iteration": 415,
                        "passed_time": 32.51381395,
                        "remaining_time": 45.64439267,
                        "test": [
                          0.0143092366
                        ]
                      },
                      {
                        "learn": [
                          0.01429737643
                        ],
                        "iteration": 416,
                        "passed_time": 32.63233152,
                        "remaining_time": 45.62266014,
                        "test": [
                          0.01430429486
                        ]
                      },
                      {
                        "learn": [
                          0.01428592301
                        ],
                        "iteration": 417,
                        "passed_time": 32.73678324,
                        "remaining_time": 45.58088001,
                        "test": [
                          0.01429285422
                        ]
                      },
                      {
                        "learn": [
                          0.01425990587
                        ],
                        "iteration": 418,
                        "passed_time": 32.82030218,
                        "remaining_time": 45.50977462,
                        "test": [
                          0.01426682417
                        ]
                      },
                      {
                        "learn": [
                          0.01425117012
                        ],
                        "iteration": 419,
                        "passed_time": 32.90330959,
                        "remaining_time": 45.43790372,
                        "test": [
                          0.01425809212
                        ]
                      },
                      {
                        "learn": [
                          0.01422673206
                        ],
                        "iteration": 420,
                        "passed_time": 32.97378205,
                        "remaining_time": 45.34874063,
                        "test": [
                          0.01423365176
                        ]
                      },
                      {
                        "learn": [
                          0.01420497712
                        ],
                        "iteration": 421,
                        "passed_time": 33.05734267,
                        "remaining_time": 45.27759257,
                        "test": [
                          0.01421191227
                        ]
                      },
                      {
                        "learn": [
                          0.01419900873
                        ],
                        "iteration": 422,
                        "passed_time": 33.11176729,
                        "remaining_time": 45.16664237,
                        "test": [
                          0.01420593315
                        ]
                      },
                      {
                        "learn": [
                          0.01418964894
                        ],
                        "iteration": 423,
                        "passed_time": 33.17659538,
                        "remaining_time": 45.07009184,
                        "test": [
                          0.01419654828
                        ]
                      },
                      {
                        "learn": [
                          0.01417632961
                        ],
                        "iteration": 424,
                        "passed_time": 33.26485107,
                        "remaining_time": 45.00538674,
                        "test": [
                          0.01418323836
                        ]
                      },
                      {
                        "learn": [
                          0.01415709196
                        ],
                        "iteration": 425,
                        "passed_time": 33.3379688,
                        "remaining_time": 44.92017392,
                        "test": [
                          0.01416400298
                        ]
                      },
                      {
                        "learn": [
                          0.01415285573
                        ],
                        "iteration": 426,
                        "passed_time": 33.40533778,
                        "remaining_time": 44.82730339,
                        "test": [
                          0.0141597633
                        ]
                      },
                      {
                        "learn": [
                          0.0141438483
                        ],
                        "iteration": 427,
                        "passed_time": 33.53713804,
                        "remaining_time": 44.82066111,
                        "test": [
                          0.01415074544
                        ]
                      },
                      {
                        "learn": [
                          0.01413175353
                        ],
                        "iteration": 428,
                        "passed_time": 33.67085168,
                        "remaining_time": 44.81598207,
                        "test": [
                          0.01413866164
                        ]
                      },
                      {
                        "learn": [
                          0.01412290259
                        ],
                        "iteration": 429,
                        "passed_time": 33.77449908,
                        "remaining_time": 44.77084762,
                        "test": [
                          0.01412980613
                        ]
                      },
                      {
                        "learn": [
                          0.01411686607
                        ],
                        "iteration": 430,
                        "passed_time": 33.86012259,
                        "remaining_time": 44.70164676,
                        "test": [
                          0.01412378077
                        ]
                      },
                      {
                        "learn": [
                          0.01410322354
                        ],
                        "iteration": 431,
                        "passed_time": 33.89721085,
                        "remaining_time": 44.56855501,
                        "test": [
                          0.01411014026
                        ]
                      },
                      {
                        "learn": [
                          0.01409360713
                        ],
                        "iteration": 432,
                        "passed_time": 33.92679339,
                        "remaining_time": 44.42607818,
                        "test": [
                          0.01410051643
                        ]
                      },
                      {
                        "learn": [
                          0.01408945171
                        ],
                        "iteration": 433,
                        "passed_time": 33.95721489,
                        "remaining_time": 44.28521573,
                        "test": [
                          0.01409635308
                        ]
                      },
                      {
                        "learn": [
                          0.01408268191
                        ],
                        "iteration": 434,
                        "passed_time": 33.99421316,
                        "remaining_time": 44.1534033,
                        "test": [
                          0.01408960492
                        ]
                      },
                      {
                        "learn": [
                          0.01407595631
                        ],
                        "iteration": 435,
                        "passed_time": 34.02791463,
                        "remaining_time": 44.01776113,
                        "test": [
                          0.01408285873
                        ]
                      },
                      {
                        "learn": [
                          0.01406874399
                        ],
                        "iteration": 436,
                        "passed_time": 34.05717708,
                        "remaining_time": 43.87686658,
                        "test": [
                          0.01407565522
                        ]
                      },
                      {
                        "learn": [
                          0.01404876579
                        ],
                        "iteration": 437,
                        "passed_time": 34.08675873,
                        "remaining_time": 43.73689134,
                        "test": [
                          0.01405566258
                        ]
                      },
                      {
                        "learn": [
                          0.01404221586
                        ],
                        "iteration": 438,
                        "passed_time": 34.1154015,
                        "remaining_time": 43.59621923,
                        "test": [
                          0.01404911825
                        ]
                      },
                      {
                        "learn": [
                          0.01402906682
                        ],
                        "iteration": 439,
                        "passed_time": 34.14489857,
                        "remaining_time": 43.45714364,
                        "test": [
                          0.01403596899
                        ]
                      },
                      {
                        "learn": [
                          0.01402565238
                        ],
                        "iteration": 440,
                        "passed_time": 34.17528348,
                        "remaining_time": 43.3196904,
                        "test": [
                          0.01403253989
                        ]
                      },
                      {
                        "learn": [
                          0.01402239185
                        ],
                        "iteration": 441,
                        "passed_time": 34.20679968,
                        "remaining_time": 43.18414983,
                        "test": [
                          0.01402928608
                        ]
                      },
                      {
                        "learn": [
                          0.01400986528
                        ],
                        "iteration": 442,
                        "passed_time": 34.23924338,
                        "remaining_time": 43.05024507,
                        "test": [
                          0.01401673204
                        ]
                      },
                      {
                        "learn": [
                          0.01400386653
                        ],
                        "iteration": 443,
                        "passed_time": 34.27239779,
                        "remaining_time": 42.91768732,
                        "test": [
                          0.01401075559
                        ]
                      },
                      {
                        "learn": [
                          0.0140005098
                        ],
                        "iteration": 444,
                        "passed_time": 34.3018379,
                        "remaining_time": 42.7809439,
                        "test": [
                          0.01400739082
                        ]
                      },
                      {
                        "learn": [
                          0.0139974994
                        ],
                        "iteration": 445,
                        "passed_time": 34.34521133,
                        "remaining_time": 42.66198896,
                        "test": [
                          0.01400438515
                        ]
                      },
                      {
                        "learn": [
                          0.01398193187
                        ],
                        "iteration": 446,
                        "passed_time": 34.3800515,
                        "remaining_time": 42.53281539,
                        "test": [
                          0.01398882154
                        ]
                      },
                      {
                        "learn": [
                          0.01397598517
                        ],
                        "iteration": 447,
                        "passed_time": 34.40929378,
                        "remaining_time": 42.39716555,
                        "test": [
                          0.01398287017
                        ]
                      },
                      {
                        "learn": [
                          0.01396995549
                        ],
                        "iteration": 448,
                        "passed_time": 34.43593783,
                        "remaining_time": 42.25880121,
                        "test": [
                          0.01397684782
                        ]
                      },
                      {
                        "learn": [
                          0.01396193543
                        ],
                        "iteration": 449,
                        "passed_time": 34.46833006,
                        "remaining_time": 42.12795896,
                        "test": [
                          0.01396883624
                        ]
                      },
                      {
                        "learn": [
                          0.01394670786
                        ],
                        "iteration": 450,
                        "passed_time": 34.49920075,
                        "remaining_time": 41.99570114,
                        "test": [
                          0.01395357855
                        ]
                      },
                      {
                        "learn": [
                          0.01394039306
                        ],
                        "iteration": 451,
                        "passed_time": 34.52837163,
                        "remaining_time": 41.86183109,
                        "test": [
                          0.01394727411
                        ]
                      },
                      {
                        "learn": [
                          0.01393252778
                        ],
                        "iteration": 452,
                        "passed_time": 34.55945721,
                        "remaining_time": 41.7307353,
                        "test": [
                          0.01393939269
                        ]
                      },
                      {
                        "learn": [
                          0.01393004466
                        ],
                        "iteration": 453,
                        "passed_time": 34.59196707,
                        "remaining_time": 41.601793,
                        "test": [
                          0.01393690922
                        ]
                      },
                      {
                        "learn": [
                          0.01392219008
                        ],
                        "iteration": 454,
                        "passed_time": 34.62393611,
                        "remaining_time": 41.47262677,
                        "test": [
                          0.01392906866
                        ]
                      },
                      {
                        "learn": [
                          0.01389951373
                        ],
                        "iteration": 455,
                        "passed_time": 34.68084243,
                        "remaining_time": 41.37363658,
                        "test": [
                          0.01390637327
                        ]
                      },
                      {
                        "learn": [
                          0.0138968402
                        ],
                        "iteration": 456,
                        "passed_time": 34.7127508,
                        "remaining_time": 41.24512841,
                        "test": [
                          0.01390370601
                        ]
                      },
                      {
                        "learn": [
                          0.01388919713
                        ],
                        "iteration": 457,
                        "passed_time": 34.74296011,
                        "remaining_time": 41.1150314,
                        "test": [
                          0.0138960673
                        ]
                      },
                      {
                        "learn": [
                          0.01387645661
                        ],
                        "iteration": 458,
                        "passed_time": 34.77238881,
                        "remaining_time": 40.98444955,
                        "test": [
                          0.01388332105
                        ]
                      },
                      {
                        "learn": [
                          0.01386486201
                        ],
                        "iteration": 459,
                        "passed_time": 34.80441695,
                        "remaining_time": 40.85735902,
                        "test": [
                          0.01387171769
                        ]
                      },
                      {
                        "learn": [
                          0.01383944411
                        ],
                        "iteration": 460,
                        "passed_time": 34.83477042,
                        "remaining_time": 40.7287229,
                        "test": [
                          0.01384627121
                        ]
                      },
                      {
                        "learn": [
                          0.01382214193
                        ],
                        "iteration": 461,
                        "passed_time": 34.86577183,
                        "remaining_time": 40.60126677,
                        "test": [
                          0.0138289951
                        ]
                      },
                      {
                        "learn": [
                          0.01380787208
                        ],
                        "iteration": 462,
                        "passed_time": 34.89585762,
                        "remaining_time": 40.47316531,
                        "test": [
                          0.01381471639
                        ]
                      },
                      {
                        "learn": [
                          0.01380609734
                        ],
                        "iteration": 463,
                        "passed_time": 34.92406151,
                        "remaining_time": 40.34331244,
                        "test": [
                          0.01381293987
                        ]
                      },
                      {
                        "learn": [
                          0.01378894452
                        ],
                        "iteration": 464,
                        "passed_time": 34.95529271,
                        "remaining_time": 40.21737978,
                        "test": [
                          0.01379579516
                        ]
                      },
                      {
                        "learn": [
                          0.01377836717
                        ],
                        "iteration": 465,
                        "passed_time": 34.99023879,
                        "remaining_time": 40.09611055,
                        "test": [
                          0.01378521481
                        ]
                      },
                      {
                        "learn": [
                          0.01377538952
                        ],
                        "iteration": 466,
                        "passed_time": 35.02041722,
                        "remaining_time": 39.96976955,
                        "test": [
                          0.0137822446
                        ]
                      },
                      {
                        "learn": [
                          0.01376636067
                        ],
                        "iteration": 467,
                        "passed_time": 35.05085464,
                        "remaining_time": 39.84413391,
                        "test": [
                          0.01377319588
                        ]
                      },
                      {
                        "learn": [
                          0.01375930743
                        ],
                        "iteration": 468,
                        "passed_time": 35.0790729,
                        "remaining_time": 39.7163917,
                        "test": [
                          0.01376612955
                        ]
                      },
                      {
                        "learn": [
                          0.01374279816
                        ],
                        "iteration": 469,
                        "passed_time": 35.10843014,
                        "remaining_time": 39.59035739,
                        "test": [
                          0.01374964696
                        ]
                      },
                      {
                        "learn": [
                          0.01372847239
                        ],
                        "iteration": 470,
                        "passed_time": 35.13814598,
                        "remaining_time": 39.46513636,
                        "test": [
                          0.01373530891
                        ]
                      },
                      {
                        "learn": [
                          0.01371802054
                        ],
                        "iteration": 471,
                        "passed_time": 35.16712691,
                        "remaining_time": 39.3394979,
                        "test": [
                          0.01372485797
                        ]
                      },
                      {
                        "learn": [
                          0.01370643289
                        ],
                        "iteration": 472,
                        "passed_time": 35.19625896,
                        "remaining_time": 39.21443651,
                        "test": [
                          0.01371327277
                        ]
                      },
                      {
                        "learn": [
                          0.0136988245
                        ],
                        "iteration": 473,
                        "passed_time": 35.22720098,
                        "remaining_time": 39.09178842,
                        "test": [
                          0.01370564475
                        ]
                      },
                      {
                        "learn": [
                          0.01368478028
                        ],
                        "iteration": 474,
                        "passed_time": 35.25855196,
                        "remaining_time": 38.96997848,
                        "test": [
                          0.01369161596
                        ]
                      },
                      {
                        "learn": [
                          0.0136734674
                        ],
                        "iteration": 475,
                        "passed_time": 35.28708612,
                        "remaining_time": 38.84544774,
                        "test": [
                          0.01368028776
                        ]
                      },
                      {
                        "learn": [
                          0.01366543817
                        ],
                        "iteration": 476,
                        "passed_time": 35.31723795,
                        "remaining_time": 38.72309318,
                        "test": [
                          0.01367226242
                        ]
                      },
                      {
                        "learn": [
                          0.01364580171
                        ],
                        "iteration": 477,
                        "passed_time": 35.34569469,
                        "remaining_time": 38.59927328,
                        "test": [
                          0.0136526171
                        ]
                      },
                      {
                        "learn": [
                          0.0136310164
                        ],
                        "iteration": 478,
                        "passed_time": 35.38450802,
                        "remaining_time": 38.48711624,
                        "test": [
                          0.01363783453
                        ]
                      },
                      {
                        "learn": [
                          0.01362487788
                        ],
                        "iteration": 479,
                        "passed_time": 35.41488751,
                        "remaining_time": 38.36612814,
                        "test": [
                          0.01363170512
                        ]
                      },
                      {
                        "learn": [
                          0.01361505293
                        ],
                        "iteration": 480,
                        "passed_time": 35.44657516,
                        "remaining_time": 38.24692829,
                        "test": [
                          0.01362187062
                        ]
                      },
                      {
                        "learn": [
                          0.01360406789
                        ],
                        "iteration": 481,
                        "passed_time": 35.47912415,
                        "remaining_time": 38.12901724,
                        "test": [
                          0.01361089176
                        ]
                      },
                      {
                        "learn": [
                          0.01358842744
                        ],
                        "iteration": 482,
                        "passed_time": 35.50978611,
                        "remaining_time": 38.00943979,
                        "test": [
                          0.01359522908
                        ]
                      },
                      {
                        "learn": [
                          0.01358463266
                        ],
                        "iteration": 483,
                        "passed_time": 35.53818857,
                        "remaining_time": 37.88782087,
                        "test": [
                          0.01359144113
                        ]
                      },
                      {
                        "learn": [
                          0.01356986745
                        ],
                        "iteration": 484,
                        "passed_time": 35.56930628,
                        "remaining_time": 37.76946956,
                        "test": [
                          0.01357667375
                        ]
                      },
                      {
                        "learn": [
                          0.01356347813
                        ],
                        "iteration": 485,
                        "passed_time": 35.59645724,
                        "remaining_time": 37.64728194,
                        "test": [
                          0.01357028563
                        ]
                      },
                      {
                        "learn": [
                          0.01356028833
                        ],
                        "iteration": 486,
                        "passed_time": 35.62371775,
                        "remaining_time": 37.52560002,
                        "test": [
                          0.01356710013
                        ]
                      },
                      {
                        "learn": [
                          0.013538288
                        ],
                        "iteration": 487,
                        "passed_time": 35.68381909,
                        "remaining_time": 37.43876101,
                        "test": [
                          0.01354507745
                        ]
                      },
                      {
                        "learn": [
                          0.01353539914
                        ],
                        "iteration": 488,
                        "passed_time": 35.71504462,
                        "remaining_time": 37.32185644,
                        "test": [
                          0.01354219258
                        ]
                      },
                      {
                        "learn": [
                          0.01353246636
                        ],
                        "iteration": 489,
                        "passed_time": 35.74338048,
                        "remaining_time": 37.20229397,
                        "test": [
                          0.01353926781
                        ]
                      },
                      {
                        "learn": [
                          0.01352288432
                        ],
                        "iteration": 490,
                        "passed_time": 35.7829565,
                        "remaining_time": 37.09475531,
                        "test": [
                          0.01352968512
                        ]
                      },
                      {
                        "learn": [
                          0.01351702817
                        ],
                        "iteration": 491,
                        "passed_time": 35.81337618,
                        "remaining_time": 36.97803882,
                        "test": [
                          0.01352383954
                        ]
                      },
                      {
                        "learn": [
                          0.01351120692
                        ],
                        "iteration": 492,
                        "passed_time": 35.84085106,
                        "remaining_time": 36.85864399,
                        "test": [
                          0.01351801223
                        ]
                      },
                      {
                        "learn": [
                          0.01350388169
                        ],
                        "iteration": 493,
                        "passed_time": 35.8701412,
                        "remaining_time": 36.74148066,
                        "test": [
                          0.01351068368
                        ]
                      },
                      {
                        "learn": [
                          0.01349552831
                        ],
                        "iteration": 494,
                        "passed_time": 35.90234213,
                        "remaining_time": 36.62764197,
                        "test": [
                          0.01350232985
                        ]
                      },
                      {
                        "learn": [
                          0.01347124426
                        ],
                        "iteration": 495,
                        "passed_time": 35.93276098,
                        "remaining_time": 36.51232164,
                        "test": [
                          0.01347803614
                        ]
                      },
                      {
                        "learn": [
                          0.01346754093
                        ],
                        "iteration": 496,
                        "passed_time": 35.96012311,
                        "remaining_time": 36.39424935,
                        "test": [
                          0.01347433934
                        ]
                      },
                      {
                        "learn": [
                          0.01346386671
                        ],
                        "iteration": 497,
                        "passed_time": 35.99562014,
                        "remaining_time": 36.28474159,
                        "test": [
                          0.01347065768
                        ]
                      },
                      {
                        "learn": [
                          0.0134580292
                        ],
                        "iteration": 498,
                        "passed_time": 36.02448604,
                        "remaining_time": 36.16887276,
                        "test": [
                          0.01346481049
                        ]
                      },
                      {
                        "learn": [
                          0.01344121616
                        ],
                        "iteration": 499,
                        "passed_time": 36.05460063,
                        "remaining_time": 36.05460063,
                        "test": [
                          0.01344800282
                        ]
                      },
                      {
                        "learn": [
                          0.01343366607
                        ],
                        "iteration": 500,
                        "passed_time": 36.08327152,
                        "remaining_time": 35.93922652,
                        "test": [
                          0.01344044512
                        ]
                      },
                      {
                        "learn": [
                          0.01341971652
                        ],
                        "iteration": 501,
                        "passed_time": 36.11299285,
                        "remaining_time": 35.82523992,
                        "test": [
                          0.01342648303
                        ]
                      },
                      {
                        "learn": [
                          0.0134118002
                        ],
                        "iteration": 502,
                        "passed_time": 36.14290048,
                        "remaining_time": 35.71177245,
                        "test": [
                          0.01341857315
                        ]
                      },
                      {
                        "learn": [
                          0.01340793723
                        ],
                        "iteration": 503,
                        "passed_time": 36.17288114,
                        "remaining_time": 35.59870842,
                        "test": [
                          0.01341470868
                        ]
                      },
                      {
                        "learn": [
                          0.01340243472
                        ],
                        "iteration": 504,
                        "passed_time": 36.20182008,
                        "remaining_time": 35.48495236,
                        "test": [
                          0.01340920726
                        ]
                      },
                      {
                        "learn": [
                          0.01339461376
                        ],
                        "iteration": 505,
                        "passed_time": 36.23367285,
                        "remaining_time": 35.37437626,
                        "test": [
                          0.0134013832
                        ]
                      },
                      {
                        "learn": [
                          0.01339164938
                        ],
                        "iteration": 506,
                        "passed_time": 36.26247062,
                        "remaining_time": 35.26114007,
                        "test": [
                          0.01339840696
                        ]
                      },
                      {
                        "learn": [
                          0.01338425807
                        ],
                        "iteration": 507,
                        "passed_time": 36.29354229,
                        "remaining_time": 35.15043859,
                        "test": [
                          0.0133910096
                        ]
                      },
                      {
                        "learn": [
                          0.01337073323
                        ],
                        "iteration": 508,
                        "passed_time": 36.32238272,
                        "remaining_time": 35.03789767,
                        "test": [
                          0.0133774821
                        ]
                      },
                      {
                        "learn": [
                          0.01336124172
                        ],
                        "iteration": 509,
                        "passed_time": 36.35279623,
                        "remaining_time": 34.92719637,
                        "test": [
                          0.01336799432
                        ]
                      },
                      {
                        "learn": [
                          0.01335613
                        ],
                        "iteration": 510,
                        "passed_time": 36.39004264,
                        "remaining_time": 34.82334804,
                        "test": [
                          0.01336289106
                        ]
                      },
                      {
                        "learn": [
                          0.01334711563
                        ],
                        "iteration": 511,
                        "passed_time": 36.42433347,
                        "remaining_time": 34.71694284,
                        "test": [
                          0.01335386901
                        ]
                      },
                      {
                        "learn": [
                          0.0133303818
                        ],
                        "iteration": 512,
                        "passed_time": 36.45371965,
                        "remaining_time": 34.6061627,
                        "test": [
                          0.01333711833
                        ]
                      },
                      {
                        "learn": [
                          0.01332324159
                        ],
                        "iteration": 513,
                        "passed_time": 36.48201786,
                        "remaining_time": 34.49467058,
                        "test": [
                          0.01332997722
                        ]
                      },
                      {
                        "learn": [
                          0.01331549476
                        ],
                        "iteration": 514,
                        "passed_time": 36.51022259,
                        "remaining_time": 34.38341351,
                        "test": [
                          0.01332224438
                        ]
                      },
                      {
                        "learn": [
                          0.01330506375
                        ],
                        "iteration": 515,
                        "passed_time": 36.53969421,
                        "remaining_time": 34.27366666,
                        "test": [
                          0.013311811
                        ]
                      },
                      {
                        "learn": [
                          0.01329976026
                        ],
                        "iteration": 516,
                        "passed_time": 36.568415,
                        "remaining_time": 34.16352891,
                        "test": [
                          0.01330651164
                        ]
                      },
                      {
                        "learn": [
                          0.01329177764
                        ],
                        "iteration": 517,
                        "passed_time": 36.59711149,
                        "remaining_time": 34.05368289,
                        "test": [
                          0.01329851263
                        ]
                      },
                      {
                        "learn": [
                          0.01327975492
                        ],
                        "iteration": 518,
                        "passed_time": 36.62651401,
                        "remaining_time": 33.94480393,
                        "test": [
                          0.01328647905
                        ]
                      },
                      {
                        "learn": [
                          0.01326730448
                        ],
                        "iteration": 519,
                        "passed_time": 36.67251693,
                        "remaining_time": 33.85155409,
                        "test": [
                          0.0132740287
                        ]
                      },
                      {
                        "learn": [
                          0.01326448176
                        ],
                        "iteration": 520,
                        "passed_time": 36.71682889,
                        "remaining_time": 33.75693098,
                        "test": [
                          0.01327121396
                        ]
                      },
                      {
                        "learn": [
                          0.01325899775
                        ],
                        "iteration": 521,
                        "passed_time": 36.74571761,
                        "remaining_time": 33.64837743,
                        "test": [
                          0.01326572933
                        ]
                      },
                      {
                        "learn": [
                          0.01324908937
                        ],
                        "iteration": 522,
                        "passed_time": 36.77939215,
                        "remaining_time": 33.54449342,
                        "test": [
                          0.01325584175
                        ]
                      },
                      {
                        "learn": [
                          0.01323954697
                        ],
                        "iteration": 523,
                        "passed_time": 36.80853565,
                        "remaining_time": 33.43676139,
                        "test": [
                          0.01324626316
                        ]
                      },
                      {
                        "learn": [
                          0.01323255909
                        ],
                        "iteration": 524,
                        "passed_time": 36.83832229,
                        "remaining_time": 33.32991065,
                        "test": [
                          0.01323928729
                        ]
                      },
                      {
                        "learn": [
                          0.01322956489
                        ],
                        "iteration": 525,
                        "passed_time": 36.86802148,
                        "remaining_time": 33.22327411,
                        "test": [
                          0.01323629644
                        ]
                      },
                      {
                        "learn": [
                          0.01322411759
                        ],
                        "iteration": 526,
                        "passed_time": 36.89800002,
                        "remaining_time": 33.11718028,
                        "test": [
                          0.01323083788
                        ]
                      },
                      {
                        "learn": [
                          0.01321687131
                        ],
                        "iteration": 527,
                        "passed_time": 36.92871309,
                        "remaining_time": 33.0120314,
                        "test": [
                          0.01322360126
                        ]
                      },
                      {
                        "learn": [
                          0.01321023602
                        ],
                        "iteration": 528,
                        "passed_time": 36.95887224,
                        "remaining_time": 32.90667075,
                        "test": [
                          0.01321694917
                        ]
                      },
                      {
                        "learn": [
                          0.01320777634
                        ],
                        "iteration": 529,
                        "passed_time": 36.98724039,
                        "remaining_time": 32.80000562,
                        "test": [
                          0.01321450951
                        ]
                      },
                      {
                        "learn": [
                          0.01320266118
                        ],
                        "iteration": 530,
                        "passed_time": 37.02264636,
                        "remaining_time": 32.69985149,
                        "test": [
                          0.0132093956
                        ]
                      },
                      {
                        "learn": [
                          0.01319578996
                        ],
                        "iteration": 531,
                        "passed_time": 37.0523674,
                        "remaining_time": 32.59493975,
                        "test": [
                          0.01320250573
                        ]
                      },
                      {
                        "learn": [
                          0.01319257509
                        ],
                        "iteration": 532,
                        "passed_time": 37.08384792,
                        "remaining_time": 32.49185174,
                        "test": [
                          0.01319929095
                        ]
                      },
                      {
                        "learn": [
                          0.01318822175
                        ],
                        "iteration": 533,
                        "passed_time": 37.11258602,
                        "remaining_time": 32.38663874,
                        "test": [
                          0.01319493484
                        ]
                      },
                      {
                        "learn": [
                          0.01317985524
                        ],
                        "iteration": 534,
                        "passed_time": 37.14105433,
                        "remaining_time": 32.28147713,
                        "test": [
                          0.01318658089
                        ]
                      },
                      {
                        "learn": [
                          0.01317497883
                        ],
                        "iteration": 535,
                        "passed_time": 37.16901871,
                        "remaining_time": 32.17616545,
                        "test": [
                          0.01318170669
                        ]
                      },
                      {
                        "learn": [
                          0.01317314055
                        ],
                        "iteration": 536,
                        "passed_time": 37.19629701,
                        "remaining_time": 32.07055031,
                        "test": [
                          0.01317985697
                        ]
                      },
                      {
                        "learn": [
                          0.01316994502
                        ],
                        "iteration": 537,
                        "passed_time": 37.23040421,
                        "remaining_time": 31.9710906,
                        "test": [
                          0.01317664912
                        ]
                      },
                      {
                        "learn": [
                          0.0131676553
                        ],
                        "iteration": 538,
                        "passed_time": 37.26107689,
                        "remaining_time": 31.86893589,
                        "test": [
                          0.01317435558
                        ]
                      },
                      {
                        "learn": [
                          0.01315563879
                        ],
                        "iteration": 539,
                        "passed_time": 37.29169518,
                        "remaining_time": 31.7669996,
                        "test": [
                          0.01316235659
                        ]
                      },
                      {
                        "learn": [
                          0.01315424454
                        ],
                        "iteration": 540,
                        "passed_time": 37.31861544,
                        "remaining_time": 31.66218944,
                        "test": [
                          0.01316095222
                        ]
                      },
                      {
                        "learn": [
                          0.01314243744
                        ],
                        "iteration": 541,
                        "passed_time": 37.34983492,
                        "remaining_time": 31.56129962,
                        "test": [
                          0.01314913617
                        ]
                      },
                      {
                        "learn": [
                          0.0131359511
                        ],
                        "iteration": 542,
                        "passed_time": 37.37878953,
                        "remaining_time": 31.45876025,
                        "test": [
                          0.0131426573
                        ]
                      },
                      {
                        "learn": [
                          0.01313427763
                        ],
                        "iteration": 543,
                        "passed_time": 37.41741449,
                        "remaining_time": 31.36459744,
                        "test": [
                          0.01314097195
                        ]
                      },
                      {
                        "learn": [
                          0.01312084245
                        ],
                        "iteration": 544,
                        "passed_time": 37.44743442,
                        "remaining_time": 31.26345442,
                        "test": [
                          0.01312752439
                        ]
                      },
                      {
                        "learn": [
                          0.01311210148
                        ],
                        "iteration": 545,
                        "passed_time": 37.47490053,
                        "remaining_time": 31.16044843,
                        "test": [
                          0.01311879475
                        ]
                      },
                      {
                        "learn": [
                          0.01310247401
                        ],
                        "iteration": 546,
                        "passed_time": 37.50503062,
                        "remaining_time": 31.05992481,
                        "test": [
                          0.01310916144
                        ]
                      },
                      {
                        "learn": [
                          0.01309164549
                        ],
                        "iteration": 547,
                        "passed_time": 37.53391529,
                        "remaining_time": 30.95863086,
                        "test": [
                          0.01309831875
                        ]
                      },
                      {
                        "learn": [
                          0.01308037445
                        ],
                        "iteration": 548,
                        "passed_time": 37.56384803,
                        "remaining_time": 30.85846168,
                        "test": [
                          0.01308705927
                        ]
                      },
                      {
                        "learn": [
                          0.01306800007
                        ],
                        "iteration": 549,
                        "passed_time": 37.59667995,
                        "remaining_time": 30.76091996,
                        "test": [
                          0.01307467763
                        ]
                      },
                      {
                        "learn": [
                          0.01305636469
                        ],
                        "iteration": 550,
                        "passed_time": 37.62675044,
                        "remaining_time": 30.66136288,
                        "test": [
                          0.01306304023
                        ]
                      },
                      {
                        "learn": [
                          0.01305220564
                        ],
                        "iteration": 551,
                        "passed_time": 37.65342987,
                        "remaining_time": 30.55930541,
                        "test": [
                          0.01305887338
                        ]
                      },
                      {
                        "learn": [
                          0.01303788838
                        ],
                        "iteration": 552,
                        "passed_time": 37.71271464,
                        "remaining_time": 30.48387603,
                        "test": [
                          0.01304454881
                        ]
                      },
                      {
                        "learn": [
                          0.0130232181
                        ],
                        "iteration": 553,
                        "passed_time": 37.74170633,
                        "remaining_time": 30.38411737,
                        "test": [
                          0.01302987702
                        ]
                      },
                      {
                        "learn": [
                          0.01300928272
                        ],
                        "iteration": 554,
                        "passed_time": 37.78079919,
                        "remaining_time": 30.29271287,
                        "test": [
                          0.01301594258
                        ]
                      },
                      {
                        "learn": [
                          0.01300079275
                        ],
                        "iteration": 555,
                        "passed_time": 37.81170975,
                        "remaining_time": 30.19496247,
                        "test": [
                          0.01300745562
                        ]
                      },
                      {
                        "learn": [
                          0.0129914921
                        ],
                        "iteration": 556,
                        "passed_time": 37.84253342,
                        "remaining_time": 30.09738296,
                        "test": [
                          0.01299815126
                        ]
                      },
                      {
                        "learn": [
                          0.01298090277
                        ],
                        "iteration": 557,
                        "passed_time": 37.87169197,
                        "remaining_time": 29.99872375,
                        "test": [
                          0.01298756563
                        ]
                      },
                      {
                        "learn": [
                          0.01296749236
                        ],
                        "iteration": 558,
                        "passed_time": 37.90002781,
                        "remaining_time": 29.89966416,
                        "test": [
                          0.01297415597
                        ]
                      },
                      {
                        "learn": [
                          0.01295824833
                        ],
                        "iteration": 559,
                        "passed_time": 37.93329594,
                        "remaining_time": 29.80473252,
                        "test": [
                          0.01296489679
                        ]
                      },
                      {
                        "learn": [
                          0.01294443506
                        ],
                        "iteration": 560,
                        "passed_time": 37.96685146,
                        "remaining_time": 29.71024561,
                        "test": [
                          0.01295108692
                        ]
                      },
                      {
                        "learn": [
                          0.01293088113
                        ],
                        "iteration": 561,
                        "passed_time": 37.99660808,
                        "remaining_time": 29.61301484,
                        "test": [
                          0.01293752781
                        ]
                      },
                      {
                        "learn": [
                          0.01292005382
                        ],
                        "iteration": 562,
                        "passed_time": 38.03282108,
                        "remaining_time": 29.52103519,
                        "test": [
                          0.01292669222
                        ]
                      },
                      {
                        "learn": [
                          0.0129120436
                        ],
                        "iteration": 563,
                        "passed_time": 38.06202928,
                        "remaining_time": 29.42383824,
                        "test": [
                          0.01291868512
                        ]
                      },
                      {
                        "learn": [
                          0.01290407564
                        ],
                        "iteration": 564,
                        "passed_time": 38.09057302,
                        "remaining_time": 29.32637038,
                        "test": [
                          0.01291071609
                        ]
                      },
                      {
                        "learn": [
                          0.01288849301
                        ],
                        "iteration": 565,
                        "passed_time": 38.11903571,
                        "remaining_time": 29.22908392,
                        "test": [
                          0.01289513133
                        ]
                      },
                      {
                        "learn": [
                          0.01287899981
                        ],
                        "iteration": 566,
                        "passed_time": 38.14994705,
                        "remaining_time": 29.13391018,
                        "test": [
                          0.01288564158
                        ]
                      },
                      {
                        "learn": [
                          0.01287601671
                        ],
                        "iteration": 567,
                        "passed_time": 38.17590512,
                        "remaining_time": 29.03519544,
                        "test": [
                          0.01288265632
                        ]
                      },
                      {
                        "learn": [
                          0.01287493327
                        ],
                        "iteration": 568,
                        "passed_time": 38.20373336,
                        "remaining_time": 28.93815304,
                        "test": [
                          0.01288157468
                        ]
                      },
                      {
                        "learn": [
                          0.01286829687
                        ],
                        "iteration": 569,
                        "passed_time": 38.23364176,
                        "remaining_time": 28.84292273,
                        "test": [
                          0.01287491277
                        ]
                      },
                      {
                        "learn": [
                          0.01286153074
                        ],
                        "iteration": 570,
                        "passed_time": 38.26248487,
                        "remaining_time": 28.74712086,
                        "test": [
                          0.01286815882
                        ]
                      },
                      {
                        "learn": [
                          0.01285126966
                        ],
                        "iteration": 571,
                        "passed_time": 38.29326995,
                        "remaining_time": 28.65300618,
                        "test": [
                          0.01285790349
                        ]
                      },
                      {
                        "learn": [
                          0.01284480787
                        ],
                        "iteration": 572,
                        "passed_time": 38.32848693,
                        "remaining_time": 28.56241522,
                        "test": [
                          0.01285144019
                        ]
                      },
                      {
                        "learn": [
                          0.01284053597
                        ],
                        "iteration": 573,
                        "passed_time": 38.35629752,
                        "remaining_time": 28.46652046,
                        "test": [
                          0.01284717196
                        ]
                      },
                      {
                        "learn": [
                          0.01283125464
                        ],
                        "iteration": 574,
                        "passed_time": 38.38537711,
                        "remaining_time": 28.37180047,
                        "test": [
                          0.01283788296
                        ]
                      },
                      {
                        "learn": [
                          0.01282472462
                        ],
                        "iteration": 575,
                        "passed_time": 38.42442943,
                        "remaining_time": 28.28464944,
                        "test": [
                          0.01283134954
                        ]
                      },
                      {
                        "learn": [
                          0.01281929454
                        ],
                        "iteration": 576,
                        "passed_time": 38.45612016,
                        "remaining_time": 28.19226833,
                        "test": [
                          0.01282592965
                        ]
                      },
                      {
                        "learn": [
                          0.01281205518
                        ],
                        "iteration": 577,
                        "passed_time": 38.48563577,
                        "remaining_time": 28.09850916,
                        "test": [
                          0.01281868041
                        ]
                      },
                      {
                        "learn": [
                          0.01280853869
                        ],
                        "iteration": 578,
                        "passed_time": 38.51345609,
                        "remaining_time": 28.00373923,
                        "test": [
                          0.01281516493
                        ]
                      },
                      {
                        "learn": [
                          0.01280227351
                        ],
                        "iteration": 579,
                        "passed_time": 38.54242882,
                        "remaining_time": 27.91003466,
                        "test": [
                          0.0128088976
                        ]
                      },
                      {
                        "learn": [
                          0.01279815202
                        ],
                        "iteration": 580,
                        "passed_time": 38.5730998,
                        "remaining_time": 27.81777766,
                        "test": [
                          0.01280477074
                        ]
                      },
                      {
                        "learn": [
                          0.01279457662
                        ],
                        "iteration": 581,
                        "passed_time": 38.5999218,
                        "remaining_time": 27.72296789,
                        "test": [
                          0.0128011978
                        ]
                      },
                      {
                        "learn": [
                          0.01278850432
                        ],
                        "iteration": 582,
                        "passed_time": 38.63031652,
                        "remaining_time": 27.63094681,
                        "test": [
                          0.01279511211
                        ]
                      },
                      {
                        "learn": [
                          0.01277965511
                        ],
                        "iteration": 583,
                        "passed_time": 38.65956457,
                        "remaining_time": 27.53831997,
                        "test": [
                          0.01278625956
                        ]
                      },
                      {
                        "learn": [
                          0.0127693948
                        ],
                        "iteration": 584,
                        "passed_time": 38.70461997,
                        "remaining_time": 27.45712357,
                        "test": [
                          0.01277601667
                        ]
                      },
                      {
                        "learn": [
                          0.01276708578
                        ],
                        "iteration": 585,
                        "passed_time": 38.74776378,
                        "remaining_time": 27.37470001,
                        "test": [
                          0.01277370472
                        ]
                      },
                      {
                        "learn": [
                          0.01276459601
                        ],
                        "iteration": 586,
                        "passed_time": 38.78185542,
                        "remaining_time": 27.28604138,
                        "test": [
                          0.01277120733
                        ]
                      },
                      {
                        "learn": [
                          0.01275023088
                        ],
                        "iteration": 587,
                        "passed_time": 38.81185243,
                        "remaining_time": 27.19469932,
                        "test": [
                          0.01275684078
                        ]
                      },
                      {
                        "learn": [
                          0.0127483592
                        ],
                        "iteration": 588,
                        "passed_time": 38.84407221,
                        "remaining_time": 27.1051166,
                        "test": [
                          0.01275495883
                        ]
                      },
                      {
                        "learn": [
                          0.01273901018
                        ],
                        "iteration": 589,
                        "passed_time": 38.87345573,
                        "remaining_time": 27.01375737,
                        "test": [
                          0.01274562633
                        ]
                      },
                      {
                        "learn": [
                          0.01273003991
                        ],
                        "iteration": 590,
                        "passed_time": 38.9044512,
                        "remaining_time": 26.92372342,
                        "test": [
                          0.01273663575
                        ]
                      },
                      {
                        "learn": [
                          0.01271815058
                        ],
                        "iteration": 591,
                        "passed_time": 38.93326934,
                        "remaining_time": 26.83238833,
                        "test": [
                          0.01272477615
                        ]
                      },
                      {
                        "learn": [
                          0.01270752557
                        ],
                        "iteration": 592,
                        "passed_time": 38.96266405,
                        "remaining_time": 26.74165981,
                        "test": [
                          0.01271412568
                        ]
                      },
                      {
                        "learn": [
                          0.01269549251
                        ],
                        "iteration": 593,
                        "passed_time": 38.99178691,
                        "remaining_time": 26.650952,
                        "test": [
                          0.01270208696
                        ]
                      },
                      {
                        "learn": [
                          0.0126820856
                        ],
                        "iteration": 594,
                        "passed_time": 39.02332454,
                        "remaining_time": 26.56209485,
                        "test": [
                          0.0126886753
                        ]
                      },
                      {
                        "learn": [
                          0.01267797232
                        ],
                        "iteration": 595,
                        "passed_time": 39.05779103,
                        "remaining_time": 26.4754154,
                        "test": [
                          0.01268456744
                        ]
                      },
                      {
                        "learn": [
                          0.01267269366
                        ],
                        "iteration": 596,
                        "passed_time": 39.08729359,
                        "remaining_time": 26.38556,
                        "test": [
                          0.01267929808
                        ]
                      },
                      {
                        "learn": [
                          0.01266003211
                        ],
                        "iteration": 597,
                        "passed_time": 39.1177499,
                        "remaining_time": 26.29654759,
                        "test": [
                          0.01266662919
                        ]
                      },
                      {
                        "learn": [
                          0.01264701155
                        ],
                        "iteration": 598,
                        "passed_time": 39.14583622,
                        "remaining_time": 26.20614411,
                        "test": [
                          0.01265361109
                        ]
                      },
                      {
                        "learn": [
                          0.01263237393
                        ],
                        "iteration": 599,
                        "passed_time": 39.175947,
                        "remaining_time": 26.117298,
                        "test": [
                          0.01263895847
                        ]
                      },
                      {
                        "learn": [
                          0.01262468345
                        ],
                        "iteration": 600,
                        "passed_time": 39.20489163,
                        "remaining_time": 26.02787315,
                        "test": [
                          0.01263127224
                        ]
                      },
                      {
                        "learn": [
                          0.01262172497
                        ],
                        "iteration": 601,
                        "passed_time": 39.23626019,
                        "remaining_time": 25.94025176,
                        "test": [
                          0.01262830192
                        ]
                      },
                      {
                        "learn": [
                          0.01261682839
                        ],
                        "iteration": 602,
                        "passed_time": 39.26623902,
                        "remaining_time": 25.85190198,
                        "test": [
                          0.01262339934
                        ]
                      },
                      {
                        "learn": [
                          0.01260008376
                        ],
                        "iteration": 603,
                        "passed_time": 39.29570412,
                        "remaining_time": 25.76340866,
                        "test": [
                          0.01260664138
                        ]
                      },
                      {
                        "learn": [
                          0.01259415332
                        ],
                        "iteration": 604,
                        "passed_time": 39.32697785,
                        "remaining_time": 25.67629132,
                        "test": [
                          0.01260071689
                        ]
                      },
                      {
                        "learn": [
                          0.01258761417
                        ],
                        "iteration": 605,
                        "passed_time": 39.35455873,
                        "remaining_time": 25.58695733,
                        "test": [
                          0.01259417562
                        ]
                      },
                      {
                        "learn": [
                          0.01257866409
                        ],
                        "iteration": 606,
                        "passed_time": 39.38543335,
                        "remaining_time": 25.49995932,
                        "test": [
                          0.01258523239
                        ]
                      },
                      {
                        "learn": [
                          0.01257067044
                        ],
                        "iteration": 607,
                        "passed_time": 39.41473953,
                        "remaining_time": 25.4121347,
                        "test": [
                          0.0125772371
                        ]
                      },
                      {
                        "learn": [
                          0.01255847973
                        ],
                        "iteration": 608,
                        "passed_time": 39.45397551,
                        "remaining_time": 25.33087754,
                        "test": [
                          0.01256504108
                        ]
                      },
                      {
                        "learn": [
                          0.01255353811
                        ],
                        "iteration": 609,
                        "passed_time": 39.48201087,
                        "remaining_time": 25.24259712,
                        "test": [
                          0.0125600935
                        ]
                      },
                      {
                        "learn": [
                          0.01253698647
                        ],
                        "iteration": 610,
                        "passed_time": 39.5118611,
                        "remaining_time": 25.15566934,
                        "test": [
                          0.01254354421
                        ]
                      },
                      {
                        "learn": [
                          0.0125331851
                        ],
                        "iteration": 611,
                        "passed_time": 39.54094311,
                        "remaining_time": 25.06844106,
                        "test": [
                          0.01253974233
                        ]
                      },
                      {
                        "learn": [
                          0.01252855785
                        ],
                        "iteration": 612,
                        "passed_time": 39.57096852,
                        "remaining_time": 24.98199807,
                        "test": [
                          0.01253511501
                        ]
                      },
                      {
                        "learn": [
                          0.01251420715
                        ],
                        "iteration": 613,
                        "passed_time": 39.60152507,
                        "remaining_time": 24.89607276,
                        "test": [
                          0.01252076788
                        ]
                      },
                      {
                        "learn": [
                          0.01251027739
                        ],
                        "iteration": 614,
                        "passed_time": 39.63041178,
                        "remaining_time": 24.80928217,
                        "test": [
                          0.01251683854
                        ]
                      },
                      {
                        "learn": [
                          0.01250579122
                        ],
                        "iteration": 615,
                        "passed_time": 39.65981299,
                        "remaining_time": 24.7230003,
                        "test": [
                          0.01251233962
                        ]
                      },
                      {
                        "learn": [
                          0.01250366941
                        ],
                        "iteration": 616,
                        "passed_time": 39.68773309,
                        "remaining_time": 24.63598343,
                        "test": [
                          0.01251021972
                        ]
                      },
                      {
                        "learn": [
                          0.01248724126
                        ],
                        "iteration": 617,
                        "passed_time": 39.77038866,
                        "remaining_time": 24.58299105,
                        "test": [
                          0.01249379761
                        ]
                      },
                      {
                        "learn": [
                          0.01247635347
                        ],
                        "iteration": 618,
                        "passed_time": 39.86882775,
                        "remaining_time": 24.53961773,
                        "test": [
                          0.01248289523
                        ]
                      },
                      {
                        "learn": [
                          0.01247462665
                        ],
                        "iteration": 619,
                        "passed_time": 39.90694055,
                        "remaining_time": 24.4590926,
                        "test": [
                          0.01248118342
                        ]
                      },
                      {
                        "learn": [
                          0.01246765162
                        ],
                        "iteration": 620,
                        "passed_time": 39.93843834,
                        "remaining_time": 24.37466688,
                        "test": [
                          0.01247420069
                        ]
                      },
                      {
                        "learn": [
                          0.01246088233
                        ],
                        "iteration": 621,
                        "passed_time": 39.97016714,
                        "remaining_time": 24.29055174,
                        "test": [
                          0.01246742576
                        ]
                      },
                      {
                        "learn": [
                          0.01245196351
                        ],
                        "iteration": 622,
                        "passed_time": 40.00233618,
                        "remaining_time": 24.20687117,
                        "test": [
                          0.0124585144
                        ]
                      },
                      {
                        "learn": [
                          0.01244477396
                        ],
                        "iteration": 623,
                        "passed_time": 40.03275962,
                        "remaining_time": 24.12230387,
                        "test": [
                          0.01245133054
                        ]
                      },
                      {
                        "learn": [
                          0.01242731964
                        ],
                        "iteration": 624,
                        "passed_time": 40.06391543,
                        "remaining_time": 24.03834926,
                        "test": [
                          0.01243386498
                        ]
                      },
                      {
                        "learn": [
                          0.01241292888
                        ],
                        "iteration": 625,
                        "passed_time": 40.093949,
                        "remaining_time": 23.95389285,
                        "test": [
                          0.0124194657
                        ]
                      },
                      {
                        "learn": [
                          0.01240850657
                        ],
                        "iteration": 626,
                        "passed_time": 40.12323534,
                        "remaining_time": 23.86916552,
                        "test": [
                          0.01241505804
                        ]
                      },
                      {
                        "learn": [
                          0.01239660698
                        ],
                        "iteration": 627,
                        "passed_time": 40.1531349,
                        "remaining_time": 23.784978,
                        "test": [
                          0.0124031377
                        ]
                      },
                      {
                        "learn": [
                          0.01239007456
                        ],
                        "iteration": 628,
                        "passed_time": 40.18440605,
                        "remaining_time": 23.70177209,
                        "test": [
                          0.01239662118
                        ]
                      },
                      {
                        "learn": [
                          0.01238372366
                        ],
                        "iteration": 629,
                        "passed_time": 40.21539464,
                        "remaining_time": 23.61856511,
                        "test": [
                          0.0123902603
                        ]
                      },
                      {
                        "learn": [
                          0.01237685618
                        ],
                        "iteration": 630,
                        "passed_time": 40.24761567,
                        "remaining_time": 23.53624434,
                        "test": [
                          0.01238337638
                        ]
                      },
                      {
                        "learn": [
                          0.01236461934
                        ],
                        "iteration": 631,
                        "passed_time": 40.27733108,
                        "remaining_time": 23.45262316,
                        "test": [
                          0.01237115542
                        ]
                      },
                      {
                        "learn": [
                          0.01235466367
                        ],
                        "iteration": 632,
                        "passed_time": 40.3061758,
                        "remaining_time": 23.36866749,
                        "test": [
                          0.01236119261
                        ]
                      },
                      {
                        "learn": [
                          0.01234932196
                        ],
                        "iteration": 633,
                        "passed_time": 40.33582091,
                        "remaining_time": 23.28534772,
                        "test": [
                          0.01235585443
                        ]
                      },
                      {
                        "learn": [
                          0.01234518466
                        ],
                        "iteration": 634,
                        "passed_time": 40.36571946,
                        "remaining_time": 23.20234268,
                        "test": [
                          0.01235171827
                        ]
                      },
                      {
                        "learn": [
                          0.01234386401
                        ],
                        "iteration": 635,
                        "passed_time": 40.39352269,
                        "remaining_time": 23.11830544,
                        "test": [
                          0.01235039463
                        ]
                      },
                      {
                        "learn": [
                          0.01232972577
                        ],
                        "iteration": 636,
                        "passed_time": 40.42609212,
                        "remaining_time": 23.03716082,
                        "test": [
                          0.01233626856
                        ]
                      },
                      {
                        "learn": [
                          0.01232392873
                        ],
                        "iteration": 637,
                        "passed_time": 40.46858889,
                        "remaining_time": 22.96180122,
                        "test": [
                          0.01233047193
                        ]
                      },
                      {
                        "learn": [
                          0.01230496694
                        ],
                        "iteration": 638,
                        "passed_time": 40.50027461,
                        "remaining_time": 22.88043683,
                        "test": [
                          0.01231149219
                        ]
                      },
                      {
                        "learn": [
                          0.01229035802
                        ],
                        "iteration": 639,
                        "passed_time": 40.53412476,
                        "remaining_time": 22.80044518,
                        "test": [
                          0.01229687845
                        ]
                      },
                      {
                        "learn": [
                          0.01228867434
                        ],
                        "iteration": 640,
                        "passed_time": 40.5630315,
                        "remaining_time": 22.71782887,
                        "test": [
                          0.0122951964
                        ]
                      },
                      {
                        "learn": [
                          0.01228590256
                        ],
                        "iteration": 641,
                        "passed_time": 40.59422906,
                        "remaining_time": 22.63665733,
                        "test": [
                          0.01229242496
                        ]
                      },
                      {
                        "learn": [
                          0.01228260962
                        ],
                        "iteration": 642,
                        "passed_time": 40.62327254,
                        "remaining_time": 22.55444525,
                        "test": [
                          0.01228913034
                        ]
                      },
                      {
                        "learn": [
                          0.01226948174
                        ],
                        "iteration": 643,
                        "passed_time": 40.65377707,
                        "remaining_time": 22.47320596,
                        "test": [
                          0.01227600738
                        ]
                      },
                      {
                        "learn": [
                          0.01226715997
                        ],
                        "iteration": 644,
                        "passed_time": 40.68468781,
                        "remaining_time": 22.39234755,
                        "test": [
                          0.01227368977
                        ]
                      },
                      {
                        "learn": [
                          0.01226388702
                        ],
                        "iteration": 645,
                        "passed_time": 40.72703221,
                        "remaining_time": 22.31790929,
                        "test": [
                          0.0122704218
                        ]
                      },
                      {
                        "learn": [
                          0.01225837177
                        ],
                        "iteration": 646,
                        "passed_time": 40.77672891,
                        "remaining_time": 22.24758161,
                        "test": [
                          0.01226489486
                        ]
                      },
                      {
                        "learn": [
                          0.01224724701
                        ],
                        "iteration": 647,
                        "passed_time": 40.80966964,
                        "remaining_time": 22.16821561,
                        "test": [
                          0.01225377713
                        ]
                      },
                      {
                        "learn": [
                          0.01223970056
                        ],
                        "iteration": 648,
                        "passed_time": 40.83926509,
                        "remaining_time": 22.08718343,
                        "test": [
                          0.01224621999
                        ]
                      },
                      {
                        "learn": [
                          0.0122374408
                        ],
                        "iteration": 649,
                        "passed_time": 40.86953864,
                        "remaining_time": 22.00667465,
                        "test": [
                          0.01224396226
                        ]
                      },
                      {
                        "learn": [
                          0.01222813788
                        ],
                        "iteration": 650,
                        "passed_time": 40.90111445,
                        "remaining_time": 21.92701834,
                        "test": [
                          0.01223465624
                        ]
                      },
                      {
                        "learn": [
                          0.0122255355
                        ],
                        "iteration": 651,
                        "passed_time": 40.93164305,
                        "remaining_time": 21.84695059,
                        "test": [
                          0.0122320691
                        ]
                      },
                      {
                        "learn": [
                          0.01221577998
                        ],
                        "iteration": 652,
                        "passed_time": 40.9624262,
                        "remaining_time": 21.76716982,
                        "test": [
                          0.01222231137
                        ]
                      },
                      {
                        "learn": [
                          0.01221134651
                        ],
                        "iteration": 653,
                        "passed_time": 40.99225982,
                        "remaining_time": 21.68703654,
                        "test": [
                          0.01221784997
                        ]
                      },
                      {
                        "learn": [
                          0.01220982035
                        ],
                        "iteration": 654,
                        "passed_time": 41.03057622,
                        "remaining_time": 21.61152488,
                        "test": [
                          0.01221634159
                        ]
                      },
                      {
                        "learn": [
                          0.01220236912
                        ],
                        "iteration": 655,
                        "passed_time": 41.09308043,
                        "remaining_time": 21.54881047,
                        "test": [
                          0.01220890145
                        ]
                      },
                      {
                        "learn": [
                          0.01219988203
                        ],
                        "iteration": 656,
                        "passed_time": 41.16248024,
                        "remaining_time": 21.48969668,
                        "test": [
                          0.01220641543
                        ]
                      },
                      {
                        "learn": [
                          0.01219781424
                        ],
                        "iteration": 657,
                        "passed_time": 41.24235363,
                        "remaining_time": 21.43599535,
                        "test": [
                          0.01220434684
                        ]
                      },
                      {
                        "learn": [
                          0.01219603519
                        ],
                        "iteration": 658,
                        "passed_time": 41.31106674,
                        "remaining_time": 21.3764397,
                        "test": [
                          0.01220255029
                        ]
                      },
                      {
                        "learn": [
                          0.01218667373
                        ],
                        "iteration": 659,
                        "passed_time": 41.37810977,
                        "remaining_time": 21.31599594,
                        "test": [
                          0.01219319041
                        ]
                      },
                      {
                        "learn": [
                          0.01217350507
                        ],
                        "iteration": 660,
                        "passed_time": 41.4455083,
                        "remaining_time": 21.25571454,
                        "test": [
                          0.01218001838
                        ]
                      },
                      {
                        "learn": [
                          0.01216621468
                        ],
                        "iteration": 661,
                        "passed_time": 41.51987808,
                        "remaining_time": 21.19897098,
                        "test": [
                          0.01217273211
                        ]
                      },
                      {
                        "learn": [
                          0.01215843962
                        ],
                        "iteration": 662,
                        "passed_time": 41.59530496,
                        "remaining_time": 21.14271157,
                        "test": [
                          0.01216494424
                        ]
                      },
                      {
                        "learn": [
                          0.01214857702
                        ],
                        "iteration": 663,
                        "passed_time": 41.67159619,
                        "remaining_time": 21.08683181,
                        "test": [
                          0.01215508931
                        ]
                      },
                      {
                        "learn": [
                          0.01213918906
                        ],
                        "iteration": 664,
                        "passed_time": 41.75190844,
                        "remaining_time": 21.03291628,
                        "test": [
                          0.01214568601
                        ]
                      },
                      {
                        "learn": [
                          0.01213243362
                        ],
                        "iteration": 665,
                        "passed_time": 41.84521416,
                        "remaining_time": 20.98543773,
                        "test": [
                          0.01213894701
                        ]
                      },
                      {
                        "learn": [
                          0.01213133924
                        ],
                        "iteration": 666,
                        "passed_time": 41.89150648,
                        "remaining_time": 20.91435031,
                        "test": [
                          0.01213782925
                        ]
                      },
                      {
                        "learn": [
                          0.01212028733
                        ],
                        "iteration": 667,
                        "passed_time": 41.933648,
                        "remaining_time": 20.84127415,
                        "test": [
                          0.01212678357
                        ]
                      },
                      {
                        "learn": [
                          0.01211532554
                        ],
                        "iteration": 668,
                        "passed_time": 41.97137288,
                        "remaining_time": 20.76610527,
                        "test": [
                          0.01212181422
                        ]
                      },
                      {
                        "learn": [
                          0.012099696
                        ],
                        "iteration": 669,
                        "passed_time": 42.0158404,
                        "remaining_time": 20.69436915,
                        "test": [
                          0.0121061929
                        ]
                      },
                      {
                        "learn": [
                          0.01209469141
                        ],
                        "iteration": 670,
                        "passed_time": 42.08488387,
                        "remaining_time": 20.63476422,
                        "test": [
                          0.01210117723
                        ]
                      },
                      {
                        "learn": [
                          0.01208906371
                        ],
                        "iteration": 671,
                        "passed_time": 42.15883701,
                        "remaining_time": 20.57752759,
                        "test": [
                          0.0120955516
                        ]
                      },
                      {
                        "learn": [
                          0.0120744068
                        ],
                        "iteration": 672,
                        "passed_time": 42.23324169,
                        "remaining_time": 20.52046067,
                        "test": [
                          0.01208089457
                        ]
                      },
                      {
                        "learn": [
                          0.01206667568
                        ],
                        "iteration": 673,
                        "passed_time": 42.29397038,
                        "remaining_time": 20.45672751,
                        "test": [
                          0.01207315207
                        ]
                      },
                      {
                        "learn": [
                          0.01205301627
                        ],
                        "iteration": 674,
                        "passed_time": 42.37184868,
                        "remaining_time": 20.40126048,
                        "test": [
                          0.01205949207
                        ]
                      },
                      {
                        "learn": [
                          0.01204330539
                        ],
                        "iteration": 675,
                        "passed_time": 42.44855437,
                        "remaining_time": 20.34516511,
                        "test": [
                          0.01204977322
                        ]
                      },
                      {
                        "learn": [
                          0.01203870723
                        ],
                        "iteration": 676,
                        "passed_time": 42.52609797,
                        "remaining_time": 20.28940863,
                        "test": [
                          0.01204518462
                        ]
                      },
                      {
                        "learn": [
                          0.01203492194
                        ],
                        "iteration": 677,
                        "passed_time": 42.60155681,
                        "remaining_time": 20.23259778,
                        "test": [
                          0.01204139159
                        ]
                      },
                      {
                        "learn": [
                          0.01202751483
                        ],
                        "iteration": 678,
                        "passed_time": 42.67174918,
                        "remaining_time": 20.17324225,
                        "test": [
                          0.01203398207
                        ]
                      },
                      {
                        "learn": [
                          0.01202030182
                        ],
                        "iteration": 679,
                        "passed_time": 42.74341664,
                        "remaining_time": 20.11454901,
                        "test": [
                          0.0120267662
                        ]
                      },
                      {
                        "learn": [
                          0.01201112291
                        ],
                        "iteration": 680,
                        "passed_time": 42.8530604,
                        "remaining_time": 20.07360685,
                        "test": [
                          0.01201758328
                        ]
                      },
                      {
                        "learn": [
                          0.01200529369
                        ],
                        "iteration": 681,
                        "passed_time": 42.92432152,
                        "remaining_time": 20.01456634,
                        "test": [
                          0.01201175095
                        ]
                      },
                      {
                        "learn": [
                          0.01199737178
                        ],
                        "iteration": 682,
                        "passed_time": 42.96709867,
                        "remaining_time": 19.94226981,
                        "test": [
                          0.01200383459
                        ]
                      },
                      {
                        "learn": [
                          0.01199053103
                        ],
                        "iteration": 683,
                        "passed_time": 43.03678218,
                        "remaining_time": 19.88249001,
                        "test": [
                          0.01199700994
                        ]
                      },
                      {
                        "learn": [
                          0.01197934547
                        ],
                        "iteration": 684,
                        "passed_time": 43.10603028,
                        "remaining_time": 19.82248108,
                        "test": [
                          0.01198581062
                        ]
                      },
                      {
                        "learn": [
                          0.01197765259
                        ],
                        "iteration": 685,
                        "passed_time": 43.17528036,
                        "remaining_time": 19.76244611,
                        "test": [
                          0.01198411485
                        ]
                      },
                      {
                        "learn": [
                          0.01196866666
                        ],
                        "iteration": 686,
                        "passed_time": 43.24583015,
                        "remaining_time": 19.70297647,
                        "test": [
                          0.01197513813
                        ]
                      },
                      {
                        "learn": [
                          0.01196011682
                        ],
                        "iteration": 687,
                        "passed_time": 43.31679546,
                        "remaining_time": 19.64366306,
                        "test": [
                          0.01196659925
                        ]
                      },
                      {
                        "learn": [
                          0.01195335107
                        ],
                        "iteration": 688,
                        "passed_time": 43.38640627,
                        "remaining_time": 19.58370443,
                        "test": [
                          0.01195981688
                        ]
                      },
                      {
                        "learn": [
                          0.01194521889
                        ],
                        "iteration": 689,
                        "passed_time": 43.45710902,
                        "remaining_time": 19.5242084,
                        "test": [
                          0.01195167718
                        ]
                      },
                      {
                        "learn": [
                          0.01193794014
                        ],
                        "iteration": 690,
                        "passed_time": 43.52233936,
                        "remaining_time": 19.4622328,
                        "test": [
                          0.01194439208
                        ]
                      },
                      {
                        "learn": [
                          0.01193213179
                        ],
                        "iteration": 691,
                        "passed_time": 43.58735927,
                        "remaining_time": 19.40015413,
                        "test": [
                          0.01193858893
                        ]
                      },
                      {
                        "learn": [
                          0.01192556301
                        ],
                        "iteration": 692,
                        "passed_time": 43.62612491,
                        "remaining_time": 19.32643629,
                        "test": [
                          0.0119320179
                        ]
                      },
                      {
                        "learn": [
                          0.011914373
                        ],
                        "iteration": 693,
                        "passed_time": 43.6707585,
                        "remaining_time": 19.25540648,
                        "test": [
                          0.0119208323
                        ]
                      },
                      {
                        "learn": [
                          0.01190846147
                        ],
                        "iteration": 694,
                        "passed_time": 43.70085537,
                        "remaining_time": 19.17807322,
                        "test": [
                          0.011914912
                        ]
                      },
                      {
                        "learn": [
                          0.01190402504
                        ],
                        "iteration": 695,
                        "passed_time": 43.73051358,
                        "remaining_time": 19.10068409,
                        "test": [
                          0.01191047201
                        ]
                      },
                      {
                        "learn": [
                          0.01190137208
                        ],
                        "iteration": 696,
                        "passed_time": 43.76055212,
                        "remaining_time": 19.02359726,
                        "test": [
                          0.01190782589
                        ]
                      },
                      {
                        "learn": [
                          0.01189794192
                        ],
                        "iteration": 697,
                        "passed_time": 43.79242708,
                        "remaining_time": 18.9474398,
                        "test": [
                          0.01190440045
                        ]
                      },
                      {
                        "learn": [
                          0.0118848931
                        ],
                        "iteration": 698,
                        "passed_time": 43.82688814,
                        "remaining_time": 18.87252265,
                        "test": [
                          0.01189133887
                        ]
                      },
                      {
                        "learn": [
                          0.01187300794
                        ],
                        "iteration": 699,
                        "passed_time": 43.87660389,
                        "remaining_time": 18.80425881,
                        "test": [
                          0.01187944626
                        ]
                      },
                      {
                        "learn": [
                          0.01186034365
                        ],
                        "iteration": 700,
                        "passed_time": 43.92424816,
                        "remaining_time": 18.73516434,
                        "test": [
                          0.01186678039
                        ]
                      },
                      {
                        "learn": [
                          0.01185226437
                        ],
                        "iteration": 701,
                        "passed_time": 43.95353514,
                        "remaining_time": 18.65833828,
                        "test": [
                          0.01185870895
                        ]
                      },
                      {
                        "learn": [
                          0.01184520346
                        ],
                        "iteration": 702,
                        "passed_time": 43.98434629,
                        "remaining_time": 18.58229139,
                        "test": [
                          0.01185163646
                        ]
                      },
                      {
                        "learn": [
                          0.01184178335
                        ],
                        "iteration": 703,
                        "passed_time": 44.01479236,
                        "remaining_time": 18.50621952,
                        "test": [
                          0.01184821438
                        ]
                      },
                      {
                        "learn": [
                          0.01183314889
                        ],
                        "iteration": 704,
                        "passed_time": 44.04478346,
                        "remaining_time": 18.4300867,
                        "test": [
                          0.01183957977
                        ]
                      },
                      {
                        "learn": [
                          0.01182862404
                        ],
                        "iteration": 705,
                        "passed_time": 44.07470706,
                        "remaining_time": 18.35405648,
                        "test": [
                          0.01183505368
                        ]
                      },
                      {
                        "learn": [
                          0.01182678263
                        ],
                        "iteration": 706,
                        "passed_time": 44.10761463,
                        "remaining_time": 18.27939333,
                        "test": [
                          0.01183320711
                        ]
                      },
                      {
                        "learn": [
                          0.01181954551
                        ],
                        "iteration": 707,
                        "passed_time": 44.13960033,
                        "remaining_time": 18.20446793,
                        "test": [
                          0.0118259798
                        ]
                      },
                      {
                        "learn": [
                          0.01181392373
                        ],
                        "iteration": 708,
                        "passed_time": 44.17105478,
                        "remaining_time": 18.12944561,
                        "test": [
                          0.0118203555
                        ]
                      },
                      {
                        "learn": [
                          0.011809887
                        ],
                        "iteration": 709,
                        "passed_time": 44.20012882,
                        "remaining_time": 18.05357374,
                        "test": [
                          0.01181630591
                        ]
                      },
                      {
                        "learn": [
                          0.01180280672
                        ],
                        "iteration": 710,
                        "passed_time": 44.23006799,
                        "remaining_time": 17.97818516,
                        "test": [
                          0.01180923356
                        ]
                      },
                      {
                        "learn": [
                          0.01180038974
                        ],
                        "iteration": 711,
                        "passed_time": 44.26581983,
                        "remaining_time": 17.90527544,
                        "test": [
                          0.01180682205
                        ]
                      },
                      {
                        "learn": [
                          0.01179357603
                        ],
                        "iteration": 712,
                        "passed_time": 44.30094734,
                        "remaining_time": 17.83221863,
                        "test": [
                          0.01180000188
                        ]
                      },
                      {
                        "learn": [
                          0.01178082573
                        ],
                        "iteration": 713,
                        "passed_time": 44.33047269,
                        "remaining_time": 17.75702407,
                        "test": [
                          0.01178723873
                        ]
                      },
                      {
                        "learn": [
                          0.01177828154
                        ],
                        "iteration": 714,
                        "passed_time": 44.35849863,
                        "remaining_time": 17.68135959,
                        "test": [
                          0.01178469589
                        ]
                      },
                      {
                        "learn": [
                          0.01177336967
                        ],
                        "iteration": 715,
                        "passed_time": 44.38734198,
                        "remaining_time": 17.60615241,
                        "test": [
                          0.01177978815
                        ]
                      },
                      {
                        "learn": [
                          0.0117694645
                        ],
                        "iteration": 716,
                        "passed_time": 44.4153147,
                        "remaining_time": 17.53073091,
                        "test": [
                          0.01177587867
                        ]
                      },
                      {
                        "learn": [
                          0.01176760562
                        ],
                        "iteration": 717,
                        "passed_time": 44.4461755,
                        "remaining_time": 17.45657589,
                        "test": [
                          0.01177402585
                        ]
                      },
                      {
                        "learn": [
                          0.01175084897
                        ],
                        "iteration": 718,
                        "passed_time": 44.47909284,
                        "remaining_time": 17.38334505,
                        "test": [
                          0.01175725167
                        ]
                      },
                      {
                        "learn": [
                          0.01174405678
                        ],
                        "iteration": 719,
                        "passed_time": 44.51017064,
                        "remaining_time": 17.30951081,
                        "test": [
                          0.01175045093
                        ]
                      },
                      {
                        "learn": [
                          0.01174103598
                        ],
                        "iteration": 720,
                        "passed_time": 44.542684,
                        "remaining_time": 17.23635067,
                        "test": [
                          0.01174743541
                        ]
                      },
                      {
                        "learn": [
                          0.0117328624
                        ],
                        "iteration": 721,
                        "passed_time": 44.5835374,
                        "remaining_time": 17.1665144,
                        "test": [
                          0.01173924097
                        ]
                      },
                      {
                        "learn": [
                          0.01172591967
                        ],
                        "iteration": 722,
                        "passed_time": 44.61351541,
                        "remaining_time": 17.09259166,
                        "test": [
                          0.01173230789
                        ]
                      },
                      {
                        "learn": [
                          0.01172495872
                        ],
                        "iteration": 723,
                        "passed_time": 44.64235459,
                        "remaining_time": 17.01835617,
                        "test": [
                          0.01173135043
                        ]
                      },
                      {
                        "learn": [
                          0.01171575579
                        ],
                        "iteration": 724,
                        "passed_time": 44.67269899,
                        "remaining_time": 16.94481686,
                        "test": [
                          0.01172214277
                        ]
                      },
                      {
                        "learn": [
                          0.01171093528
                        ],
                        "iteration": 725,
                        "passed_time": 44.70159739,
                        "remaining_time": 16.8708508,
                        "test": [
                          0.01171732928
                        ]
                      },
                      {
                        "learn": [
                          0.01170652937
                        ],
                        "iteration": 726,
                        "passed_time": 44.73290178,
                        "remaining_time": 16.79791222,
                        "test": [
                          0.01171291309
                        ]
                      },
                      {
                        "learn": [
                          0.01169741751
                        ],
                        "iteration": 727,
                        "passed_time": 44.76628573,
                        "remaining_time": 16.725865,
                        "test": [
                          0.01170379889
                        ]
                      },
                      {
                        "learn": [
                          0.0116876764
                        ],
                        "iteration": 728,
                        "passed_time": 44.79820237,
                        "remaining_time": 16.65337839,
                        "test": [
                          0.01169405715
                        ]
                      },
                      {
                        "learn": [
                          0.0116832415
                        ],
                        "iteration": 729,
                        "passed_time": 44.83057746,
                        "remaining_time": 16.58117248,
                        "test": [
                          0.01168962451
                        ]
                      },
                      {
                        "learn": [
                          0.01167691414
                        ],
                        "iteration": 730,
                        "passed_time": 44.8608224,
                        "remaining_time": 16.50829169,
                        "test": [
                          0.01168328343
                        ]
                      },
                      {
                        "learn": [
                          0.01167059091
                        ],
                        "iteration": 731,
                        "passed_time": 44.92462844,
                        "remaining_time": 16.44781478,
                        "test": [
                          0.01167696594
                        ]
                      },
                      {
                        "learn": [
                          0.0116636611
                        ],
                        "iteration": 732,
                        "passed_time": 44.96107477,
                        "remaining_time": 16.37736284,
                        "test": [
                          0.01167001777
                        ]
                      },
                      {
                        "learn": [
                          0.01165423415
                        ],
                        "iteration": 733,
                        "passed_time": 44.9933668,
                        "remaining_time": 16.30549805,
                        "test": [
                          0.01166062422
                        ]
                      },
                      {
                        "learn": [
                          0.01165141356
                        ],
                        "iteration": 734,
                        "passed_time": 45.0229424,
                        "remaining_time": 16.23276155,
                        "test": [
                          0.01165780084
                        ]
                      },
                      {
                        "learn": [
                          0.01163557156
                        ],
                        "iteration": 735,
                        "passed_time": 45.05492666,
                        "remaining_time": 16.1610063,
                        "test": [
                          0.01164193939
                        ]
                      },
                      {
                        "learn": [
                          0.0116289236
                        ],
                        "iteration": 736,
                        "passed_time": 45.08621636,
                        "remaining_time": 16.08911113,
                        "test": [
                          0.01163529604
                        ]
                      },
                      {
                        "learn": [
                          0.01162553204
                        ],
                        "iteration": 737,
                        "passed_time": 45.11577384,
                        "remaining_time": 16.01671104,
                        "test": [
                          0.01163189676
                        ]
                      },
                      {
                        "learn": [
                          0.01161835812
                        ],
                        "iteration": 738,
                        "passed_time": 45.14589175,
                        "remaining_time": 15.94462483,
                        "test": [
                          0.01162471088
                        ]
                      },
                      {
                        "learn": [
                          0.01160667615
                        ],
                        "iteration": 739,
                        "passed_time": 45.1762833,
                        "remaining_time": 15.87274819,
                        "test": [
                          0.01161303875
                        ]
                      },
                      {
                        "learn": [
                          0.01159546283
                        ],
                        "iteration": 740,
                        "passed_time": 45.20854091,
                        "remaining_time": 15.80163576,
                        "test": [
                          0.01160180662
                        ]
                      },
                      {
                        "learn": [
                          0.0115915635
                        ],
                        "iteration": 741,
                        "passed_time": 45.24054267,
                        "remaining_time": 15.7305391,
                        "test": [
                          0.0115979028
                        ]
                      },
                      {
                        "learn": [
                          0.01158577594
                        ],
                        "iteration": 742,
                        "passed_time": 45.27356068,
                        "remaining_time": 15.65989918,
                        "test": [
                          0.01159212046
                        ]
                      },
                      {
                        "learn": [
                          0.01157647007
                        ],
                        "iteration": 743,
                        "passed_time": 45.31337758,
                        "remaining_time": 15.59169981,
                        "test": [
                          0.01158281799
                        ]
                      },
                      {
                        "learn": [
                          0.01157048876
                        ],
                        "iteration": 744,
                        "passed_time": 45.34410649,
                        "remaining_time": 15.52046598,
                        "test": [
                          0.01157682543
                        ]
                      },
                      {
                        "learn": [
                          0.01156138823
                        ],
                        "iteration": 745,
                        "passed_time": 45.37698956,
                        "remaining_time": 15.45007419,
                        "test": [
                          0.01156772333
                        ]
                      },
                      {
                        "learn": [
                          0.01155526066
                        ],
                        "iteration": 746,
                        "passed_time": 45.40900837,
                        "remaining_time": 15.37949012,
                        "test": [
                          0.01156160256
                        ]
                      },
                      {
                        "learn": [
                          0.01154809678
                        ],
                        "iteration": 747,
                        "passed_time": 45.44081799,
                        "remaining_time": 15.30893868,
                        "test": [
                          0.01155443328
                        ]
                      },
                      {
                        "learn": [
                          0.01154425743
                        ],
                        "iteration": 748,
                        "passed_time": 45.47124421,
                        "remaining_time": 15.2380271,
                        "test": [
                          0.01155060682
                        ]
                      },
                      {
                        "learn": [
                          0.0115375218
                        ],
                        "iteration": 749,
                        "passed_time": 45.50253338,
                        "remaining_time": 15.16751113,
                        "test": [
                          0.01154385008
                        ]
                      },
                      {
                        "learn": [
                          0.01152193483
                        ],
                        "iteration": 750,
                        "passed_time": 45.53780588,
                        "remaining_time": 15.09842032,
                        "test": [
                          0.01152827115
                        ]
                      },
                      {
                        "learn": [
                          0.01151325712
                        ],
                        "iteration": 751,
                        "passed_time": 45.57296067,
                        "remaining_time": 15.02938065,
                        "test": [
                          0.01151959147
                        ]
                      },
                      {
                        "learn": [
                          0.01150987412
                        ],
                        "iteration": 752,
                        "passed_time": 45.61198634,
                        "remaining_time": 14.9617007,
                        "test": [
                          0.01151620113
                        ]
                      },
                      {
                        "learn": [
                          0.0115075947
                        ],
                        "iteration": 753,
                        "passed_time": 45.64190197,
                        "remaining_time": 14.89112452,
                        "test": [
                          0.01151392331
                        ]
                      },
                      {
                        "learn": [
                          0.01150004821
                        ],
                        "iteration": 754,
                        "passed_time": 45.67247889,
                        "remaining_time": 14.82087063,
                        "test": [
                          0.01150638887
                        ]
                      },
                      {
                        "learn": [
                          0.01149456696
                        ],
                        "iteration": 755,
                        "passed_time": 45.70211721,
                        "remaining_time": 14.75041878,
                        "test": [
                          0.01150089587
                        ]
                      },
                      {
                        "learn": [
                          0.0114932812
                        ],
                        "iteration": 756,
                        "passed_time": 45.73525156,
                        "remaining_time": 14.681197,
                        "test": [
                          0.01149961048
                        ]
                      },
                      {
                        "learn": [
                          0.01148467167
                        ],
                        "iteration": 757,
                        "passed_time": 45.76834167,
                        "remaining_time": 14.61205631,
                        "test": [
                          0.01149100244
                        ]
                      },
                      {
                        "learn": [
                          0.01148067603
                        ],
                        "iteration": 758,
                        "passed_time": 45.79839708,
                        "remaining_time": 14.54204703,
                        "test": [
                          0.01148700583
                        ]
                      },
                      {
                        "learn": [
                          0.01147932232
                        ],
                        "iteration": 759,
                        "passed_time": 45.83348096,
                        "remaining_time": 14.47373083,
                        "test": [
                          0.01148566014
                        ]
                      },
                      {
                        "learn": [
                          0.01147525795
                        ],
                        "iteration": 760,
                        "passed_time": 45.86420332,
                        "remaining_time": 14.40413219,
                        "test": [
                          0.01148160009
                        ]
                      },
                      {
                        "learn": [
                          0.01146253195
                        ],
                        "iteration": 761,
                        "passed_time": 45.89636047,
                        "remaining_time": 14.33508372,
                        "test": [
                          0.01146886338
                        ]
                      },
                      {
                        "learn": [
                          0.01145746992
                        ],
                        "iteration": 762,
                        "passed_time": 45.9696235,
                        "remaining_time": 14.27890009,
                        "test": [
                          0.01146380644
                        ]
                      },
                      {
                        "learn": [
                          0.01144552611
                        ],
                        "iteration": 763,
                        "passed_time": 46.00180067,
                        "remaining_time": 14.20998031,
                        "test": [
                          0.01145184804
                        ]
                      },
                      {
                        "learn": [
                          0.01143610221
                        ],
                        "iteration": 764,
                        "passed_time": 46.0339148,
                        "remaining_time": 14.14113723,
                        "test": [
                          0.01144240895
                        ]
                      },
                      {
                        "learn": [
                          0.0114340497
                        ],
                        "iteration": 765,
                        "passed_time": 46.06257344,
                        "remaining_time": 14.07133445,
                        "test": [
                          0.01144036825
                        ]
                      },
                      {
                        "learn": [
                          0.01143062951
                        ],
                        "iteration": 766,
                        "passed_time": 46.09201072,
                        "remaining_time": 14.00187549,
                        "test": [
                          0.01143695075
                        ]
                      },
                      {
                        "learn": [
                          0.01142214087
                        ],
                        "iteration": 767,
                        "passed_time": 46.12254396,
                        "remaining_time": 13.93285182,
                        "test": [
                          0.01142844936
                        ]
                      },
                      {
                        "learn": [
                          0.01141827826
                        ],
                        "iteration": 768,
                        "passed_time": 46.15111318,
                        "remaining_time": 13.86333829,
                        "test": [
                          0.01142458268
                        ]
                      },
                      {
                        "learn": [
                          0.01141470554
                        ],
                        "iteration": 769,
                        "passed_time": 46.18259437,
                        "remaining_time": 13.79480091,
                        "test": [
                          0.01142103343
                        ]
                      },
                      {
                        "learn": [
                          0.01140939247
                        ],
                        "iteration": 770,
                        "passed_time": 46.21369715,
                        "remaining_time": 13.72624727,
                        "test": [
                          0.0114157032
                        ]
                      },
                      {
                        "learn": [
                          0.01140477222
                        ],
                        "iteration": 771,
                        "passed_time": 46.24726278,
                        "remaining_time": 13.65851802,
                        "test": [
                          0.01141107758
                        ]
                      },
                      {
                        "learn": [
                          0.01139004227
                        ],
                        "iteration": 772,
                        "passed_time": 46.28366309,
                        "remaining_time": 13.5917096,
                        "test": [
                          0.01139633453
                        ]
                      },
                      {
                        "learn": [
                          0.01138224386
                        ],
                        "iteration": 773,
                        "passed_time": 46.32022674,
                        "remaining_time": 13.52502744,
                        "test": [
                          0.01138854398
                        ]
                      },
                      {
                        "learn": [
                          0.01137693083
                        ],
                        "iteration": 774,
                        "passed_time": 46.35084245,
                        "remaining_time": 13.4566962,
                        "test": [
                          0.01138323049
                        ]
                      },
                      {
                        "learn": [
                          0.01136975111
                        ],
                        "iteration": 775,
                        "passed_time": 46.38185022,
                        "remaining_time": 13.38857532,
                        "test": [
                          0.01137604787
                        ]
                      },
                      {
                        "learn": [
                          0.01136487884
                        ],
                        "iteration": 776,
                        "passed_time": 46.41235051,
                        "remaining_time": 13.32040433,
                        "test": [
                          0.01137119151
                        ]
                      },
                      {
                        "learn": [
                          0.0113605103
                        ],
                        "iteration": 777,
                        "passed_time": 46.44279462,
                        "remaining_time": 13.25231415,
                        "test": [
                          0.0113668145
                        ]
                      },
                      {
                        "learn": [
                          0.01134608175
                        ],
                        "iteration": 778,
                        "passed_time": 46.47378143,
                        "remaining_time": 13.18447458,
                        "test": [
                          0.011352387
                        ]
                      },
                      {
                        "learn": [
                          0.01133620722
                        ],
                        "iteration": 779,
                        "passed_time": 46.5065404,
                        "remaining_time": 13.11722934,
                        "test": [
                          0.01134249994
                        ]
                      },
                      {
                        "learn": [
                          0.01132911302
                        ],
                        "iteration": 780,
                        "passed_time": 46.53935948,
                        "remaining_time": 13.05008928,
                        "test": [
                          0.01133539612
                        ]
                      },
                      {
                        "learn": [
                          0.01131894103
                        ],
                        "iteration": 781,
                        "passed_time": 46.57262863,
                        "remaining_time": 12.98316246,
                        "test": [
                          0.01132523176
                        ]
                      },
                      {
                        "learn": [
                          0.0113154966
                        ],
                        "iteration": 782,
                        "passed_time": 46.60923434,
                        "remaining_time": 12.9172463,
                        "test": [
                          0.01132178689
                        ]
                      },
                      {
                        "learn": [
                          0.01130836499
                        ],
                        "iteration": 783,
                        "passed_time": 46.64505994,
                        "remaining_time": 12.85118998,
                        "test": [
                          0.01131466166
                        ]
                      },
                      {
                        "learn": [
                          0.01130440736
                        ],
                        "iteration": 784,
                        "passed_time": 46.68241526,
                        "remaining_time": 12.78562966,
                        "test": [
                          0.01131070354
                        ]
                      },
                      {
                        "learn": [
                          0.01130009879
                        ],
                        "iteration": 785,
                        "passed_time": 46.71131739,
                        "remaining_time": 12.7178396,
                        "test": [
                          0.01130639906
                        ]
                      },
                      {
                        "learn": [
                          0.01129635833
                        ],
                        "iteration": 786,
                        "passed_time": 46.74095806,
                        "remaining_time": 12.65034824,
                        "test": [
                          0.01130264978
                        ]
                      },
                      {
                        "learn": [
                          0.01129002818
                        ],
                        "iteration": 787,
                        "passed_time": 46.77167861,
                        "remaining_time": 12.58324348,
                        "test": [
                          0.01129631314
                        ]
                      },
                      {
                        "learn": [
                          0.01128437244
                        ],
                        "iteration": 788,
                        "passed_time": 46.80219351,
                        "remaining_time": 12.51617596,
                        "test": [
                          0.01129065054
                        ]
                      },
                      {
                        "learn": [
                          0.0112764972
                        ],
                        "iteration": 789,
                        "passed_time": 46.83735716,
                        "remaining_time": 12.45043671,
                        "test": [
                          0.01128276311
                        ]
                      },
                      {
                        "learn": [
                          0.01126752802
                        ],
                        "iteration": 790,
                        "passed_time": 46.86814496,
                        "remaining_time": 12.38361858,
                        "test": [
                          0.01127380564
                        ]
                      },
                      {
                        "learn": [
                          0.0112602567
                        ],
                        "iteration": 791,
                        "passed_time": 46.90087405,
                        "remaining_time": 12.31740127,
                        "test": [
                          0.01126653726
                        ]
                      },
                      {
                        "learn": [
                          0.01125503804
                        ],
                        "iteration": 792,
                        "passed_time": 47.05202121,
                        "remaining_time": 12.28217956,
                        "test": [
                          0.01126132396
                        ]
                      },
                      {
                        "learn": [
                          0.01125343328
                        ],
                        "iteration": 793,
                        "passed_time": 47.10715344,
                        "remaining_time": 12.22175517,
                        "test": [
                          0.01125971048
                        ]
                      },
                      {
                        "learn": [
                          0.01124401836
                        ],
                        "iteration": 794,
                        "passed_time": 47.13772292,
                        "remaining_time": 12.15501031,
                        "test": [
                          0.01125030717
                        ]
                      },
                      {
                        "learn": [
                          0.01123712513
                        ],
                        "iteration": 795,
                        "passed_time": 47.1722087,
                        "remaining_time": 12.08936002,
                        "test": [
                          0.01124341847
                        ]
                      },
                      {
                        "learn": [
                          0.01123122995
                        ],
                        "iteration": 796,
                        "passed_time": 47.20311941,
                        "remaining_time": 12.02287734,
                        "test": [
                          0.01123749917
                        ]
                      },
                      {
                        "learn": [
                          0.01122416403
                        ],
                        "iteration": 797,
                        "passed_time": 47.23553369,
                        "remaining_time": 11.95686442,
                        "test": [
                          0.01123044533
                        ]
                      },
                      {
                        "learn": [
                          0.0112210259
                        ],
                        "iteration": 798,
                        "passed_time": 47.26515333,
                        "remaining_time": 11.89023256,
                        "test": [
                          0.01122730435
                        ]
                      },
                      {
                        "learn": [
                          0.0112108275
                        ],
                        "iteration": 799,
                        "passed_time": 47.29634358,
                        "remaining_time": 11.8240859,
                        "test": [
                          0.01121711831
                        ]
                      },
                      {
                        "learn": [
                          0.01119922696
                        ],
                        "iteration": 800,
                        "passed_time": 47.32825208,
                        "remaining_time": 11.75820495,
                        "test": [
                          0.01120551192
                        ]
                      },
                      {
                        "learn": [
                          0.01119483115
                        ],
                        "iteration": 801,
                        "passed_time": 47.35897143,
                        "remaining_time": 11.69211514,
                        "test": [
                          0.01120111075
                        ]
                      },
                      {
                        "learn": [
                          0.01118960581
                        ],
                        "iteration": 802,
                        "passed_time": 47.39262035,
                        "remaining_time": 11.62683214,
                        "test": [
                          0.01119588846
                        ]
                      },
                      {
                        "learn": [
                          0.01118375053
                        ],
                        "iteration": 803,
                        "passed_time": 47.42393626,
                        "remaining_time": 11.56105909,
                        "test": [
                          0.01119003736
                        ]
                      },
                      {
                        "learn": [
                          0.0111745358
                        ],
                        "iteration": 804,
                        "passed_time": 47.45913574,
                        "remaining_time": 11.49631238,
                        "test": [
                          0.0111807969
                        ]
                      },
                      {
                        "learn": [
                          0.01117039671
                        ],
                        "iteration": 805,
                        "passed_time": 47.48909621,
                        "remaining_time": 11.430378,
                        "test": [
                          0.01117669114
                        ]
                      },
                      {
                        "learn": [
                          0.01116769096
                        ],
                        "iteration": 806,
                        "passed_time": 47.51949447,
                        "remaining_time": 11.36463746,
                        "test": [
                          0.0111739671
                        ]
                      },
                      {
                        "learn": [
                          0.01116520713
                        ],
                        "iteration": 807,
                        "passed_time": 47.54768678,
                        "remaining_time": 11.29846023,
                        "test": [
                          0.01117148125
                        ]
                      },
                      {
                        "learn": [
                          0.01115052206
                        ],
                        "iteration": 808,
                        "passed_time": 47.5797661,
                        "remaining_time": 11.23329459,
                        "test": [
                          0.01115679426
                        ]
                      },
                      {
                        "learn": [
                          0.01114104864
                        ],
                        "iteration": 809,
                        "passed_time": 47.61035117,
                        "remaining_time": 11.16786015,
                        "test": [
                          0.01114732398
                        ]
                      },
                      {
                        "learn": [
                          0.01113845481
                        ],
                        "iteration": 810,
                        "passed_time": 47.6491361,
                        "remaining_time": 11.10442259,
                        "test": [
                          0.01114473898
                        ]
                      },
                      {
                        "learn": [
                          0.01113400476
                        ],
                        "iteration": 811,
                        "passed_time": 47.67923285,
                        "remaining_time": 11.03903421,
                        "test": [
                          0.01114028464
                        ]
                      },
                      {
                        "learn": [
                          0.01112259952
                        ],
                        "iteration": 812,
                        "passed_time": 47.70863287,
                        "remaining_time": 10.97357238,
                        "test": [
                          0.01112886619
                        ]
                      },
                      {
                        "learn": [
                          0.01111548516
                        ],
                        "iteration": 813,
                        "passed_time": 47.73687049,
                        "remaining_time": 10.90793355,
                        "test": [
                          0.0111217319
                        ]
                      },
                      {
                        "learn": [
                          0.01110078106
                        ],
                        "iteration": 814,
                        "passed_time": 47.76872589,
                        "remaining_time": 10.84320772,
                        "test": [
                          0.01110702627
                        ]
                      },
                      {
                        "learn": [
                          0.0110926672
                        ],
                        "iteration": 815,
                        "passed_time": 47.79930316,
                        "remaining_time": 10.77827424,
                        "test": [
                          0.01109890642
                        ]
                      },
                      {
                        "learn": [
                          0.0110826865
                        ],
                        "iteration": 816,
                        "passed_time": 47.83188617,
                        "remaining_time": 10.71387414,
                        "test": [
                          0.01108891405
                        ]
                      },
                      {
                        "learn": [
                          0.01107626849
                        ],
                        "iteration": 817,
                        "passed_time": 47.86289821,
                        "remaining_time": 10.64920229,
                        "test": [
                          0.01108249907
                        ]
                      },
                      {
                        "learn": [
                          0.0110677221
                        ],
                        "iteration": 818,
                        "passed_time": 47.890683,
                        "remaining_time": 10.58389942,
                        "test": [
                          0.01107396367
                        ]
                      },
                      {
                        "learn": [
                          0.01106550447
                        ],
                        "iteration": 819,
                        "passed_time": 47.91865761,
                        "remaining_time": 10.51872972,
                        "test": [
                          0.01107174833
                        ]
                      },
                      {
                        "learn": [
                          0.01106047788
                        ],
                        "iteration": 820,
                        "passed_time": 47.94743011,
                        "remaining_time": 10.45382459,
                        "test": [
                          0.01106670637
                        ]
                      },
                      {
                        "learn": [
                          0.01104888445
                        ],
                        "iteration": 821,
                        "passed_time": 47.97793253,
                        "remaining_time": 10.38938198,
                        "test": [
                          0.01105510345
                        ]
                      },
                      {
                        "learn": [
                          0.01103979211
                        ],
                        "iteration": 822,
                        "passed_time": 48.0077875,
                        "remaining_time": 10.32488261,
                        "test": [
                          0.01104601549
                        ]
                      },
                      {
                        "learn": [
                          0.01102744806
                        ],
                        "iteration": 823,
                        "passed_time": 48.0380928,
                        "remaining_time": 10.26056351,
                        "test": [
                          0.01103366308
                        ]
                      },
                      {
                        "learn": [
                          0.01101895474
                        ],
                        "iteration": 824,
                        "passed_time": 48.10838117,
                        "remaining_time": 10.20480813,
                        "test": [
                          0.01102517886
                        ]
                      },
                      {
                        "learn": [
                          0.01101765616
                        ],
                        "iteration": 825,
                        "passed_time": 48.13907483,
                        "remaining_time": 10.14067678,
                        "test": [
                          0.01102388825
                        ]
                      },
                      {
                        "learn": [
                          0.01100599077
                        ],
                        "iteration": 826,
                        "passed_time": 48.16842598,
                        "remaining_time": 10.07634546,
                        "test": [
                          0.01101222612
                        ]
                      },
                      {
                        "learn": [
                          0.0110019084
                        ],
                        "iteration": 827,
                        "passed_time": 48.19624329,
                        "remaining_time": 10.01178001,
                        "test": [
                          0.01100814745
                        ]
                      },
                      {
                        "learn": [
                          0.0109976562
                        ],
                        "iteration": 828,
                        "passed_time": 48.22656768,
                        "remaining_time": 9.947820353,
                        "test": [
                          0.01100389835
                        ]
                      },
                      {
                        "learn": [
                          0.01098212856
                        ],
                        "iteration": 829,
                        "passed_time": 48.25629955,
                        "remaining_time": 9.883820389,
                        "test": [
                          0.01098835508
                        ]
                      },
                      {
                        "learn": [
                          0.01096073939
                        ],
                        "iteration": 830,
                        "passed_time": 48.28697663,
                        "remaining_time": 9.820095127,
                        "test": [
                          0.01096696215
                        ]
                      },
                      {
                        "learn": [
                          0.01095575725
                        ],
                        "iteration": 831,
                        "passed_time": 48.3165945,
                        "remaining_time": 9.756235427,
                        "test": [
                          0.01096197338
                        ]
                      },
                      {
                        "learn": [
                          0.0109522176
                        ],
                        "iteration": 832,
                        "passed_time": 48.3469798,
                        "remaining_time": 9.692611796,
                        "test": [
                          0.01095843027
                        ]
                      },
                      {
                        "learn": [
                          0.01094322526
                        ],
                        "iteration": 833,
                        "passed_time": 48.3783008,
                        "remaining_time": 9.629254117,
                        "test": [
                          0.01094944378
                        ]
                      },
                      {
                        "learn": [
                          0.01093803609
                        ],
                        "iteration": 834,
                        "passed_time": 48.40575383,
                        "remaining_time": 9.565208841,
                        "test": [
                          0.0109442594
                        ]
                      },
                      {
                        "learn": [
                          0.01092975059
                        ],
                        "iteration": 835,
                        "passed_time": 48.43453171,
                        "remaining_time": 9.501511005,
                        "test": [
                          0.01093594917
                        ]
                      },
                      {
                        "learn": [
                          0.0109240889
                        ],
                        "iteration": 836,
                        "passed_time": 48.47006652,
                        "remaining_time": 9.439212475,
                        "test": [
                          0.01093028629
                        ]
                      },
                      {
                        "learn": [
                          0.01092023027
                        ],
                        "iteration": 837,
                        "passed_time": 48.49784802,
                        "remaining_time": 9.375478973,
                        "test": [
                          0.0109264198
                        ]
                      },
                      {
                        "learn": [
                          0.01091769908
                        ],
                        "iteration": 838,
                        "passed_time": 48.52759799,
                        "remaining_time": 9.312208912,
                        "test": [
                          0.01092390013
                        ]
                      },
                      {
                        "learn": [
                          0.01090626667
                        ],
                        "iteration": 839,
                        "passed_time": 48.55678578,
                        "remaining_time": 9.248911578,
                        "test": [
                          0.01091246465
                        ]
                      },
                      {
                        "learn": [
                          0.01090281928
                        ],
                        "iteration": 840,
                        "passed_time": 48.58531908,
                        "remaining_time": 9.185571621,
                        "test": [
                          0.01090903242
                        ]
                      },
                      {
                        "learn": [
                          0.01089519592
                        ],
                        "iteration": 841,
                        "passed_time": 48.61588607,
                        "remaining_time": 9.122695961,
                        "test": [
                          0.01090139457
                        ]
                      },
                      {
                        "learn": [
                          0.01088093194
                        ],
                        "iteration": 842,
                        "passed_time": 48.65540127,
                        "remaining_time": 9.061563463,
                        "test": [
                          0.01088712877
                        ]
                      },
                      {
                        "learn": [
                          0.01087515453
                        ],
                        "iteration": 843,
                        "passed_time": 48.68445091,
                        "remaining_time": 8.998547798,
                        "test": [
                          0.01088134363
                        ]
                      },
                      {
                        "learn": [
                          0.01086596075
                        ],
                        "iteration": 844,
                        "passed_time": 48.71379884,
                        "remaining_time": 8.935667243,
                        "test": [
                          0.01087213897
                        ]
                      },
                      {
                        "learn": [
                          0.01086527805
                        ],
                        "iteration": 845,
                        "passed_time": 48.74677267,
                        "remaining_time": 8.873525994,
                        "test": [
                          0.01087145804
                        ]
                      },
                      {
                        "learn": [
                          0.0108614831
                        ],
                        "iteration": 846,
                        "passed_time": 48.77597977,
                        "remaining_time": 8.810773205,
                        "test": [
                          0.01086766504
                        ]
                      },
                      {
                        "learn": [
                          0.01085792955
                        ],
                        "iteration": 847,
                        "passed_time": 48.80630382,
                        "remaining_time": 8.748299742,
                        "test": [
                          0.01086412107
                        ]
                      },
                      {
                        "learn": [
                          0.01085018797
                        ],
                        "iteration": 848,
                        "passed_time": 48.83821351,
                        "remaining_time": 8.686184029,
                        "test": [
                          0.01085636873
                        ]
                      },
                      {
                        "learn": [
                          0.0108433244
                        ],
                        "iteration": 849,
                        "passed_time": 48.86930435,
                        "remaining_time": 8.623994885,
                        "test": [
                          0.01084950253
                        ]
                      },
                      {
                        "learn": [
                          0.01083606967
                        ],
                        "iteration": 850,
                        "passed_time": 48.89848987,
                        "remaining_time": 8.56154523,
                        "test": [
                          0.01084225534
                        ]
                      },
                      {
                        "learn": [
                          0.01083099462
                        ],
                        "iteration": 851,
                        "passed_time": 48.92780934,
                        "remaining_time": 8.499196927,
                        "test": [
                          0.01083717692
                        ]
                      },
                      {
                        "learn": [
                          0.01082720564
                        ],
                        "iteration": 852,
                        "passed_time": 48.95794443,
                        "remaining_time": 8.437066625,
                        "test": [
                          0.01083339346
                        ]
                      },
                      {
                        "learn": [
                          0.01082354804
                        ],
                        "iteration": 853,
                        "passed_time": 48.98575421,
                        "remaining_time": 8.374613717,
                        "test": [
                          0.01082973676
                        ]
                      },
                      {
                        "learn": [
                          0.01081449993
                        ],
                        "iteration": 854,
                        "passed_time": 49.0148898,
                        "remaining_time": 8.312466691,
                        "test": [
                          0.01082068838
                        ]
                      },
                      {
                        "learn": [
                          0.01080692867
                        ],
                        "iteration": 855,
                        "passed_time": 49.04474617,
                        "remaining_time": 8.250518047,
                        "test": [
                          0.01081311316
                        ]
                      },
                      {
                        "learn": [
                          0.01079980124
                        ],
                        "iteration": 856,
                        "passed_time": 49.09613133,
                        "remaining_time": 8.192236617,
                        "test": [
                          0.01080597833
                        ]
                      },
                      {
                        "learn": [
                          0.01079397788
                        ],
                        "iteration": 857,
                        "passed_time": 49.15152555,
                        "remaining_time": 8.134634765,
                        "test": [
                          0.01080015995
                        ]
                      },
                      {
                        "learn": [
                          0.01079053544
                        ],
                        "iteration": 858,
                        "passed_time": 49.18128948,
                        "remaining_time": 8.072830986,
                        "test": [
                          0.01079671397
                        ]
                      },
                      {
                        "learn": [
                          0.01078749457
                        ],
                        "iteration": 859,
                        "passed_time": 49.20992478,
                        "remaining_time": 8.010917988,
                        "test": [
                          0.01079367725
                        ]
                      },
                      {
                        "learn": [
                          0.01077993885
                        ],
                        "iteration": 860,
                        "passed_time": 49.240068,
                        "remaining_time": 7.949325728,
                        "test": [
                          0.01078610212
                        ]
                      },
                      {
                        "learn": [
                          0.01076889124
                        ],
                        "iteration": 861,
                        "passed_time": 49.26803727,
                        "remaining_time": 7.887458402,
                        "test": [
                          0.01077506945
                        ]
                      },
                      {
                        "learn": [
                          0.01076396219
                        ],
                        "iteration": 862,
                        "passed_time": 49.29648997,
                        "remaining_time": 7.82574638,
                        "test": [
                          0.01077013724
                        ]
                      },
                      {
                        "learn": [
                          0.01076166666
                        ],
                        "iteration": 863,
                        "passed_time": 49.32382327,
                        "remaining_time": 7.763935145,
                        "test": [
                          0.01076784301
                        ]
                      },
                      {
                        "learn": [
                          0.01075555151
                        ],
                        "iteration": 864,
                        "passed_time": 49.35164844,
                        "remaining_time": 7.702280393,
                        "test": [
                          0.01076171949
                        ]
                      },
                      {
                        "learn": [
                          0.01074935277
                        ],
                        "iteration": 865,
                        "passed_time": 49.38019557,
                        "remaining_time": 7.64081548,
                        "test": [
                          0.01075552509
                        ]
                      },
                      {
                        "learn": [
                          0.01074843694
                        ],
                        "iteration": 866,
                        "passed_time": 49.40819035,
                        "remaining_time": 7.579341773,
                        "test": [
                          0.01075461575
                        ]
                      },
                      {
                        "learn": [
                          0.01073845551
                        ],
                        "iteration": 867,
                        "passed_time": 49.43914936,
                        "remaining_time": 7.518395985,
                        "test": [
                          0.010744625
                        ]
                      },
                      {
                        "learn": [
                          0.01073062761
                        ],
                        "iteration": 868,
                        "passed_time": 49.46785925,
                        "remaining_time": 7.457180162,
                        "test": [
                          0.01073679806
                        ]
                      },
                      {
                        "learn": [
                          0.0107256184
                        ],
                        "iteration": 869,
                        "passed_time": 49.50340642,
                        "remaining_time": 7.397060729,
                        "test": [
                          0.01073177524
                        ]
                      },
                      {
                        "learn": [
                          0.01071476236
                        ],
                        "iteration": 870,
                        "passed_time": 49.53612186,
                        "remaining_time": 7.336578324,
                        "test": [
                          0.01072091758
                        ]
                      },
                      {
                        "learn": [
                          0.01071262746
                        ],
                        "iteration": 871,
                        "passed_time": 49.56597043,
                        "remaining_time": 7.275738778,
                        "test": [
                          0.01071879486
                        ]
                      },
                      {
                        "learn": [
                          0.01070442347
                        ],
                        "iteration": 872,
                        "passed_time": 49.59505379,
                        "remaining_time": 7.214858913,
                        "test": [
                          0.0107105868
                        ]
                      },
                      {
                        "learn": [
                          0.01069728221
                        ],
                        "iteration": 873,
                        "passed_time": 49.62412322,
                        "remaining_time": 7.154049801,
                        "test": [
                          0.01070344104
                        ]
                      },
                      {
                        "learn": [
                          0.01068588793
                        ],
                        "iteration": 874,
                        "passed_time": 49.65410698,
                        "remaining_time": 7.093443855,
                        "test": [
                          0.01069203591
                        ]
                      },
                      {
                        "learn": [
                          0.01067684829
                        ],
                        "iteration": 875,
                        "passed_time": 49.69307468,
                        "remaining_time": 7.03417952,
                        "test": [
                          0.01068300021
                        ]
                      },
                      {
                        "learn": [
                          0.01066843694
                        ],
                        "iteration": 876,
                        "passed_time": 49.72287571,
                        "remaining_time": 6.97367584,
                        "test": [
                          0.01067457849
                        ]
                      },
                      {
                        "learn": [
                          0.01066163804
                        ],
                        "iteration": 877,
                        "passed_time": 49.75446995,
                        "remaining_time": 6.913491268,
                        "test": [
                          0.01066776075
                        ]
                      },
                      {
                        "learn": [
                          0.01065355976
                        ],
                        "iteration": 878,
                        "passed_time": 49.78493738,
                        "remaining_time": 6.853216636,
                        "test": [
                          0.01065968797
                        ]
                      },
                      {
                        "learn": [
                          0.01064751837
                        ],
                        "iteration": 879,
                        "passed_time": 49.81868992,
                        "remaining_time": 6.793457716,
                        "test": [
                          0.01065364609
                        ]
                      },
                      {
                        "learn": [
                          0.01064689468
                        ],
                        "iteration": 880,
                        "passed_time": 49.84927934,
                        "remaining_time": 6.733330581,
                        "test": [
                          0.01065301464
                        ]
                      },
                      {
                        "learn": [
                          0.01063784594
                        ],
                        "iteration": 881,
                        "passed_time": 49.88031979,
                        "remaining_time": 6.673330766,
                        "test": [
                          0.01064396801
                        ]
                      },
                      {
                        "learn": [
                          0.01063012579
                        ],
                        "iteration": 882,
                        "passed_time": 49.91068557,
                        "remaining_time": 6.613307148,
                        "test": [
                          0.01063626825
                        ]
                      },
                      {
                        "learn": [
                          0.01062451824
                        ],
                        "iteration": 883,
                        "passed_time": 49.93964968,
                        "remaining_time": 6.5531667,
                        "test": [
                          0.01063064926
                        ]
                      },
                      {
                        "learn": [
                          0.01062008776
                        ],
                        "iteration": 884,
                        "passed_time": 49.96814235,
                        "remaining_time": 6.493035447,
                        "test": [
                          0.01062621604
                        ]
                      },
                      {
                        "learn": [
                          0.01061838595
                        ],
                        "iteration": 885,
                        "passed_time": 49.99730878,
                        "remaining_time": 6.433062304,
                        "test": [
                          0.01062450463
                        ]
                      },
                      {
                        "learn": [
                          0.01061522624
                        ],
                        "iteration": 886,
                        "passed_time": 50.02722517,
                        "remaining_time": 6.373254165,
                        "test": [
                          0.01062135379
                        ]
                      },
                      {
                        "learn": [
                          0.01061301934
                        ],
                        "iteration": 887,
                        "passed_time": 50.05367793,
                        "remaining_time": 6.313076496,
                        "test": [
                          0.01061914733
                        ]
                      },
                      {
                        "learn": [
                          0.01060794085
                        ],
                        "iteration": 888,
                        "passed_time": 50.08301005,
                        "remaining_time": 6.253334213,
                        "test": [
                          0.01061405806
                        ]
                      },
                      {
                        "learn": [
                          0.01059265886
                        ],
                        "iteration": 889,
                        "passed_time": 50.15918863,
                        "remaining_time": 6.19945028,
                        "test": [
                          0.01059878483
                        ]
                      },
                      {
                        "learn": [
                          0.01058669847
                        ],
                        "iteration": 890,
                        "passed_time": 50.18864242,
                        "remaining_time": 6.139800251,
                        "test": [
                          0.01059283013
                        ]
                      },
                      {
                        "learn": [
                          0.01058068717
                        ],
                        "iteration": 891,
                        "passed_time": 50.22086324,
                        "remaining_time": 6.080552948,
                        "test": [
                          0.01058681273
                        ]
                      },
                      {
                        "learn": [
                          0.01057297127
                        ],
                        "iteration": 892,
                        "passed_time": 50.25286581,
                        "remaining_time": 6.021340024,
                        "test": [
                          0.01057909059
                        ]
                      },
                      {
                        "learn": [
                          0.01055481481
                        ],
                        "iteration": 893,
                        "passed_time": 50.28760685,
                        "remaining_time": 5.96251267,
                        "test": [
                          0.01056093692
                        ]
                      },
                      {
                        "learn": [
                          0.01055200523
                        ],
                        "iteration": 894,
                        "passed_time": 50.3177052,
                        "remaining_time": 5.903194465,
                        "test": [
                          0.01055812481
                        ]
                      },
                      {
                        "learn": [
                          0.01054829468
                        ],
                        "iteration": 895,
                        "passed_time": 50.34720782,
                        "remaining_time": 5.843872337,
                        "test": [
                          0.01055441903
                        ]
                      },
                      {
                        "learn": [
                          0.01054366929
                        ],
                        "iteration": 896,
                        "passed_time": 50.37529339,
                        "remaining_time": 5.784453979,
                        "test": [
                          0.01054979428
                        ]
                      },
                      {
                        "learn": [
                          0.01053752453
                        ],
                        "iteration": 897,
                        "passed_time": 50.40344484,
                        "remaining_time": 5.725112888,
                        "test": [
                          0.01054364924
                        ]
                      },
                      {
                        "learn": [
                          0.01053183173
                        ],
                        "iteration": 898,
                        "passed_time": 50.43552649,
                        "remaining_time": 5.666282731,
                        "test": [
                          0.01053794383
                        ]
                      },
                      {
                        "learn": [
                          0.0105290813
                        ],
                        "iteration": 899,
                        "passed_time": 50.46735968,
                        "remaining_time": 5.607484409,
                        "test": [
                          0.01053519289
                        ]
                      },
                      {
                        "learn": [
                          0.0105177416
                        ],
                        "iteration": 900,
                        "passed_time": 50.49782033,
                        "remaining_time": 5.54859513,
                        "test": [
                          0.01052385692
                        ]
                      },
                      {
                        "learn": [
                          0.01050800134
                        ],
                        "iteration": 901,
                        "passed_time": 50.52802799,
                        "remaining_time": 5.489741401,
                        "test": [
                          0.01051411241
                        ]
                      },
                      {
                        "learn": [
                          0.01049967786
                        ],
                        "iteration": 902,
                        "passed_time": 50.55605783,
                        "remaining_time": 5.430717175,
                        "test": [
                          0.01050576484
                        ]
                      },
                      {
                        "learn": [
                          0.01049296453
                        ],
                        "iteration": 903,
                        "passed_time": 50.59110586,
                        "remaining_time": 5.372506817,
                        "test": [
                          0.01049907858
                        ]
                      },
                      {
                        "learn": [
                          0.010485669
                        ],
                        "iteration": 904,
                        "passed_time": 50.62085557,
                        "remaining_time": 5.313791468,
                        "test": [
                          0.01049177385
                        ]
                      },
                      {
                        "learn": [
                          0.01047808417
                        ],
                        "iteration": 905,
                        "passed_time": 50.65002305,
                        "remaining_time": 5.255079654,
                        "test": [
                          0.01048420103
                        ]
                      },
                      {
                        "learn": [
                          0.01047237088
                        ],
                        "iteration": 906,
                        "passed_time": 50.68920687,
                        "remaining_time": 5.19746002,
                        "test": [
                          0.01047847793
                        ]
                      },
                      {
                        "learn": [
                          0.0104650335
                        ],
                        "iteration": 907,
                        "passed_time": 50.72049647,
                        "remaining_time": 5.13908114,
                        "test": [
                          0.0104711468
                        ]
                      },
                      {
                        "learn": [
                          0.01045741642
                        ],
                        "iteration": 908,
                        "passed_time": 50.75210545,
                        "remaining_time": 5.080793835,
                        "test": [
                          0.0104635059
                        ]
                      },
                      {
                        "learn": [
                          0.01045387276
                        ],
                        "iteration": 909,
                        "passed_time": 50.78074105,
                        "remaining_time": 5.022271093,
                        "test": [
                          0.01045997173
                        ]
                      },
                      {
                        "learn": [
                          0.0104504713
                        ],
                        "iteration": 910,
                        "passed_time": 50.81161538,
                        "remaining_time": 4.964032677,
                        "test": [
                          0.01045657368
                        ]
                      },
                      {
                        "learn": [
                          0.01044904718
                        ],
                        "iteration": 911,
                        "passed_time": 50.84010886,
                        "remaining_time": 4.905624539,
                        "test": [
                          0.01045514198
                        ]
                      },
                      {
                        "learn": [
                          0.01043173957
                        ],
                        "iteration": 912,
                        "passed_time": 50.87032466,
                        "remaining_time": 4.847446052,
                        "test": [
                          0.01043783431
                        ]
                      },
                      {
                        "learn": [
                          0.01042522375
                        ],
                        "iteration": 913,
                        "passed_time": 50.90209632,
                        "remaining_time": 4.789475146,
                        "test": [
                          0.01043130756
                        ]
                      },
                      {
                        "learn": [
                          0.01041946987
                        ],
                        "iteration": 914,
                        "passed_time": 50.93056206,
                        "remaining_time": 4.731254399,
                        "test": [
                          0.01042554128
                        ]
                      },
                      {
                        "learn": [
                          0.01041762847
                        ],
                        "iteration": 915,
                        "passed_time": 50.95924451,
                        "remaining_time": 4.673118493,
                        "test": [
                          0.01042370968
                        ]
                      },
                      {
                        "learn": [
                          0.01040885974
                        ],
                        "iteration": 916,
                        "passed_time": 50.98893536,
                        "remaining_time": 4.615138097,
                        "test": [
                          0.01041492756
                        ]
                      },
                      {
                        "learn": [
                          0.01040291167
                        ],
                        "iteration": 917,
                        "passed_time": 51.01734622,
                        "remaining_time": 4.557105,
                        "test": [
                          0.01040898934
                        ]
                      },
                      {
                        "learn": [
                          0.01039668626
                        ],
                        "iteration": 918,
                        "passed_time": 51.046287,
                        "remaining_time": 4.499183076,
                        "test": [
                          0.01040275217
                        ]
                      },
                      {
                        "learn": [
                          0.0103928877
                        ],
                        "iteration": 919,
                        "passed_time": 51.07216458,
                        "remaining_time": 4.44105779,
                        "test": [
                          0.01039895028
                        ]
                      },
                      {
                        "learn": [
                          0.0103826372
                        ],
                        "iteration": 920,
                        "passed_time": 51.10305122,
                        "remaining_time": 4.38343219,
                        "test": [
                          0.01038868574
                        ]
                      },
                      {
                        "learn": [
                          0.01037607288
                        ],
                        "iteration": 921,
                        "passed_time": 51.16365962,
                        "remaining_time": 4.328379013,
                        "test": [
                          0.01038213011
                        ]
                      },
                      {
                        "learn": [
                          0.01036218339
                        ],
                        "iteration": 922,
                        "passed_time": 51.20901553,
                        "remaining_time": 4.272041382,
                        "test": [
                          0.01036823195
                        ]
                      },
                      {
                        "learn": [
                          0.01035711411
                        ],
                        "iteration": 923,
                        "passed_time": 51.23979906,
                        "remaining_time": 4.214528927,
                        "test": [
                          0.01036317943
                        ]
                      },
                      {
                        "learn": [
                          0.01035235085
                        ],
                        "iteration": 924,
                        "passed_time": 51.26925641,
                        "remaining_time": 4.156966736,
                        "test": [
                          0.01035841354
                        ]
                      },
                      {
                        "learn": [
                          0.01034879291
                        ],
                        "iteration": 925,
                        "passed_time": 51.29841611,
                        "remaining_time": 4.09944146,
                        "test": [
                          0.01035484827
                        ]
                      },
                      {
                        "learn": [
                          0.01034262588
                        ],
                        "iteration": 926,
                        "passed_time": 51.32810849,
                        "remaining_time": 4.042019331,
                        "test": [
                          0.0103486773
                        ]
                      },
                      {
                        "learn": [
                          0.01033517024
                        ],
                        "iteration": 927,
                        "passed_time": 51.35676811,
                        "remaining_time": 3.984576836,
                        "test": [
                          0.01034122174
                        ]
                      },
                      {
                        "learn": [
                          0.0103288875
                        ],
                        "iteration": 928,
                        "passed_time": 51.38516213,
                        "remaining_time": 3.927176007,
                        "test": [
                          0.01033492323
                        ]
                      },
                      {
                        "learn": [
                          0.01031992565
                        ],
                        "iteration": 929,
                        "passed_time": 51.41636139,
                        "remaining_time": 3.870048706,
                        "test": [
                          0.01032597826
                        ]
                      },
                      {
                        "learn": [
                          0.01031178228
                        ],
                        "iteration": 930,
                        "passed_time": 51.44608322,
                        "remaining_time": 3.812867607,
                        "test": [
                          0.0103178218
                        ]
                      },
                      {
                        "learn": [
                          0.01030546391
                        ],
                        "iteration": 931,
                        "passed_time": 51.47559049,
                        "remaining_time": 3.755729778,
                        "test": [
                          0.01031150823
                        ]
                      },
                      {
                        "learn": [
                          0.01030360452
                        ],
                        "iteration": 932,
                        "passed_time": 51.50230571,
                        "remaining_time": 3.698450678,
                        "test": [
                          0.0103096396
                        ]
                      },
                      {
                        "learn": [
                          0.01029802428
                        ],
                        "iteration": 933,
                        "passed_time": 51.5313507,
                        "remaining_time": 3.641401655,
                        "test": [
                          0.01030405504
                        ]
                      },
                      {
                        "learn": [
                          0.01029036794
                        ],
                        "iteration": 934,
                        "passed_time": 51.55990723,
                        "remaining_time": 3.584378577,
                        "test": [
                          0.0102964083
                        ]
                      },
                      {
                        "learn": [
                          0.01028060695
                        ],
                        "iteration": 935,
                        "passed_time": 51.58875572,
                        "remaining_time": 3.527436289,
                        "test": [
                          0.01028664719
                        ]
                      },
                      {
                        "learn": [
                          0.01027486179
                        ],
                        "iteration": 936,
                        "passed_time": 51.61772646,
                        "remaining_time": 3.470562184,
                        "test": [
                          0.01028089303
                        ]
                      },
                      {
                        "learn": [
                          0.01026889378
                        ],
                        "iteration": 937,
                        "passed_time": 51.65856936,
                        "remaining_time": 3.414532303,
                        "test": [
                          0.01027493273
                        ]
                      },
                      {
                        "learn": [
                          0.01026171663
                        ],
                        "iteration": 938,
                        "passed_time": 51.70168518,
                        "remaining_time": 3.358682424,
                        "test": [
                          0.01026775325
                        ]
                      },
                      {
                        "learn": [
                          0.01025321917
                        ],
                        "iteration": 939,
                        "passed_time": 51.73255542,
                        "remaining_time": 3.302078006,
                        "test": [
                          0.01025925929
                        ]
                      },
                      {
                        "learn": [
                          0.010248304
                        ],
                        "iteration": 940,
                        "passed_time": 51.76665043,
                        "remaining_time": 3.245730473,
                        "test": [
                          0.01025433723
                        ]
                      },
                      {
                        "learn": [
                          0.01024666705
                        ],
                        "iteration": 941,
                        "passed_time": 51.79713602,
                        "remaining_time": 3.18920795,
                        "test": [
                          0.01025269961
                        ]
                      },
                      {
                        "learn": [
                          0.01024454347
                        ],
                        "iteration": 942,
                        "passed_time": 51.82886351,
                        "remaining_time": 3.132815716,
                        "test": [
                          0.01025057478
                        ]
                      },
                      {
                        "learn": [
                          0.01024208285
                        ],
                        "iteration": 943,
                        "passed_time": 51.8576321,
                        "remaining_time": 3.076300209,
                        "test": [
                          0.01024811282
                        ]
                      },
                      {
                        "learn": [
                          0.01023325078
                        ],
                        "iteration": 944,
                        "passed_time": 51.88781722,
                        "remaining_time": 3.01992587,
                        "test": [
                          0.0102392791
                        ]
                      },
                      {
                        "learn": [
                          0.01022720045
                        ],
                        "iteration": 945,
                        "passed_time": 51.91935121,
                        "remaining_time": 2.963683895,
                        "test": [
                          0.01023323422
                        ]
                      },
                      {
                        "learn": [
                          0.01022334894
                        ],
                        "iteration": 946,
                        "passed_time": 51.948254,
                        "remaining_time": 2.907346845,
                        "test": [
                          0.0102293896
                        ]
                      },
                      {
                        "learn": [
                          0.01021948187
                        ],
                        "iteration": 947,
                        "passed_time": 51.97702972,
                        "remaining_time": 2.851060702,
                        "test": [
                          0.01022552172
                        ]
                      },
                      {
                        "learn": [
                          0.01021355061
                        ],
                        "iteration": 948,
                        "passed_time": 52.00765143,
                        "remaining_time": 2.794931742,
                        "test": [
                          0.01021958034
                        ]
                      },
                      {
                        "learn": [
                          0.01021062342
                        ],
                        "iteration": 949,
                        "passed_time": 52.03537996,
                        "remaining_time": 2.738704208,
                        "test": [
                          0.01021666164
                        ]
                      },
                      {
                        "learn": [
                          0.01019232089
                        ],
                        "iteration": 950,
                        "passed_time": 52.06422343,
                        "remaining_time": 2.682594057,
                        "test": [
                          0.01019835874
                        ]
                      },
                      {
                        "learn": [
                          0.01018477203
                        ],
                        "iteration": 951,
                        "passed_time": 52.09486595,
                        "remaining_time": 2.626631897,
                        "test": [
                          0.01019080633
                        ]
                      },
                      {
                        "learn": [
                          0.01018245624
                        ],
                        "iteration": 952,
                        "passed_time": 52.1234406,
                        "remaining_time": 2.57062089,
                        "test": [
                          0.01018846854
                        ]
                      },
                      {
                        "learn": [
                          0.01017776063
                        ],
                        "iteration": 953,
                        "passed_time": 52.18104417,
                        "remaining_time": 2.516067119,
                        "test": [
                          0.01018377837
                        ]
                      },
                      {
                        "learn": [
                          0.010164164
                        ],
                        "iteration": 954,
                        "passed_time": 52.23533605,
                        "remaining_time": 2.461350913,
                        "test": [
                          0.01017017765
                        ]
                      },
                      {
                        "learn": [
                          0.01015885941
                        ],
                        "iteration": 955,
                        "passed_time": 52.26831075,
                        "remaining_time": 2.405654469,
                        "test": [
                          0.01016487311
                        ]
                      },
                      {
                        "learn": [
                          0.01015315429
                        ],
                        "iteration": 956,
                        "passed_time": 52.29723812,
                        "remaining_time": 2.349823656,
                        "test": [
                          0.01015916088
                        ]
                      },
                      {
                        "learn": [
                          0.01014071415
                        ],
                        "iteration": 957,
                        "passed_time": 52.3263944,
                        "remaining_time": 2.294059045,
                        "test": [
                          0.01014672585
                        ]
                      },
                      {
                        "learn": [
                          0.01013748755
                        ],
                        "iteration": 958,
                        "passed_time": 52.35519089,
                        "remaining_time": 2.238334543,
                        "test": [
                          0.01014349753
                        ]
                      },
                      {
                        "learn": [
                          0.01013550647
                        ],
                        "iteration": 959,
                        "passed_time": 52.38591933,
                        "remaining_time": 2.182746639,
                        "test": [
                          0.01014151896
                        ]
                      },
                      {
                        "learn": [
                          0.01013087858
                        ],
                        "iteration": 960,
                        "passed_time": 52.41419079,
                        "remaining_time": 2.127110761,
                        "test": [
                          0.01013688641
                        ]
                      },
                      {
                        "learn": [
                          0.01012530107
                        ],
                        "iteration": 961,
                        "passed_time": 52.44419335,
                        "remaining_time": 2.071600153,
                        "test": [
                          0.01013130784
                        ]
                      },
                      {
                        "learn": [
                          0.01012036516
                        ],
                        "iteration": 962,
                        "passed_time": 52.47392222,
                        "remaining_time": 2.016132006,
                        "test": [
                          0.01012637785
                        ]
                      },
                      {
                        "learn": [
                          0.01011631954
                        ],
                        "iteration": 963,
                        "passed_time": 52.50390464,
                        "remaining_time": 1.960726729,
                        "test": [
                          0.01012232065
                        ]
                      },
                      {
                        "learn": [
                          0.01011156661
                        ],
                        "iteration": 964,
                        "passed_time": 52.53396574,
                        "remaining_time": 1.905376996,
                        "test": [
                          0.01011756788
                        ]
                      },
                      {
                        "learn": [
                          0.01010636183
                        ],
                        "iteration": 965,
                        "passed_time": 52.56481488,
                        "remaining_time": 1.850107356,
                        "test": [
                          0.01011235732
                        ]
                      },
                      {
                        "learn": [
                          0.01010134665
                        ],
                        "iteration": 966,
                        "passed_time": 52.59569956,
                        "remaining_time": 1.794889437,
                        "test": [
                          0.01010733707
                        ]
                      },
                      {
                        "learn": [
                          0.01009252396
                        ],
                        "iteration": 967,
                        "passed_time": 52.62521562,
                        "remaining_time": 1.739676549,
                        "test": [
                          0.01009850126
                        ]
                      },
                      {
                        "learn": [
                          0.01009060017
                        ],
                        "iteration": 968,
                        "passed_time": 52.66079777,
                        "remaining_time": 1.684710765,
                        "test": [
                          0.01009659234
                        ]
                      },
                      {
                        "learn": [
                          0.01008215031
                        ],
                        "iteration": 969,
                        "passed_time": 52.69289674,
                        "remaining_time": 1.629677219,
                        "test": [
                          0.01008814206
                        ]
                      },
                      {
                        "learn": [
                          0.01007342692
                        ],
                        "iteration": 970,
                        "passed_time": 52.73502828,
                        "remaining_time": 1.574990546,
                        "test": [
                          0.01007940912
                        ]
                      },
                      {
                        "learn": [
                          0.01005965783
                        ],
                        "iteration": 971,
                        "passed_time": 52.76616803,
                        "remaining_time": 1.520013071,
                        "test": [
                          0.01006561838
                        ]
                      },
                      {
                        "learn": [
                          0.01005870362
                        ],
                        "iteration": 972,
                        "passed_time": 52.79744152,
                        "remaining_time": 1.465088305,
                        "test": [
                          0.01006468143
                        ]
                      },
                      {
                        "learn": [
                          0.01005582063
                        ],
                        "iteration": 973,
                        "passed_time": 52.82925917,
                        "remaining_time": 1.410226631,
                        "test": [
                          0.01006178818
                        ]
                      },
                      {
                        "learn": [
                          0.01004394991
                        ],
                        "iteration": 974,
                        "passed_time": 52.86078837,
                        "remaining_time": 1.35540483,
                        "test": [
                          0.01004992601
                        ]
                      },
                      {
                        "learn": [
                          0.01004176364
                        ],
                        "iteration": 975,
                        "passed_time": 52.88860053,
                        "remaining_time": 1.300539357,
                        "test": [
                          0.01004773963
                        ]
                      },
                      {
                        "learn": [
                          0.01004035165
                        ],
                        "iteration": 976,
                        "passed_time": 52.91729022,
                        "remaining_time": 1.245749923,
                        "test": [
                          0.01004631685
                        ]
                      },
                      {
                        "learn": [
                          0.01003485006
                        ],
                        "iteration": 977,
                        "passed_time": 52.94689206,
                        "remaining_time": 1.191034382,
                        "test": [
                          0.0100408085
                        ]
                      },
                      {
                        "learn": [
                          0.01002805023
                        ],
                        "iteration": 978,
                        "passed_time": 52.97706511,
                        "remaining_time": 1.136382398,
                        "test": [
                          0.01003401001
                        ]
                      },
                      {
                        "learn": [
                          0.01002631307
                        ],
                        "iteration": 979,
                        "passed_time": 53.00592951,
                        "remaining_time": 1.081753663,
                        "test": [
                          0.01003227338
                        ]
                      },
                      {
                        "learn": [
                          0.01002135501
                        ],
                        "iteration": 980,
                        "passed_time": 53.03627252,
                        "remaining_time": 1.027206094,
                        "test": [
                          0.01002730909
                        ]
                      },
                      {
                        "learn": [
                          0.0100133274
                        ],
                        "iteration": 981,
                        "passed_time": 53.06781883,
                        "remaining_time": 0.9727298768,
                        "test": [
                          0.01001928105
                        ]
                      },
                      {
                        "learn": [
                          0.01000801001
                        ],
                        "iteration": 982,
                        "passed_time": 53.12018186,
                        "remaining_time": 0.918660317,
                        "test": [
                          0.01001396309
                        ]
                      },
                      {
                        "learn": [
                          0.01000015338
                        ],
                        "iteration": 983,
                        "passed_time": 53.15587744,
                        "remaining_time": 0.8643232104,
                        "test": [
                          0.01000609668
                        ]
                      },
                      {
                        "learn": [
                          0.009999136985
                        ],
                        "iteration": 984,
                        "passed_time": 53.2343789,
                        "remaining_time": 0.8106758208,
                        "test": [
                          0.01000507998
                        ]
                      },
                      {
                        "learn": [
                          0.009997935351
                        ],
                        "iteration": 985,
                        "passed_time": 53.26445843,
                        "remaining_time": 0.7562904848,
                        "test": [
                          0.01000387347
                        ]
                      },
                      {
                        "learn": [
                          0.009985530739
                        ],
                        "iteration": 986,
                        "passed_time": 53.29630478,
                        "remaining_time": 0.7019776719,
                        "test": [
                          0.009991451719
                        ]
                      },
                      {
                        "learn": [
                          0.009978900676
                        ],
                        "iteration": 987,
                        "passed_time": 53.3265679,
                        "remaining_time": 0.6476911082,
                        "test": [
                          0.009984829027
                        ]
                      },
                      {
                        "learn": [
                          0.009973914741
                        ],
                        "iteration": 988,
                        "passed_time": 53.35617937,
                        "remaining_time": 0.5934458778,
                        "test": [
                          0.00997984052
                        ]
                      },
                      {
                        "learn": [
                          0.009971095415
                        ],
                        "iteration": 989,
                        "passed_time": 53.3830218,
                        "remaining_time": 0.5392224425,
                        "test": [
                          0.009977017136
                        ]
                      },
                      {
                        "learn": [
                          0.009965425186
                        ],
                        "iteration": 990,
                        "passed_time": 53.41234206,
                        "remaining_time": 0.4850767695,
                        "test": [
                          0.009971355826
                        ]
                      },
                      {
                        "learn": [
                          0.009962963281
                        ],
                        "iteration": 991,
                        "passed_time": 53.44190055,
                        "remaining_time": 0.4309830689,
                        "test": [
                          0.009968900014
                        ]
                      },
                      {
                        "learn": [
                          0.009959427111
                        ],
                        "iteration": 992,
                        "passed_time": 53.47115769,
                        "remaining_time": 0.3769366604,
                        "test": [
                          0.009965340151
                        ]
                      },
                      {
                        "learn": [
                          0.009952835918
                        ],
                        "iteration": 993,
                        "passed_time": 53.5007703,
                        "remaining_time": 0.3229422754,
                        "test": [
                          0.009958762994
                        ]
                      },
                      {
                        "learn": [
                          0.009947405625
                        ],
                        "iteration": 994,
                        "passed_time": 53.53074895,
                        "remaining_time": 0.2689987384,
                        "test": [
                          0.009953334845
                        ]
                      },
                      {
                        "learn": [
                          0.009945104324
                        ],
                        "iteration": 995,
                        "passed_time": 53.55838632,
                        "remaining_time": 0.2150939209,
                        "test": [
                          0.009951022945
                        ]
                      },
                      {
                        "learn": [
                          0.009940771087
                        ],
                        "iteration": 996,
                        "passed_time": 53.58935322,
                        "remaining_time": 0.1612518151,
                        "test": [
                          0.009946681157
                        ]
                      },
                      {
                        "learn": [
                          0.009930939165
                        ],
                        "iteration": 997,
                        "passed_time": 53.6184226,
                        "remaining_time": 0.1074517487,
                        "test": [
                          0.009936867726
                        ]
                      },
                      {
                        "learn": [
                          0.00992901723
                        ],
                        "iteration": 998,
                        "passed_time": 53.677738,
                        "remaining_time": 0.05373146946,
                        "test": [
                          0.009934936381
                        ]
                      },
                      {
                        "learn": [
                          0.009924688129
                        ],
                        "iteration": 999,
                        "passed_time": 53.74649865,
                        "remaining_time": 0,
                        "test": [
                          0.00993060103
                        ]
                      }
                    ],
                    "meta": {
                      "test_sets": [
                        "test"
                      ],
                      "test_metrics": [
                        {
                          "best_value": "Min",
                          "name": "Logloss"
                        }
                      ],
                      "learn_metrics": [
                        {
                          "best_value": "Min",
                          "name": "Logloss"
                        }
                      ],
                      "launch_mode": "Train",
                      "parameters": "",
                      "iteration_count": 1000,
                      "learn_sets": [
                        "learn"
                      ],
                      "name": "experiment"
                    }
                  }
                }
              }
            },
            "layout": "IPY_MODEL_6e0b55c7d7eb43c5936df00873f0d65f"
          }
        }
      }
    }
  },
  "cells": [
    {
      "cell_type": "code",
      "source": [
        "import pandas as pd\n",
        "import numpy as np\n",
        "import matplotlib.pyplot as plt\n",
        "import seaborn as sns"
      ],
      "metadata": {
        "id": "8GjRW7mwiUHx"
      },
      "execution_count": 1,
      "outputs": []
    },
    {
      "cell_type": "code",
      "execution_count": 2,
      "metadata": {
        "colab": {
          "base_uri": "https://localhost:8080/",
          "height": 72
        },
        "id": "7Ou3LlgscJ-x",
        "outputId": "4ec1fb95-9da6-4f38-bb5b-35016b1eb27d"
      },
      "outputs": [
        {
          "output_type": "display_data",
          "data": {
            "text/plain": [
              "(136429, 13)"
            ]
          },
          "metadata": {}
        },
        {
          "output_type": "display_data",
          "data": {
            "text/plain": [
              "(90954, 12)"
            ]
          },
          "metadata": {}
        },
        {
          "output_type": "display_data",
          "data": {
            "text/plain": [
              "(90954, 2)"
            ]
          },
          "metadata": {}
        }
      ],
      "source": [
        "df_train  = pd.read_csv('/content/train.csv', index_col='id')\n",
        "df_test   = pd.read_csv('/content/test.csv', index_col='id')\n",
        "df_sample = pd.read_csv('/content/sample_submission.csv')\n",
        "\n",
        "# display(df_train , df_test, df_sample)\n",
        "display(df_train.shape , df_test.shape, df_sample.shape)"
      ]
    },
    {
      "cell_type": "markdown",
      "source": [
        "# Feature Engineering"
      ],
      "metadata": {
        "id": "1eJI6RLPhIR3"
      }
    },
    {
      "cell_type": "code",
      "source": [
        "df_train.columns"
      ],
      "metadata": {
        "colab": {
          "base_uri": "https://localhost:8080/"
        },
        "id": "LPY2iHhVflBZ",
        "outputId": "85b0fd2a-70b6-4201-f0e1-a0e9d5ded0db"
      },
      "execution_count": 3,
      "outputs": [
        {
          "output_type": "execute_result",
          "data": {
            "text/plain": [
              "Index(['Product ID', 'Type', 'Air temperature [K]', 'Process temperature [K]',\n",
              "       'Rotational speed [rpm]', 'Torque [Nm]', 'Tool wear [min]',\n",
              "       'Machine failure', 'TWF', 'HDF', 'PWF', 'OSF', 'RNF'],\n",
              "      dtype='object')"
            ]
          },
          "metadata": {},
          "execution_count": 3
        }
      ]
    },
    {
      "cell_type": "code",
      "source": [
        "df_train.columns = df_train.columns.str.replace('[\\[\\]]', '', regex=True)\n",
        "df_train[\"Power\"] = df_train[\"Torque Nm\"] * df_train[\"Rotational speed rpm\"]\n",
        "df_train[\"temp_ratio\"] = df_train[\"Process temperature K\"] / df_train[\"Air temperature K\"]\n",
        "df_train[\"Process temperature C\"] = df_train[\"Process temperature K\"] - 273.15\n",
        "df_train[\"Air temperature C\"] = df_train[\"Air temperature K\"] - 273.15\n",
        "df_train[\"temp_C_ratio\"] = df_train[\"Process temperature C\"] / df_train[\"Air temperature C\"]\n",
        "df_train[\"Failure Sum\"] = (df_train[\"TWF\"] +\n",
        "                            df_train[\"HDF\"] +\n",
        "                            df_train[\"PWF\"] +\n",
        "                            df_train[\"OSF\"] +\n",
        "                            df_train[\"RNF\"])\n",
        "df_train[\"tool_wear_speed\"] = df_train[\"Tool wear min\"] * df_train[\"Rotational speed rpm\"]\n",
        "df_train[\"torque wear ratio\"] = df_train[\"Torque Nm\"] / (df_train[\"Tool wear min\"] + 0.0001)\n",
        "df_train[\"torque times wear\"] = df_train[\"Torque Nm\"] * df_train[\"Tool wear min\"]\n",
        "\n",
        "\n",
        "df_test.columns = df_test.columns.str.replace('[\\[\\]]', '', regex=True)\n",
        "df_test[\"Power\"] = df_test[\"Torque Nm\"] * df_test[\"Rotational speed rpm\"]\n",
        "df_test[\"temp_ratio\"] = df_test[\"Process temperature K\"] / df_test[\"Air temperature K\"]\n",
        "df_test[\"Process temperature C\"] = df_test[\"Process temperature K\"] - 273.15\n",
        "df_test[\"Air temperature C\"] = df_test[\"Air temperature K\"] - 273.15\n",
        "df_test[\"temp_C_ratio\"] = df_test[\"Process temperature C\"] / df_test[\"Air temperature C\"]\n",
        "df_test[\"Failure Sum\"] = (df_test[\"TWF\"] +\n",
        "                            df_test[\"HDF\"] +\n",
        "                            df_test[\"PWF\"] +\n",
        "                            df_test[\"OSF\"] +\n",
        "                            df_test[\"RNF\"])\n",
        "df_test[\"tool_wear_speed\"] = df_test[\"Tool wear min\"] * df_test[\"Rotational speed rpm\"]\n",
        "df_test[\"torque wear ratio\"] = df_test[\"Torque Nm\"] / (df_test[\"Tool wear min\"] + 0.0001)\n",
        "df_test[\"torque times wear\"] = df_test[\"Torque Nm\"] * df_test[\"Tool wear min\"]"
      ],
      "metadata": {
        "id": "ppG9Vazvggxe"
      },
      "execution_count": 4,
      "outputs": []
    },
    {
      "cell_type": "code",
      "source": [
        "display(df_train.columns.tolist())"
      ],
      "metadata": {
        "colab": {
          "base_uri": "https://localhost:8080/",
          "height": 421
        },
        "id": "6whqMgetg8dT",
        "outputId": "5917a8af-bd9b-4e76-dbb7-a9c11e5e606f"
      },
      "execution_count": 5,
      "outputs": [
        {
          "output_type": "display_data",
          "data": {
            "text/plain": [
              "['Product ID',\n",
              " 'Type',\n",
              " 'Air temperature K',\n",
              " 'Process temperature K',\n",
              " 'Rotational speed rpm',\n",
              " 'Torque Nm',\n",
              " 'Tool wear min',\n",
              " 'Machine failure',\n",
              " 'TWF',\n",
              " 'HDF',\n",
              " 'PWF',\n",
              " 'OSF',\n",
              " 'RNF',\n",
              " 'Power',\n",
              " 'temp_ratio',\n",
              " 'Process temperature C',\n",
              " 'Air temperature C',\n",
              " 'temp_C_ratio',\n",
              " 'Failure Sum',\n",
              " 'tool_wear_speed',\n",
              " 'torque wear ratio',\n",
              " 'torque times wear']"
            ]
          },
          "metadata": {}
        }
      ]
    },
    {
      "cell_type": "code",
      "source": [
        "# Original data\n",
        "df_org = pd.read_csv('/content/machine failure.csv')\n",
        "\n",
        "pd.DataFrame(data= {'Number': df_org['Machine failure'].value_counts(),\n",
        "                    'Percent': df_org['Machine failure'].value_counts(normalize=True)})"
      ],
      "metadata": {
        "colab": {
          "base_uri": "https://localhost:8080/",
          "height": 112
        },
        "id": "WucRWcxfhDK2",
        "outputId": "1073f6ac-1186-436f-d53a-b7a9a24bc9b2"
      },
      "execution_count": 6,
      "outputs": [
        {
          "output_type": "execute_result",
          "data": {
            "text/plain": [
              "   Number  Percent\n",
              "0    9661   0.9661\n",
              "1     339   0.0339"
            ],
            "text/html": [
              "\n",
              "  <div id=\"df-4c09750b-e83b-4ad1-84d7-254dcc9ce857\">\n",
              "    <div class=\"colab-df-container\">\n",
              "      <div>\n",
              "<style scoped>\n",
              "    .dataframe tbody tr th:only-of-type {\n",
              "        vertical-align: middle;\n",
              "    }\n",
              "\n",
              "    .dataframe tbody tr th {\n",
              "        vertical-align: top;\n",
              "    }\n",
              "\n",
              "    .dataframe thead th {\n",
              "        text-align: right;\n",
              "    }\n",
              "</style>\n",
              "<table border=\"1\" class=\"dataframe\">\n",
              "  <thead>\n",
              "    <tr style=\"text-align: right;\">\n",
              "      <th></th>\n",
              "      <th>Number</th>\n",
              "      <th>Percent</th>\n",
              "    </tr>\n",
              "  </thead>\n",
              "  <tbody>\n",
              "    <tr>\n",
              "      <th>0</th>\n",
              "      <td>9661</td>\n",
              "      <td>0.9661</td>\n",
              "    </tr>\n",
              "    <tr>\n",
              "      <th>1</th>\n",
              "      <td>339</td>\n",
              "      <td>0.0339</td>\n",
              "    </tr>\n",
              "  </tbody>\n",
              "</table>\n",
              "</div>\n",
              "      <button class=\"colab-df-convert\" onclick=\"convertToInteractive('df-4c09750b-e83b-4ad1-84d7-254dcc9ce857')\"\n",
              "              title=\"Convert this dataframe to an interactive table.\"\n",
              "              style=\"display:none;\">\n",
              "        \n",
              "  <svg xmlns=\"http://www.w3.org/2000/svg\" height=\"24px\"viewBox=\"0 0 24 24\"\n",
              "       width=\"24px\">\n",
              "    <path d=\"M0 0h24v24H0V0z\" fill=\"none\"/>\n",
              "    <path d=\"M18.56 5.44l.94 2.06.94-2.06 2.06-.94-2.06-.94-.94-2.06-.94 2.06-2.06.94zm-11 1L8.5 8.5l.94-2.06 2.06-.94-2.06-.94L8.5 2.5l-.94 2.06-2.06.94zm10 10l.94 2.06.94-2.06 2.06-.94-2.06-.94-.94-2.06-.94 2.06-2.06.94z\"/><path d=\"M17.41 7.96l-1.37-1.37c-.4-.4-.92-.59-1.43-.59-.52 0-1.04.2-1.43.59L10.3 9.45l-7.72 7.72c-.78.78-.78 2.05 0 2.83L4 21.41c.39.39.9.59 1.41.59.51 0 1.02-.2 1.41-.59l7.78-7.78 2.81-2.81c.8-.78.8-2.07 0-2.86zM5.41 20L4 18.59l7.72-7.72 1.47 1.35L5.41 20z\"/>\n",
              "  </svg>\n",
              "      </button>\n",
              "      \n",
              "  <style>\n",
              "    .colab-df-container {\n",
              "      display:flex;\n",
              "      flex-wrap:wrap;\n",
              "      gap: 12px;\n",
              "    }\n",
              "\n",
              "    .colab-df-convert {\n",
              "      background-color: #E8F0FE;\n",
              "      border: none;\n",
              "      border-radius: 50%;\n",
              "      cursor: pointer;\n",
              "      display: none;\n",
              "      fill: #1967D2;\n",
              "      height: 32px;\n",
              "      padding: 0 0 0 0;\n",
              "      width: 32px;\n",
              "    }\n",
              "\n",
              "    .colab-df-convert:hover {\n",
              "      background-color: #E2EBFA;\n",
              "      box-shadow: 0px 1px 2px rgba(60, 64, 67, 0.3), 0px 1px 3px 1px rgba(60, 64, 67, 0.15);\n",
              "      fill: #174EA6;\n",
              "    }\n",
              "\n",
              "    [theme=dark] .colab-df-convert {\n",
              "      background-color: #3B4455;\n",
              "      fill: #D2E3FC;\n",
              "    }\n",
              "\n",
              "    [theme=dark] .colab-df-convert:hover {\n",
              "      background-color: #434B5C;\n",
              "      box-shadow: 0px 1px 3px 1px rgba(0, 0, 0, 0.15);\n",
              "      filter: drop-shadow(0px 1px 2px rgba(0, 0, 0, 0.3));\n",
              "      fill: #FFFFFF;\n",
              "    }\n",
              "  </style>\n",
              "\n",
              "      <script>\n",
              "        const buttonEl =\n",
              "          document.querySelector('#df-4c09750b-e83b-4ad1-84d7-254dcc9ce857 button.colab-df-convert');\n",
              "        buttonEl.style.display =\n",
              "          google.colab.kernel.accessAllowed ? 'block' : 'none';\n",
              "\n",
              "        async function convertToInteractive(key) {\n",
              "          const element = document.querySelector('#df-4c09750b-e83b-4ad1-84d7-254dcc9ce857');\n",
              "          const dataTable =\n",
              "            await google.colab.kernel.invokeFunction('convertToInteractive',\n",
              "                                                     [key], {});\n",
              "          if (!dataTable) return;\n",
              "\n",
              "          const docLinkHtml = 'Like what you see? Visit the ' +\n",
              "            '<a target=\"_blank\" href=https://colab.research.google.com/notebooks/data_table.ipynb>data table notebook</a>'\n",
              "            + ' to learn more about interactive tables.';\n",
              "          element.innerHTML = '';\n",
              "          dataTable['output_type'] = 'display_data';\n",
              "          await google.colab.output.renderOutput(dataTable, element);\n",
              "          const docLink = document.createElement('div');\n",
              "          docLink.innerHTML = docLinkHtml;\n",
              "          element.appendChild(docLink);\n",
              "        }\n",
              "      </script>\n",
              "    </div>\n",
              "  </div>\n",
              "  "
            ]
          },
          "metadata": {},
          "execution_count": 6
        }
      ]
    },
    {
      "cell_type": "code",
      "source": [
        "display(df_train.info())\n",
        "# df_train.describe().transpose()"
      ],
      "metadata": {
        "colab": {
          "base_uri": "https://localhost:8080/",
          "height": 568
        },
        "id": "KGIHpKsBhqEY",
        "outputId": "556ea25f-0741-42f4-e5d1-061f321eedf4"
      },
      "execution_count": 7,
      "outputs": [
        {
          "output_type": "stream",
          "name": "stdout",
          "text": [
            "<class 'pandas.core.frame.DataFrame'>\n",
            "Int64Index: 136429 entries, 0 to 136428\n",
            "Data columns (total 22 columns):\n",
            " #   Column                 Non-Null Count   Dtype  \n",
            "---  ------                 --------------   -----  \n",
            " 0   Product ID             136429 non-null  object \n",
            " 1   Type                   136429 non-null  object \n",
            " 2   Air temperature K      136429 non-null  float64\n",
            " 3   Process temperature K  136429 non-null  float64\n",
            " 4   Rotational speed rpm   136429 non-null  int64  \n",
            " 5   Torque Nm              136429 non-null  float64\n",
            " 6   Tool wear min          136429 non-null  int64  \n",
            " 7   Machine failure        136429 non-null  int64  \n",
            " 8   TWF                    136429 non-null  int64  \n",
            " 9   HDF                    136429 non-null  int64  \n",
            " 10  PWF                    136429 non-null  int64  \n",
            " 11  OSF                    136429 non-null  int64  \n",
            " 12  RNF                    136429 non-null  int64  \n",
            " 13  Power                  136429 non-null  float64\n",
            " 14  temp_ratio             136429 non-null  float64\n",
            " 15  Process temperature C  136429 non-null  float64\n",
            " 16  Air temperature C      136429 non-null  float64\n",
            " 17  temp_C_ratio           136429 non-null  float64\n",
            " 18  Failure Sum            136429 non-null  int64  \n",
            " 19  tool_wear_speed        136429 non-null  int64  \n",
            " 20  torque wear ratio      136429 non-null  float64\n",
            " 21  torque times wear      136429 non-null  float64\n",
            "dtypes: float64(10), int64(10), object(2)\n",
            "memory usage: 23.9+ MB\n"
          ]
        },
        {
          "output_type": "display_data",
          "data": {
            "text/plain": [
              "None"
            ]
          },
          "metadata": {}
        }
      ]
    },
    {
      "cell_type": "code",
      "source": [
        "display(df_train.nunique())"
      ],
      "metadata": {
        "colab": {
          "base_uri": "https://localhost:8080/",
          "height": 439
        },
        "id": "zGBVemI7hqxA",
        "outputId": "e20916c4-3e65-44e1-f009-5f95351b8427"
      },
      "execution_count": 8,
      "outputs": [
        {
          "output_type": "display_data",
          "data": {
            "text/plain": [
              "Product ID                9976\n",
              "Type                         3\n",
              "Air temperature K           95\n",
              "Process temperature K       81\n",
              "Rotational speed rpm       952\n",
              "Torque Nm                  611\n",
              "Tool wear min              246\n",
              "Machine failure              2\n",
              "TWF                          2\n",
              "HDF                          2\n",
              "PWF                          2\n",
              "OSF                          2\n",
              "RNF                          2\n",
              "Power                    48528\n",
              "temp_ratio                2165\n",
              "Process temperature C       81\n",
              "Air temperature C           95\n",
              "temp_C_ratio              2170\n",
              "Failure Sum                  4\n",
              "tool_wear_speed          52844\n",
              "torque wear ratio        55448\n",
              "torque times wear        37859\n",
              "dtype: int64"
            ]
          },
          "metadata": {}
        }
      ]
    },
    {
      "cell_type": "code",
      "source": [
        "MV1 = df_train.isnull().sum()\n",
        "MV2 = df_test.isnull().sum()\n",
        "\n",
        "print(':' * 25)\n",
        "print(f'Missing Value df_train:\\n{MV1[MV1 > 0]}')\n",
        "print(':' * 25)\n",
        "print(f'Missing Value df_test:\\n{MV2[MV2 > 0]}')\n",
        "print(':' * 25)"
      ],
      "metadata": {
        "colab": {
          "base_uri": "https://localhost:8080/"
        },
        "id": "rw3vGmnxh3dw",
        "outputId": "dc3aa106-c4f3-44e1-9ed3-d8e634f1fff4"
      },
      "execution_count": 9,
      "outputs": [
        {
          "output_type": "stream",
          "name": "stdout",
          "text": [
            ":::::::::::::::::::::::::\n",
            "Missing Value df_train:\n",
            "Series([], dtype: int64)\n",
            ":::::::::::::::::::::::::\n",
            "Missing Value df_test:\n",
            "Series([], dtype: int64)\n",
            ":::::::::::::::::::::::::\n"
          ]
        }
      ]
    },
    {
      "cell_type": "markdown",
      "source": [
        "# Train | Test | Target"
      ],
      "metadata": {
        "id": "XqJbGuHSh9bf"
      }
    },
    {
      "cell_type": "markdown",
      "source": [
        "## Let's see how unbalanced the dataset is:"
      ],
      "metadata": {
        "id": "zPdFfSzch_o4"
      }
    },
    {
      "cell_type": "code",
      "source": [
        "train  = df_train.copy()\n",
        "test   = df_test.copy()\n",
        "target = train.pop('Machine failure')\n",
        "\n",
        "target.value_counts().plot(kind='barh', figsize=(12,1), title='Target Count', color=['darkcyan','red'])\n",
        "plt.gca().set_facecolor('lightgray')\n",
        "\n",
        "pd.DataFrame(data= {'Number': target.value_counts(), 'Percent': target.value_counts(normalize=True)})"
      ],
      "metadata": {
        "colab": {
          "base_uri": "https://localhost:8080/",
          "height": 255
        },
        "id": "-nelkm5qh34S",
        "outputId": "15684b27-edd6-4516-8ed8-515d9c751253"
      },
      "execution_count": 10,
      "outputs": [
        {
          "output_type": "execute_result",
          "data": {
            "text/plain": [
              "   Number   Percent\n",
              "0  134281  0.984256\n",
              "1    2148  0.015744"
            ],
            "text/html": [
              "\n",
              "  <div id=\"df-050e1dd3-bf7d-4735-89eb-646a9e17539d\">\n",
              "    <div class=\"colab-df-container\">\n",
              "      <div>\n",
              "<style scoped>\n",
              "    .dataframe tbody tr th:only-of-type {\n",
              "        vertical-align: middle;\n",
              "    }\n",
              "\n",
              "    .dataframe tbody tr th {\n",
              "        vertical-align: top;\n",
              "    }\n",
              "\n",
              "    .dataframe thead th {\n",
              "        text-align: right;\n",
              "    }\n",
              "</style>\n",
              "<table border=\"1\" class=\"dataframe\">\n",
              "  <thead>\n",
              "    <tr style=\"text-align: right;\">\n",
              "      <th></th>\n",
              "      <th>Number</th>\n",
              "      <th>Percent</th>\n",
              "    </tr>\n",
              "  </thead>\n",
              "  <tbody>\n",
              "    <tr>\n",
              "      <th>0</th>\n",
              "      <td>134281</td>\n",
              "      <td>0.984256</td>\n",
              "    </tr>\n",
              "    <tr>\n",
              "      <th>1</th>\n",
              "      <td>2148</td>\n",
              "      <td>0.015744</td>\n",
              "    </tr>\n",
              "  </tbody>\n",
              "</table>\n",
              "</div>\n",
              "      <button class=\"colab-df-convert\" onclick=\"convertToInteractive('df-050e1dd3-bf7d-4735-89eb-646a9e17539d')\"\n",
              "              title=\"Convert this dataframe to an interactive table.\"\n",
              "              style=\"display:none;\">\n",
              "        \n",
              "  <svg xmlns=\"http://www.w3.org/2000/svg\" height=\"24px\"viewBox=\"0 0 24 24\"\n",
              "       width=\"24px\">\n",
              "    <path d=\"M0 0h24v24H0V0z\" fill=\"none\"/>\n",
              "    <path d=\"M18.56 5.44l.94 2.06.94-2.06 2.06-.94-2.06-.94-.94-2.06-.94 2.06-2.06.94zm-11 1L8.5 8.5l.94-2.06 2.06-.94-2.06-.94L8.5 2.5l-.94 2.06-2.06.94zm10 10l.94 2.06.94-2.06 2.06-.94-2.06-.94-.94-2.06-.94 2.06-2.06.94z\"/><path d=\"M17.41 7.96l-1.37-1.37c-.4-.4-.92-.59-1.43-.59-.52 0-1.04.2-1.43.59L10.3 9.45l-7.72 7.72c-.78.78-.78 2.05 0 2.83L4 21.41c.39.39.9.59 1.41.59.51 0 1.02-.2 1.41-.59l7.78-7.78 2.81-2.81c.8-.78.8-2.07 0-2.86zM5.41 20L4 18.59l7.72-7.72 1.47 1.35L5.41 20z\"/>\n",
              "  </svg>\n",
              "      </button>\n",
              "      \n",
              "  <style>\n",
              "    .colab-df-container {\n",
              "      display:flex;\n",
              "      flex-wrap:wrap;\n",
              "      gap: 12px;\n",
              "    }\n",
              "\n",
              "    .colab-df-convert {\n",
              "      background-color: #E8F0FE;\n",
              "      border: none;\n",
              "      border-radius: 50%;\n",
              "      cursor: pointer;\n",
              "      display: none;\n",
              "      fill: #1967D2;\n",
              "      height: 32px;\n",
              "      padding: 0 0 0 0;\n",
              "      width: 32px;\n",
              "    }\n",
              "\n",
              "    .colab-df-convert:hover {\n",
              "      background-color: #E2EBFA;\n",
              "      box-shadow: 0px 1px 2px rgba(60, 64, 67, 0.3), 0px 1px 3px 1px rgba(60, 64, 67, 0.15);\n",
              "      fill: #174EA6;\n",
              "    }\n",
              "\n",
              "    [theme=dark] .colab-df-convert {\n",
              "      background-color: #3B4455;\n",
              "      fill: #D2E3FC;\n",
              "    }\n",
              "\n",
              "    [theme=dark] .colab-df-convert:hover {\n",
              "      background-color: #434B5C;\n",
              "      box-shadow: 0px 1px 3px 1px rgba(0, 0, 0, 0.15);\n",
              "      filter: drop-shadow(0px 1px 2px rgba(0, 0, 0, 0.3));\n",
              "      fill: #FFFFFF;\n",
              "    }\n",
              "  </style>\n",
              "\n",
              "      <script>\n",
              "        const buttonEl =\n",
              "          document.querySelector('#df-050e1dd3-bf7d-4735-89eb-646a9e17539d button.colab-df-convert');\n",
              "        buttonEl.style.display =\n",
              "          google.colab.kernel.accessAllowed ? 'block' : 'none';\n",
              "\n",
              "        async function convertToInteractive(key) {\n",
              "          const element = document.querySelector('#df-050e1dd3-bf7d-4735-89eb-646a9e17539d');\n",
              "          const dataTable =\n",
              "            await google.colab.kernel.invokeFunction('convertToInteractive',\n",
              "                                                     [key], {});\n",
              "          if (!dataTable) return;\n",
              "\n",
              "          const docLinkHtml = 'Like what you see? Visit the ' +\n",
              "            '<a target=\"_blank\" href=https://colab.research.google.com/notebooks/data_table.ipynb>data table notebook</a>'\n",
              "            + ' to learn more about interactive tables.';\n",
              "          element.innerHTML = '';\n",
              "          dataTable['output_type'] = 'display_data';\n",
              "          await google.colab.output.renderOutput(dataTable, element);\n",
              "          const docLink = document.createElement('div');\n",
              "          docLink.innerHTML = docLinkHtml;\n",
              "          element.appendChild(docLink);\n",
              "        }\n",
              "      </script>\n",
              "    </div>\n",
              "  </div>\n",
              "  "
            ]
          },
          "metadata": {},
          "execution_count": 10
        },
        {
          "output_type": "display_data",
          "data": {
            "text/plain": [
              "<Figure size 1200x100 with 1 Axes>"
            ],
            "image/png": "[encoded data removed]"
          },
          "metadata": {}
        }
      ]
    },
    {
      "cell_type": "markdown",
      "source": [
        "# Features"
      ],
      "metadata": {
        "id": "JODlLnZNidm_"
      }
    },
    {
      "cell_type": "code",
      "source": [
        "features = train.columns.tolist()\n",
        "\n",
        "# Categorical features\n",
        "cat_features = ['Product ID', 'Type']\n",
        "\n",
        "# Binary features\n",
        "bin_features = ['TWF', 'HDF', 'PWF', 'OSF', 'RNF']\n",
        "\n",
        "# Numerical features\n",
        "num_features = [f for f in features if f not in (cat_features + bin_features)]\n",
        "\n",
        "print(':' * 40)\n",
        "print('The number of Categorical_features:', len(cat_features))\n",
        "print('The number of Binary_features:', len(bin_features))\n",
        "print('The number of Numerical_features:', len(num_features))\n",
        "print(':' * 40)\n",
        "print('The total number of features:', len(features))\n",
        "print(':' * 40)"
      ],
      "metadata": {
        "colab": {
          "base_uri": "https://localhost:8080/"
        },
        "id": "eowytR_Gieta",
        "outputId": "903ff277-aade-4288-da8b-2937ccbf95ea"
      },
      "execution_count": 11,
      "outputs": [
        {
          "output_type": "stream",
          "name": "stdout",
          "text": [
            "::::::::::::::::::::::::::::::::::::::::\n",
            "The number of Categorical_features: 2\n",
            "The number of Binary_features: 5\n",
            "The number of Numerical_features: 14\n",
            "::::::::::::::::::::::::::::::::::::::::\n",
            "The total number of features: 21\n",
            "::::::::::::::::::::::::::::::::::::::::\n"
          ]
        }
      ]
    },
    {
      "cell_type": "markdown",
      "source": [
        "## Categorical features"
      ],
      "metadata": {
        "id": "ku_SFfHRitdC"
      }
    },
    {
      "cell_type": "code",
      "source": [
        "for f in cat_features:\n",
        "\n",
        "    print('\\t' , f)\n",
        "    n_f = train[f].value_counts()\n",
        "    p_f = train[f].value_counts(normalize=True)\n",
        "    display(pd.DataFrame(data= {'Number': n_f, 'Percent': p_f}))"
      ],
      "metadata": {
        "colab": {
          "base_uri": "https://localhost:8080/",
          "height": 587
        },
        "id": "m1yvbf50iirc",
        "outputId": "3b1df1b3-c566-4279-e65b-8aa29a111860"
      },
      "execution_count": 12,
      "outputs": [
        {
          "output_type": "stream",
          "name": "stdout",
          "text": [
            "\t Product ID\n"
          ]
        },
        {
          "output_type": "display_data",
          "data": {
            "text/plain": [
              "        Number   Percent\n",
              "L53257     139  0.001019\n",
              "L49056     131  0.000960\n",
              "L53271     131  0.000960\n",
              "L54275     120  0.000880\n",
              "L48892     120  0.000880\n",
              "...        ...       ...\n",
              "M24614       1  0.000007\n",
              "H39399       1  0.000007\n",
              "M15853       1  0.000007\n",
              "H32637       1  0.000007\n",
              "L48036       1  0.000007\n",
              "\n",
              "[9976 rows x 2 columns]"
            ],
            "text/html": [
              "\n",
              "  <div id=\"df-9363ffd6-fb69-4ff3-9a8e-ec28a01fb3ba\">\n",
              "    <div class=\"colab-df-container\">\n",
              "      <div>\n",
              "<style scoped>\n",
              "    .dataframe tbody tr th:only-of-type {\n",
              "        vertical-align: middle;\n",
              "    }\n",
              "\n",
              "    .dataframe tbody tr th {\n",
              "        vertical-align: top;\n",
              "    }\n",
              "\n",
              "    .dataframe thead th {\n",
              "        text-align: right;\n",
              "    }\n",
              "</style>\n",
              "<table border=\"1\" class=\"dataframe\">\n",
              "  <thead>\n",
              "    <tr style=\"text-align: right;\">\n",
              "      <th></th>\n",
              "      <th>Number</th>\n",
              "      <th>Percent</th>\n",
              "    </tr>\n",
              "  </thead>\n",
              "  <tbody>\n",
              "    <tr>\n",
              "      <th>L53257</th>\n",
              "      <td>139</td>\n",
              "      <td>0.001019</td>\n",
              "    </tr>\n",
              "    <tr>\n",
              "      <th>L49056</th>\n",
              "      <td>131</td>\n",
              "      <td>0.000960</td>\n",
              "    </tr>\n",
              "    <tr>\n",
              "      <th>L53271</th>\n",
              "      <td>131</td>\n",
              "      <td>0.000960</td>\n",
              "    </tr>\n",
              "    <tr>\n",
              "      <th>L54275</th>\n",
              "      <td>120</td>\n",
              "      <td>0.000880</td>\n",
              "    </tr>\n",
              "    <tr>\n",
              "      <th>L48892</th>\n",
              "      <td>120</td>\n",
              "      <td>0.000880</td>\n",
              "    </tr>\n",
              "    <tr>\n",
              "      <th>...</th>\n",
              "      <td>...</td>\n",
              "      <td>...</td>\n",
              "    </tr>\n",
              "    <tr>\n",
              "      <th>M24614</th>\n",
              "      <td>1</td>\n",
              "      <td>0.000007</td>\n",
              "    </tr>\n",
              "    <tr>\n",
              "      <th>H39399</th>\n",
              "      <td>1</td>\n",
              "      <td>0.000007</td>\n",
              "    </tr>\n",
              "    <tr>\n",
              "      <th>M15853</th>\n",
              "      <td>1</td>\n",
              "      <td>0.000007</td>\n",
              "    </tr>\n",
              "    <tr>\n",
              "      <th>H32637</th>\n",
              "      <td>1</td>\n",
              "      <td>0.000007</td>\n",
              "    </tr>\n",
              "    <tr>\n",
              "      <th>L48036</th>\n",
              "      <td>1</td>\n",
              "      <td>0.000007</td>\n",
              "    </tr>\n",
              "  </tbody>\n",
              "</table>\n",
              "<p>9976 rows × 2 columns</p>\n",
              "</div>\n",
              "      <button class=\"colab-df-convert\" onclick=\"convertToInteractive('df-9363ffd6-fb69-4ff3-9a8e-ec28a01fb3ba')\"\n",
              "              title=\"Convert this dataframe to an interactive table.\"\n",
              "              style=\"display:none;\">\n",
              "        \n",
              "  <svg xmlns=\"http://www.w3.org/2000/svg\" height=\"24px\"viewBox=\"0 0 24 24\"\n",
              "       width=\"24px\">\n",
              "    <path d=\"M0 0h24v24H0V0z\" fill=\"none\"/>\n",
              "    <path d=\"M18.56 5.44l.94 2.06.94-2.06 2.06-.94-2.06-.94-.94-2.06-.94 2.06-2.06.94zm-11 1L8.5 8.5l.94-2.06 2.06-.94-2.06-.94L8.5 2.5l-.94 2.06-2.06.94zm10 10l.94 2.06.94-2.06 2.06-.94-2.06-.94-.94-2.06-.94 2.06-2.06.94z\"/><path d=\"M17.41 7.96l-1.37-1.37c-.4-.4-.92-.59-1.43-.59-.52 0-1.04.2-1.43.59L10.3 9.45l-7.72 7.72c-.78.78-.78 2.05 0 2.83L4 21.41c.39.39.9.59 1.41.59.51 0 1.02-.2 1.41-.59l7.78-7.78 2.81-2.81c.8-.78.8-2.07 0-2.86zM5.41 20L4 18.59l7.72-7.72 1.47 1.35L5.41 20z\"/>\n",
              "  </svg>\n",
              "      </button>\n",
              "      \n",
              "  <style>\n",
              "    .colab-df-container {\n",
              "      display:flex;\n",
              "      flex-wrap:wrap;\n",
              "      gap: 12px;\n",
              "    }\n",
              "\n",
              "    .colab-df-convert {\n",
              "      background-color: #E8F0FE;\n",
              "      border: none;\n",
              "      border-radius: 50%;\n",
              "      cursor: pointer;\n",
              "      display: none;\n",
              "      fill: #1967D2;\n",
              "      height: 32px;\n",
              "      padding: 0 0 0 0;\n",
              "      width: 32px;\n",
              "    }\n",
              "\n",
              "    .colab-df-convert:hover {\n",
              "      background-color: #E2EBFA;\n",
              "      box-shadow: 0px 1px 2px rgba(60, 64, 67, 0.3), 0px 1px 3px 1px rgba(60, 64, 67, 0.15);\n",
              "      fill: #174EA6;\n",
              "    }\n",
              "\n",
              "    [theme=dark] .colab-df-convert {\n",
              "      background-color: #3B4455;\n",
              "      fill: #D2E3FC;\n",
              "    }\n",
              "\n",
              "    [theme=dark] .colab-df-convert:hover {\n",
              "      background-color: #434B5C;\n",
              "      box-shadow: 0px 1px 3px 1px rgba(0, 0, 0, 0.15);\n",
              "      filter: drop-shadow(0px 1px 2px rgba(0, 0, 0, 0.3));\n",
              "      fill: #FFFFFF;\n",
              "    }\n",
              "  </style>\n",
              "\n",
              "      <script>\n",
              "        const buttonEl =\n",
              "          document.querySelector('#df-9363ffd6-fb69-4ff3-9a8e-ec28a01fb3ba button.colab-df-convert');\n",
              "        buttonEl.style.display =\n",
              "          google.colab.kernel.accessAllowed ? 'block' : 'none';\n",
              "\n",
              "        async function convertToInteractive(key) {\n",
              "          const element = document.querySelector('#df-9363ffd6-fb69-4ff3-9a8e-ec28a01fb3ba');\n",
              "          const dataTable =\n",
              "            await google.colab.kernel.invokeFunction('convertToInteractive',\n",
              "                                                     [key], {});\n",
              "          if (!dataTable) return;\n",
              "\n",
              "          const docLinkHtml = 'Like what you see? Visit the ' +\n",
              "            '<a target=\"_blank\" href=https://colab.research.google.com/notebooks/data_table.ipynb>data table notebook</a>'\n",
              "            + ' to learn more about interactive tables.';\n",
              "          element.innerHTML = '';\n",
              "          dataTable['output_type'] = 'display_data';\n",
              "          await google.colab.output.renderOutput(dataTable, element);\n",
              "          const docLink = document.createElement('div');\n",
              "          docLink.innerHTML = docLinkHtml;\n",
              "          element.appendChild(docLink);\n",
              "        }\n",
              "      </script>\n",
              "    </div>\n",
              "  </div>\n",
              "  "
            ]
          },
          "metadata": {}
        },
        {
          "output_type": "stream",
          "name": "stdout",
          "text": [
            "\t Type\n"
          ]
        },
        {
          "output_type": "display_data",
          "data": {
            "text/plain": [
              "   Number   Percent\n",
              "L   95354  0.698928\n",
              "M   32152  0.235668\n",
              "H    8923  0.065404"
            ],
            "text/html": [
              "\n",
              "  <div id=\"df-8bf31d03-b582-4437-9214-bcb9bc71eed7\">\n",
              "    <div class=\"colab-df-container\">\n",
              "      <div>\n",
              "<style scoped>\n",
              "    .dataframe tbody tr th:only-of-type {\n",
              "        vertical-align: middle;\n",
              "    }\n",
              "\n",
              "    .dataframe tbody tr th {\n",
              "        vertical-align: top;\n",
              "    }\n",
              "\n",
              "    .dataframe thead th {\n",
              "        text-align: right;\n",
              "    }\n",
              "</style>\n",
              "<table border=\"1\" class=\"dataframe\">\n",
              "  <thead>\n",
              "    <tr style=\"text-align: right;\">\n",
              "      <th></th>\n",
              "      <th>Number</th>\n",
              "      <th>Percent</th>\n",
              "    </tr>\n",
              "  </thead>\n",
              "  <tbody>\n",
              "    <tr>\n",
              "      <th>L</th>\n",
              "      <td>95354</td>\n",
              "      <td>0.698928</td>\n",
              "    </tr>\n",
              "    <tr>\n",
              "      <th>M</th>\n",
              "      <td>32152</td>\n",
              "      <td>0.235668</td>\n",
              "    </tr>\n",
              "    <tr>\n",
              "      <th>H</th>\n",
              "      <td>8923</td>\n",
              "      <td>0.065404</td>\n",
              "    </tr>\n",
              "  </tbody>\n",
              "</table>\n",
              "</div>\n",
              "      <button class=\"colab-df-convert\" onclick=\"convertToInteractive('df-8bf31d03-b582-4437-9214-bcb9bc71eed7')\"\n",
              "              title=\"Convert this dataframe to an interactive table.\"\n",
              "              style=\"display:none;\">\n",
              "        \n",
              "  <svg xmlns=\"http://www.w3.org/2000/svg\" height=\"24px\"viewBox=\"0 0 24 24\"\n",
              "       width=\"24px\">\n",
              "    <path d=\"M0 0h24v24H0V0z\" fill=\"none\"/>\n",
              "    <path d=\"M18.56 5.44l.94 2.06.94-2.06 2.06-.94-2.06-.94-.94-2.06-.94 2.06-2.06.94zm-11 1L8.5 8.5l.94-2.06 2.06-.94-2.06-.94L8.5 2.5l-.94 2.06-2.06.94zm10 10l.94 2.06.94-2.06 2.06-.94-2.06-.94-.94-2.06-.94 2.06-2.06.94z\"/><path d=\"M17.41 7.96l-1.37-1.37c-.4-.4-.92-.59-1.43-.59-.52 0-1.04.2-1.43.59L10.3 9.45l-7.72 7.72c-.78.78-.78 2.05 0 2.83L4 21.41c.39.39.9.59 1.41.59.51 0 1.02-.2 1.41-.59l7.78-7.78 2.81-2.81c.8-.78.8-2.07 0-2.86zM5.41 20L4 18.59l7.72-7.72 1.47 1.35L5.41 20z\"/>\n",
              "  </svg>\n",
              "      </button>\n",
              "      \n",
              "  <style>\n",
              "    .colab-df-container {\n",
              "      display:flex;\n",
              "      flex-wrap:wrap;\n",
              "      gap: 12px;\n",
              "    }\n",
              "\n",
              "    .colab-df-convert {\n",
              "      background-color: #E8F0FE;\n",
              "      border: none;\n",
              "      border-radius: 50%;\n",
              "      cursor: pointer;\n",
              "      display: none;\n",
              "      fill: #1967D2;\n",
              "      height: 32px;\n",
              "      padding: 0 0 0 0;\n",
              "      width: 32px;\n",
              "    }\n",
              "\n",
              "    .colab-df-convert:hover {\n",
              "      background-color: #E2EBFA;\n",
              "      box-shadow: 0px 1px 2px rgba(60, 64, 67, 0.3), 0px 1px 3px 1px rgba(60, 64, 67, 0.15);\n",
              "      fill: #174EA6;\n",
              "    }\n",
              "\n",
              "    [theme=dark] .colab-df-convert {\n",
              "      background-color: #3B4455;\n",
              "      fill: #D2E3FC;\n",
              "    }\n",
              "\n",
              "    [theme=dark] .colab-df-convert:hover {\n",
              "      background-color: #434B5C;\n",
              "      box-shadow: 0px 1px 3px 1px rgba(0, 0, 0, 0.15);\n",
              "      filter: drop-shadow(0px 1px 2px rgba(0, 0, 0, 0.3));\n",
              "      fill: #FFFFFF;\n",
              "    }\n",
              "  </style>\n",
              "\n",
              "      <script>\n",
              "        const buttonEl =\n",
              "          document.querySelector('#df-8bf31d03-b582-4437-9214-bcb9bc71eed7 button.colab-df-convert');\n",
              "        buttonEl.style.display =\n",
              "          google.colab.kernel.accessAllowed ? 'block' : 'none';\n",
              "\n",
              "        async function convertToInteractive(key) {\n",
              "          const element = document.querySelector('#df-8bf31d03-b582-4437-9214-bcb9bc71eed7');\n",
              "          const dataTable =\n",
              "            await google.colab.kernel.invokeFunction('convertToInteractive',\n",
              "                                                     [key], {});\n",
              "          if (!dataTable) return;\n",
              "\n",
              "          const docLinkHtml = 'Like what you see? Visit the ' +\n",
              "            '<a target=\"_blank\" href=https://colab.research.google.com/notebooks/data_table.ipynb>data table notebook</a>'\n",
              "            + ' to learn more about interactive tables.';\n",
              "          element.innerHTML = '';\n",
              "          dataTable['output_type'] = 'display_data';\n",
              "          await google.colab.output.renderOutput(dataTable, element);\n",
              "          const docLink = document.createElement('div');\n",
              "          docLink.innerHTML = docLinkHtml;\n",
              "          element.appendChild(docLink);\n",
              "        }\n",
              "      </script>\n",
              "    </div>\n",
              "  </div>\n",
              "  "
            ]
          },
          "metadata": {}
        }
      ]
    },
    {
      "cell_type": "markdown",
      "source": [
        "## Binary features"
      ],
      "metadata": {
        "id": "LZvi8WLCi-gW"
      }
    },
    {
      "cell_type": "code",
      "source": [
        "dfv = pd.DataFrame(data= {'Value': ['Number 0', 'Percent 0', '', 'Number 1', 'Percent 1']})\n",
        "\n",
        "for f in bin_features:\n",
        "    n_f = train[f].value_counts()\n",
        "    p_f = train[f].value_counts(normalize=True)\n",
        "    dfv[f] = [n_f[0], p_f[0], '', n_f[1], p_f[1]]\n",
        "\n",
        "dfv.set_index('Value')"
      ],
      "metadata": {
        "colab": {
          "base_uri": "https://localhost:8080/",
          "height": 220
        },
        "id": "Cshv4Ea4ixj8",
        "outputId": "4873aee3-5426-41ab-f4fb-a31fbc61bca6"
      },
      "execution_count": 13,
      "outputs": [
        {
          "output_type": "execute_result",
          "data": {
            "text/plain": [
              "                TWF      HDF       PWF       OSF       RNF\n",
              "Value                                                     \n",
              "Number 0     136217   135725    136102    135889    136121\n",
              "Percent 0  0.998446  0.99484  0.997603  0.996042  0.997742\n",
              "                                                          \n",
              "Number 1        212      704       327       540       308\n",
              "Percent 1  0.001554  0.00516  0.002397  0.003958  0.002258"
            ],
            "text/html": [
              "\n",
              "  <div id=\"df-35d6d590-8d37-4f38-8d87-14f338d2a7ca\">\n",
              "    <div class=\"colab-df-container\">\n",
              "      <div>\n",
              "<style scoped>\n",
              "    .dataframe tbody tr th:only-of-type {\n",
              "        vertical-align: middle;\n",
              "    }\n",
              "\n",
              "    .dataframe tbody tr th {\n",
              "        vertical-align: top;\n",
              "    }\n",
              "\n",
              "    .dataframe thead th {\n",
              "        text-align: right;\n",
              "    }\n",
              "</style>\n",
              "<table border=\"1\" class=\"dataframe\">\n",
              "  <thead>\n",
              "    <tr style=\"text-align: right;\">\n",
              "      <th></th>\n",
              "      <th>TWF</th>\n",
              "      <th>HDF</th>\n",
              "      <th>PWF</th>\n",
              "      <th>OSF</th>\n",
              "      <th>RNF</th>\n",
              "    </tr>\n",
              "    <tr>\n",
              "      <th>Value</th>\n",
              "      <th></th>\n",
              "      <th></th>\n",
              "      <th></th>\n",
              "      <th></th>\n",
              "      <th></th>\n",
              "    </tr>\n",
              "  </thead>\n",
              "  <tbody>\n",
              "    <tr>\n",
              "      <th>Number 0</th>\n",
              "      <td>136217</td>\n",
              "      <td>135725</td>\n",
              "      <td>136102</td>\n",
              "      <td>135889</td>\n",
              "      <td>136121</td>\n",
              "    </tr>\n",
              "    <tr>\n",
              "      <th>Percent 0</th>\n",
              "      <td>0.998446</td>\n",
              "      <td>0.99484</td>\n",
              "      <td>0.997603</td>\n",
              "      <td>0.996042</td>\n",
              "      <td>0.997742</td>\n",
              "    </tr>\n",
              "    <tr>\n",
              "      <th></th>\n",
              "      <td></td>\n",
              "      <td></td>\n",
              "      <td></td>\n",
              "      <td></td>\n",
              "      <td></td>\n",
              "    </tr>\n",
              "    <tr>\n",
              "      <th>Number 1</th>\n",
              "      <td>212</td>\n",
              "      <td>704</td>\n",
              "      <td>327</td>\n",
              "      <td>540</td>\n",
              "      <td>308</td>\n",
              "    </tr>\n",
              "    <tr>\n",
              "      <th>Percent 1</th>\n",
              "      <td>0.001554</td>\n",
              "      <td>0.00516</td>\n",
              "      <td>0.002397</td>\n",
              "      <td>0.003958</td>\n",
              "      <td>0.002258</td>\n",
              "    </tr>\n",
              "  </tbody>\n",
              "</table>\n",
              "</div>\n",
              "      <button class=\"colab-df-convert\" onclick=\"convertToInteractive('df-35d6d590-8d37-4f38-8d87-14f338d2a7ca')\"\n",
              "              title=\"Convert this dataframe to an interactive table.\"\n",
              "              style=\"display:none;\">\n",
              "        \n",
              "  <svg xmlns=\"http://www.w3.org/2000/svg\" height=\"24px\"viewBox=\"0 0 24 24\"\n",
              "       width=\"24px\">\n",
              "    <path d=\"M0 0h24v24H0V0z\" fill=\"none\"/>\n",
              "    <path d=\"M18.56 5.44l.94 2.06.94-2.06 2.06-.94-2.06-.94-.94-2.06-.94 2.06-2.06.94zm-11 1L8.5 8.5l.94-2.06 2.06-.94-2.06-.94L8.5 2.5l-.94 2.06-2.06.94zm10 10l.94 2.06.94-2.06 2.06-.94-2.06-.94-.94-2.06-.94 2.06-2.06.94z\"/><path d=\"M17.41 7.96l-1.37-1.37c-.4-.4-.92-.59-1.43-.59-.52 0-1.04.2-1.43.59L10.3 9.45l-7.72 7.72c-.78.78-.78 2.05 0 2.83L4 21.41c.39.39.9.59 1.41.59.51 0 1.02-.2 1.41-.59l7.78-7.78 2.81-2.81c.8-.78.8-2.07 0-2.86zM5.41 20L4 18.59l7.72-7.72 1.47 1.35L5.41 20z\"/>\n",
              "  </svg>\n",
              "      </button>\n",
              "      \n",
              "  <style>\n",
              "    .colab-df-container {\n",
              "      display:flex;\n",
              "      flex-wrap:wrap;\n",
              "      gap: 12px;\n",
              "    }\n",
              "\n",
              "    .colab-df-convert {\n",
              "      background-color: #E8F0FE;\n",
              "      border: none;\n",
              "      border-radius: 50%;\n",
              "      cursor: pointer;\n",
              "      display: none;\n",
              "      fill: #1967D2;\n",
              "      height: 32px;\n",
              "      padding: 0 0 0 0;\n",
              "      width: 32px;\n",
              "    }\n",
              "\n",
              "    .colab-df-convert:hover {\n",
              "      background-color: #E2EBFA;\n",
              "      box-shadow: 0px 1px 2px rgba(60, 64, 67, 0.3), 0px 1px 3px 1px rgba(60, 64, 67, 0.15);\n",
              "      fill: #174EA6;\n",
              "    }\n",
              "\n",
              "    [theme=dark] .colab-df-convert {\n",
              "      background-color: #3B4455;\n",
              "      fill: #D2E3FC;\n",
              "    }\n",
              "\n",
              "    [theme=dark] .colab-df-convert:hover {\n",
              "      background-color: #434B5C;\n",
              "      box-shadow: 0px 1px 3px 1px rgba(0, 0, 0, 0.15);\n",
              "      filter: drop-shadow(0px 1px 2px rgba(0, 0, 0, 0.3));\n",
              "      fill: #FFFFFF;\n",
              "    }\n",
              "  </style>\n",
              "\n",
              "      <script>\n",
              "        const buttonEl =\n",
              "          document.querySelector('#df-35d6d590-8d37-4f38-8d87-14f338d2a7ca button.colab-df-convert');\n",
              "        buttonEl.style.display =\n",
              "          google.colab.kernel.accessAllowed ? 'block' : 'none';\n",
              "\n",
              "        async function convertToInteractive(key) {\n",
              "          const element = document.querySelector('#df-35d6d590-8d37-4f38-8d87-14f338d2a7ca');\n",
              "          const dataTable =\n",
              "            await google.colab.kernel.invokeFunction('convertToInteractive',\n",
              "                                                     [key], {});\n",
              "          if (!dataTable) return;\n",
              "\n",
              "          const docLinkHtml = 'Like what you see? Visit the ' +\n",
              "            '<a target=\"_blank\" href=https://colab.research.google.com/notebooks/data_table.ipynb>data table notebook</a>'\n",
              "            + ' to learn more about interactive tables.';\n",
              "          element.innerHTML = '';\n",
              "          dataTable['output_type'] = 'display_data';\n",
              "          await google.colab.output.renderOutput(dataTable, element);\n",
              "          const docLink = document.createElement('div');\n",
              "          docLink.innerHTML = docLinkHtml;\n",
              "          element.appendChild(docLink);\n",
              "        }\n",
              "      </script>\n",
              "    </div>\n",
              "  </div>\n",
              "  "
            ]
          },
          "metadata": {},
          "execution_count": 13
        }
      ]
    },
    {
      "cell_type": "markdown",
      "source": [
        "## Histograms of the Numerical features"
      ],
      "metadata": {
        "id": "SXW49QqkjI8k"
      }
    },
    {
      "cell_type": "code",
      "source": [
        "sns.set()\n",
        "plt.style.use('seaborn-whitegrid')\n",
        "_, axs = plt.subplots(2, 3, figsize=(15,10), facecolor='lightgray')\n",
        "\n",
        "for f, ax in zip(num_features, axs.ravel()):\n",
        "    ax.set_facecolor('lightyellow')\n",
        "    ax.hist(train[f], bins=100, color='red')\n",
        "    ax.set_title(f'Feature: {f}', fontsize=10)\n",
        "\n",
        "plt.suptitle('Histograms of the Numerical Features (5 Columns)', y=0.94, fontsize=16)\n",
        "plt.show()"
      ],
      "metadata": {
        "colab": {
          "base_uri": "https://localhost:8080/",
          "height": 942
        },
        "id": "Z7Px9ro6jDHs",
        "outputId": "b4ba809e-6960-4314-c95c-c51ee7b86a2d"
      },
      "execution_count": 14,
      "outputs": [
        {
          "output_type": "stream",
          "name": "stderr",
          "text": [
            "<ipython-input-14-9ac534e8e707>:2: MatplotlibDeprecationWarning: The seaborn styles shipped by Matplotlib are deprecated since 3.6, as they no longer correspond to the styles shipped by seaborn. However, they will remain available as 'seaborn-v0_8-<style>'. Alternatively, directly use the seaborn API instead.\n",
            "  plt.style.use('seaborn-whitegrid')\n"
          ]
        },
        {
          "output_type": "display_data",
          "data": {
            "text/plain": [
              "<Figure size 1500x1000 with 6 Axes>"
            ],
            "image/png": "[encoded data removed]"
          },
          "metadata": {}
        }
      ]
    },
    {
      "cell_type": "markdown",
      "source": [
        "## Correlation matrix"
      ],
      "metadata": {
        "id": "M1YyqtaejoHL"
      }
    },
    {
      "cell_type": "code",
      "source": [
        "cor_matrix = df_train[num_features + bin_features  + ['Machine failure']].corr().round(2)\n",
        "fig = plt.figure(figsize=(8,8));\n",
        "\n",
        "plt.gca().set_facecolor('lightyellow')\n",
        "\n",
        "cmap=sns.diverging_palette(240, 10, s=75, l=50, sep=1, n=6, center='light', as_cmap=False);\n",
        "sns.heatmap(cor_matrix, center=0, annot=False, cmap=cmap, mask=False, linewidths=2);\n",
        "plt.show()"
      ],
      "metadata": {
        "colab": {
          "base_uri": "https://localhost:8080/",
          "height": 819
        },
        "id": "VM4clVPWjqBm",
        "outputId": "b77d0494-200a-4696-b56c-28e345608b6b"
      },
      "execution_count": 15,
      "outputs": [
        {
          "output_type": "display_data",
          "data": {
            "text/plain": [
              "<Figure size 800x800 with 2 Axes>"
            ],
            "image/png": "[encoded data removed]"
          },
          "metadata": {}
        }
      ]
    },
    {
      "cell_type": "code",
      "source": [
        "corr = df_train[num_features + bin_features  + ['Machine failure']].corr(numeric_only=True)\n",
        "corr.style.background_gradient(cmap='Blues')"
      ],
      "metadata": {
        "colab": {
          "base_uri": "https://localhost:8080/",
          "height": 853
        },
        "id": "nFqEArfrjwhZ",
        "outputId": "e6f346fe-45b9-4ae8-8bec-3fcb77792971"
      },
      "execution_count": 16,
      "outputs": [
        {
          "output_type": "execute_result",
          "data": {
            "text/plain": [
              "<pandas.io.formats.style.Styler at 0x7fa4c35c3d00>"
            ],
            "text/html": [
              "<style type=\"text/css\">\n",
              "#T_b9a43_row0_col0, #T_b9a43_row0_col8, #T_b9a43_row1_col1, #T_b9a43_row1_col7, #T_b9a43_row2_col2, #T_b9a43_row3_col3, #T_b9a43_row4_col4, #T_b9a43_row5_col5, #T_b9a43_row6_col6, #T_b9a43_row7_col1, #T_b9a43_row7_col7, #T_b9a43_row8_col0, #T_b9a43_row8_col8, #T_b9a43_row9_col9, #T_b9a43_row10_col10, #T_b9a43_row11_col11, #T_b9a43_row12_col12, #T_b9a43_row13_col13, #T_b9a43_row14_col14, #T_b9a43_row15_col15, #T_b9a43_row16_col16, #T_b9a43_row17_col17, #T_b9a43_row18_col18, #T_b9a43_row19_col19 {\n",
              "  background-color: #08306b;\n",
              "  color: #f1f1f1;\n",
              "}\n",
              "#T_b9a43_row0_col1, #T_b9a43_row0_col7, #T_b9a43_row8_col1, #T_b9a43_row8_col7 {\n",
              "  background-color: #084990;\n",
              "  color: #f1f1f1;\n",
              "}\n",
              "#T_b9a43_row0_col2, #T_b9a43_row8_col2 {\n",
              "  background-color: #81badb;\n",
              "  color: #000000;\n",
              "}\n",
              "#T_b9a43_row0_col3, #T_b9a43_row1_col3, #T_b9a43_row4_col3, #T_b9a43_row7_col3, #T_b9a43_row8_col3, #T_b9a43_row14_col2, #T_b9a43_row18_col2 {\n",
              "  background-color: #85bcdc;\n",
              "  color: #000000;\n",
              "}\n",
              "#T_b9a43_row0_col4, #T_b9a43_row0_col11, #T_b9a43_row1_col4, #T_b9a43_row7_col4, #T_b9a43_row8_col4, #T_b9a43_row8_col11, #T_b9a43_row16_col11 {\n",
              "  background-color: #cbdef1;\n",
              "  color: #000000;\n",
              "}\n",
              "#T_b9a43_row0_col5, #T_b9a43_row1_col5, #T_b9a43_row4_col5, #T_b9a43_row7_col5, #T_b9a43_row8_col5, #T_b9a43_row10_col1, #T_b9a43_row10_col7, #T_b9a43_row10_col18, #T_b9a43_row14_col19, #T_b9a43_row19_col1, #T_b9a43_row19_col7 {\n",
              "  background-color: #a1cbe2;\n",
              "  color: #000000;\n",
              "}\n",
              "#T_b9a43_row0_col6, #T_b9a43_row0_col9, #T_b9a43_row2_col3, #T_b9a43_row2_col5, #T_b9a43_row2_col13, #T_b9a43_row2_col14, #T_b9a43_row2_col17, #T_b9a43_row2_col18, #T_b9a43_row3_col2, #T_b9a43_row4_col12, #T_b9a43_row4_col18, #T_b9a43_row6_col10, #T_b9a43_row6_col15, #T_b9a43_row6_col16, #T_b9a43_row6_col18, #T_b9a43_row6_col19, #T_b9a43_row8_col6, #T_b9a43_row8_col9, #T_b9a43_row9_col0, #T_b9a43_row9_col1, #T_b9a43_row9_col7, #T_b9a43_row9_col8, #T_b9a43_row9_col14, #T_b9a43_row9_col16, #T_b9a43_row9_col18, #T_b9a43_row11_col12, #T_b9a43_row11_col18, #T_b9a43_row12_col4, #T_b9a43_row12_col11, #T_b9a43_row12_col13, #T_b9a43_row12_col14, #T_b9a43_row12_col18, #T_b9a43_row17_col18 {\n",
              "  background-color: #f7fbff;\n",
              "  color: #000000;\n",
              "}\n",
              "#T_b9a43_row0_col10, #T_b9a43_row8_col10 {\n",
              "  background-color: #dceaf6;\n",
              "  color: #000000;\n",
              "}\n",
              "#T_b9a43_row0_col12, #T_b9a43_row0_col13, #T_b9a43_row3_col19, #T_b9a43_row8_col12, #T_b9a43_row8_col13, #T_b9a43_row9_col12, #T_b9a43_row14_col12, #T_b9a43_row15_col12, #T_b9a43_row18_col4 {\n",
              "  background-color: #cde0f1;\n",
              "  color: #000000;\n",
              "}\n",
              "#T_b9a43_row0_col14, #T_b9a43_row0_col18, #T_b9a43_row1_col14, #T_b9a43_row1_col18, #T_b9a43_row5_col18, #T_b9a43_row7_col14, #T_b9a43_row7_col18, #T_b9a43_row8_col14, #T_b9a43_row8_col18, #T_b9a43_row9_col15, #T_b9a43_row18_col16 {\n",
              "  background-color: #f5fafe;\n",
              "  color: #000000;\n",
              "}\n",
              "#T_b9a43_row0_col15, #T_b9a43_row3_col15, #T_b9a43_row8_col15 {\n",
              "  background-color: #cfe1f2;\n",
              "  color: #000000;\n",
              "}\n",
              "#T_b9a43_row0_col16, #T_b9a43_row3_col14, #T_b9a43_row4_col16, #T_b9a43_row5_col14, #T_b9a43_row8_col16, #T_b9a43_row15_col14 {\n",
              "  background-color: #f4f9fe;\n",
              "  color: #000000;\n",
              "}\n",
              "#T_b9a43_row0_col17, #T_b9a43_row1_col17, #T_b9a43_row2_col16, #T_b9a43_row7_col17, #T_b9a43_row8_col17 {\n",
              "  background-color: #eaf3fb;\n",
              "  color: #000000;\n",
              "}\n",
              "#T_b9a43_row0_col19, #T_b9a43_row5_col11, #T_b9a43_row8_col19 {\n",
              "  background-color: #dce9f6;\n",
              "  color: #000000;\n",
              "}\n",
              "#T_b9a43_row1_col0, #T_b9a43_row1_col8, #T_b9a43_row7_col0, #T_b9a43_row7_col8 {\n",
              "  background-color: #084488;\n",
              "  color: #f1f1f1;\n",
              "}\n",
              "#T_b9a43_row1_col2, #T_b9a43_row5_col13, #T_b9a43_row7_col2, #T_b9a43_row10_col5, #T_b9a43_row14_col3, #T_b9a43_row18_col3 {\n",
              "  background-color: #82bbdb;\n",
              "  color: #000000;\n",
              "}\n",
              "#T_b9a43_row1_col6, #T_b9a43_row7_col6 {\n",
              "  background-color: #c1d9ed;\n",
              "  color: #000000;\n",
              "}\n",
              "#T_b9a43_row1_col9, #T_b9a43_row2_col12, #T_b9a43_row7_col9 {\n",
              "  background-color: #d1e2f3;\n",
              "  color: #000000;\n",
              "}\n",
              "#T_b9a43_row1_col10, #T_b9a43_row7_col10, #T_b9a43_row11_col17 {\n",
              "  background-color: #e3eef8;\n",
              "  color: #000000;\n",
              "}\n",
              "#T_b9a43_row1_col11, #T_b9a43_row7_col11, #T_b9a43_row15_col4, #T_b9a43_row16_col4, #T_b9a43_row16_col13 {\n",
              "  background-color: #ccdff1;\n",
              "  color: #000000;\n",
              "}\n",
              "#T_b9a43_row1_col12, #T_b9a43_row1_col13, #T_b9a43_row3_col4, #T_b9a43_row5_col4, #T_b9a43_row6_col12, #T_b9a43_row7_col12, #T_b9a43_row7_col13, #T_b9a43_row10_col12, #T_b9a43_row15_col11, #T_b9a43_row16_col12, #T_b9a43_row17_col12, #T_b9a43_row18_col11, #T_b9a43_row18_col12, #T_b9a43_row19_col12 {\n",
              "  background-color: #cee0f2;\n",
              "  color: #000000;\n",
              "}\n",
              "#T_b9a43_row1_col15, #T_b9a43_row7_col15 {\n",
              "  background-color: #d9e7f5;\n",
              "  color: #000000;\n",
              "}\n",
              "#T_b9a43_row1_col16, #T_b9a43_row3_col18, #T_b9a43_row7_col16, #T_b9a43_row13_col12 {\n",
              "  background-color: #f5f9fe;\n",
              "  color: #000000;\n",
              "}\n",
              "#T_b9a43_row1_col19, #T_b9a43_row7_col19 {\n",
              "  background-color: #e2edf8;\n",
              "  color: #000000;\n",
              "}\n",
              "#T_b9a43_row2_col0, #T_b9a43_row2_col8, #T_b9a43_row4_col0, #T_b9a43_row4_col8, #T_b9a43_row11_col0, #T_b9a43_row11_col8, #T_b9a43_row13_col0, #T_b9a43_row13_col8 {\n",
              "  background-color: #74b3d8;\n",
              "  color: #000000;\n",
              "}\n",
              "#T_b9a43_row2_col1, #T_b9a43_row2_col7, #T_b9a43_row4_col1, #T_b9a43_row4_col7, #T_b9a43_row11_col1, #T_b9a43_row11_col7 {\n",
              "  background-color: #a5cde3;\n",
              "  color: #000000;\n",
              "}\n",
              "#T_b9a43_row2_col4 {\n",
              "  background-color: #cddff1;\n",
              "  color: #000000;\n",
              "}\n",
              "#T_b9a43_row2_col6, #T_b9a43_row4_col6, #T_b9a43_row11_col6 {\n",
              "  background-color: #91c3de;\n",
              "  color: #000000;\n",
              "}\n",
              "#T_b9a43_row2_col9, #T_b9a43_row4_col9, #T_b9a43_row11_col9, #T_b9a43_row13_col9 {\n",
              "  background-color: #7ab6d9;\n",
              "  color: #000000;\n",
              "}\n",
              "#T_b9a43_row2_col10, #T_b9a43_row2_col19 {\n",
              "  background-color: #f3f8fe;\n",
              "  color: #000000;\n",
              "}\n",
              "#T_b9a43_row2_col11 {\n",
              "  background-color: #add0e6;\n",
              "  color: #000000;\n",
              "}\n",
              "#T_b9a43_row2_col15, #T_b9a43_row9_col17, #T_b9a43_row11_col14, #T_b9a43_row14_col16, #T_b9a43_row16_col14 {\n",
              "  background-color: #eef5fc;\n",
              "  color: #000000;\n",
              "}\n",
              "#T_b9a43_row3_col0, #T_b9a43_row3_col8, #T_b9a43_row5_col0, #T_b9a43_row5_col8, #T_b9a43_row16_col2, #T_b9a43_row16_col3, #T_b9a43_row16_col9, #T_b9a43_row17_col9, #T_b9a43_row18_col9 {\n",
              "  background-color: #79b5d9;\n",
              "  color: #000000;\n",
              "}\n",
              "#T_b9a43_row3_col1, #T_b9a43_row3_col7, #T_b9a43_row5_col1, #T_b9a43_row5_col7, #T_b9a43_row10_col14, #T_b9a43_row12_col1, #T_b9a43_row12_col7, #T_b9a43_row15_col6 {\n",
              "  background-color: #a9cfe5;\n",
              "  color: #000000;\n",
              "}\n",
              "#T_b9a43_row3_col5 {\n",
              "  background-color: #083776;\n",
              "  color: #f1f1f1;\n",
              "}\n",
              "#T_b9a43_row3_col6, #T_b9a43_row5_col6 {\n",
              "  background-color: #8cc0dd;\n",
              "  color: #000000;\n",
              "}\n",
              "#T_b9a43_row3_col9, #T_b9a43_row16_col0, #T_b9a43_row16_col8, #T_b9a43_row17_col0, #T_b9a43_row17_col8, #T_b9a43_row18_col0, #T_b9a43_row18_col8 {\n",
              "  background-color: #75b4d8;\n",
              "  color: #000000;\n",
              "}\n",
              "#T_b9a43_row3_col10, #T_b9a43_row5_col19, #T_b9a43_row6_col11, #T_b9a43_row9_col11 {\n",
              "  background-color: #d0e2f2;\n",
              "  color: #000000;\n",
              "}\n",
              "#T_b9a43_row3_col11, #T_b9a43_row11_col15, #T_b9a43_row12_col15, #T_b9a43_row18_col15 {\n",
              "  background-color: #e0ecf8;\n",
              "  color: #000000;\n",
              "}\n",
              "#T_b9a43_row3_col12, #T_b9a43_row15_col13 {\n",
              "  background-color: #c9ddf0;\n",
              "  color: #000000;\n",
              "}\n",
              "#T_b9a43_row3_col13, #T_b9a43_row12_col3 {\n",
              "  background-color: #7db8da;\n",
              "  color: #000000;\n",
              "}\n",
              "#T_b9a43_row3_col16, #T_b9a43_row5_col16 {\n",
              "  background-color: #ebf3fb;\n",
              "  color: #000000;\n",
              "}\n",
              "#T_b9a43_row3_col17 {\n",
              "  background-color: #d7e6f5;\n",
              "  color: #000000;\n",
              "}\n",
              "#T_b9a43_row4_col2, #T_b9a43_row6_col3, #T_b9a43_row9_col3 {\n",
              "  background-color: #84bcdb;\n",
              "  color: #000000;\n",
              "}\n",
              "#T_b9a43_row4_col10 {\n",
              "  background-color: #dfebf7;\n",
              "  color: #000000;\n",
              "}\n",
              "#T_b9a43_row4_col11, #T_b9a43_row11_col4 {\n",
              "  background-color: #083370;\n",
              "  color: #f1f1f1;\n",
              "}\n",
              "#T_b9a43_row4_col13 {\n",
              "  background-color: #084082;\n",
              "  color: #f1f1f1;\n",
              "}\n",
              "#T_b9a43_row4_col14, #T_b9a43_row6_col17 {\n",
              "  background-color: #edf4fc;\n",
              "  color: #000000;\n",
              "}\n",
              "#T_b9a43_row4_col15, #T_b9a43_row14_col15 {\n",
              "  background-color: #deebf7;\n",
              "  color: #000000;\n",
              "}\n",
              "#T_b9a43_row4_col17, #T_b9a43_row11_col19, #T_b9a43_row15_col17 {\n",
              "  background-color: #dfecf7;\n",
              "  color: #000000;\n",
              "}\n",
              "#T_b9a43_row4_col19 {\n",
              "  background-color: #ddeaf7;\n",
              "  color: #000000;\n",
              "}\n",
              "#T_b9a43_row5_col2, #T_b9a43_row11_col10 {\n",
              "  background-color: #e1edf8;\n",
              "  color: #000000;\n",
              "}\n",
              "#T_b9a43_row5_col3, #T_b9a43_row6_col9, #T_b9a43_row9_col6 {\n",
              "  background-color: #083674;\n",
              "  color: #f1f1f1;\n",
              "}\n",
              "#T_b9a43_row5_col9, #T_b9a43_row12_col0, #T_b9a43_row12_col8, #T_b9a43_row12_col9, #T_b9a43_row14_col0, #T_b9a43_row14_col8, #T_b9a43_row14_col9 {\n",
              "  background-color: #77b5d9;\n",
              "  color: #000000;\n",
              "}\n",
              "#T_b9a43_row5_col10, #T_b9a43_row13_col19 {\n",
              "  background-color: #d3e4f3;\n",
              "  color: #000000;\n",
              "}\n",
              "#T_b9a43_row5_col12 {\n",
              "  background-color: #caddf0;\n",
              "  color: #000000;\n",
              "}\n",
              "#T_b9a43_row5_col15 {\n",
              "  background-color: #d3e3f3;\n",
              "  color: #000000;\n",
              "}\n",
              "#T_b9a43_row5_col17 {\n",
              "  background-color: #d9e8f5;\n",
              "  color: #000000;\n",
              "}\n",
              "#T_b9a43_row6_col0, #T_b9a43_row6_col8, #T_b9a43_row14_col17 {\n",
              "  background-color: #e5eff9;\n",
              "  color: #000000;\n",
              "}\n",
              "#T_b9a43_row6_col1, #T_b9a43_row6_col7 {\n",
              "  background-color: #d4e4f4;\n",
              "  color: #000000;\n",
              "}\n",
              "#T_b9a43_row6_col2, #T_b9a43_row9_col2, #T_b9a43_row19_col9 {\n",
              "  background-color: #89bedc;\n",
              "  color: #000000;\n",
              "}\n",
              "#T_b9a43_row6_col4, #T_b9a43_row9_col4, #T_b9a43_row18_col13 {\n",
              "  background-color: #d0e1f2;\n",
              "  color: #000000;\n",
              "}\n",
              "#T_b9a43_row6_col5, #T_b9a43_row9_col5, #T_b9a43_row10_col6, #T_b9a43_row19_col6 {\n",
              "  background-color: #a0cbe2;\n",
              "  color: #000000;\n",
              "}\n",
              "#T_b9a43_row6_col13, #T_b9a43_row9_col13 {\n",
              "  background-color: #d2e3f3;\n",
              "  color: #000000;\n",
              "}\n",
              "#T_b9a43_row6_col14, #T_b9a43_row9_col10, #T_b9a43_row9_col19, #T_b9a43_row12_col16, #T_b9a43_row13_col18, #T_b9a43_row14_col18, #T_b9a43_row15_col18, #T_b9a43_row16_col18, #T_b9a43_row18_col14, #T_b9a43_row19_col18 {\n",
              "  background-color: #f6faff;\n",
              "  color: #000000;\n",
              "}\n",
              "#T_b9a43_row10_col0, #T_b9a43_row10_col8, #T_b9a43_row19_col0, #T_b9a43_row19_col8 {\n",
              "  background-color: #69add5;\n",
              "  color: #f1f1f1;\n",
              "}\n",
              "#T_b9a43_row10_col2, #T_b9a43_row15_col9, #T_b9a43_row17_col2, #T_b9a43_row19_col2 {\n",
              "  background-color: #92c4de;\n",
              "  color: #000000;\n",
              "}\n",
              "#T_b9a43_row10_col3 {\n",
              "  background-color: #66abd4;\n",
              "  color: #f1f1f1;\n",
              "}\n",
              "#T_b9a43_row10_col4, #T_b9a43_row19_col4 {\n",
              "  background-color: #c4daee;\n",
              "  color: #000000;\n",
              "}\n",
              "#T_b9a43_row10_col9, #T_b9a43_row16_col19, #T_b9a43_row17_col5 {\n",
              "  background-color: #87bddc;\n",
              "  color: #000000;\n",
              "}\n",
              "#T_b9a43_row10_col11, #T_b9a43_row14_col13 {\n",
              "  background-color: #c8dcf0;\n",
              "  color: #000000;\n",
              "}\n",
              "#T_b9a43_row10_col13 {\n",
              "  background-color: #bcd7eb;\n",
              "  color: #000000;\n",
              "}\n",
              "#T_b9a43_row10_col15 {\n",
              "  background-color: #3c8cc3;\n",
              "  color: #f1f1f1;\n",
              "}\n",
              "#T_b9a43_row10_col16 {\n",
              "  background-color: #7cb7da;\n",
              "  color: #000000;\n",
              "}\n",
              "#T_b9a43_row10_col17 {\n",
              "  background-color: #4f9bcb;\n",
              "  color: #f1f1f1;\n",
              "}\n",
              "#T_b9a43_row10_col19, #T_b9a43_row19_col10 {\n",
              "  background-color: #1764ab;\n",
              "  color: #f1f1f1;\n",
              "}\n",
              "#T_b9a43_row11_col2, #T_b9a43_row19_col3 {\n",
              "  background-color: #64a9d3;\n",
              "  color: #f1f1f1;\n",
              "}\n",
              "#T_b9a43_row11_col3, #T_b9a43_row15_col1, #T_b9a43_row15_col7, #T_b9a43_row18_col5 {\n",
              "  background-color: #9fcae1;\n",
              "  color: #000000;\n",
              "}\n",
              "#T_b9a43_row11_col5 {\n",
              "  background-color: #b3d3e8;\n",
              "  color: #000000;\n",
              "}\n",
              "#T_b9a43_row11_col13, #T_b9a43_row13_col11 {\n",
              "  background-color: #084d96;\n",
              "  color: #f1f1f1;\n",
              "}\n",
              "#T_b9a43_row11_col16 {\n",
              "  background-color: #f2f8fd;\n",
              "  color: #000000;\n",
              "}\n",
              "#T_b9a43_row12_col2 {\n",
              "  background-color: #8abfdd;\n",
              "  color: #000000;\n",
              "}\n",
              "#T_b9a43_row12_col5 {\n",
              "  background-color: #9ac8e0;\n",
              "  color: #000000;\n",
              "}\n",
              "#T_b9a43_row12_col6, #T_b9a43_row14_col6, #T_b9a43_row15_col5, #T_b9a43_row18_col6 {\n",
              "  background-color: #8dc1dd;\n",
              "  color: #000000;\n",
              "}\n",
              "#T_b9a43_row12_col10 {\n",
              "  background-color: #eaf2fb;\n",
              "  color: #000000;\n",
              "}\n",
              "#T_b9a43_row12_col17, #T_b9a43_row13_col14, #T_b9a43_row15_col16, #T_b9a43_row18_col17 {\n",
              "  background-color: #ecf4fb;\n",
              "  color: #000000;\n",
              "}\n",
              "#T_b9a43_row12_col19 {\n",
              "  background-color: #e8f1fa;\n",
              "  color: #000000;\n",
              "}\n",
              "#T_b9a43_row13_col1, #T_b9a43_row13_col7, #T_b9a43_row17_col1, #T_b9a43_row17_col7 {\n",
              "  background-color: #a6cee4;\n",
              "  color: #000000;\n",
              "}\n",
              "#T_b9a43_row13_col2 {\n",
              "  background-color: #b7d4ea;\n",
              "  color: #000000;\n",
              "}\n",
              "#T_b9a43_row13_col3, #T_b9a43_row19_col15 {\n",
              "  background-color: #4594c7;\n",
              "  color: #f1f1f1;\n",
              "}\n",
              "#T_b9a43_row13_col4 {\n",
              "  background-color: #083e81;\n",
              "  color: #f1f1f1;\n",
              "}\n",
              "#T_b9a43_row13_col5 {\n",
              "  background-color: #57a0ce;\n",
              "  color: #f1f1f1;\n",
              "}\n",
              "#T_b9a43_row13_col6, #T_b9a43_row16_col6, #T_b9a43_row17_col6, #T_b9a43_row18_col10 {\n",
              "  background-color: #8fc2de;\n",
              "  color: #000000;\n",
              "}\n",
              "#T_b9a43_row13_col10, #T_b9a43_row17_col15 {\n",
              "  background-color: #d5e5f4;\n",
              "  color: #000000;\n",
              "}\n",
              "#T_b9a43_row13_col15, #T_b9a43_row16_col15 {\n",
              "  background-color: #d8e7f5;\n",
              "  color: #000000;\n",
              "}\n",
              "#T_b9a43_row13_col16 {\n",
              "  background-color: #f1f7fd;\n",
              "  color: #000000;\n",
              "}\n",
              "#T_b9a43_row13_col17 {\n",
              "  background-color: #d6e6f4;\n",
              "  color: #000000;\n",
              "}\n",
              "#T_b9a43_row14_col1, #T_b9a43_row14_col7, #T_b9a43_row16_col1, #T_b9a43_row16_col7, #T_b9a43_row18_col1, #T_b9a43_row18_col7 {\n",
              "  background-color: #a8cee4;\n",
              "  color: #000000;\n",
              "}\n",
              "#T_b9a43_row14_col4, #T_b9a43_row17_col11 {\n",
              "  background-color: #c7dbef;\n",
              "  color: #000000;\n",
              "}\n",
              "#T_b9a43_row14_col5 {\n",
              "  background-color: #9dcae1;\n",
              "  color: #000000;\n",
              "}\n",
              "#T_b9a43_row14_col10, #T_b9a43_row19_col16 {\n",
              "  background-color: #99c7e0;\n",
              "  color: #000000;\n",
              "}\n",
              "#T_b9a43_row14_col11, #T_b9a43_row19_col11 {\n",
              "  background-color: #c7dcef;\n",
              "  color: #000000;\n",
              "}\n",
              "#T_b9a43_row15_col0, #T_b9a43_row15_col8, #T_b9a43_row19_col17 {\n",
              "  background-color: #63a8d3;\n",
              "  color: #f1f1f1;\n",
              "}\n",
              "#T_b9a43_row15_col2 {\n",
              "  background-color: #97c6df;\n",
              "  color: #000000;\n",
              "}\n",
              "#T_b9a43_row15_col3, #T_b9a43_row16_col10 {\n",
              "  background-color: #6dafd7;\n",
              "  color: #f1f1f1;\n",
              "}\n",
              "#T_b9a43_row15_col10 {\n",
              "  background-color: #4090c5;\n",
              "  color: #f1f1f1;\n",
              "}\n",
              "#T_b9a43_row15_col19 {\n",
              "  background-color: #4a98c9;\n",
              "  color: #f1f1f1;\n",
              "}\n",
              "#T_b9a43_row16_col5 {\n",
              "  background-color: #94c4df;\n",
              "  color: #000000;\n",
              "}\n",
              "#T_b9a43_row16_col17 {\n",
              "  background-color: #dbe9f6;\n",
              "  color: #000000;\n",
              "}\n",
              "#T_b9a43_row17_col3 {\n",
              "  background-color: #6caed6;\n",
              "  color: #f1f1f1;\n",
              "}\n",
              "#T_b9a43_row17_col4 {\n",
              "  background-color: #c2d9ee;\n",
              "  color: #000000;\n",
              "}\n",
              "#T_b9a43_row17_col10 {\n",
              "  background-color: #4d99ca;\n",
              "  color: #f1f1f1;\n",
              "}\n",
              "#T_b9a43_row17_col13, #T_b9a43_row19_col13 {\n",
              "  background-color: #b9d6ea;\n",
              "  color: #000000;\n",
              "}\n",
              "#T_b9a43_row17_col14 {\n",
              "  background-color: #eff6fc;\n",
              "  color: #000000;\n",
              "}\n",
              "#T_b9a43_row17_col16 {\n",
              "  background-color: #e3eef9;\n",
              "  color: #000000;\n",
              "}\n",
              "#T_b9a43_row17_col19 {\n",
              "  background-color: #60a7d2;\n",
              "  color: #f1f1f1;\n",
              "}\n",
              "#T_b9a43_row18_col19 {\n",
              "  background-color: #e7f1fa;\n",
              "  color: #000000;\n",
              "}\n",
              "#T_b9a43_row19_col5 {\n",
              "  background-color: #7fb9da;\n",
              "  color: #000000;\n",
              "}\n",
              "#T_b9a43_row19_col14 {\n",
              "  background-color: #b2d2e8;\n",
              "  color: #000000;\n",
              "}\n",
              "</style>\n",
              "<table id=\"T_b9a43\" class=\"dataframe\">\n",
              "  <thead>\n",
              "    <tr>\n",
              "      <th class=\"blank level0\" >&nbsp;</th>\n",
              "      <th id=\"T_b9a43_level0_col0\" class=\"col_heading level0 col0\" >Air temperature K</th>\n",
              "      <th id=\"T_b9a43_level0_col1\" class=\"col_heading level0 col1\" >Process temperature K</th>\n",
              "      <th id=\"T_b9a43_level0_col2\" class=\"col_heading level0 col2\" >Rotational speed rpm</th>\n",
              "      <th id=\"T_b9a43_level0_col3\" class=\"col_heading level0 col3\" >Torque Nm</th>\n",
              "      <th id=\"T_b9a43_level0_col4\" class=\"col_heading level0 col4\" >Tool wear min</th>\n",
              "      <th id=\"T_b9a43_level0_col5\" class=\"col_heading level0 col5\" >Power</th>\n",
              "      <th id=\"T_b9a43_level0_col6\" class=\"col_heading level0 col6\" >temp_ratio</th>\n",
              "      <th id=\"T_b9a43_level0_col7\" class=\"col_heading level0 col7\" >Process temperature C</th>\n",
              "      <th id=\"T_b9a43_level0_col8\" class=\"col_heading level0 col8\" >Air temperature C</th>\n",
              "      <th id=\"T_b9a43_level0_col9\" class=\"col_heading level0 col9\" >temp_C_ratio</th>\n",
              "      <th id=\"T_b9a43_level0_col10\" class=\"col_heading level0 col10\" >Failure Sum</th>\n",
              "      <th id=\"T_b9a43_level0_col11\" class=\"col_heading level0 col11\" >tool_wear_speed</th>\n",
              "      <th id=\"T_b9a43_level0_col12\" class=\"col_heading level0 col12\" >torque wear ratio</th>\n",
              "      <th id=\"T_b9a43_level0_col13\" class=\"col_heading level0 col13\" >torque times wear</th>\n",
              "      <th id=\"T_b9a43_level0_col14\" class=\"col_heading level0 col14\" >TWF</th>\n",
              "      <th id=\"T_b9a43_level0_col15\" class=\"col_heading level0 col15\" >HDF</th>\n",
              "      <th id=\"T_b9a43_level0_col16\" class=\"col_heading level0 col16\" >PWF</th>\n",
              "      <th id=\"T_b9a43_level0_col17\" class=\"col_heading level0 col17\" >OSF</th>\n",
              "      <th id=\"T_b9a43_level0_col18\" class=\"col_heading level0 col18\" >RNF</th>\n",
              "      <th id=\"T_b9a43_level0_col19\" class=\"col_heading level0 col19\" >Machine failure</th>\n",
              "    </tr>\n",
              "  </thead>\n",
              "  <tbody>\n",
              "    <tr>\n",
              "      <th id=\"T_b9a43_level0_row0\" class=\"row_heading level0 row0\" >Air temperature K</th>\n",
              "      <td id=\"T_b9a43_row0_col0\" class=\"data row0 col0\" >1.000000</td>\n",
              "      <td id=\"T_b9a43_row0_col1\" class=\"data row0 col1\" >0.856080</td>\n",
              "      <td id=\"T_b9a43_row0_col2\" class=\"data row0 col2\" >0.016545</td>\n",
              "      <td id=\"T_b9a43_row0_col3\" class=\"data row0 col3\" >-0.006773</td>\n",
              "      <td id=\"T_b9a43_row0_col4\" class=\"data row0 col4\" >0.016994</td>\n",
              "      <td id=\"T_b9a43_row0_col5\" class=\"data row0 col5\" >-0.004496</td>\n",
              "      <td id=\"T_b9a43_row0_col6\" class=\"data row0 col6\" >-0.718065</td>\n",
              "      <td id=\"T_b9a43_row0_col7\" class=\"data row0 col7\" >0.856080</td>\n",
              "      <td id=\"T_b9a43_row0_col8\" class=\"data row0 col8\" >1.000000</td>\n",
              "      <td id=\"T_b9a43_row0_col9\" class=\"data row0 col9\" >-0.887916</td>\n",
              "      <td id=\"T_b9a43_row0_col10\" class=\"data row0 col10\" >0.064574</td>\n",
              "      <td id=\"T_b9a43_row0_col11\" class=\"data row0 col11\" >0.018597</td>\n",
              "      <td id=\"T_b9a43_row0_col12\" class=\"data row0 col12\" >-0.000948</td>\n",
              "      <td id=\"T_b9a43_row0_col13\" class=\"data row0 col13\" >0.014314</td>\n",
              "      <td id=\"T_b9a43_row0_col14\" class=\"data row0 col14\" >0.003826</td>\n",
              "      <td id=\"T_b9a43_row0_col15\" class=\"data row0 col15\" >0.100454</td>\n",
              "      <td id=\"T_b9a43_row0_col16\" class=\"data row0 col16\" >0.007967</td>\n",
              "      <td id=\"T_b9a43_row0_col17\" class=\"data row0 col17\" >0.007842</td>\n",
              "      <td id=\"T_b9a43_row0_col18\" class=\"data row0 col18\" >0.004815</td>\n",
              "      <td id=\"T_b9a43_row0_col19\" class=\"data row0 col19\" >0.067744</td>\n",
              "    </tr>\n",
              "    <tr>\n",
              "      <th id=\"T_b9a43_level0_row1\" class=\"row_heading level0 row1\" >Process temperature K</th>\n",
              "      <td id=\"T_b9a43_row1_col0\" class=\"data row1 col0\" >0.856080</td>\n",
              "      <td id=\"T_b9a43_row1_col1\" class=\"data row1 col1\" >1.000000</td>\n",
              "      <td id=\"T_b9a43_row1_col2\" class=\"data row1 col2\" >0.011263</td>\n",
              "      <td id=\"T_b9a43_row1_col3\" class=\"data row1 col3\" >-0.006298</td>\n",
              "      <td id=\"T_b9a43_row1_col4\" class=\"data row1 col4\" >0.012777</td>\n",
              "      <td id=\"T_b9a43_row1_col5\" class=\"data row1 col5\" >-0.004679</td>\n",
              "      <td id=\"T_b9a43_row1_col6\" class=\"data row1 col6\" >-0.255021</td>\n",
              "      <td id=\"T_b9a43_row1_col7\" class=\"data row1 col7\" >1.000000</td>\n",
              "      <td id=\"T_b9a43_row1_col8\" class=\"data row1 col8\" >0.856080</td>\n",
              "      <td id=\"T_b9a43_row1_col9\" class=\"data row1 col9\" >-0.524935</td>\n",
              "      <td id=\"T_b9a43_row1_col10\" class=\"data row1 col10\" >0.029612</td>\n",
              "      <td id=\"T_b9a43_row1_col11\" class=\"data row1 col11\" >0.013733</td>\n",
              "      <td id=\"T_b9a43_row1_col12\" class=\"data row1 col12\" >-0.004559</td>\n",
              "      <td id=\"T_b9a43_row1_col13\" class=\"data row1 col13\" >0.010579</td>\n",
              "      <td id=\"T_b9a43_row1_col14\" class=\"data row1 col14\" >0.004459</td>\n",
              "      <td id=\"T_b9a43_row1_col15\" class=\"data row1 col15\" >0.041454</td>\n",
              "      <td id=\"T_b9a43_row1_col16\" class=\"data row1 col16\" >0.003871</td>\n",
              "      <td id=\"T_b9a43_row1_col17\" class=\"data row1 col17\" >0.005337</td>\n",
              "      <td id=\"T_b9a43_row1_col18\" class=\"data row1 col18\" >0.004399</td>\n",
              "      <td id=\"T_b9a43_row1_col19\" class=\"data row1 col19\" >0.030966</td>\n",
              "    </tr>\n",
              "    <tr>\n",
              "      <th id=\"T_b9a43_level0_row2\" class=\"row_heading level0 row2\" >Rotational speed rpm</th>\n",
              "      <td id=\"T_b9a43_row2_col0\" class=\"data row2 col0\" >0.016545</td>\n",
              "      <td id=\"T_b9a43_row2_col1\" class=\"data row2 col1\" >0.011263</td>\n",
              "      <td id=\"T_b9a43_row2_col2\" class=\"data row2 col2\" >1.000000</td>\n",
              "      <td id=\"T_b9a43_row2_col3\" class=\"data row2 col3\" >-0.779394</td>\n",
              "      <td id=\"T_b9a43_row2_col4\" class=\"data row2 col4\" >0.003983</td>\n",
              "      <td id=\"T_b9a43_row2_col5\" class=\"data row2 col5\" >-0.584267</td>\n",
              "      <td id=\"T_b9a43_row2_col6\" class=\"data row2 col6\" >-0.015718</td>\n",
              "      <td id=\"T_b9a43_row2_col7\" class=\"data row2 col7\" >0.011263</td>\n",
              "      <td id=\"T_b9a43_row2_col8\" class=\"data row2 col8\" >0.016545</td>\n",
              "      <td id=\"T_b9a43_row2_col9\" class=\"data row2 col9\" >-0.016258</td>\n",
              "      <td id=\"T_b9a43_row2_col10\" class=\"data row2 col10\" >-0.057100</td>\n",
              "      <td id=\"T_b9a43_row2_col11\" class=\"data row2 col11\" >0.151086</td>\n",
              "      <td id=\"T_b9a43_row2_col12\" class=\"data row2 col12\" >-0.025582</td>\n",
              "      <td id=\"T_b9a43_row2_col13\" class=\"data row2 col13\" >-0.247731</td>\n",
              "      <td id=\"T_b9a43_row2_col14\" class=\"data row2 col14\" >-0.005765</td>\n",
              "      <td id=\"T_b9a43_row2_col15\" class=\"data row2 col15\" >-0.081996</td>\n",
              "      <td id=\"T_b9a43_row2_col16\" class=\"data row2 col16\" >0.053948</td>\n",
              "      <td id=\"T_b9a43_row2_col17\" class=\"data row2 col17\" >-0.061376</td>\n",
              "      <td id=\"T_b9a43_row2_col18\" class=\"data row2 col18\" >-0.003410</td>\n",
              "      <td id=\"T_b9a43_row2_col19\" class=\"data row2 col19\" >-0.060868</td>\n",
              "    </tr>\n",
              "    <tr>\n",
              "      <th id=\"T_b9a43_level0_row3\" class=\"row_heading level0 row3\" >Torque Nm</th>\n",
              "      <td id=\"T_b9a43_row3_col0\" class=\"data row3 col0\" >-0.006773</td>\n",
              "      <td id=\"T_b9a43_row3_col1\" class=\"data row3 col1\" >-0.006298</td>\n",
              "      <td id=\"T_b9a43_row3_col2\" class=\"data row3 col2\" >-0.779394</td>\n",
              "      <td id=\"T_b9a43_row3_col3\" class=\"data row3 col3\" >1.000000</td>\n",
              "      <td id=\"T_b9a43_row3_col4\" class=\"data row3 col4\" >-0.003148</td>\n",
              "      <td id=\"T_b9a43_row3_col5\" class=\"data row3 col5\" >0.952142</td>\n",
              "      <td id=\"T_b9a43_row3_col6\" class=\"data row3 col6\" >0.004150</td>\n",
              "      <td id=\"T_b9a43_row3_col7\" class=\"data row3 col7\" >-0.006298</td>\n",
              "      <td id=\"T_b9a43_row3_col8\" class=\"data row3 col8\" >-0.006773</td>\n",
              "      <td id=\"T_b9a43_row3_col9\" class=\"data row3 col9\" >0.005034</td>\n",
              "      <td id=\"T_b9a43_row3_col10\" class=\"data row3 col10\" >0.132825</td>\n",
              "      <td id=\"T_b9a43_row3_col11\" class=\"data row3 col11\" >-0.118359</td>\n",
              "      <td id=\"T_b9a43_row3_col12\" class=\"data row3 col12\" >0.027348</td>\n",
              "      <td id=\"T_b9a43_row3_col13\" class=\"data row3 col13\" >0.318195</td>\n",
              "      <td id=\"T_b9a43_row3_col14\" class=\"data row3 col14\" >0.012983</td>\n",
              "      <td id=\"T_b9a43_row3_col15\" class=\"data row3 col15\" >0.100773</td>\n",
              "      <td id=\"T_b9a43_row3_col16\" class=\"data row3 col16\" >0.050289</td>\n",
              "      <td id=\"T_b9a43_row3_col17\" class=\"data row3 col17\" >0.108765</td>\n",
              "      <td id=\"T_b9a43_row3_col18\" class=\"data row3 col18\" >0.007986</td>\n",
              "      <td id=\"T_b9a43_row3_col19\" class=\"data row3 col19\" >0.145793</td>\n",
              "    </tr>\n",
              "    <tr>\n",
              "      <th id=\"T_b9a43_level0_row4\" class=\"row_heading level0 row4\" >Tool wear min</th>\n",
              "      <td id=\"T_b9a43_row4_col0\" class=\"data row4 col0\" >0.016994</td>\n",
              "      <td id=\"T_b9a43_row4_col1\" class=\"data row4 col1\" >0.012777</td>\n",
              "      <td id=\"T_b9a43_row4_col2\" class=\"data row4 col2\" >0.003983</td>\n",
              "      <td id=\"T_b9a43_row4_col3\" class=\"data row4 col3\" >-0.003148</td>\n",
              "      <td id=\"T_b9a43_row4_col4\" class=\"data row4 col4\" >1.000000</td>\n",
              "      <td id=\"T_b9a43_row4_col5\" class=\"data row4 col5\" >-0.003431</td>\n",
              "      <td id=\"T_b9a43_row4_col6\" class=\"data row4 col6\" >-0.014503</td>\n",
              "      <td id=\"T_b9a43_row4_col7\" class=\"data row4 col7\" >0.012777</td>\n",
              "      <td id=\"T_b9a43_row4_col8\" class=\"data row4 col8\" >0.016994</td>\n",
              "      <td id=\"T_b9a43_row4_col9\" class=\"data row4 col9\" >-0.015328</td>\n",
              "      <td id=\"T_b9a43_row4_col10\" class=\"data row4 col10\" >0.052961</td>\n",
              "      <td id=\"T_b9a43_row4_col11\" class=\"data row4 col11\" >0.984923</td>\n",
              "      <td id=\"T_b9a43_row4_col12\" class=\"data row4 col12\" >-0.270463</td>\n",
              "      <td id=\"T_b9a43_row4_col13\" class=\"data row4 col13\" >0.926409</td>\n",
              "      <td id=\"T_b9a43_row4_col14\" class=\"data row4 col14\" >0.046470</td>\n",
              "      <td id=\"T_b9a43_row4_col15\" class=\"data row4 col15\" >0.011709</td>\n",
              "      <td id=\"T_b9a43_row4_col16\" class=\"data row4 col16\" >0.007624</td>\n",
              "      <td id=\"T_b9a43_row4_col17\" class=\"data row4 col17\" >0.063604</td>\n",
              "      <td id=\"T_b9a43_row4_col18\" class=\"data row4 col18\" >-0.002071</td>\n",
              "      <td id=\"T_b9a43_row4_col19\" class=\"data row4 col19\" >0.056448</td>\n",
              "    </tr>\n",
              "    <tr>\n",
              "      <th id=\"T_b9a43_level0_row5\" class=\"row_heading level0 row5\" >Power</th>\n",
              "      <td id=\"T_b9a43_row5_col0\" class=\"data row5 col0\" >-0.004496</td>\n",
              "      <td id=\"T_b9a43_row5_col1\" class=\"data row5 col1\" >-0.004679</td>\n",
              "      <td id=\"T_b9a43_row5_col2\" class=\"data row5 col2\" >-0.584267</td>\n",
              "      <td id=\"T_b9a43_row5_col3\" class=\"data row5 col3\" >0.952142</td>\n",
              "      <td id=\"T_b9a43_row5_col4\" class=\"data row5 col4\" >-0.003431</td>\n",
              "      <td id=\"T_b9a43_row5_col5\" class=\"data row5 col5\" >1.000000</td>\n",
              "      <td id=\"T_b9a43_row5_col6\" class=\"data row5 col6\" >0.002083</td>\n",
              "      <td id=\"T_b9a43_row5_col7\" class=\"data row5 col7\" >-0.004679</td>\n",
              "      <td id=\"T_b9a43_row5_col8\" class=\"data row5 col8\" >-0.004496</td>\n",
              "      <td id=\"T_b9a43_row5_col9\" class=\"data row5 col9\" >0.002917</td>\n",
              "      <td id=\"T_b9a43_row5_col10\" class=\"data row5 col10\" >0.115396</td>\n",
              "      <td id=\"T_b9a43_row5_col11\" class=\"data row5 col11\" >-0.090245</td>\n",
              "      <td id=\"T_b9a43_row5_col12\" class=\"data row5 col12\" >0.025498</td>\n",
              "      <td id=\"T_b9a43_row5_col13\" class=\"data row5 col13\" >0.301894</td>\n",
              "      <td id=\"T_b9a43_row5_col14\" class=\"data row5 col14\" >0.012258</td>\n",
              "      <td id=\"T_b9a43_row5_col15\" class=\"data row5 col15\" >0.076992</td>\n",
              "      <td id=\"T_b9a43_row5_col16\" class=\"data row5 col16\" >0.052033</td>\n",
              "      <td id=\"T_b9a43_row5_col17\" class=\"data row5 col17\" >0.099108</td>\n",
              "      <td id=\"T_b9a43_row5_col18\" class=\"data row5 col18\" >0.007361</td>\n",
              "      <td id=\"T_b9a43_row5_col19\" class=\"data row5 col19\" >0.128222</td>\n",
              "    </tr>\n",
              "    <tr>\n",
              "      <th id=\"T_b9a43_level0_row6\" class=\"row_heading level0 row6\" >temp_ratio</th>\n",
              "      <td id=\"T_b9a43_row6_col0\" class=\"data row6 col0\" >-0.718065</td>\n",
              "      <td id=\"T_b9a43_row6_col1\" class=\"data row6 col1\" >-0.255021</td>\n",
              "      <td id=\"T_b9a43_row6_col2\" class=\"data row6 col2\" >-0.015718</td>\n",
              "      <td id=\"T_b9a43_row6_col3\" class=\"data row6 col3\" >0.004150</td>\n",
              "      <td id=\"T_b9a43_row6_col4\" class=\"data row6 col4\" >-0.014503</td>\n",
              "      <td id=\"T_b9a43_row6_col5\" class=\"data row6 col5\" >0.002083</td>\n",
              "      <td id=\"T_b9a43_row6_col6\" class=\"data row6 col6\" >1.000000</td>\n",
              "      <td id=\"T_b9a43_row6_col7\" class=\"data row6 col7\" >-0.255021</td>\n",
              "      <td id=\"T_b9a43_row6_col8\" class=\"data row6 col8\" >-0.718065</td>\n",
              "      <td id=\"T_b9a43_row6_col9\" class=\"data row6 col9\" >0.954630</td>\n",
              "      <td id=\"T_b9a43_row6_col10\" class=\"data row6 col10\" >-0.080509</td>\n",
              "      <td id=\"T_b9a43_row6_col11\" class=\"data row6 col11\" >-0.016207</td>\n",
              "      <td id=\"T_b9a43_row6_col12\" class=\"data row6 col12\" >-0.004360</td>\n",
              "      <td id=\"T_b9a43_row6_col13\" class=\"data row6 col13\" >-0.012464</td>\n",
              "      <td id=\"T_b9a43_row6_col14\" class=\"data row6 col14\" >-0.001132</td>\n",
              "      <td id=\"T_b9a43_row6_col15\" class=\"data row6 col15\" >-0.131452</td>\n",
              "      <td id=\"T_b9a43_row6_col16\" class=\"data row6 col16\" >-0.009629</td>\n",
              "      <td id=\"T_b9a43_row6_col17\" class=\"data row6 col17\" >-0.007421</td>\n",
              "      <td id=\"T_b9a43_row6_col18\" class=\"data row6 col18\" >-0.003082</td>\n",
              "      <td id=\"T_b9a43_row6_col19\" class=\"data row6 col19\" >-0.084591</td>\n",
              "    </tr>\n",
              "    <tr>\n",
              "      <th id=\"T_b9a43_level0_row7\" class=\"row_heading level0 row7\" >Process temperature C</th>\n",
              "      <td id=\"T_b9a43_row7_col0\" class=\"data row7 col0\" >0.856080</td>\n",
              "      <td id=\"T_b9a43_row7_col1\" class=\"data row7 col1\" >1.000000</td>\n",
              "      <td id=\"T_b9a43_row7_col2\" class=\"data row7 col2\" >0.011263</td>\n",
              "      <td id=\"T_b9a43_row7_col3\" class=\"data row7 col3\" >-0.006298</td>\n",
              "      <td id=\"T_b9a43_row7_col4\" class=\"data row7 col4\" >0.012777</td>\n",
              "      <td id=\"T_b9a43_row7_col5\" class=\"data row7 col5\" >-0.004679</td>\n",
              "      <td id=\"T_b9a43_row7_col6\" class=\"data row7 col6\" >-0.255021</td>\n",
              "      <td id=\"T_b9a43_row7_col7\" class=\"data row7 col7\" >1.000000</td>\n",
              "      <td id=\"T_b9a43_row7_col8\" class=\"data row7 col8\" >0.856080</td>\n",
              "      <td id=\"T_b9a43_row7_col9\" class=\"data row7 col9\" >-0.524935</td>\n",
              "      <td id=\"T_b9a43_row7_col10\" class=\"data row7 col10\" >0.029612</td>\n",
              "      <td id=\"T_b9a43_row7_col11\" class=\"data row7 col11\" >0.013733</td>\n",
              "      <td id=\"T_b9a43_row7_col12\" class=\"data row7 col12\" >-0.004559</td>\n",
              "      <td id=\"T_b9a43_row7_col13\" class=\"data row7 col13\" >0.010579</td>\n",
              "      <td id=\"T_b9a43_row7_col14\" class=\"data row7 col14\" >0.004459</td>\n",
              "      <td id=\"T_b9a43_row7_col15\" class=\"data row7 col15\" >0.041454</td>\n",
              "      <td id=\"T_b9a43_row7_col16\" class=\"data row7 col16\" >0.003871</td>\n",
              "      <td id=\"T_b9a43_row7_col17\" class=\"data row7 col17\" >0.005337</td>\n",
              "      <td id=\"T_b9a43_row7_col18\" class=\"data row7 col18\" >0.004399</td>\n",
              "      <td id=\"T_b9a43_row7_col19\" class=\"data row7 col19\" >0.030966</td>\n",
              "    </tr>\n",
              "    <tr>\n",
              "      <th id=\"T_b9a43_level0_row8\" class=\"row_heading level0 row8\" >Air temperature C</th>\n",
              "      <td id=\"T_b9a43_row8_col0\" class=\"data row8 col0\" >1.000000</td>\n",
              "      <td id=\"T_b9a43_row8_col1\" class=\"data row8 col1\" >0.856080</td>\n",
              "      <td id=\"T_b9a43_row8_col2\" class=\"data row8 col2\" >0.016545</td>\n",
              "      <td id=\"T_b9a43_row8_col3\" class=\"data row8 col3\" >-0.006773</td>\n",
              "      <td id=\"T_b9a43_row8_col4\" class=\"data row8 col4\" >0.016994</td>\n",
              "      <td id=\"T_b9a43_row8_col5\" class=\"data row8 col5\" >-0.004496</td>\n",
              "      <td id=\"T_b9a43_row8_col6\" class=\"data row8 col6\" >-0.718065</td>\n",
              "      <td id=\"T_b9a43_row8_col7\" class=\"data row8 col7\" >0.856080</td>\n",
              "      <td id=\"T_b9a43_row8_col8\" class=\"data row8 col8\" >1.000000</td>\n",
              "      <td id=\"T_b9a43_row8_col9\" class=\"data row8 col9\" >-0.887916</td>\n",
              "      <td id=\"T_b9a43_row8_col10\" class=\"data row8 col10\" >0.064574</td>\n",
              "      <td id=\"T_b9a43_row8_col11\" class=\"data row8 col11\" >0.018597</td>\n",
              "      <td id=\"T_b9a43_row8_col12\" class=\"data row8 col12\" >-0.000948</td>\n",
              "      <td id=\"T_b9a43_row8_col13\" class=\"data row8 col13\" >0.014314</td>\n",
              "      <td id=\"T_b9a43_row8_col14\" class=\"data row8 col14\" >0.003826</td>\n",
              "      <td id=\"T_b9a43_row8_col15\" class=\"data row8 col15\" >0.100454</td>\n",
              "      <td id=\"T_b9a43_row8_col16\" class=\"data row8 col16\" >0.007967</td>\n",
              "      <td id=\"T_b9a43_row8_col17\" class=\"data row8 col17\" >0.007842</td>\n",
              "      <td id=\"T_b9a43_row8_col18\" class=\"data row8 col18\" >0.004815</td>\n",
              "      <td id=\"T_b9a43_row8_col19\" class=\"data row8 col19\" >0.067744</td>\n",
              "    </tr>\n",
              "    <tr>\n",
              "      <th id=\"T_b9a43_level0_row9\" class=\"row_heading level0 row9\" >temp_C_ratio</th>\n",
              "      <td id=\"T_b9a43_row9_col0\" class=\"data row9 col0\" >-0.887916</td>\n",
              "      <td id=\"T_b9a43_row9_col1\" class=\"data row9 col1\" >-0.524935</td>\n",
              "      <td id=\"T_b9a43_row9_col2\" class=\"data row9 col2\" >-0.016258</td>\n",
              "      <td id=\"T_b9a43_row9_col3\" class=\"data row9 col3\" >0.005034</td>\n",
              "      <td id=\"T_b9a43_row9_col4\" class=\"data row9 col4\" >-0.015328</td>\n",
              "      <td id=\"T_b9a43_row9_col5\" class=\"data row9 col5\" >0.002917</td>\n",
              "      <td id=\"T_b9a43_row9_col6\" class=\"data row9 col6\" >0.954630</td>\n",
              "      <td id=\"T_b9a43_row9_col7\" class=\"data row9 col7\" >-0.524935</td>\n",
              "      <td id=\"T_b9a43_row9_col8\" class=\"data row9 col8\" >-0.887916</td>\n",
              "      <td id=\"T_b9a43_row9_col9\" class=\"data row9 col9\" >1.000000</td>\n",
              "      <td id=\"T_b9a43_row9_col10\" class=\"data row9 col10\" >-0.075853</td>\n",
              "      <td id=\"T_b9a43_row9_col11\" class=\"data row9 col11\" >-0.016995</td>\n",
              "      <td id=\"T_b9a43_row9_col12\" class=\"data row9 col12\" >-0.002422</td>\n",
              "      <td id=\"T_b9a43_row9_col13\" class=\"data row9 col13\" >-0.013093</td>\n",
              "      <td id=\"T_b9a43_row9_col14\" class=\"data row9 col14\" >-0.002140</td>\n",
              "      <td id=\"T_b9a43_row9_col15\" class=\"data row9 col15\" >-0.122192</td>\n",
              "      <td id=\"T_b9a43_row9_col16\" class=\"data row9 col16\" >-0.008951</td>\n",
              "      <td id=\"T_b9a43_row9_col17\" class=\"data row9 col17\" >-0.007518</td>\n",
              "      <td id=\"T_b9a43_row9_col18\" class=\"data row9 col18\" >-0.003944</td>\n",
              "      <td id=\"T_b9a43_row9_col19\" class=\"data row9 col19\" >-0.079588</td>\n",
              "    </tr>\n",
              "    <tr>\n",
              "      <th id=\"T_b9a43_level0_row10\" class=\"row_heading level0 row10\" >Failure Sum</th>\n",
              "      <td id=\"T_b9a43_row10_col0\" class=\"data row10 col0\" >0.064574</td>\n",
              "      <td id=\"T_b9a43_row10_col1\" class=\"data row10 col1\" >0.029612</td>\n",
              "      <td id=\"T_b9a43_row10_col2\" class=\"data row10 col2\" >-0.057100</td>\n",
              "      <td id=\"T_b9a43_row10_col3\" class=\"data row10 col3\" >0.132825</td>\n",
              "      <td id=\"T_b9a43_row10_col4\" class=\"data row10 col4\" >0.052961</td>\n",
              "      <td id=\"T_b9a43_row10_col5\" class=\"data row10 col5\" >0.115396</td>\n",
              "      <td id=\"T_b9a43_row10_col6\" class=\"data row10 col6\" >-0.080509</td>\n",
              "      <td id=\"T_b9a43_row10_col7\" class=\"data row10 col7\" >0.029612</td>\n",
              "      <td id=\"T_b9a43_row10_col8\" class=\"data row10 col8\" >0.064574</td>\n",
              "      <td id=\"T_b9a43_row10_col9\" class=\"data row10 col9\" >-0.075853</td>\n",
              "      <td id=\"T_b9a43_row10_col10\" class=\"data row10 col10\" >1.000000</td>\n",
              "      <td id=\"T_b9a43_row10_col11\" class=\"data row10 col11\" >0.040355</td>\n",
              "      <td id=\"T_b9a43_row10_col12\" class=\"data row10 col12\" >-0.005022</td>\n",
              "      <td id=\"T_b9a43_row10_col13\" class=\"data row10 col13\" >0.105471</td>\n",
              "      <td id=\"T_b9a43_row10_col14\" class=\"data row10 col14\" >0.339171</td>\n",
              "      <td id=\"T_b9a43_row10_col15\" class=\"data row10 col15\" >0.599958</td>\n",
              "      <td id=\"T_b9a43_row10_col16\" class=\"data row10 col16\" >0.454285</td>\n",
              "      <td id=\"T_b9a43_row10_col17\" class=\"data row10 col17\" >0.560309</td>\n",
              "      <td id=\"T_b9a43_row10_col18\" class=\"data row10 col18\" >0.363466</td>\n",
              "      <td id=\"T_b9a43_row10_col19\" class=\"data row10 col19\" >0.783519</td>\n",
              "    </tr>\n",
              "    <tr>\n",
              "      <th id=\"T_b9a43_level0_row11\" class=\"row_heading level0 row11\" >tool_wear_speed</th>\n",
              "      <td id=\"T_b9a43_row11_col0\" class=\"data row11 col0\" >0.018597</td>\n",
              "      <td id=\"T_b9a43_row11_col1\" class=\"data row11 col1\" >0.013733</td>\n",
              "      <td id=\"T_b9a43_row11_col2\" class=\"data row11 col2\" >0.151086</td>\n",
              "      <td id=\"T_b9a43_row11_col3\" class=\"data row11 col3\" >-0.118359</td>\n",
              "      <td id=\"T_b9a43_row11_col4\" class=\"data row11 col4\" >0.984923</td>\n",
              "      <td id=\"T_b9a43_row11_col5\" class=\"data row11 col5\" >-0.090245</td>\n",
              "      <td id=\"T_b9a43_row11_col6\" class=\"data row11 col6\" >-0.016207</td>\n",
              "      <td id=\"T_b9a43_row11_col7\" class=\"data row11 col7\" >0.013733</td>\n",
              "      <td id=\"T_b9a43_row11_col8\" class=\"data row11 col8\" >0.018597</td>\n",
              "      <td id=\"T_b9a43_row11_col9\" class=\"data row11 col9\" >-0.016995</td>\n",
              "      <td id=\"T_b9a43_row11_col10\" class=\"data row11 col10\" >0.040355</td>\n",
              "      <td id=\"T_b9a43_row11_col11\" class=\"data row11 col11\" >1.000000</td>\n",
              "      <td id=\"T_b9a43_row11_col12\" class=\"data row11 col12\" >-0.266053</td>\n",
              "      <td id=\"T_b9a43_row11_col13\" class=\"data row11 col13\" >0.861404</td>\n",
              "      <td id=\"T_b9a43_row11_col14\" class=\"data row11 col14\" >0.044151</td>\n",
              "      <td id=\"T_b9a43_row11_col15\" class=\"data row11 col15\" >-0.001724</td>\n",
              "      <td id=\"T_b9a43_row11_col16\" class=\"data row11 col16\" >0.015975</td>\n",
              "      <td id=\"T_b9a43_row11_col17\" class=\"data row11 col17\" >0.048271</td>\n",
              "      <td id=\"T_b9a43_row11_col18\" class=\"data row11 col18\" >-0.002980</td>\n",
              "      <td id=\"T_b9a43_row11_col19\" class=\"data row11 col19\" >0.043777</td>\n",
              "    </tr>\n",
              "    <tr>\n",
              "      <th id=\"T_b9a43_level0_row12\" class=\"row_heading level0 row12\" >torque wear ratio</th>\n",
              "      <td id=\"T_b9a43_row12_col0\" class=\"data row12 col0\" >-0.000948</td>\n",
              "      <td id=\"T_b9a43_row12_col1\" class=\"data row12 col1\" >-0.004559</td>\n",
              "      <td id=\"T_b9a43_row12_col2\" class=\"data row12 col2\" >-0.025582</td>\n",
              "      <td id=\"T_b9a43_row12_col3\" class=\"data row12 col3\" >0.027348</td>\n",
              "      <td id=\"T_b9a43_row12_col4\" class=\"data row12 col4\" >-0.270463</td>\n",
              "      <td id=\"T_b9a43_row12_col5\" class=\"data row12 col5\" >0.025498</td>\n",
              "      <td id=\"T_b9a43_row12_col6\" class=\"data row12 col6\" >-0.004360</td>\n",
              "      <td id=\"T_b9a43_row12_col7\" class=\"data row12 col7\" >-0.004559</td>\n",
              "      <td id=\"T_b9a43_row12_col8\" class=\"data row12 col8\" >-0.000948</td>\n",
              "      <td id=\"T_b9a43_row12_col9\" class=\"data row12 col9\" >-0.002422</td>\n",
              "      <td id=\"T_b9a43_row12_col10\" class=\"data row12 col10\" >-0.005022</td>\n",
              "      <td id=\"T_b9a43_row12_col11\" class=\"data row12 col11\" >-0.266053</td>\n",
              "      <td id=\"T_b9a43_row12_col12\" class=\"data row12 col12\" >1.000000</td>\n",
              "      <td id=\"T_b9a43_row12_col13\" class=\"data row12 col13\" >-0.251174</td>\n",
              "      <td id=\"T_b9a43_row12_col14\" class=\"data row12 col14\" >-0.002139</td>\n",
              "      <td id=\"T_b9a43_row12_col15\" class=\"data row12 col15\" >-0.001486</td>\n",
              "      <td id=\"T_b9a43_row12_col16\" class=\"data row12 col16\" >-0.002588</td>\n",
              "      <td id=\"T_b9a43_row12_col17\" class=\"data row12 col17\" >-0.002729</td>\n",
              "      <td id=\"T_b9a43_row12_col18\" class=\"data row12 col18\" >-0.003564</td>\n",
              "      <td id=\"T_b9a43_row12_col19\" class=\"data row12 col19\" >-0.004044</td>\n",
              "    </tr>\n",
              "    <tr>\n",
              "      <th id=\"T_b9a43_level0_row13\" class=\"row_heading level0 row13\" >torque times wear</th>\n",
              "      <td id=\"T_b9a43_row13_col0\" class=\"data row13 col0\" >0.014314</td>\n",
              "      <td id=\"T_b9a43_row13_col1\" class=\"data row13 col1\" >0.010579</td>\n",
              "      <td id=\"T_b9a43_row13_col2\" class=\"data row13 col2\" >-0.247731</td>\n",
              "      <td id=\"T_b9a43_row13_col3\" class=\"data row13 col3\" >0.318195</td>\n",
              "      <td id=\"T_b9a43_row13_col4\" class=\"data row13 col4\" >0.926409</td>\n",
              "      <td id=\"T_b9a43_row13_col5\" class=\"data row13 col5\" >0.301894</td>\n",
              "      <td id=\"T_b9a43_row13_col6\" class=\"data row13 col6\" >-0.012464</td>\n",
              "      <td id=\"T_b9a43_row13_col7\" class=\"data row13 col7\" >0.010579</td>\n",
              "      <td id=\"T_b9a43_row13_col8\" class=\"data row13 col8\" >0.014314</td>\n",
              "      <td id=\"T_b9a43_row13_col9\" class=\"data row13 col9\" >-0.013093</td>\n",
              "      <td id=\"T_b9a43_row13_col10\" class=\"data row13 col10\" >0.105471</td>\n",
              "      <td id=\"T_b9a43_row13_col11\" class=\"data row13 col11\" >0.861404</td>\n",
              "      <td id=\"T_b9a43_row13_col12\" class=\"data row13 col12\" >-0.251174</td>\n",
              "      <td id=\"T_b9a43_row13_col13\" class=\"data row13 col13\" >1.000000</td>\n",
              "      <td id=\"T_b9a43_row13_col14\" class=\"data row13 col14\" >0.049676</td>\n",
              "      <td id=\"T_b9a43_row13_col15\" class=\"data row13 col15\" >0.046765</td>\n",
              "      <td id=\"T_b9a43_row13_col16\" class=\"data row13 col16\" >0.025560</td>\n",
              "      <td id=\"T_b9a43_row13_col17\" class=\"data row13 col17\" >0.114310</td>\n",
              "      <td id=\"T_b9a43_row13_col18\" class=\"data row13 col18\" >0.001712</td>\n",
              "      <td id=\"T_b9a43_row13_col19\" class=\"data row13 col19\" >0.111041</td>\n",
              "    </tr>\n",
              "    <tr>\n",
              "      <th id=\"T_b9a43_level0_row14\" class=\"row_heading level0 row14\" >TWF</th>\n",
              "      <td id=\"T_b9a43_row14_col0\" class=\"data row14 col0\" >0.003826</td>\n",
              "      <td id=\"T_b9a43_row14_col1\" class=\"data row14 col1\" >0.004459</td>\n",
              "      <td id=\"T_b9a43_row14_col2\" class=\"data row14 col2\" >-0.005765</td>\n",
              "      <td id=\"T_b9a43_row14_col3\" class=\"data row14 col3\" >0.012983</td>\n",
              "      <td id=\"T_b9a43_row14_col4\" class=\"data row14 col4\" >0.046470</td>\n",
              "      <td id=\"T_b9a43_row14_col5\" class=\"data row14 col5\" >0.012258</td>\n",
              "      <td id=\"T_b9a43_row14_col6\" class=\"data row14 col6\" >-0.001132</td>\n",
              "      <td id=\"T_b9a43_row14_col7\" class=\"data row14 col7\" >0.004459</td>\n",
              "      <td id=\"T_b9a43_row14_col8\" class=\"data row14 col8\" >0.003826</td>\n",
              "      <td id=\"T_b9a43_row14_col9\" class=\"data row14 col9\" >-0.002140</td>\n",
              "      <td id=\"T_b9a43_row14_col10\" class=\"data row14 col10\" >0.339171</td>\n",
              "      <td id=\"T_b9a43_row14_col11\" class=\"data row14 col11\" >0.044151</td>\n",
              "      <td id=\"T_b9a43_row14_col12\" class=\"data row14 col12\" >-0.002139</td>\n",
              "      <td id=\"T_b9a43_row14_col13\" class=\"data row14 col13\" >0.049676</td>\n",
              "      <td id=\"T_b9a43_row14_col14\" class=\"data row14 col14\" >1.000000</td>\n",
              "      <td id=\"T_b9a43_row14_col15\" class=\"data row14 col15\" >0.010145</td>\n",
              "      <td id=\"T_b9a43_row14_col16\" class=\"data row14 col16\" >0.039927</td>\n",
              "      <td id=\"T_b9a43_row14_col17\" class=\"data row14 col17\" >0.036041</td>\n",
              "      <td id=\"T_b9a43_row14_col18\" class=\"data row14 col18\" >0.002044</td>\n",
              "      <td id=\"T_b9a43_row14_col19\" class=\"data row14 col19\" >0.311919</td>\n",
              "    </tr>\n",
              "    <tr>\n",
              "      <th id=\"T_b9a43_level0_row15\" class=\"row_heading level0 row15\" >HDF</th>\n",
              "      <td id=\"T_b9a43_row15_col0\" class=\"data row15 col0\" >0.100454</td>\n",
              "      <td id=\"T_b9a43_row15_col1\" class=\"data row15 col1\" >0.041454</td>\n",
              "      <td id=\"T_b9a43_row15_col2\" class=\"data row15 col2\" >-0.081996</td>\n",
              "      <td id=\"T_b9a43_row15_col3\" class=\"data row15 col3\" >0.100773</td>\n",
              "      <td id=\"T_b9a43_row15_col4\" class=\"data row15 col4\" >0.011709</td>\n",
              "      <td id=\"T_b9a43_row15_col5\" class=\"data row15 col5\" >0.076992</td>\n",
              "      <td id=\"T_b9a43_row15_col6\" class=\"data row15 col6\" >-0.131452</td>\n",
              "      <td id=\"T_b9a43_row15_col7\" class=\"data row15 col7\" >0.041454</td>\n",
              "      <td id=\"T_b9a43_row15_col8\" class=\"data row15 col8\" >0.100454</td>\n",
              "      <td id=\"T_b9a43_row15_col9\" class=\"data row15 col9\" >-0.122192</td>\n",
              "      <td id=\"T_b9a43_row15_col10\" class=\"data row15 col10\" >0.599958</td>\n",
              "      <td id=\"T_b9a43_row15_col11\" class=\"data row15 col11\" >-0.001724</td>\n",
              "      <td id=\"T_b9a43_row15_col12\" class=\"data row15 col12\" >-0.001486</td>\n",
              "      <td id=\"T_b9a43_row15_col13\" class=\"data row15 col13\" >0.046765</td>\n",
              "      <td id=\"T_b9a43_row15_col14\" class=\"data row15 col14\" >0.010145</td>\n",
              "      <td id=\"T_b9a43_row15_col15\" class=\"data row15 col15\" >1.000000</td>\n",
              "      <td id=\"T_b9a43_row15_col16\" class=\"data row15 col16\" >0.046680</td>\n",
              "      <td id=\"T_b9a43_row15_col17\" class=\"data row15 col17\" >0.067149</td>\n",
              "      <td id=\"T_b9a43_row15_col18\" class=\"data row15 col18\" >0.000885</td>\n",
              "      <td id=\"T_b9a43_row15_col19\" class=\"data row15 col19\" >0.564507</td>\n",
              "    </tr>\n",
              "    <tr>\n",
              "      <th id=\"T_b9a43_level0_row16\" class=\"row_heading level0 row16\" >PWF</th>\n",
              "      <td id=\"T_b9a43_row16_col0\" class=\"data row16 col0\" >0.007967</td>\n",
              "      <td id=\"T_b9a43_row16_col1\" class=\"data row16 col1\" >0.003871</td>\n",
              "      <td id=\"T_b9a43_row16_col2\" class=\"data row16 col2\" >0.053948</td>\n",
              "      <td id=\"T_b9a43_row16_col3\" class=\"data row16 col3\" >0.050289</td>\n",
              "      <td id=\"T_b9a43_row16_col4\" class=\"data row16 col4\" >0.007624</td>\n",
              "      <td id=\"T_b9a43_row16_col5\" class=\"data row16 col5\" >0.052033</td>\n",
              "      <td id=\"T_b9a43_row16_col6\" class=\"data row16 col6\" >-0.009629</td>\n",
              "      <td id=\"T_b9a43_row16_col7\" class=\"data row16 col7\" >0.003871</td>\n",
              "      <td id=\"T_b9a43_row16_col8\" class=\"data row16 col8\" >0.007967</td>\n",
              "      <td id=\"T_b9a43_row16_col9\" class=\"data row16 col9\" >-0.008951</td>\n",
              "      <td id=\"T_b9a43_row16_col10\" class=\"data row16 col10\" >0.454285</td>\n",
              "      <td id=\"T_b9a43_row16_col11\" class=\"data row16 col11\" >0.015975</td>\n",
              "      <td id=\"T_b9a43_row16_col12\" class=\"data row16 col12\" >-0.002588</td>\n",
              "      <td id=\"T_b9a43_row16_col13\" class=\"data row16 col13\" >0.025560</td>\n",
              "      <td id=\"T_b9a43_row16_col14\" class=\"data row16 col14\" >0.039927</td>\n",
              "      <td id=\"T_b9a43_row16_col15\" class=\"data row16 col15\" >0.046680</td>\n",
              "      <td id=\"T_b9a43_row16_col16\" class=\"data row16 col16\" >1.000000</td>\n",
              "      <td id=\"T_b9a43_row16_col17\" class=\"data row16 col17\" >0.090016</td>\n",
              "      <td id=\"T_b9a43_row16_col18\" class=\"data row16 col18\" >0.000827</td>\n",
              "      <td id=\"T_b9a43_row16_col19\" class=\"data row16 col19\" >0.383941</td>\n",
              "    </tr>\n",
              "    <tr>\n",
              "      <th id=\"T_b9a43_level0_row17\" class=\"row_heading level0 row17\" >OSF</th>\n",
              "      <td id=\"T_b9a43_row17_col0\" class=\"data row17 col0\" >0.007842</td>\n",
              "      <td id=\"T_b9a43_row17_col1\" class=\"data row17 col1\" >0.005337</td>\n",
              "      <td id=\"T_b9a43_row17_col2\" class=\"data row17 col2\" >-0.061376</td>\n",
              "      <td id=\"T_b9a43_row17_col3\" class=\"data row17 col3\" >0.108765</td>\n",
              "      <td id=\"T_b9a43_row17_col4\" class=\"data row17 col4\" >0.063604</td>\n",
              "      <td id=\"T_b9a43_row17_col5\" class=\"data row17 col5\" >0.099108</td>\n",
              "      <td id=\"T_b9a43_row17_col6\" class=\"data row17 col6\" >-0.007421</td>\n",
              "      <td id=\"T_b9a43_row17_col7\" class=\"data row17 col7\" >0.005337</td>\n",
              "      <td id=\"T_b9a43_row17_col8\" class=\"data row17 col8\" >0.007842</td>\n",
              "      <td id=\"T_b9a43_row17_col9\" class=\"data row17 col9\" >-0.007518</td>\n",
              "      <td id=\"T_b9a43_row17_col10\" class=\"data row17 col10\" >0.560309</td>\n",
              "      <td id=\"T_b9a43_row17_col11\" class=\"data row17 col11\" >0.048271</td>\n",
              "      <td id=\"T_b9a43_row17_col12\" class=\"data row17 col12\" >-0.002729</td>\n",
              "      <td id=\"T_b9a43_row17_col13\" class=\"data row17 col13\" >0.114310</td>\n",
              "      <td id=\"T_b9a43_row17_col14\" class=\"data row17 col14\" >0.036041</td>\n",
              "      <td id=\"T_b9a43_row17_col15\" class=\"data row17 col15\" >0.067149</td>\n",
              "      <td id=\"T_b9a43_row17_col16\" class=\"data row17 col16\" >0.090016</td>\n",
              "      <td id=\"T_b9a43_row17_col17\" class=\"data row17 col17\" >1.000000</td>\n",
              "      <td id=\"T_b9a43_row17_col18\" class=\"data row17 col18\" >-0.000539</td>\n",
              "      <td id=\"T_b9a43_row17_col19\" class=\"data row17 col19\" >0.494668</td>\n",
              "    </tr>\n",
              "    <tr>\n",
              "      <th id=\"T_b9a43_level0_row18\" class=\"row_heading level0 row18\" >RNF</th>\n",
              "      <td id=\"T_b9a43_row18_col0\" class=\"data row18 col0\" >0.004815</td>\n",
              "      <td id=\"T_b9a43_row18_col1\" class=\"data row18 col1\" >0.004399</td>\n",
              "      <td id=\"T_b9a43_row18_col2\" class=\"data row18 col2\" >-0.003410</td>\n",
              "      <td id=\"T_b9a43_row18_col3\" class=\"data row18 col3\" >0.007986</td>\n",
              "      <td id=\"T_b9a43_row18_col4\" class=\"data row18 col4\" >-0.002071</td>\n",
              "      <td id=\"T_b9a43_row18_col5\" class=\"data row18 col5\" >0.007361</td>\n",
              "      <td id=\"T_b9a43_row18_col6\" class=\"data row18 col6\" >-0.003082</td>\n",
              "      <td id=\"T_b9a43_row18_col7\" class=\"data row18 col7\" >0.004399</td>\n",
              "      <td id=\"T_b9a43_row18_col8\" class=\"data row18 col8\" >0.004815</td>\n",
              "      <td id=\"T_b9a43_row18_col9\" class=\"data row18 col9\" >-0.003944</td>\n",
              "      <td id=\"T_b9a43_row18_col10\" class=\"data row18 col10\" >0.363466</td>\n",
              "      <td id=\"T_b9a43_row18_col11\" class=\"data row18 col11\" >-0.002980</td>\n",
              "      <td id=\"T_b9a43_row18_col12\" class=\"data row18 col12\" >-0.003564</td>\n",
              "      <td id=\"T_b9a43_row18_col13\" class=\"data row18 col13\" >0.001712</td>\n",
              "      <td id=\"T_b9a43_row18_col14\" class=\"data row18 col14\" >0.002044</td>\n",
              "      <td id=\"T_b9a43_row18_col15\" class=\"data row18 col15\" >0.000885</td>\n",
              "      <td id=\"T_b9a43_row18_col16\" class=\"data row18 col16\" >0.000827</td>\n",
              "      <td id=\"T_b9a43_row18_col17\" class=\"data row18 col17\" >-0.000539</td>\n",
              "      <td id=\"T_b9a43_row18_col18\" class=\"data row18 col18\" >1.000000</td>\n",
              "      <td id=\"T_b9a43_row18_col19\" class=\"data row18 col19\" >0.001428</td>\n",
              "    </tr>\n",
              "    <tr>\n",
              "      <th id=\"T_b9a43_level0_row19\" class=\"row_heading level0 row19\" >Machine failure</th>\n",
              "      <td id=\"T_b9a43_row19_col0\" class=\"data row19 col0\" >0.067744</td>\n",
              "      <td id=\"T_b9a43_row19_col1\" class=\"data row19 col1\" >0.030966</td>\n",
              "      <td id=\"T_b9a43_row19_col2\" class=\"data row19 col2\" >-0.060868</td>\n",
              "      <td id=\"T_b9a43_row19_col3\" class=\"data row19 col3\" >0.145793</td>\n",
              "      <td id=\"T_b9a43_row19_col4\" class=\"data row19 col4\" >0.056448</td>\n",
              "      <td id=\"T_b9a43_row19_col5\" class=\"data row19 col5\" >0.128222</td>\n",
              "      <td id=\"T_b9a43_row19_col6\" class=\"data row19 col6\" >-0.084591</td>\n",
              "      <td id=\"T_b9a43_row19_col7\" class=\"data row19 col7\" >0.030966</td>\n",
              "      <td id=\"T_b9a43_row19_col8\" class=\"data row19 col8\" >0.067744</td>\n",
              "      <td id=\"T_b9a43_row19_col9\" class=\"data row19 col9\" >-0.079588</td>\n",
              "      <td id=\"T_b9a43_row19_col10\" class=\"data row19 col10\" >0.783519</td>\n",
              "      <td id=\"T_b9a43_row19_col11\" class=\"data row19 col11\" >0.043777</td>\n",
              "      <td id=\"T_b9a43_row19_col12\" class=\"data row19 col12\" >-0.004044</td>\n",
              "      <td id=\"T_b9a43_row19_col13\" class=\"data row19 col13\" >0.111041</td>\n",
              "      <td id=\"T_b9a43_row19_col14\" class=\"data row19 col14\" >0.311919</td>\n",
              "      <td id=\"T_b9a43_row19_col15\" class=\"data row19 col15\" >0.564507</td>\n",
              "      <td id=\"T_b9a43_row19_col16\" class=\"data row19 col16\" >0.383941</td>\n",
              "      <td id=\"T_b9a43_row19_col17\" class=\"data row19 col17\" >0.494668</td>\n",
              "      <td id=\"T_b9a43_row19_col18\" class=\"data row19 col18\" >0.001428</td>\n",
              "      <td id=\"T_b9a43_row19_col19\" class=\"data row19 col19\" >1.000000</td>\n",
              "    </tr>\n",
              "  </tbody>\n",
              "</table>\n"
            ]
          },
          "metadata": {},
          "execution_count": 16
        }
      ]
    },
    {
      "cell_type": "markdown",
      "source": [
        "# Evaluation Metric (AUC)"
      ],
      "metadata": {
        "id": "n5L8t6eWj2gh"
      }
    },
    {
      "cell_type": "code",
      "source": [
        "from sklearn.metrics import roc_auc_score, roc_curve, auc\n",
        "\n",
        "def roc_auc(true_list, pred_list, a, b):\n",
        "\n",
        "    fpr, tpr, _ = roc_curve(true_list, pred_list)\n",
        "    roc_auc = auc(fpr, tpr)\n",
        "\n",
        "    # print(f'FPR: {fpr}')\n",
        "    # print(f'TPR: {tpr}')\n",
        "    # print(f'{list(zip(fpr,tpr))}')\n",
        "    print(f'\\n>>>>> ROC_AUC: %0.6f <<<<<\\n' %roc_auc)\n",
        "\n",
        "    sns.set()\n",
        "    plt.style.use('seaborn-whitegrid')\n",
        "    plt.figure(figsize=(a, b), facecolor='lightgray')\n",
        "    plt.gca().set_facecolor('lightyellow')\n",
        "    plt.plot(fpr, tpr, color='darkorange', lw=2, label='ROC curve')\n",
        "    plt.plot([0, 1], [0, 1], color='navy', lw=2, linestyle='--')\n",
        "    plt.xlim([-0.01, 1.0])\n",
        "    plt.ylim([0.0, 1.05])\n",
        "    plt.xlabel('False Positive Rate')\n",
        "    plt.ylabel('True Positive Rate')\n",
        "    plt.title('The area under the ROC curve\\n')\n",
        "    plt.legend(loc=\"lower right\")\n",
        "    plt.show()"
      ],
      "metadata": {
        "id": "zWKuyxqBjw8t"
      },
      "execution_count": 17,
      "outputs": []
    },
    {
      "cell_type": "markdown",
      "source": [
        "# Data Preprocessing"
      ],
      "metadata": {
        "id": "y3Kg6Jimj9sT"
      }
    },
    {
      "cell_type": "code",
      "source": [
        "from sklearn.preprocessing import StandardScaler, LabelEncoder"
      ],
      "metadata": {
        "id": "NYzkwmDmkBAT"
      },
      "execution_count": 18,
      "outputs": []
    },
    {
      "cell_type": "markdown",
      "source": [
        "## Scale the numerical features"
      ],
      "metadata": {
        "id": "F-dY8FJQkI7B"
      }
    },
    {
      "cell_type": "code",
      "source": [
        "scaler = StandardScaler()\n",
        "\n",
        "df_train[num_features] = scaler.fit_transform(df_train[num_features])\n",
        "df_test[num_features] = scaler.fit_transform(df_test[num_features])"
      ],
      "metadata": {
        "id": "xxLLf-yjkIBv"
      },
      "execution_count": 19,
      "outputs": []
    },
    {
      "cell_type": "markdown",
      "source": [
        "## Columns Rename"
      ],
      "metadata": {
        "id": "2o4TKmD5kPCj"
      }
    },
    {
      "cell_type": "markdown",
      "source": [
        "- XGBoost doesn't work with column names that have \"[\" or \"]\" in them."
      ],
      "metadata": {
        "id": "RsAgUFLzkS3k"
      }
    },
    {
      "cell_type": "code",
      "source": [
        "def fix_names(df):\n",
        "    df.columns = df.columns.str.replace('[\\[\\]]', '', regex=True)\n",
        "    return df\n",
        "\n",
        "df_train = fix_names(df_train)\n",
        "df_test  = fix_names(df_test)"
      ],
      "metadata": {
        "id": "VlKuaVHSkLvP"
      },
      "execution_count": 20,
      "outputs": []
    },
    {
      "cell_type": "markdown",
      "source": [
        "## Dropping the feature: 'Product ID'"
      ],
      "metadata": {
        "id": "D4VQLsB0kb6G"
      }
    },
    {
      "cell_type": "markdown",
      "source": [
        "- This feature has 9976 different shapes and does not help in calculations."
      ],
      "metadata": {
        "id": "crC41je9kczd"
      }
    },
    {
      "cell_type": "code",
      "source": [
        "display(pd.DataFrame(data= {'Number': df_train['Product ID'].value_counts(), 'Percent': df_train['Product ID'].value_counts(normalize=True)}))"
      ],
      "metadata": {
        "colab": {
          "base_uri": "https://localhost:8080/",
          "height": 424
        },
        "id": "M2z8S5w0kZKR",
        "outputId": "b6e36f4e-effc-4bf5-ce26-109c3094e902"
      },
      "execution_count": 21,
      "outputs": [
        {
          "output_type": "display_data",
          "data": {
            "text/plain": [
              "        Number   Percent\n",
              "L53257     139  0.001019\n",
              "L49056     131  0.000960\n",
              "L53271     131  0.000960\n",
              "L54275     120  0.000880\n",
              "L48892     120  0.000880\n",
              "...        ...       ...\n",
              "M24614       1  0.000007\n",
              "H39399       1  0.000007\n",
              "M15853       1  0.000007\n",
              "H32637       1  0.000007\n",
              "L48036       1  0.000007\n",
              "\n",
              "[9976 rows x 2 columns]"
            ],
            "text/html": [
              "\n",
              "  <div id=\"df-dd63e405-d1bb-4338-b52b-9e387254aaa0\">\n",
              "    <div class=\"colab-df-container\">\n",
              "      <div>\n",
              "<style scoped>\n",
              "    .dataframe tbody tr th:only-of-type {\n",
              "        vertical-align: middle;\n",
              "    }\n",
              "\n",
              "    .dataframe tbody tr th {\n",
              "        vertical-align: top;\n",
              "    }\n",
              "\n",
              "    .dataframe thead th {\n",
              "        text-align: right;\n",
              "    }\n",
              "</style>\n",
              "<table border=\"1\" class=\"dataframe\">\n",
              "  <thead>\n",
              "    <tr style=\"text-align: right;\">\n",
              "      <th></th>\n",
              "      <th>Number</th>\n",
              "      <th>Percent</th>\n",
              "    </tr>\n",
              "  </thead>\n",
              "  <tbody>\n",
              "    <tr>\n",
              "      <th>L53257</th>\n",
              "      <td>139</td>\n",
              "      <td>0.001019</td>\n",
              "    </tr>\n",
              "    <tr>\n",
              "      <th>L49056</th>\n",
              "      <td>131</td>\n",
              "      <td>0.000960</td>\n",
              "    </tr>\n",
              "    <tr>\n",
              "      <th>L53271</th>\n",
              "      <td>131</td>\n",
              "      <td>0.000960</td>\n",
              "    </tr>\n",
              "    <tr>\n",
              "      <th>L54275</th>\n",
              "      <td>120</td>\n",
              "      <td>0.000880</td>\n",
              "    </tr>\n",
              "    <tr>\n",
              "      <th>L48892</th>\n",
              "      <td>120</td>\n",
              "      <td>0.000880</td>\n",
              "    </tr>\n",
              "    <tr>\n",
              "      <th>...</th>\n",
              "      <td>...</td>\n",
              "      <td>...</td>\n",
              "    </tr>\n",
              "    <tr>\n",
              "      <th>M24614</th>\n",
              "      <td>1</td>\n",
              "      <td>0.000007</td>\n",
              "    </tr>\n",
              "    <tr>\n",
              "      <th>H39399</th>\n",
              "      <td>1</td>\n",
              "      <td>0.000007</td>\n",
              "    </tr>\n",
              "    <tr>\n",
              "      <th>M15853</th>\n",
              "      <td>1</td>\n",
              "      <td>0.000007</td>\n",
              "    </tr>\n",
              "    <tr>\n",
              "      <th>H32637</th>\n",
              "      <td>1</td>\n",
              "      <td>0.000007</td>\n",
              "    </tr>\n",
              "    <tr>\n",
              "      <th>L48036</th>\n",
              "      <td>1</td>\n",
              "      <td>0.000007</td>\n",
              "    </tr>\n",
              "  </tbody>\n",
              "</table>\n",
              "<p>9976 rows × 2 columns</p>\n",
              "</div>\n",
              "      <button class=\"colab-df-convert\" onclick=\"convertToInteractive('df-dd63e405-d1bb-4338-b52b-9e387254aaa0')\"\n",
              "              title=\"Convert this dataframe to an interactive table.\"\n",
              "              style=\"display:none;\">\n",
              "        \n",
              "  <svg xmlns=\"http://www.w3.org/2000/svg\" height=\"24px\"viewBox=\"0 0 24 24\"\n",
              "       width=\"24px\">\n",
              "    <path d=\"M0 0h24v24H0V0z\" fill=\"none\"/>\n",
              "    <path d=\"M18.56 5.44l.94 2.06.94-2.06 2.06-.94-2.06-.94-.94-2.06-.94 2.06-2.06.94zm-11 1L8.5 8.5l.94-2.06 2.06-.94-2.06-.94L8.5 2.5l-.94 2.06-2.06.94zm10 10l.94 2.06.94-2.06 2.06-.94-2.06-.94-.94-2.06-.94 2.06-2.06.94z\"/><path d=\"M17.41 7.96l-1.37-1.37c-.4-.4-.92-.59-1.43-.59-.52 0-1.04.2-1.43.59L10.3 9.45l-7.72 7.72c-.78.78-.78 2.05 0 2.83L4 21.41c.39.39.9.59 1.41.59.51 0 1.02-.2 1.41-.59l7.78-7.78 2.81-2.81c.8-.78.8-2.07 0-2.86zM5.41 20L4 18.59l7.72-7.72 1.47 1.35L5.41 20z\"/>\n",
              "  </svg>\n",
              "      </button>\n",
              "      \n",
              "  <style>\n",
              "    .colab-df-container {\n",
              "      display:flex;\n",
              "      flex-wrap:wrap;\n",
              "      gap: 12px;\n",
              "    }\n",
              "\n",
              "    .colab-df-convert {\n",
              "      background-color: #E8F0FE;\n",
              "      border: none;\n",
              "      border-radius: 50%;\n",
              "      cursor: pointer;\n",
              "      display: none;\n",
              "      fill: #1967D2;\n",
              "      height: 32px;\n",
              "      padding: 0 0 0 0;\n",
              "      width: 32px;\n",
              "    }\n",
              "\n",
              "    .colab-df-convert:hover {\n",
              "      background-color: #E2EBFA;\n",
              "      box-shadow: 0px 1px 2px rgba(60, 64, 67, 0.3), 0px 1px 3px 1px rgba(60, 64, 67, 0.15);\n",
              "      fill: #174EA6;\n",
              "    }\n",
              "\n",
              "    [theme=dark] .colab-df-convert {\n",
              "      background-color: #3B4455;\n",
              "      fill: #D2E3FC;\n",
              "    }\n",
              "\n",
              "    [theme=dark] .colab-df-convert:hover {\n",
              "      background-color: #434B5C;\n",
              "      box-shadow: 0px 1px 3px 1px rgba(0, 0, 0, 0.15);\n",
              "      filter: drop-shadow(0px 1px 2px rgba(0, 0, 0, 0.3));\n",
              "      fill: #FFFFFF;\n",
              "    }\n",
              "  </style>\n",
              "\n",
              "      <script>\n",
              "        const buttonEl =\n",
              "          document.querySelector('#df-dd63e405-d1bb-4338-b52b-9e387254aaa0 button.colab-df-convert');\n",
              "        buttonEl.style.display =\n",
              "          google.colab.kernel.accessAllowed ? 'block' : 'none';\n",
              "\n",
              "        async function convertToInteractive(key) {\n",
              "          const element = document.querySelector('#df-dd63e405-d1bb-4338-b52b-9e387254aaa0');\n",
              "          const dataTable =\n",
              "            await google.colab.kernel.invokeFunction('convertToInteractive',\n",
              "                                                     [key], {});\n",
              "          if (!dataTable) return;\n",
              "\n",
              "          const docLinkHtml = 'Like what you see? Visit the ' +\n",
              "            '<a target=\"_blank\" href=https://colab.research.google.com/notebooks/data_table.ipynb>data table notebook</a>'\n",
              "            + ' to learn more about interactive tables.';\n",
              "          element.innerHTML = '';\n",
              "          dataTable['output_type'] = 'display_data';\n",
              "          await google.colab.output.renderOutput(dataTable, element);\n",
              "          const docLink = document.createElement('div');\n",
              "          docLink.innerHTML = docLinkHtml;\n",
              "          element.appendChild(docLink);\n",
              "        }\n",
              "      </script>\n",
              "    </div>\n",
              "  </div>\n",
              "  "
            ]
          },
          "metadata": {}
        }
      ]
    },
    {
      "cell_type": "code",
      "source": [
        "df_train = df_train.drop(['Product ID'] , axis=1)\n",
        "df_test = df_test.drop(['Product ID'] , axis=1)"
      ],
      "metadata": {
        "id": "z3Pm0GhZkoMN"
      },
      "execution_count": 22,
      "outputs": []
    },
    {
      "cell_type": "code",
      "source": [
        "df_train.shape"
      ],
      "metadata": {
        "colab": {
          "base_uri": "https://localhost:8080/"
        },
        "id": "X3mm0TnkkpSh",
        "outputId": "592f8f07-f412-4285-fac8-6659e864a7f8"
      },
      "execution_count": 23,
      "outputs": [
        {
          "output_type": "execute_result",
          "data": {
            "text/plain": [
              "(136429, 21)"
            ]
          },
          "metadata": {},
          "execution_count": 23
        }
      ]
    },
    {
      "cell_type": "markdown",
      "source": [
        "## Convert Categorical features"
      ],
      "metadata": {
        "id": "WbcRbHqQkt5o"
      }
    },
    {
      "cell_type": "markdown",
      "source": [
        "- The first method: pandas.get_dummies (OneHotEncoder)"
      ],
      "metadata": {
        "id": "g3jFa4RAkvMl"
      }
    },
    {
      "cell_type": "code",
      "source": [
        "features = df_train.columns.tolist()\n",
        "features.remove('Machine failure')\n",
        "\n",
        "# Categorical features\n",
        "cat_features = ['Type']\n",
        "\n",
        "# Binary features\n",
        "bin_features = ['TWF', 'HDF', 'PWF', 'OSF', 'RNF']\n",
        "\n",
        "# Numerical features\n",
        "num_features = [f for f in features if f not in (cat_features + bin_features)]"
      ],
      "metadata": {
        "id": "sWJ21Orxkqx4"
      },
      "execution_count": 24,
      "outputs": []
    },
    {
      "cell_type": "code",
      "source": [
        "train_code = pd.get_dummies(df_train, columns=cat_features)\n",
        "test_code = pd.get_dummies(df_test, columns=cat_features)\n",
        "target = train_code.pop('Machine failure')\n",
        "\n",
        "train_code.shape, test_code.shape, target.shape"
      ],
      "metadata": {
        "colab": {
          "base_uri": "https://localhost:8080/"
        },
        "id": "vMHXJzNck8OA",
        "outputId": "3688e92c-b733-496c-f4ee-49dc0dca5a2a"
      },
      "execution_count": 25,
      "outputs": [
        {
          "output_type": "execute_result",
          "data": {
            "text/plain": [
              "((136429, 22), (90954, 22), (136429,))"
            ]
          },
          "metadata": {},
          "execution_count": 25
        }
      ]
    },
    {
      "cell_type": "code",
      "source": [
        "new_features=train_code.columns.to_list()"
      ],
      "metadata": {
        "id": "XymtzpiNk-WC"
      },
      "execution_count": 26,
      "outputs": []
    },
    {
      "cell_type": "markdown",
      "source": [
        "# Modeling"
      ],
      "metadata": {
        "id": "XEfqJmIplRDi"
      }
    },
    {
      "cell_type": "code",
      "source": [
        "from sklearn.naive_bayes import GaussianNB\n",
        "\n",
        "from sklearn.pipeline import make_pipeline\n",
        "from sklearn.model_selection import cross_val_score\n",
        "from sklearn.preprocessing import QuantileTransformer"
      ],
      "metadata": {
        "id": "lbzBsnCalCda"
      },
      "execution_count": 27,
      "outputs": []
    },
    {
      "cell_type": "code",
      "source": [
        "import multiprocessing as mp\n",
        "print(mp.cpu_count()\n",
        "        ,mp.current_process().name)"
      ],
      "metadata": {
        "colab": {
          "base_uri": "https://localhost:8080/"
        },
        "id": "8ShDFRHamBDW",
        "outputId": "939997f4-0564-4d4e-c5bc-4bab88c27013"
      },
      "execution_count": 28,
      "outputs": [
        {
          "output_type": "stream",
          "name": "stdout",
          "text": [
            "2 MainProcess\n"
          ]
        }
      ]
    },
    {
      "cell_type": "code",
      "source": [],
      "metadata": {
        "id": "QuGg6nlXmBcT"
      },
      "execution_count": 28,
      "outputs": []
    },
    {
      "cell_type": "markdown",
      "source": [
        "## CatBoost"
      ],
      "metadata": {
        "id": "hBQsan68lWWk"
      }
    },
    {
      "cell_type": "code",
      "source": [
        "!pip install catboost\n",
        "!pip install category_encoders"
      ],
      "metadata": {
        "colab": {
          "base_uri": "https://localhost:8080/"
        },
        "id": "nqoP-jhMmmlf",
        "outputId": "bf607acd-8d7f-4a1d-d616-8056786c84b4"
      },
      "execution_count": 29,
      "outputs": [
        {
          "output_type": "stream",
          "name": "stdout",
          "text": [
            "Collecting catboost\n",
            "  Downloading catboost-1.2-cp310-cp310-manylinux2014_x86_64.whl (98.6 MB)\n",
            "\u001b[2K     \u001b[90m━━━━━━━━━━━━━━━━━━━━━━━━━━━━━━━━━━━━━━━━\u001b[0m \u001b[32m98.6/98.6 MB\u001b[0m \u001b[31m10.0 MB/s\u001b[0m eta \u001b[36m0:00:00\u001b[0m\n",
            "\u001b[?25hRequirement already satisfied: graphviz in /usr/local/lib/python3.10/dist-packages (from catboost) (0.20.1)\n",
            "Requirement already satisfied: matplotlib in /usr/local/lib/python3.10/dist-packages (from catboost) (3.7.1)\n",
            "Requirement already satisfied: numpy>=1.16.0 in /usr/local/lib/python3.10/dist-packages (from catboost) (1.22.4)\n",
            "Requirement already satisfied: pandas>=0.24 in /usr/local/lib/python3.10/dist-packages (from catboost) (1.5.3)\n",
            "Requirement already satisfied: scipy in /usr/local/lib/python3.10/dist-packages (from catboost) (1.10.1)\n",
            "Requirement already satisfied: plotly in /usr/local/lib/python3.10/dist-packages (from catboost) (5.13.1)\n",
            "Requirement already satisfied: six in /usr/local/lib/python3.10/dist-packages (from catboost) (1.16.0)\n",
            "Requirement already satisfied: python-dateutil>=2.8.1 in /usr/local/lib/python3.10/dist-packages (from pandas>=0.24->catboost) (2.8.2)\n",
            "Requirement already satisfied: pytz>=2020.1 in /usr/local/lib/python3.10/dist-packages (from pandas>=0.24->catboost) (2022.7.1)\n",
            "Requirement already satisfied: contourpy>=1.0.1 in /usr/local/lib/python3.10/dist-packages (from matplotlib->catboost) (1.1.0)\n",
            "Requirement already satisfied: cycler>=0.10 in /usr/local/lib/python3.10/dist-packages (from matplotlib->catboost) (0.11.0)\n",
            "Requirement already satisfied: fonttools>=4.22.0 in /usr/local/lib/python3.10/dist-packages (from matplotlib->catboost) (4.40.0)\n",
            "Requirement already satisfied: kiwisolver>=1.0.1 in /usr/local/lib/python3.10/dist-packages (from matplotlib->catboost) (1.4.4)\n",
            "Requirement already satisfied: packaging>=20.0 in /usr/local/lib/python3.10/dist-packages (from matplotlib->catboost) (23.1)\n",
            "Requirement already satisfied: pillow>=6.2.0 in /usr/local/lib/python3.10/dist-packages (from matplotlib->catboost) (8.4.0)\n",
            "Requirement already satisfied: pyparsing>=2.3.1 in /usr/local/lib/python3.10/dist-packages (from matplotlib->catboost) (3.1.0)\n",
            "Requirement already satisfied: tenacity>=6.2.0 in /usr/local/lib/python3.10/dist-packages (from plotly->catboost) (8.2.2)\n",
            "Installing collected packages: catboost\n",
            "Successfully installed catboost-1.2\n",
            "Collecting category_encoders\n",
            "  Downloading category_encoders-2.6.1-py2.py3-none-any.whl (81 kB)\n",
            "\u001b[2K     \u001b[90m━━━━━━━━━━━━━━━━━━━━━━━━━━━━━━━━━━━━━━━━\u001b[0m \u001b[32m81.9/81.9 kB\u001b[0m \u001b[31m3.4 MB/s\u001b[0m eta \u001b[36m0:00:00\u001b[0m\n",
            "\u001b[?25hRequirement already satisfied: numpy>=1.14.0 in /usr/local/lib/python3.10/dist-packages (from category_encoders) (1.22.4)\n",
            "Requirement already satisfied: scikit-learn>=0.20.0 in /usr/local/lib/python3.10/dist-packages (from category_encoders) (1.2.2)\n",
            "Requirement already satisfied: scipy>=1.0.0 in /usr/local/lib/python3.10/dist-packages (from category_encoders) (1.10.1)\n",
            "Requirement already satisfied: statsmodels>=0.9.0 in /usr/local/lib/python3.10/dist-packages (from category_encoders) (0.13.5)\n",
            "Requirement already satisfied: pandas>=1.0.5 in /usr/local/lib/python3.10/dist-packages (from category_encoders) (1.5.3)\n",
            "Requirement already satisfied: patsy>=0.5.1 in /usr/local/lib/python3.10/dist-packages (from category_encoders) (0.5.3)\n",
            "Requirement already satisfied: python-dateutil>=2.8.1 in /usr/local/lib/python3.10/dist-packages (from pandas>=1.0.5->category_encoders) (2.8.2)\n",
            "Requirement already satisfied: pytz>=2020.1 in /usr/local/lib/python3.10/dist-packages (from pandas>=1.0.5->category_encoders) (2022.7.1)\n",
            "Requirement already satisfied: six in /usr/local/lib/python3.10/dist-packages (from patsy>=0.5.1->category_encoders) (1.16.0)\n",
            "Requirement already satisfied: joblib>=1.1.1 in /usr/local/lib/python3.10/dist-packages (from scikit-learn>=0.20.0->category_encoders) (1.2.0)\n",
            "Requirement already satisfied: threadpoolctl>=2.0.0 in /usr/local/lib/python3.10/dist-packages (from scikit-learn>=0.20.0->category_encoders) (3.1.0)\n",
            "Requirement already satisfied: packaging>=21.3 in /usr/local/lib/python3.10/dist-packages (from statsmodels>=0.9.0->category_encoders) (23.1)\n",
            "Installing collected packages: category_encoders\n",
            "Successfully installed category_encoders-2.6.1\n"
          ]
        }
      ]
    },
    {
      "cell_type": "code",
      "source": [
        "from catboost import CatBoostClassifier, Pool\n",
        "\n",
        "params ={'loss_function': 'Logloss',\n",
        "         'eval_metric': 'AUC',\n",
        "         'random_seed': 19970507,\n",
        "         'learning_rate': 0.027,\n",
        "          'iterations': 927,\n",
        "          'depth': 5,\n",
        "          'subsample': 0.705}\n",
        "\n",
        "train_pool = Pool(train_code.to_numpy(), target.to_numpy(),\n",
        "                  feature_names=new_features)\n",
        "\n",
        "model = CatBoostClassifier()\n",
        "\n",
        "model.fit(train_pool, eval_set=train_pool, verbose=False, plot=True)"
      ],
      "metadata": {
        "colab": {
          "base_uri": "https://localhost:8080/",
          "height": 35,
          "referenced_widgets": [
            "802a5965bc9947e7907555862a8c71dd"
          ]
        },
        "id": "zKJ8IeH8lT4h",
        "outputId": "d513e005-2407-45d1-9787-5725373a0a06"
      },
      "execution_count": 30,
      "outputs": [
        {
          "output_type": "display_data",
          "data": {
            "text/plain": [
              "MetricVisualizer(layout=Layout(align_self='stretch', height='500px'))"
            ],
            "application/vnd.jupyter.widget-view+json": {
              "version_major": 2,
              "version_minor": 0,
              "model_id": "802a5965bc9947e7907555862a8c71dd"
            }
          },
          "metadata": {}
        },
        {
          "output_type": "execute_result",
          "data": {
            "text/plain": [
              "<catboost.core.CatBoostClassifier at 0x7fa4c3475150>"
            ]
          },
          "metadata": {},
          "execution_count": 30
        }
      ]
    },
    {
      "cell_type": "code",
      "source": [
        "train_auc = roc_auc_score(target, model.predict(train_code))\n",
        "print(f\"Train Score: {train_auc}\")"
      ],
      "metadata": {
        "colab": {
          "base_uri": "https://localhost:8080/"
        },
        "id": "_I8K7O14lYZ6",
        "outputId": "1d8a8a79-3672-42bf-90d6-52853b131924"
      },
      "execution_count": 31,
      "outputs": [
        {
          "output_type": "stream",
          "name": "stdout",
          "text": [
            "Train Score: 0.927806339209432\n"
          ]
        }
      ]
    },
    {
      "cell_type": "code",
      "source": [
        "test_pool = Pool(test_code.to_numpy(),\n",
        "                 feature_names=new_features)\n",
        "pred = model.predict_proba(test_pool)[:, 1]\n",
        "pred"
      ],
      "metadata": {
        "colab": {
          "base_uri": "https://localhost:8080/"
        },
        "id": "SR1hS1yAnjLW",
        "outputId": "a3b65e56-3b86-4f2e-9b99-4cfcf7ce8b00"
      },
      "execution_count": 32,
      "outputs": [
        {
          "output_type": "execute_result",
          "data": {
            "text/plain": [
              "array([0.00184389, 0.00046861, 0.00312221, ..., 0.00205389, 0.00147637,\n",
              "       0.001676  ])"
            ]
          },
          "metadata": {},
          "execution_count": 32
        }
      ]
    },
    {
      "cell_type": "code",
      "source": [
        "sub_cat = pd.read_csv('/content/sample_submission.csv')\n",
        "sub_cat['Machine failure'] = pred\n",
        "sub_cat.to_csv('submission_cat.csv',index=False)\n",
        "!ls"
      ],
      "metadata": {
        "colab": {
          "base_uri": "https://localhost:8080/"
        },
        "id": "Ej7QLv8MnBW2",
        "outputId": "05e18309-1660-4bb5-b4ae-c930dda5bde5"
      },
      "execution_count": 33,
      "outputs": [
        {
          "output_type": "stream",
          "name": "stdout",
          "text": [
            " catboost_info\t        sample_submission.csv   submission3.csv      train.csv\n",
            "'machine failure.csv'   submission1.csv         submission_cat.csv\n",
            " sample_data\t        submission2.csv         test.csv\n"
          ]
        }
      ]
    },
    {
      "cell_type": "markdown",
      "source": [
        "## LightGBM"
      ],
      "metadata": {
        "id": "e0HArMpIojgu"
      }
    },
    {
      "cell_type": "code",
      "source": [
        "from sklearn.model_selection import StratifiedKFold\n",
        "\n",
        "sk = StratifiedKFold(n_splits=10, shuffle=True, random_state=42)\n",
        "df_fold = pd.DataFrame()\n",
        "df_fold[\"fold\"] = np.zeros(len(df_train))\n",
        "for k, (train_idx, val_idx) in enumerate(sk.split(df_train, df_train['Machine failure'])):\n",
        "    df_fold.loc[val_idx, \"fold\"] = k\n",
        "\n",
        "df_fold[\"fold\"] = df_fold[\"fold\"].astype(int)"
      ],
      "metadata": {
        "id": "RyWHhvApolYN"
      },
      "execution_count": 34,
      "outputs": []
    },
    {
      "cell_type": "code",
      "source": [
        "import lightgbm as lgbm\n",
        "from sklearn.metrics import roc_auc_score\n",
        "class LGBMBuilder:\n",
        "    def __init__(self, opt=False):\n",
        "        self.config = {\n",
        "            'reg_alpha': 9.447560026770628,   # MAGIC NUMBER :) (founded with Optuna HPO)\n",
        "            'reg_lambda': 1.56941300531116,   # MAGIC NUMBER :) (founded with Optuna HPO)\n",
        "            'metric': 'auc',\n",
        "            'objective': 'binary',\n",
        "            'boosting_type': 'gbdt',\n",
        "        }\n",
        "\n",
        "    def set_opt_config(self, trial):\n",
        "        config = {\n",
        "            \"objective\": \"binary\",\n",
        "            \"metric\": \"binary_logloss\",\n",
        "            \"verbosity\": -1,\n",
        "            \"boosting_type\": \"gbdt\",\n",
        "            'metric': 'auc',\n",
        "            \"reg_alpha\": trial.suggest_float(\"reg_alpha\", 1e-8, 10.0, log=True),\n",
        "            \"reg_lambda\": trial.suggest_float(\"reg_lambda\", 1e-8, 10.0, log=True),\n",
        "        }\n",
        "        self.config = config\n",
        "\n",
        "    def new_model(self):\n",
        "        self.model = lgbm.LGBMClassifier(**self.config)\n",
        "\n",
        "    def fit(self, X, y, X_val=None, y_val=None):\n",
        "        self.model.fit(X, y)\n",
        "\n",
        "    def predict_proba(self, X):\n",
        "        return self.model.predict_proba(X)[:, 1].flatten()\n",
        ""
      ],
      "metadata": {
        "id": "BTik4mMEonRJ"
      },
      "execution_count": 35,
      "outputs": []
    },
    {
      "cell_type": "code",
      "source": [
        "def train(model_builder, df, df_fold):\n",
        "    scores = []\n",
        "    models = []\n",
        "\n",
        "    for fold in range(10):\n",
        "        val_idx = df_fold[\"fold\"] == fold\n",
        "        train_idx = df_fold[\"fold\"] != fold\n",
        "        df_train = df.loc[train_idx, :]\n",
        "        df_val = df.loc[val_idx, :]\n",
        "\n",
        "        y_train = target[train_idx]\n",
        "        y_val = target[val_idx]\n",
        "\n",
        "        # Training and Eval\n",
        "        model_builder.new_model()\n",
        "        model_builder.fit(df_train, y_train, df_val, y_val)\n",
        "        y_pred = model_builder.predict_proba(df_val)\n",
        "        score = roc_auc_score(y_val, y_pred)\n",
        "        print(f\"fold {fold} - AUC {score:.5f}\")\n",
        "\n",
        "        scores.append(score)\n",
        "        models.append(model_builder)\n",
        "\n",
        "    cv_score = np.mean(scores)\n",
        "\n",
        "    print(\"CV\", cv_score)\n",
        "\n",
        "    return models, cv_score"
      ],
      "metadata": {
        "id": "ArbmT3CWoqKw"
      },
      "execution_count": 36,
      "outputs": []
    },
    {
      "cell_type": "code",
      "source": [
        "model_builder = LGBMBuilder()\n",
        "models, score = train(model_builder, train_code, df_fold)"
      ],
      "metadata": {
        "colab": {
          "base_uri": "https://localhost:8080/"
        },
        "id": "kl4lC4GqouuJ",
        "outputId": "c33d3585-f07c-4b03-a289-608951d0e757"
      },
      "execution_count": 37,
      "outputs": [
        {
          "output_type": "stream",
          "name": "stdout",
          "text": [
            "fold 0 - AUC 0.95883\n",
            "fold 1 - AUC 0.96962\n",
            "fold 2 - AUC 0.96841\n",
            "fold 3 - AUC 0.96619\n",
            "fold 4 - AUC 0.97467\n",
            "fold 5 - AUC 0.96577\n",
            "fold 6 - AUC 0.96002\n",
            "fold 7 - AUC 0.97058\n",
            "fold 8 - AUC 0.95376\n",
            "fold 9 - AUC 0.95873\n",
            "CV 0.9646579621237115\n"
          ]
        }
      ]
    },
    {
      "cell_type": "code",
      "source": [
        "y_test = 0\n",
        "for m in models:\n",
        "    y_test = m.predict_proba(test_code)\n",
        "\n",
        "y_test /= len(models)"
      ],
      "metadata": {
        "id": "_mg1znqToxq5"
      },
      "execution_count": 38,
      "outputs": []
    },
    {
      "cell_type": "code",
      "source": [
        "df_sub = pd.DataFrame()\n",
        "\n",
        "# read the test another time to get the id\n",
        "df_test = pd.read_csv(\"/content/test.csv\")\n",
        "df_sub[\"id\"] = df_test[\"id\"]\n",
        "df_sub[\"Machine failure\"] = y_test\n",
        "df_sub.to_csv(\"submission_lgb.csv\", index=False)"
      ],
      "metadata": {
        "id": "JQPjDEYXo1jc"
      },
      "execution_count": 39,
      "outputs": []
    },
    {
      "cell_type": "markdown",
      "source": [
        "# Ensembling & Submission"
      ],
      "metadata": {
        "id": "UprYaWofpEOb"
      }
    },
    {
      "cell_type": "code",
      "source": [
        "sub_import1 = pd.read_csv('/content/submission1.csv')\n",
        "sub_import2 = pd.read_csv('/content/submission2.csv')\n",
        "sub_import3 = pd.read_csv('/content/submission3.csv')"
      ],
      "metadata": {
        "id": "dq9Uke8BpFCq"
      },
      "execution_count": 40,
      "outputs": []
    },
    {
      "cell_type": "code",
      "source": [
        "sub = df_sample.copy()\n",
        "sub['Machine failure'] = ((0.05 * sub_cat['Machine failure']) + (0.1 * sub_import1['Machine failure']) +\n",
        "                         (0.7 * sub_import2['Machine failure'])+ (0.1 * sub_import3['Machine failure']) +\n",
        "                         (0.05 * df_sub['Machine failure']))\n",
        "\n",
        "sub.to_csv('submission.csv',index=False)\n",
        "!ls"
      ],
      "metadata": {
        "colab": {
          "base_uri": "https://localhost:8080/"
        },
        "id": "NhsaTzx02G-8",
        "outputId": "9b553ef3-0177-4641-d1fe-1cfdd3a80dca"
      },
      "execution_count": 41,
      "outputs": [
        {
          "output_type": "stream",
          "name": "stdout",
          "text": [
            " catboost_info\t\t submission1.csv      submission.csv\n",
            "'machine failure.csv'\t submission2.csv      submission_lgb.csv\n",
            " sample_data\t\t submission3.csv      test.csv\n",
            " sample_submission.csv\t submission_cat.csv   train.csv\n"
          ]
        }
      ]
    }
  ]
}