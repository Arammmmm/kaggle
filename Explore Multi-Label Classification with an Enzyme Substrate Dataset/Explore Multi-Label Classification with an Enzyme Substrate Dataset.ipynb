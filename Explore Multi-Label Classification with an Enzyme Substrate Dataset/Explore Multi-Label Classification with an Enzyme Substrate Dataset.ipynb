{
 "cells": [
  {
   "cell_type": "code",
   "execution_count": 2,
   "metadata": {
    "execution": {
     "iopub.execute_input": "2023-07-06T00:17:08.887969Z",
     "iopub.status.busy": "2023-07-06T00:17:08.887249Z",
     "iopub.status.idle": "2023-07-06T00:17:24.727134Z",
     "shell.execute_reply": "2023-07-06T00:17:24.725821Z",
     "shell.execute_reply.started": "2023-07-06T00:17:08.887911Z"
    }
   },
   "outputs": [
    {
     "name": "stdout",
     "output_type": "stream",
     "text": [
      "Requirement already satisfied: iterative-stratification in c:\\users\\user\\anaconda3\\lib\\site-packages (0.1.7)\n",
      "Requirement already satisfied: numpy in c:\\users\\user\\anaconda3\\lib\\site-packages (from iterative-stratification) (1.22.4)\n",
      "Requirement already satisfied: scipy in c:\\users\\user\\anaconda3\\lib\\site-packages (from iterative-stratification) (1.7.3)\n",
      "Requirement already satisfied: scikit-learn in c:\\users\\user\\anaconda3\\lib\\site-packages (from iterative-stratification) (1.0.2)\n",
      "Requirement already satisfied: joblib>=0.11 in c:\\users\\user\\anaconda3\\lib\\site-packages (from scikit-learn->iterative-stratification) (1.2.0)\n",
      "Requirement already satisfied: threadpoolctl>=2.0.0 in c:\\users\\user\\anaconda3\\lib\\site-packages (from scikit-learn->iterative-stratification) (2.2.0)\n"
     ]
    }
   ],
   "source": [
    "!pip install --user iterative-stratification"
   ]
  },
  {
   "cell_type": "code",
   "execution_count": 4,
   "metadata": {},
   "outputs": [
    {
     "name": "stdout",
     "output_type": "stream",
     "text": [
      "Requirement already satisfied: pandas in c:\\users\\user\\anaconda3\\lib\\site-packages (2.0.3)\n",
      "Requirement already satisfied: dask[complete] in c:\\users\\user\\anaconda3\\lib\\site-packages (2022.2.1)\n",
      "Collecting dask[complete]\n",
      "  Downloading dask-2023.7.0-py3-none-any.whl (1.2 MB)\n",
      "                                              0.0/1.2 MB ? eta -:--:--\n",
      "     --------------                           0.4/1.2 MB 13.9 MB/s eta 0:00:01\n",
      "     --------------------------------         1.0/1.2 MB 10.0 MB/s eta 0:00:01\n",
      "     ---------------------------------------- 1.2/1.2 MB 9.4 MB/s eta 0:00:00\n",
      "Requirement already satisfied: python-dateutil>=2.8.2 in c:\\users\\user\\anaconda3\\lib\\site-packages (from pandas) (2.8.2)\n",
      "Requirement already satisfied: pytz>=2020.1 in c:\\users\\user\\anaconda3\\lib\\site-packages (from pandas) (2023.3)\n",
      "Requirement already satisfied: tzdata>=2022.1 in c:\\users\\user\\anaconda3\\lib\\site-packages (from pandas) (2023.3)\n",
      "Requirement already satisfied: numpy>=1.20.3 in c:\\users\\user\\anaconda3\\lib\\site-packages (from pandas) (1.22.4)\n",
      "Requirement already satisfied: click>=8.0 in c:\\users\\user\\anaconda3\\lib\\site-packages (from dask[complete]) (8.0.4)\n",
      "Requirement already satisfied: cloudpickle>=1.5.0 in c:\\users\\user\\anaconda3\\lib\\site-packages (from dask[complete]) (2.2.1)\n",
      "Requirement already satisfied: fsspec>=2021.09.0 in c:\\users\\user\\anaconda3\\lib\\site-packages (from dask[complete]) (2023.4.0)\n",
      "Requirement already satisfied: packaging>=20.0 in c:\\users\\user\\anaconda3\\lib\\site-packages (from dask[complete]) (23.0)\n",
      "Requirement already satisfied: partd>=1.2.0 in c:\\users\\user\\anaconda3\\lib\\site-packages (from dask[complete]) (1.2.0)\n",
      "Requirement already satisfied: pyyaml>=5.3.1 in c:\\users\\user\\anaconda3\\lib\\site-packages (from dask[complete]) (6.0)\n",
      "Requirement already satisfied: toolz>=0.10.0 in c:\\users\\user\\anaconda3\\lib\\site-packages (from dask[complete]) (0.12.0)\n",
      "Requirement already satisfied: importlib-metadata>=4.13.0 in c:\\users\\user\\anaconda3\\lib\\site-packages (from dask[complete]) (6.0.0)\n",
      "Requirement already satisfied: pyarrow>=7.0 in c:\\users\\user\\anaconda3\\lib\\site-packages (from dask[complete]) (12.0.1)\n",
      "Collecting lz4>=4.3.2 (from dask[complete])\n",
      "  Downloading lz4-4.3.2-cp39-cp39-win_amd64.whl (99 kB)\n",
      "                                              0.0/99.8 kB ? eta -:--:--\n",
      "     ---------------------------------------- 99.8/99.8 kB 6.0 MB/s eta 0:00:00\n",
      "Requirement already satisfied: colorama in c:\\users\\user\\anaconda3\\lib\\site-packages (from click>=8.0->dask[complete]) (0.4.6)\n",
      "Requirement already satisfied: zipp>=0.5 in c:\\users\\user\\anaconda3\\lib\\site-packages (from importlib-metadata>=4.13.0->dask[complete]) (3.11.0)\n",
      "Requirement already satisfied: locket in c:\\users\\user\\anaconda3\\lib\\site-packages (from partd>=1.2.0->dask[complete]) (1.0.0)\n",
      "Requirement already satisfied: six>=1.5 in c:\\users\\user\\anaconda3\\lib\\site-packages (from python-dateutil>=2.8.2->pandas) (1.16.0)\n",
      "Collecting distributed==2023.7.0 (from dask[complete])\n",
      "  Downloading distributed-2023.7.0-py3-none-any.whl (981 kB)\n",
      "                                              0.0/981.6 kB ? eta -:--:--\n",
      "     ------------------                    491.5/981.6 kB 15.5 MB/s eta 0:00:01\n",
      "     ------------------------------------- 981.6/981.6 kB 12.5 MB/s eta 0:00:00\n",
      "Requirement already satisfied: bokeh>=2.4.2 in c:\\users\\user\\anaconda3\\lib\\site-packages (from dask[complete]) (3.1.1)\n",
      "Requirement already satisfied: jinja2>=2.10.3 in c:\\users\\user\\anaconda3\\lib\\site-packages (from dask[complete]) (3.1.2)\n",
      "Requirement already satisfied: msgpack>=1.0.0 in c:\\users\\user\\anaconda3\\lib\\site-packages (from distributed==2023.7.0->dask[complete]) (1.0.3)\n",
      "Requirement already satisfied: psutil>=5.7.2 in c:\\users\\user\\anaconda3\\lib\\site-packages (from distributed==2023.7.0->dask[complete]) (5.9.0)\n",
      "Requirement already satisfied: sortedcontainers>=2.0.5 in c:\\users\\user\\anaconda3\\lib\\site-packages (from distributed==2023.7.0->dask[complete]) (2.4.0)\n",
      "Requirement already satisfied: tblib>=1.6.0 in c:\\users\\user\\anaconda3\\lib\\site-packages (from distributed==2023.7.0->dask[complete]) (1.7.0)\n",
      "Requirement already satisfied: tornado>=6.0.4 in c:\\users\\user\\anaconda3\\lib\\site-packages (from distributed==2023.7.0->dask[complete]) (6.2)\n",
      "Requirement already satisfied: urllib3>=1.24.3 in c:\\users\\user\\anaconda3\\lib\\site-packages (from distributed==2023.7.0->dask[complete]) (1.26.16)\n",
      "Requirement already satisfied: zict>=2.2.0 in c:\\users\\user\\anaconda3\\lib\\site-packages (from distributed==2023.7.0->dask[complete]) (2.2.0)\n",
      "Requirement already satisfied: contourpy>=1 in c:\\users\\user\\anaconda3\\lib\\site-packages (from bokeh>=2.4.2->dask[complete]) (1.0.5)\n",
      "Requirement already satisfied: pillow>=7.1.0 in c:\\users\\user\\anaconda3\\lib\\site-packages (from bokeh>=2.4.2->dask[complete]) (9.4.0)\n",
      "Requirement already satisfied: xyzservices>=2021.09.1 in c:\\users\\user\\anaconda3\\lib\\site-packages (from bokeh>=2.4.2->dask[complete]) (2022.9.0)\n",
      "Requirement already satisfied: MarkupSafe>=2.0 in c:\\users\\user\\anaconda3\\lib\\site-packages (from jinja2>=2.10.3->dask[complete]) (2.1.1)\n",
      "Requirement already satisfied: heapdict in c:\\users\\user\\anaconda3\\lib\\site-packages (from zict>=2.2.0->distributed==2023.7.0->dask[complete]) (1.0.1)\n",
      "Installing collected packages: lz4, dask, distributed\n",
      "  Attempting uninstall: dask\n",
      "    Found existing installation: dask 2022.2.1\n",
      "    Uninstalling dask-2022.2.1:\n",
      "      Successfully uninstalled dask-2022.2.1\n",
      "  Attempting uninstall: distributed\n",
      "    Found existing installation: distributed 2022.2.1\n",
      "    Uninstalling distributed-2022.2.1:\n",
      "      Successfully uninstalled distributed-2022.2.1\n",
      "Successfully installed dask-2023.7.0 distributed-2023.7.0 lz4-4.3.2\n"
     ]
    }
   ],
   "source": [
    "!pip install --upgrade pandas \"dask[complete]\""
   ]
  },
  {
   "cell_type": "code",
   "execution_count": 5,
   "metadata": {
    "execution": {
     "iopub.execute_input": "2023-07-06T00:17:24.730409Z",
     "iopub.status.busy": "2023-07-06T00:17:24.729918Z",
     "iopub.status.idle": "2023-07-06T00:17:28.333015Z",
     "shell.execute_reply": "2023-07-06T00:17:28.331735Z",
     "shell.execute_reply.started": "2023-07-06T00:17:24.730359Z"
    }
   },
   "outputs": [],
   "source": [
    "import optuna\n",
    "from optuna.samplers import TPESampler\n",
    "\n",
    "from sklearn.preprocessing import StandardScaler\n",
    "from sklearn.metrics import roc_auc_score, roc_curve, confusion_matrix, classification_report\n",
    "from sklearn.model_selection import StratifiedKFold,train_test_split\n",
    "from sklearn.pipeline import Pipeline\n",
    "\n",
    "# Models\n",
    "from xgboost import XGBClassifier\n",
    "from sklearn.multioutput import MultiOutputClassifier\n",
    "from iterstrat.ml_stratifiers import MultilabelStratifiedKFold, RepeatedMultilabelStratifiedKFold\n",
    "from lightgbm import LGBMClassifier\n",
    "from catboost import CatBoostClassifier\n",
    "from sklearn.ensemble import RandomForestClassifier, HistGradientBoostingClassifier, GradientBoostingClassifier"
   ]
  },
  {
   "cell_type": "code",
   "execution_count": 12,
   "metadata": {
    "execution": {
     "iopub.execute_input": "2023-07-06T00:20:28.897853Z",
     "iopub.status.busy": "2023-07-06T00:20:28.897458Z",
     "iopub.status.idle": "2023-07-06T00:20:29.259121Z",
     "shell.execute_reply": "2023-07-06T00:20:29.258198Z",
     "shell.execute_reply.started": "2023-07-06T00:20:28.897823Z"
    }
   },
   "outputs": [],
   "source": [
    "import warnings\n",
    "warnings.filterwarnings(\"ignore\")\n",
    "import os\n",
    "import pandas as pd\n",
    "import numpy as np\n",
    "\n",
    "train = pd.read_csv(\"data/train.csv\")\n",
    "test = pd.read_csv(\"data/test.csv\")\n",
    "mixed_desc=pd.read_csv(\"data/mixed_desc.csv\")\n",
    "         \n",
    "train.drop(columns=[\"id\"],inplace=True)\n",
    "test.drop(columns=[\"id\"],inplace=True)\n",
    "mixed_desc.drop(columns=[\"CIDs\"],inplace=True)\n",
    "col=\"EC1_EC2_EC3_EC4_EC5_EC6\"\n",
    "\n",
    "mixed_desc[col.split(\"_\")]= mixed_desc[col].str.split('_', expand=True).astype(int)\n",
    "mixed_desc.drop(col, axis=1, inplace=True)\n",
    "\n",
    "original = mixed_desc[train.columns]\n",
    "\n",
    "train = pd.concat([train,original]).reset_index(drop=True)\n",
    "train.drop(columns=col.split(\"_\")[2:],inplace=True)\n"
   ]
  },
  {
   "cell_type": "code",
   "execution_count": 13,
   "metadata": {
    "execution": {
     "iopub.execute_input": "2023-07-06T00:20:30.246911Z",
     "iopub.status.busy": "2023-07-06T00:20:30.246518Z",
     "iopub.status.idle": "2023-07-06T00:20:30.257745Z",
     "shell.execute_reply": "2023-07-06T00:20:30.256959Z",
     "shell.execute_reply.started": "2023-07-06T00:20:30.246883Z"
    }
   },
   "outputs": [],
   "source": [
    "def generate_features(train, test, cat_cols, num_cols):\n",
    "    \n",
    "    df = pd.concat([train, test], axis = 0, copy = False)\n",
    "    \n",
    "    for c in cat_cols + num_cols:\n",
    "        \n",
    "        df[f'count_{c}'] = df.groupby(c)[c].transform('count')\n",
    "        \n",
    "    for c in cat_cols:\n",
    "        for n in num_cols:\n",
    "                df[f'mean_{n}_per_{c}'] = df.groupby(c)[n].transform('mean')\n",
    "            \n",
    "    return df.iloc[:len(train),:], df.iloc[len(train):, :]"
   ]
  },
  {
   "cell_type": "code",
   "execution_count": 14,
   "metadata": {
    "execution": {
     "iopub.execute_input": "2023-07-06T00:20:31.476769Z",
     "iopub.status.busy": "2023-07-06T00:20:31.476360Z",
     "iopub.status.idle": "2023-07-06T00:20:31.487198Z",
     "shell.execute_reply": "2023-07-06T00:20:31.485801Z",
     "shell.execute_reply.started": "2023-07-06T00:20:31.476735Z"
    }
   },
   "outputs": [],
   "source": [
    "target_cols = ['EC1', 'EC2']\n",
    "cols_to_drop = ['id']\n",
    "\n",
    "features = [c for c in train.columns if c not in target_cols + cols_to_drop]\n",
    "\n",
    "cat_cols = ['EState_VSA2','HallKierAlpha','NumHeteroatoms','PEOE_VSA10','PEOE_VSA14','PEOE_VSA6',\n",
    "            'PEOE_VSA7','PEOE_VSA8', 'SMR_VSA10','SMR_VSA5','SlogP_VSA3','fr_COO','fr_COO2']\n",
    "\n",
    "num_cols = [c for c in features if c not in cat_cols]"
   ]
  },
  {
   "cell_type": "code",
   "execution_count": 15,
   "metadata": {
    "execution": {
     "iopub.execute_input": "2023-07-06T00:20:32.814156Z",
     "iopub.status.busy": "2023-07-06T00:20:32.813710Z",
     "iopub.status.idle": "2023-07-06T00:20:32.824105Z",
     "shell.execute_reply": "2023-07-06T00:20:32.823123Z",
     "shell.execute_reply.started": "2023-07-06T00:20:32.814121Z"
    }
   },
   "outputs": [],
   "source": [
    "X_train = train[features]\n",
    "Y_train = train[target_cols]\n",
    "X_test = test[features]"
   ]
  },
  {
   "cell_type": "code",
   "execution_count": 16,
   "metadata": {
    "execution": {
     "iopub.execute_input": "2023-07-06T00:20:34.285356Z",
     "iopub.status.busy": "2023-07-06T00:20:34.284981Z",
     "iopub.status.idle": "2023-07-06T00:20:34.821686Z",
     "shell.execute_reply": "2023-07-06T00:20:34.820539Z",
     "shell.execute_reply.started": "2023-07-06T00:20:34.285322Z"
    }
   },
   "outputs": [],
   "source": [
    "X_train, X_test = generate_features(X_train, X_test, cat_cols, num_cols)"
   ]
  },
  {
   "cell_type": "code",
   "execution_count": 17,
   "metadata": {
    "execution": {
     "iopub.execute_input": "2023-07-06T00:21:22.713789Z",
     "iopub.status.busy": "2023-07-06T00:21:22.713356Z",
     "iopub.status.idle": "2023-07-06T00:23:38.039661Z",
     "shell.execute_reply": "2023-07-06T00:23:38.038593Z",
     "shell.execute_reply.started": "2023-07-06T00:21:22.713756Z"
    }
   },
   "outputs": [
    {
     "name": "stdout",
     "output_type": "stream",
     "text": [
      "Starting fold: 0\n",
      "overall_train_loss 0.8784055236294086\n",
      "overall_valid_loss 0.6889285570415727\n",
      "Starting fold: 1\n",
      "overall_train_loss 0.8781267148690797\n",
      "overall_valid_loss 0.6915416227328217\n",
      "Starting fold: 2\n",
      "overall_train_loss 0.8762593265369617\n",
      "overall_valid_loss 0.6735388939302278\n",
      "Starting fold: 3\n",
      "overall_train_loss 0.8782379780804732\n",
      "overall_valid_loss 0.6836092836257309\n",
      "Starting fold: 4\n",
      "overall_train_loss 0.8754022657529807\n",
      "overall_valid_loss 0.6871969744822807\n",
      "over_train 0.8772863617737808\n",
      "over_valid 0.6849630663625268\n"
     ]
    }
   ],
   "source": [
    "y  = Y_train\n",
    "X  = X_train\n",
    "from xgboost import XGBClassifier\n",
    "from lightgbm import LGBMClassifier\n",
    "from sklearn.multioutput import MultiOutputClassifier\n",
    "from sklearn.pipeline import Pipeline\n",
    "from sklearn.metrics import roc_auc_score\n",
    "#from sklearn.model_selection import RepeatedMultilabelStratifiedKFold\n",
    "import numpy as np\n",
    "\n",
    "# XGBoost classifier parameters\n",
    "xgb_params = {'n_estimators': 300,\n",
    "              'tree_method': 'hist',\n",
    "              'max_depth': 5,\n",
    "              'reg_alpha': 0.06790740746476749,\n",
    "              'reg_lambda': 0.03393770327994609,\n",
    "              'min_child_weight': 1,\n",
    "              'gamma': 2.5705812096617772e-05,\n",
    "              'learning_rate': 0.07132617944894756,\n",
    "              'colsample_bytree': 0.11664298814833247,\n",
    "              'colsample_bynode': 0.9912092923877247,\n",
    "              'colsample_bylevel': 0.29178614622079735,\n",
    "              'subsample': 0.7395301853144935,\n",
    "              'random_state': 42\n",
    "              }\n",
    "\n",
    "# LightGBM classifier parameters\n",
    "lgbm_params = {'n_estimators': 300,\n",
    " 'boosting_type': 'gbdt',\n",
    " 'max_depth': 5,\n",
    " 'reg_alpha': 6.720380454685094,\n",
    " 'reg_lambda': 7.074828689930955e-05,\n",
    " 'min_child_samples': 15,\n",
    " 'subsample': 0.5182995486972547,\n",
    " 'learning_rate': 0.027352422199502537,\n",
    " 'colsample_bytree': 0.2257179878033366,\n",
    " 'colsample_bynode': 0.7098194984886731,\n",
    " 'random_state': 84315}\n",
    "\n",
    "# Define the classifiers\n",
    "xgb_classifier = MultiOutputClassifier(XGBClassifier(**xgb_params))\n",
    "lgbm_classifier = MultiOutputClassifier(LGBMClassifier(**lgbm_params))\n",
    "\n",
    "# Create the pipelines\n",
    "xgb_clf = Pipeline([('classifier', xgb_classifier)])\n",
    "lgbm_clf = Pipeline([('classifier', lgbm_classifier)])\n",
    "\n",
    "# Initialize variables\n",
    "oof_preds_xgb = np.zeros(y.shape)\n",
    "oof_preds_lgbm = np.zeros(y.shape)\n",
    "test_preds_xgb = np.zeros((test.shape[0], y.shape[1]))\n",
    "test_preds_lgbm = np.zeros((test.shape[0], y.shape[1]))\n",
    "oof_losses_xgb = []\n",
    "oof_losses_lgbm = []\n",
    "n_splits = 5\n",
    "kf = RepeatedMultilabelStratifiedKFold(n_splits=n_splits, n_repeats=1, random_state=42)\n",
    "train_losses_xgb = []\n",
    "train_losses_lgbm = []\n",
    "over_train=[]\n",
    "over_valid=[]\n",
    "# Loop over folds\n",
    "for fn, (trn_idx, val_idx) in enumerate(kf.split(X, y)):\n",
    "    print('Starting fold:', fn)\n",
    "    X_train, X_val = X.iloc[trn_idx], X.iloc[val_idx]\n",
    "    y_train, y_val = y.iloc[trn_idx], y.iloc[val_idx]\n",
    "\n",
    "    # Train and predict with XGBoost classifier\n",
    "    xgb_clf.fit(X_train, y_train)\n",
    "    train_preds_xgb = xgb_clf.predict_proba(X_train)\n",
    "    train_preds_xgb = np.array(train_preds_xgb)[:, :, 1].T\n",
    "    #train_loss_xgb = roc_auc_score(np.ravel(y_train), np.ravel(train_preds_xgb))\n",
    "    #train_losses_xgb.append(train_loss_xgb)\n",
    "\n",
    "    val_preds_xgb = xgb_clf.predict_proba(X_val)\n",
    "    val_preds_xgb = np.array(val_preds_xgb)[:, :, 1].T\n",
    "    oof_preds_xgb[val_idx] = val_preds_xgb\n",
    "    loss_xgb = roc_auc_score(np.ravel(y_val), np.ravel(val_preds_xgb))\n",
    "    oof_losses_xgb.append(loss_xgb)\n",
    "    preds_xgb = xgb_clf.predict_proba(X_test)\n",
    "    preds_xgb = np.array(preds_xgb)[:, :, 1].T\n",
    "    test_preds_xgb += preds_xgb / n_splits\n",
    "\n",
    "    \n",
    "\n",
    "    # Train and predict with LightGBM classifier\n",
    "    lgbm_clf.fit(X_train, y_train)\n",
    "    train_preds_lgbm = lgbm_clf.predict_proba(X_train)\n",
    "    train_preds_lgbm = np.array(train_preds_lgbm)[:, :, 1].T\n",
    "    #train_loss_lgbm = roc_auc_score(np.ravel(y_train), np.ravel(train_preds_lgbm))\n",
    "    #train_losses_lgbm.append(train_loss_lgbm)\n",
    "\n",
    "    val_preds_lgbm = lgbm_clf.predict_proba(X_val)\n",
    "    val_preds_lgbm = np.array(val_preds_lgbm)[:, :, 1].T\n",
    "    oof_preds_lgbm[val_idx] = val_preds_lgbm\n",
    "\n",
    "    loss_lgbm = roc_auc_score(np.ravel(y_val), np.ravel(val_preds_lgbm))\n",
    "    oof_losses_lgbm.append(loss_lgbm)\n",
    "    preds_lgbm = lgbm_clf.predict_proba(X_test)\n",
    "    preds_lgbm = np.array(preds_lgbm)[:, :, 1].T\n",
    "    test_preds_lgbm += preds_lgbm / n_splits\n",
    "    overall_train_preds = (train_preds_xgb+train_preds_lgbm)/2\n",
    "    overall_train_loss = roc_auc_score(np.ravel(y_train), np.ravel(overall_train_preds))\n",
    "    overall_valid_preds = (val_preds_xgb+val_preds_lgbm)/2\n",
    "    overall_valid_loss = roc_auc_score(np.ravel(y_val), np.ravel(overall_valid_preds))\n",
    "    over_train.append(overall_train_loss)\n",
    "    over_valid.append(overall_valid_loss)\n",
    "    print(\"overall_train_loss\",overall_train_loss)\n",
    "    print(\"overall_valid_loss\",overall_valid_loss)\n",
    "\n",
    "print(\"over_train\",np.mean(over_train))\n",
    "print(\"over_valid\",np.mean(over_valid))"
   ]
  },
  {
   "cell_type": "code",
   "execution_count": 18,
   "metadata": {
    "execution": {
     "iopub.execute_input": "2023-07-06T00:23:50.228295Z",
     "iopub.status.busy": "2023-07-06T00:23:50.227870Z",
     "iopub.status.idle": "2023-07-06T00:23:50.240700Z",
     "shell.execute_reply": "2023-07-06T00:23:50.239635Z",
     "shell.execute_reply.started": "2023-07-06T00:23:50.228262Z"
    }
   },
   "outputs": [],
   "source": [
    "sample_submission=pd.read_csv(\"data/sample_submission.csv\")\n",
    "sample_submission.iloc[:,1:] = 0.5*test_preds_xgb+0.5*test_preds_lgbm"
   ]
  },
  {
   "cell_type": "code",
   "execution_count": 19,
   "metadata": {
    "execution": {
     "iopub.execute_input": "2023-07-06T00:23:52.671711Z",
     "iopub.status.busy": "2023-07-06T00:23:52.671320Z",
     "iopub.status.idle": "2023-07-06T00:23:52.744529Z",
     "shell.execute_reply": "2023-07-06T00:23:52.743441Z",
     "shell.execute_reply.started": "2023-07-06T00:23:52.671682Z"
    }
   },
   "outputs": [],
   "source": [
    "sample_submission.to_csv(\"submission.csv\",index=False)\n",
    "\n"
   ]
  },
  {
   "cell_type": "code",
   "execution_count": null,
   "metadata": {},
   "outputs": [],
   "source": []
  }
 ],
 "metadata": {
  "kernelspec": {
   "display_name": "Python 3 (ipykernel)",
   "language": "python",
   "name": "python3"
  },
  "language_info": {
   "codemirror_mode": {
    "name": "ipython",
    "version": 3
   },
   "file_extension": ".py",
   "mimetype": "text/x-python",
   "name": "python",
   "nbconvert_exporter": "python",
   "pygments_lexer": "ipython3",
   "version": "3.9.17"
  }
 },
 "nbformat": 4,
 "nbformat_minor": 4
}
